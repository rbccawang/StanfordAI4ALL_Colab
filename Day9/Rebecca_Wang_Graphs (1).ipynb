{
  "nbformat": 4,
  "nbformat_minor": 0,
  "metadata": {
    "kernelspec": {
      "display_name": "Python 3",
      "language": "python",
      "name": "python3"
    },
    "language_info": {
      "codemirror_mode": {
        "name": "ipython",
        "version": 3
      },
      "file_extension": ".py",
      "mimetype": "text/x-python",
      "name": "python",
      "nbconvert_exporter": "python",
      "pygments_lexer": "ipython3",
      "version": "3.7.7"
    },
    "colab": {
      "name": "Rebecca Wang - Graphs.ipynb",
      "provenance": [],
      "collapsed_sections": []
    }
  },
  "cells": [
    {
      "cell_type": "markdown",
      "metadata": {
        "id": "m6LGmJ-T23JT"
      },
      "source": [
        "<header style=\"padding: 4em 0 0em 0\">\n",
        "    <img src=\"http://brentyi.github.io/filestore/ai4all_logo.svg\" style=\"width: 30em; height: auto; margin: 0;\" />\n",
        "    <h3 style=\"margin: 1em 0 0 0;\">\n",
        "        <strong>Graphs I</strong>\n",
        "        <span style=\"color: #777\">\n",
        "        &nbsp;&blacksquare;&nbsp;\n",
        "        Robotics, Summer 2021</span>\n",
        "    </h3>\n",
        "</header>"
      ]
    },
    {
      "cell_type": "markdown",
      "metadata": {
        "id": "1ektA4Ny23JW"
      },
      "source": [
        "<hr style=\"border-top: 0.4em solid #eee;\" />\n",
        "\n",
        "In this notebook, we'll take a whirlwind tour of graphs and graph search algorithms.\n",
        "\n",
        "Our core goals will be to:\n",
        "1. Understand how satelite images can correspond to 2D NumPy arrays.\n",
        "2. Understand how fly-zone constraints can induce a traversable graph on these maps.\n",
        "3. Implement the uniform cost search (breadth first search) algorithm to route a drone.\n",
        "\n",
        "<hr style=\"border-top: 0.4em solid #eee;\" />"
      ]
    },
    {
      "cell_type": "code",
      "metadata": {
        "id": "6W6xiPJm67MF"
      },
      "source": [
        "#@title Helper functions\n",
        "import numpy as np\n",
        "import matplotlib.pyplot as plt\n",
        "\n",
        "def default_cmap(x):\n",
        "    if x == 1:\n",
        "        return [0, 255, 0]\n",
        "    else:\n",
        "        return [255, 0, 0]\n",
        "    \n",
        "def colored(A, cmap):\n",
        "    im = np.zeros((A.shape[0], A.shape[1], 3), dtype=np.int)\n",
        "    for i in range(A.shape[0]):\n",
        "        for j in range(A.shape[1]):\n",
        "            im[i, j] = cmap(A[i, j])\n",
        "    return im\n",
        "\n",
        "def visualize_adjacency(title, A):\n",
        "    \"\"\"Visualize an adjacency matrix using matplotlib.\n",
        "\n",
        "    Args:\n",
        "        title (str): Name of image we're visualizing.\n",
        "        A (np.ndarray): Adjacency matrix we're visualizing.\n",
        "    \"\"\"\n",
        "    assert type(title) == str, \"Title not a string!\"\n",
        "    assert len(A.shape) == 2, \"Image array not 2D!\"\n",
        "    \n",
        "    plt.figure(figsize=(7, 7))\n",
        "\n",
        "    # Visualize adjacency matrix\n",
        "    # We manually set the black value with `vmin`, and the white value with `vmax`\n",
        "    plt.imshow(A, vmin=0.0, vmax=1.0, cmap=\"gray\")\n",
        "\n",
        "    # Give our plot a title -- this is purely cosmetic!\n",
        "    plt.title(f\"{title}, shape={A.shape}\")\n",
        "\n",
        "    # Show image\n",
        "    plt.show()\n",
        "\n",
        "def visualize_map(title, M, A=None, start=None, end=None, path=None, cmap=default_cmap):\n",
        "    \"\"\"Visualize a 2D array using matplotlib.\n",
        "\n",
        "    Args:\n",
        "        title (str): Name of map we're visualizing.\n",
        "        M (np.ndarray): Map we're visualizing. Shape should be `(rows, cols)`.\n",
        "        A (np.ndarray): Adjacency matrix of graph.\n",
        "    \"\"\"\n",
        "    assert type(title) == str, \"Title not a string!\"\n",
        "    assert len(M.shape) == 2, \"Map array not 2D!\"\n",
        "    \n",
        "    plt.imshow(colored(M, cmap))\n",
        "    if start is not None:\n",
        "        plt.scatter(start[1], start[0], color=\"blue\", label=\"start\")\n",
        "    if end is not None:\n",
        "        plt.scatter(end[1], end[0], color=\"yellow\", label=\"end\")\n",
        "        \n",
        "    m, n = M.shape\n",
        "\n",
        "    def ids(l):\n",
        "        p = [l // n, l % n]\n",
        "        return p\n",
        "\n",
        "    def flip(t):\n",
        "        return [t[1], t[0]]\n",
        "        \n",
        "    if A is not None:\n",
        "\n",
        "        for i in range(A.shape[0]):\n",
        "            for j in range(A.shape[1]):\n",
        "                if A[i, j]:\n",
        "                    # print(f\"({i}, {j}) {ids(i)} -> {ids(j)}\")\n",
        "                    icoords = flip(ids(i))\n",
        "                    jcoords = flip(ids(j))\n",
        "                    x = [icoords[0], jcoords[0]]\n",
        "                    y = [icoords[1], jcoords[1]]\n",
        "                    plt.scatter(ids(i)[1], ids(i)[0], color=\"black\")#, label=f\"{i}\")\n",
        "                    plt.plot(x, y, color=\"black\", alpha=0.5)#, label=f\"{i} -> {j}\")\n",
        "                   \n",
        "    if path is not None:\n",
        "        for i in range(len(path)-1):\n",
        "            u, v = path[i], path[i+1]\n",
        "\n",
        "            ucoords = flip(ids(u))\n",
        "            vcoords = flip(ids(v))\n",
        "            x = [ucoords[0], vcoords[0]]\n",
        "            y = [ucoords[1], vcoords[1]]\n",
        "            plt.plot(x, y, color=\"black\", alpha=0.5)#, label=f\"{i} -> {j}\")\n",
        "                    \n",
        "    if start or end:\n",
        "        plt.legend()\n",
        "        \n",
        "    plt.title(title)\n",
        "    plt.show()\n",
        "\n",
        "def visualize_costs(title, M, costs, start=None, end=None):\n",
        "    m, n = M.shape\n",
        "    C = np.zeros(M.shape)\n",
        "    for i in range(m):\n",
        "        for j in range(n):\n",
        "            C[i, j] = costs[i * n + j]\n",
        "    \n",
        "    if start is not None:\n",
        "        plt.scatter(start[1], start[0], color=\"blue\", label=\"start\")\n",
        "    if end is not None:\n",
        "        plt.scatter(end[1], end[0], color=\"yellow\", label=\"end\")\n",
        "    #np.max([x for x in costs if x != np.inf])\n",
        "    plt.imshow(C)\n",
        "    plt.colorbar()\n",
        "    if start or end:\n",
        "        plt.legend()\n",
        "    plt.title(title)\n",
        "    plt.show()\n",
        "    \n",
        "def plot_path(M, path):\n",
        "    m, n = B.shape\n",
        "    plt.imshow(colored(B, default_cmap))\n",
        "    \n",
        "    def ids(l):\n",
        "        p = [l // m, l % m]\n",
        "        return p\n",
        "    \n",
        "    def flip(t):\n",
        "        return [t[1], t[0]]\n",
        "    \n",
        "    for i in range(len(p)-1):\n",
        "        u, v = p[i], p[i+1]\n",
        "        \n",
        "        ucoords = flip(ids(u))\n",
        "        vcoords = flip(ids(v))\n",
        "        x = [ucoords[0], vcoords[0]]\n",
        "        y = [ucoords[1], vcoords[1]]\n",
        "        plt.plot(x, y, color=\"black\", alpha=0.5)#, label=f\"{i} -> {j}\")\n",
        "        \n",
        "        \n",
        "def visualize_path(M, p):\n",
        "    # p is the path\n",
        "    \n",
        "    from IPython.display import HTML\n",
        "    from matplotlib.animation import FuncAnimation\n",
        "    from matplotlib.patches import Rectangle\n",
        "    import matplotlib.pyplot as plt\n",
        "    import numpy as np\n",
        "\n",
        "    n = 2\n",
        "    T = 5\n",
        "    D = 0.4\n",
        "\n",
        "    def interpolate(init, final):\n",
        "        return np.tile(init, (1, T)) + (final - init) * np.linspace(0, 1, T)\n",
        "\n",
        "    m, n = M.shape\n",
        "\n",
        "    def ids(l):\n",
        "        return [l // n, l % n]\n",
        "\n",
        "    def flip(t):\n",
        "        return [t[1], t[0]]\n",
        "\n",
        "    ps = np.zeros((2, T * (len(p)-1)))\n",
        "    for i in range(len(p)-1):\n",
        "        u, v = p[i], p[i+1]\n",
        "        ucoords = np.array(flip(ids(u))).reshape((2, 1))\n",
        "        vcoords = np.array(flip(ids(v))).reshape((2, 1))\n",
        "        ps[:, i*T:T*(i+1)] = interpolate(ucoords, vcoords)\n",
        "\n",
        "\n",
        "    # from http://python4econ.blogspot.com/2013/03/matlabs-cylinder-command-in-python.html\n",
        "    def cylinder(r, n):\n",
        "        \"\"\"\n",
        "        Returns the unit cylinder that corresponds to the curve r.\n",
        "        INPUTS:  r - a vector of radii\n",
        "                 n - number of coordinates to return for each element in r\n",
        "\n",
        "        OUTPUTS: x,y,z - coordinates of points\n",
        "        \"\"\"\n",
        "\n",
        "        # ensure that r is a column vector\n",
        "        r = np.atleast_2d(r)\n",
        "        r_rows, r_cols = r.shape\n",
        "\n",
        "        if r_cols > r_rows:\n",
        "            r = r.T\n",
        "        # find points along x and y axes\n",
        "        points = np.linspace(0, 2 * np.pi, n + 1)\n",
        "        x = np.cos(points) * r\n",
        "        y = np.sin(points) * r\n",
        "\n",
        "        # find points along z axis\n",
        "        rpoints = np.atleast_2d(np.linspace(0, 1, len(r)))\n",
        "        z = np.ones((1, n + 1)) * rpoints.T\n",
        "\n",
        "        return x, y, z\n",
        "\n",
        "\n",
        "    x, y, z = cylinder(D / 2, 100)\n",
        "    x = x.squeeze()\n",
        "    y = y.squeeze()\n",
        "    z = z.squeeze()\n",
        "\n",
        "    fig, ax = plt.subplots(figsize=(10, 10))\n",
        "    plt.close(fig)\n",
        "\n",
        "    ax.axis(\"equal\")\n",
        "    #ax.axis([-1.5, 1.5, -1.5, 1.5])\n",
        "    p_data = ax.plot(ps[0, :], ps[1, :], color=\"C0\")[0]\n",
        "    ax.scatter(ps[0, :], ps[1, :], color=\"C0\", marker=\".\")\n",
        "\n",
        "    ax.imshow(colored(M, default_cmap))\n",
        "    def update(i):\n",
        "        p_data.set_data(ps[0, i] + x, ps[1, i] + y)\n",
        "        ax.set_title(f\"i = {i}\")\n",
        "\n",
        "\n",
        "    ani = FuncAnimation(fig, update, interval=100, frames=T*(len(p) - 1))\n",
        "    return HTML(ani.to_html5_video())"
      ],
      "execution_count": null,
      "outputs": []
    },
    {
      "cell_type": "code",
      "metadata": {
        "id": "zOttDS4823JY"
      },
      "source": [
        "import numpy as np\n",
        "# from google.colab import drive\n",
        "# drive.mount('/content/drive/')\n",
        "# drive_path = '/content/drive/My Drive/AI4ALL Robotics 2021/Colab notebooks/Graph assignment/' # path to fig folder\n",
        "#from graph_helpers import visualize_adjacency, visualize_map, visualize_costs, visualize_path"
      ],
      "execution_count": null,
      "outputs": []
    },
    {
      "cell_type": "markdown",
      "metadata": {
        "id": "OBa2xSjM23JZ"
      },
      "source": [
        "## 1. Map to Matrix"
      ]
    },
    {
      "cell_type": "markdown",
      "metadata": {
        "id": "k_AYcjXI23Ja"
      },
      "source": [
        "<p>First, let's remember that we are taking a map like this:</p>\n",
        "\n",
        "[Stanford overhead view](https://drive.google.com/file/d/1EiaSdBa1uxcL5tduT7jA58ZM4dXduHpB/view?usp=sharing)\n",
        "\n",
        "<p>And we grid it up like this:</p>\n",
        "\n",
        "[Stanford overhead view split into a grid](https://drive.google.com/file/d/1sZtc7jW-6OOmSJnEmJBIRknIgr4VSVJA/view?usp=sharing)\n",
        "[link text](https://)"
      ]
    },
    {
      "cell_type": "markdown",
      "metadata": {
        "id": "p4syNzo523Jb"
      },
      "source": [
        "This looks like a two dimensional array, right?\n",
        "\n",
        "Let's create a rectangular array with zeros."
      ]
    },
    {
      "cell_type": "code",
      "metadata": {
        "id": "T6rGv0vg23Jb",
        "colab": {
          "base_uri": "https://localhost:8080/",
          "height": 281
        },
        "outputId": "5c5d0943-86a5-4ea1-e78a-b4d653ed1b52"
      },
      "source": [
        "a = np.zeros((15, 20))\n",
        "visualize_map(\"Empty Map\", a)"
      ],
      "execution_count": null,
      "outputs": [
        {
          "output_type": "display_data",
          "data": {
            "image/png": "[encoded data removed]",
            "text/plain": [
              "<Figure size 432x288 with 1 Axes>"
            ]
          },
          "metadata": {
            "tags": [],
            "needs_background": "light"
          }
        }
      ]
    },
    {
      "cell_type": "markdown",
      "metadata": {
        "id": "YZ-CfDeS23Jc"
      },
      "source": [
        "Why is it red? Well, we want the value `a[i, j]` to encode something about that cell.\n",
        "\n",
        "When we were working with images, each cell had 3 numbers (in the case of RGB or HSL), but now it has one.\n",
        "\n",
        "We decide what that number means. Here we are saying, visualize 0 as red!"
      ]
    },
    {
      "cell_type": "markdown",
      "metadata": {
        "id": "vs2FNJ-523Jd"
      },
      "source": [
        "Now let's see what color 1 is visualized as:"
      ]
    },
    {
      "cell_type": "code",
      "metadata": {
        "id": "c027wHAK23Je"
      },
      "source": [
        "b = np.zeros((15, 20))\n",
        "b[0, 0] = 1"
      ],
      "execution_count": null,
      "outputs": []
    },
    {
      "cell_type": "code",
      "metadata": {
        "id": "ygURIDNz23Je",
        "colab": {
          "base_uri": "https://localhost:8080/",
          "height": 281
        },
        "outputId": "87b78814-3f83-4e29-a32b-ce3a7942980a"
      },
      "source": [
        "visualize_map(\"Empty Map with one green cell\", b)"
      ],
      "execution_count": null,
      "outputs": [
        {
          "output_type": "display_data",
          "data": {
            "image/png": "[encoded data removed]",
            "text/plain": [
              "<Figure size 432x288 with 1 Axes>"
            ]
          },
          "metadata": {
            "tags": [],
            "needs_background": "light"
          }
        }
      ]
    },
    {
      "cell_type": "markdown",
      "metadata": {
        "id": "P-vWMjIc23Jf"
      },
      "source": [
        "Here we are saying to visualize the number 1 as green!"
      ]
    },
    {
      "cell_type": "markdown",
      "metadata": {
        "id": "ynDgdKEf23Jf"
      },
      "source": [
        "We can change the colors that are shown by the `visualize_map` function via the `cmap` named argument.\n",
        "\n",
        "`cmap` takes a function that maps floats to lists of`[r,g,b]` values. See below.\n",
        "\n",
        "Let's flip the colors:"
      ]
    },
    {
      "cell_type": "code",
      "metadata": {
        "id": "4RKhHC_M23Jf",
        "colab": {
          "base_uri": "https://localhost:8080/",
          "height": 281
        },
        "outputId": "f15361ff-4972-417d-f55d-63357e8e0354"
      },
      "source": [
        "def flipped_cmap(x):\n",
        "    if x == 0:\n",
        "        return [0, 255, 0]\n",
        "    else:\n",
        "        return [255, 0, 0]\n",
        "\n",
        "visualize_map(\"Empty Map with one green cell\", b, cmap=flipped_cmap)"
      ],
      "execution_count": null,
      "outputs": [
        {
          "output_type": "display_data",
          "data": {
            "image/png": "[encoded data removed]",
            "text/plain": [
              "<Figure size 432x288 with 1 Axes>"
            ]
          },
          "metadata": {
            "tags": [],
            "needs_background": "light"
          }
        }
      ]
    },
    {
      "cell_type": "markdown",
      "metadata": {
        "id": "LAqRJJLq23Jg"
      },
      "source": [
        "Ok! So we have a \"map\" which is a numpy array and cells can be 0 or 1. We can visualize it.\n",
        "\n",
        "Now let's go back to green and red, and use these to visualize where we can fly.\n",
        "\n",
        "Think about green for grass and red for lava. We can walk on grass, but not on lava!"
      ]
    },
    {
      "cell_type": "markdown",
      "metadata": {
        "id": "0rWfF6L_23Jg"
      },
      "source": [
        "## 2. Types of Cells\n",
        "\n",
        "<p>Suppose the following cells, indicated with a red dot are \"flyable\":</p>\n",
        "\n",
        "[Stanford map with flyable grid](https://drive.google.com/file/d/1XHKsvrZmX61B89Q52UKyXAhJXto6CJwE/view?usp=sharing)"
      ]
    },
    {
      "cell_type": "markdown",
      "metadata": {
        "id": "MsqmN7cN23Jg"
      },
      "source": [
        "Let's visualize this flyable zone as green, and the unflyable as red"
      ]
    },
    {
      "cell_type": "code",
      "metadata": {
        "id": "emCF1_yU23Jh",
        "colab": {
          "base_uri": "https://localhost:8080/",
          "height": 281
        },
        "outputId": "24f195fa-02b3-4427-a9be-97b1724d0a9a"
      },
      "source": [
        "stanford_map = np.zeros((15, 20))\n",
        "stanford_map[0, 9:11] = 1\n",
        "stanford_map[1, 8:10] = 1\n",
        "stanford_map[2, 8:10] = 1\n",
        "stanford_map[3, 7:9] = 1\n",
        "stanford_map[4, 7:9] = 1\n",
        "stanford_map[5, 7:8] = 1\n",
        "stanford_map[6, 6:8] = 1\n",
        "stanford_map[7, 6:8] = 1\n",
        "stanford_map[8, 4:8] = 1\n",
        "visualize_map(\"Stanford Flyable Zones\", stanford_map)"
      ],
      "execution_count": null,
      "outputs": [
        {
          "output_type": "display_data",
          "data": {
            "image/png": "[encoded data removed]",
            "text/plain": [
              "<Figure size 432x288 with 1 Axes>"
            ]
          },
          "metadata": {
            "tags": [],
            "needs_background": "light"
          }
        }
      ]
    },
    {
      "cell_type": "markdown",
      "metadata": {
        "id": "ML73LkFK23Jh"
      },
      "source": [
        "So now we have a representation for a map.\n",
        "\n",
        "Remember, we want to do search in this map, so now we will construct a graph."
      ]
    },
    {
      "cell_type": "markdown",
      "metadata": {
        "id": "7s2_Wcmr23Jh"
      },
      "source": [
        "## 3. Constructing the graph\n",
        "\n",
        "\n",
        "<p>Since we can only fly in between flyable cells, we are going cells we can fly in as connected, and that induces an undirected graph!<p>\n",
        "\n",
        "[Stanford grid with flyable cells connected with a graph](https://drive.google.com/file/d/198ZywW00nVq6jla6tbxGIBslAMi_8KcG/view?usp=sharing)"
      ]
    },
    {
      "cell_type": "markdown",
      "metadata": {
        "id": "k8KJXcG023Jh"
      },
      "source": [
        "We can use this to build an adjacency matrix!\n",
        "\n",
        "### a) Adjacency matrix review\n",
        "\n",
        "Remember, adjacency matrices are two-dimensional numpy arrays. They are always square!\n",
        "\n",
        "They have values which are either 0 or 1!\n",
        "\n",
        "If the entry `i,j` is 1 that means there is an edge from `i` to `j`.\n",
        "\n",
        "For undirected graphs, adjacency matrices are always symmetric! "
      ]
    },
    {
      "cell_type": "markdown",
      "metadata": {
        "id": "hf8A-SUl23Ji"
      },
      "source": [
        "<div style=\"color: #a00; font-weight: 800; padding: 1em 0; border-top: 0.4em solid #eee;\">Checkoff: Adjacency Matrix Concept</div>\n",
        "\n",
        "What is an adjacency matrix?\n",
        "\n",
        " * How do `1`s and `0`s correspond to edges in an undirected graph?\n",
        " * If our map is `m` by `n`, what is the size of the adjacency matrix?\n",
        "\n",
        "> An edge corresponds to a value of 1.\n",
        "The adjacency matrix is size (mn)*(mn) to show edges from any node to any other node."
      ]
    },
    {
      "cell_type": "markdown",
      "metadata": {
        "id": "_BuC4NDI23Ji"
      },
      "source": [
        "### b) Indexing\n",
        "\n",
        "As the first piece, we need to think about how label the nodes of our graph. Since each cell in our `m` by `n` grid corresponds to a vertex, our graph has `mn` nodes!\n",
        "\n",
        "Let's index vertices from left to right, top to bottom. So the top left cell is vertex 0 and the cell below it is vertex `n`. The cell below and to the right of the top left cell is vertex `n+1`."
      ]
    },
    {
      "cell_type": "markdown",
      "metadata": {
        "id": "6qHxBRUi23Ji"
      },
      "source": [
        "<div style=\"color: #a00; font-weight: 800; padding: 1em 0; border-top: 0.4em solid #eee;\">Checkoff: Vertices from Cells</div>\n",
        "Complete the following function, `vertex_of_cell`, which gets the vertex number from  the cell indicies.\n",
        "\n",
        "For example, \n",
        "* `vertex_of_cell([0, 0]) == 0`\n",
        "* `vertex_of_cell([0, 1]) == 1`\n",
        "* `vertex_of_cell([1, 1]) == n+1`"
      ]
    },
    {
      "cell_type": "code",
      "metadata": {
        "id": "81LWAgmE23Jj"
      },
      "source": [
        "def vertex_of_cell(M, i, j):\n",
        "    \"\"\"Get the vertex of a cell\n",
        "\n",
        "    Args:\n",
        "        M (np.ndarray): the map we are working with.\n",
        "        i (int): the row index.\n",
        "        j (int): the column index.\n",
        "\n",
        "    Return:\n",
        "        vertex (int): the vertex\n",
        "    \"\"\"\n",
        "    assert len(M.shape) == 2\n",
        "    m, n = M.shape\n",
        "    # YOUR CODE HERE\n",
        "    # ***** Start of your code *****\n",
        "    vertex = n*i + j\n",
        "    return vertex\n",
        "    # ***** End of your code *****"
      ],
      "execution_count": null,
      "outputs": []
    },
    {
      "cell_type": "markdown",
      "metadata": {
        "id": "Oqo48ENb23Jj"
      },
      "source": [
        "<div style=\"color: #a00; font-weight: 800; padding: 1em 0; border-top: 0.4em solid #eee;\">Checkoff: Cells from Vertices</div>\n",
        "Now let's go the other direction, given a vertex let's get what indices it corresponds to in the map."
      ]
    },
    {
      "cell_type": "markdown",
      "metadata": {
        "id": "g8O4amZU23Jk"
      },
      "source": [
        "\n",
        "Complete the function `cell_of_vertex` which maps the vertex index to the cell indices!\n",
        "\n",
        "Hint: remember `//` does integer division and `%` gets the remainder."
      ]
    },
    {
      "cell_type": "code",
      "metadata": {
        "id": "LnZ3fgjz23Jk"
      },
      "source": [
        "def cell_of_vertex(M, k):\n",
        "    \"\"\"Get cell corresponding to the vertex.\n",
        "\n",
        "    Args:\n",
        "        M (np.ndarray): the map we are working with.\n",
        "        k (int): the vertex index.\n",
        "\n",
        "    Return:\n",
        "        i (int): the row index.\n",
        "        j (int): the column index.\n",
        "    \"\"\"\n",
        "    assert len(M.shape) == 2\n",
        "    m, n = M.shape\n",
        "    \n",
        "    # YOUR CODE HERE\n",
        "    # ***** Start of your code *****\n",
        "    i = k//n\n",
        "    j = k%n\n",
        "    # ***** End of your code *****\n",
        "    return i,j"
      ],
      "execution_count": null,
      "outputs": []
    },
    {
      "cell_type": "markdown",
      "metadata": {
        "id": "FIzCC_YT23Jk"
      },
      "source": [
        "### c) Implementation\n",
        "\n",
        "Now let's actually construct the adjacency matrix. Two vertices will be connected if they are each flyable!"
      ]
    },
    {
      "cell_type": "markdown",
      "metadata": {
        "id": "IneZd0eR23Jl"
      },
      "source": [
        "<div style=\"color: #a00; font-weight: 800; padding: 1em 0; border-top: 0.4em solid #eee;\">Checkoff: Constructing adjacency matrix from map</div>\n",
        "\n",
        "Complete the function `adjacency_matrix`. Remember two cells should be connected by an edge in the graph if they are each flyable.\n",
        "\n",
        "Also remember that the adjacency matrix for undirected graphs is symmetric, which means `A[i, j] = A[j, i]`."
      ]
    },
    {
      "cell_type": "markdown",
      "metadata": {
        "id": "oZgpemvB23Jl"
      },
      "source": [
        "Hint: you should probably loop over the cells!"
      ]
    },
    {
      "cell_type": "code",
      "metadata": {
        "id": "2ajmRyKc23Jl"
      },
      "source": [
        "def adjacency_matrix(M, flyable=1):\n",
        "    \"\"\"Visualize a 2D array using matplotlib.\n",
        "    All inputs values should be normalized 0.0-1.0.\n",
        "\n",
        "    Args:\n",
        "        M (np.ndarray): the map we are working with.\n",
        "        flyable (int): what number indicates a flyable cell; defauls to 1.\n",
        "    \"\"\"\n",
        "    assert len(M.shape) == 2\n",
        "    # Size of map\n",
        "    m, n = M.shape\n",
        "    # Number of vertices\n",
        "    o = m * n\n",
        "    \n",
        "    # A for *A*djacency matrix\n",
        "    A = np.zeros((o, o))\n",
        "    \n",
        "    # YOUR CODE HERE\n",
        "    # ***** Start of your code *****\n",
        "    # for node1 in range(o):\n",
        "    #     for node2 in range(o):\n",
        "    #         i1,j1 = cell_of_vertex(M, node1)\n",
        "    #         i2,j2 = cell_of_vertex(M, node2)\n",
        "    #         if M[i1,j1] == 1 and M[i2,j2] == 1:\n",
        "    #             A[node1,node2] = 1\n",
        "\n",
        "    for node1 in range(o):\n",
        "        i,j = cell_of_vertex(M, node1)\n",
        "        if M[i,j] == 1: # if cell is flyable check for neighbors being flyable\n",
        "            i_n_list = [i-1,i,i,i+1]\n",
        "            j_n_list = [j,j+1,j-1,j]\n",
        "            for ind in range(len(i_n_list)): # checking neighbors\n",
        "                i_n = i_n_list[ind]\n",
        "                j_n = j_n_list[ind]\n",
        "                if i_n < m and i_n >= 0 and j_n < n and j_n >= 0: # neighbor within range\n",
        "                    if M[i_n,j_n] == 1:\n",
        "                        node2 = vertex_of_cell(M, i_n, j_n)\n",
        "                        A[node1,node2] = 1\n",
        "                        A[node2,node1] = 1 # keep it symmetric\n",
        "    # ***** End of your code *****\n",
        "    \n",
        "    return A    "
      ],
      "execution_count": null,
      "outputs": []
    },
    {
      "cell_type": "code",
      "metadata": {
        "id": "HB5Z4oCG23Jl"
      },
      "source": [
        "stanford_adjacency = adjacency_matrix(stanford_map)"
      ],
      "execution_count": null,
      "outputs": []
    },
    {
      "cell_type": "markdown",
      "metadata": {
        "id": "bQggY1lp23Jm"
      },
      "source": [
        "<div style=\"color: #a00; font-weight: 800; padding: 1em 0; border-top: 0.4em solid #eee;\">Checkoff: Adjacency Matrix</div>\n",
        "\n",
        "Run the following code cell to visualize the entries, what do you see?\n",
        "\n",
        "> *Your response here!*"
      ]
    },
    {
      "cell_type": "code",
      "metadata": {
        "id": "KcZc0-el23Jm",
        "colab": {
          "base_uri": "https://localhost:8080/",
          "height": 444
        },
        "outputId": "bac1b389-ad23-4c4c-ce76-2e31c514a2f6"
      },
      "source": [
        "visualize_adjacency(\"Stanford Adjacency Matrix\", stanford_adjacency)"
      ],
      "execution_count": null,
      "outputs": [
        {
          "output_type": "display_data",
          "data": {
            "image/png": "[encoded data removed]",
            "text/plain": [
              "<Figure size 504x504 with 1 Axes>"
            ]
          },
          "metadata": {
            "tags": [],
            "needs_background": "light"
          }
        }
      ]
    },
    {
      "cell_type": "markdown",
      "metadata": {
        "id": "p3BqRTgf23Jm"
      },
      "source": [
        "<div style=\"color: #a00; font-weight: 800; padding: 1em 0; border-top: 0.4em solid #eee;\">Checkoff: Graph on map visualization</div>\n",
        "\n",
        "The `visualize_map` function can also take an adjacency matrix to visualize via the named `A` argument.\n",
        "\n",
        "Run the following code cell to visualize it, what do you see? Is this harder or easier to interpret than the adjacency matrix itself?\n",
        "\n",
        "> *Your response here!*"
      ]
    },
    {
      "cell_type": "code",
      "metadata": {
        "id": "1N0S6BnN23Jm",
        "colab": {
          "base_uri": "https://localhost:8080/",
          "height": 281
        },
        "outputId": "4bccd575-0e6c-491b-f654-191cd60c67eb"
      },
      "source": [
        "visualize_map(\"Stanford Flyable Zones Connected\", stanford_map, A=stanford_adjacency)"
      ],
      "execution_count": null,
      "outputs": [
        {
          "output_type": "display_data",
          "data": {
            "image/png": "[encoded data removed]",
            "text/plain": [
              "<Figure size 432x288 with 1 Axes>"
            ]
          },
          "metadata": {
            "tags": [],
            "needs_background": "light"
          }
        }
      ]
    },
    {
      "cell_type": "markdown",
      "metadata": {
        "id": "BO8vJbqv23Jn"
      },
      "source": [
        "## 4. Finding Neighbors\n",
        "\n",
        "### a) The neighbors of a vertex...\n",
        "\n",
        "The set neighbors of a node in an undirected graph are those nodes which are connected to it by an edge!\n",
        "\n",
        "Let's write a function that get's the neighbors of vertices"
      ]
    },
    {
      "cell_type": "markdown",
      "metadata": {
        "id": "8V4uCe1s23Jn"
      },
      "source": [
        "<div style=\"color: #a00; font-weight: 800; padding: 1em 0; border-top: 0.4em solid #eee;\">Checkoff: Neighbors</div>\n",
        "\n",
        "Complete the following function to get the neighbors of vertex `k`."
      ]
    },
    {
      "cell_type": "code",
      "metadata": {
        "id": "2ht1yDuS23Jn"
      },
      "source": [
        "def neighbors(A, k):\n",
        "    \"\"\"Get the neighbors of vertex `i`\n",
        "    \n",
        "    Args:\n",
        "        A (np.ndarray): Adjacency matrix\n",
        "        i (int): vertex we care about.\n",
        "    \"\"\"\n",
        "    assert len(A.shape) == 2\n",
        "    assert A.shape[0] == A.shape[1]\n",
        "    \n",
        "    # we have o vertices\n",
        "    o = A.shape[0]\n",
        "    assert k < o\n",
        "    \n",
        "    # ***** Start of your code *****\n",
        "    neighbors = np.where(A[k,:] == 1)[0]\n",
        "    return list(neighbors)\n",
        "    # ***** End of your code *****"
      ],
      "execution_count": null,
      "outputs": []
    },
    {
      "cell_type": "markdown",
      "metadata": {
        "id": "qCxfXewt23Jo"
      },
      "source": [
        "Does vertex 0, the top left have any neighbors?"
      ]
    },
    {
      "cell_type": "code",
      "metadata": {
        "id": "zRTX0JcT23Jo",
        "colab": {
          "base_uri": "https://localhost:8080/"
        },
        "outputId": "30803a5b-0aea-41bf-b554-7d4c310f143b"
      },
      "source": [
        "print(neighbors(stanford_adjacency, 0) == [])"
      ],
      "execution_count": null,
      "outputs": [
        {
          "output_type": "stream",
          "text": [
            "True\n"
          ],
          "name": "stdout"
        }
      ]
    },
    {
      "cell_type": "markdown",
      "metadata": {
        "id": "KKJSTHlX23Jp"
      },
      "source": [
        "Does vertex 29?"
      ]
    },
    {
      "cell_type": "code",
      "metadata": {
        "id": "nE-fIeUV23Jp",
        "colab": {
          "base_uri": "https://localhost:8080/"
        },
        "outputId": "d33a312c-a023-4f12-8eaf-a19eda74f5cb"
      },
      "source": [
        "print(neighbors(stanford_adjacency, 29) == [9, 28, 49])"
      ],
      "execution_count": null,
      "outputs": [
        {
          "output_type": "stream",
          "text": [
            "True\n"
          ],
          "name": "stdout"
        }
      ]
    },
    {
      "cell_type": "markdown",
      "metadata": {
        "id": "OsBRK4RK23Jp"
      },
      "source": [
        "## 5. Sidebar: Queues \n",
        "\n",
        "We are headed towards search algorithms! But a quick detour...we need to talk about queues!\n",
        "\n",
        "### a) Queues...\n",
        "Remember, queues are useful for storing a list of elements, with the semantics FIFO or LIFO.\n",
        "\n",
        "* FIFO stands for first in first out; the item which was added to the queue earliest will be the next to be popped.\n",
        "* LIFO stands for last in first out; the item which was most recently added to the queue will be the next to be popped.\n",
        "\n",
        "People often call LIFO queues **stacks** and call FIFO queues just **queues**. In lecture, we also saw priority queues, in which the queue elements are associated with a priority value, and popping gives the highest priority element.\n",
        "\n",
        "For the search algorithm we will implement, we only need FIFO queues, which we will call queues."
      ]
    },
    {
      "cell_type": "markdown",
      "metadata": {
        "id": "8w4alG-V23Jp"
      },
      "source": [
        "### b) Queues via lists"
      ]
    },
    {
      "cell_type": "markdown",
      "metadata": {
        "id": "37_fw3sZ23Jp"
      },
      "source": [
        "For us, a queue is just a list:"
      ]
    },
    {
      "cell_type": "code",
      "metadata": {
        "id": "W5acbLmy23Jq"
      },
      "source": [
        "queue = []"
      ],
      "execution_count": null,
      "outputs": []
    },
    {
      "cell_type": "markdown",
      "metadata": {
        "id": "RTVCv6Wk23Jq"
      },
      "source": [
        "We can append (or push or add) to the queue"
      ]
    },
    {
      "cell_type": "code",
      "metadata": {
        "id": "kudCE0Nh23Jq",
        "colab": {
          "base_uri": "https://localhost:8080/"
        },
        "outputId": "af803791-a704-4982-fd68-f0d5899c2732"
      },
      "source": [
        "queue.append(1)\n",
        "queue.append(2)\n",
        "queue"
      ],
      "execution_count": null,
      "outputs": [
        {
          "output_type": "execute_result",
          "data": {
            "text/plain": [
              "[1, 2]"
            ]
          },
          "metadata": {
            "tags": []
          },
          "execution_count": 18
        }
      ]
    },
    {
      "cell_type": "markdown",
      "metadata": {
        "id": "mYg5AKLp23Jq"
      },
      "source": [
        "We can remove (or pop or get) from the queue"
      ]
    },
    {
      "cell_type": "code",
      "metadata": {
        "id": "3fwqIdp-23Jr",
        "colab": {
          "base_uri": "https://localhost:8080/"
        },
        "outputId": "8b302444-7729-46a9-d6f5-21c8b65a467b"
      },
      "source": [
        "elem = queue.pop(0)\n",
        "print(f\"popped {elem} from queue which is now {queue}\")"
      ],
      "execution_count": null,
      "outputs": [
        {
          "output_type": "stream",
          "text": [
            "popped 1 from queue which is now [2]\n"
          ],
          "name": "stdout"
        }
      ]
    },
    {
      "cell_type": "code",
      "metadata": {
        "id": "JJ7YXWf523Jr",
        "colab": {
          "base_uri": "https://localhost:8080/"
        },
        "outputId": "3f322ea3-3fa9-4d65-c2d1-481d6c7b1262"
      },
      "source": [
        "elem = queue.pop(0)\n",
        "print(f\"popped {elem} from queue which is now {queue}\")"
      ],
      "execution_count": null,
      "outputs": [
        {
          "output_type": "stream",
          "text": [
            "popped 2 from queue which is now []\n"
          ],
          "name": "stdout"
        }
      ]
    },
    {
      "cell_type": "markdown",
      "metadata": {
        "id": "4LXyrilK23Jr"
      },
      "source": [
        "What happens if we pop from a queue when it's empty? Uncomment the next line to find out!"
      ]
    },
    {
      "cell_type": "code",
      "metadata": {
        "id": "K56Kzqfj23Jr"
      },
      "source": [
        " # elem = queue.pop(0)"
      ],
      "execution_count": null,
      "outputs": []
    },
    {
      "cell_type": "markdown",
      "metadata": {
        "id": "5TQ5r9SH23Jr"
      },
      "source": [
        "So in general, we might need to check:"
      ]
    },
    {
      "cell_type": "code",
      "metadata": {
        "id": "mRt9z87323Js",
        "colab": {
          "base_uri": "https://localhost:8080/"
        },
        "outputId": "2437a2c6-23f6-4155-f0ba-78778e8cb5a9"
      },
      "source": [
        "if len(queue) > 0:\n",
        "    print(\"can pop\")\n",
        "else:\n",
        "    print(\"can't pop\")"
      ],
      "execution_count": null,
      "outputs": [
        {
          "output_type": "stream",
          "text": [
            "can't pop\n"
          ],
          "name": "stdout"
        }
      ]
    },
    {
      "cell_type": "markdown",
      "metadata": {
        "id": "ESCBP4VI23Js"
      },
      "source": [
        "<div style=\"color: #a00; font-weight: 800; padding: 1em 0; border-top: 0.4em solid #eee;\">Checkoff: Queue Basics</div>\n",
        "\n",
        "Because of this let's write two functions: \n",
        "\n",
        "* one called `push` to add elements to a queue\n",
        "* one called `pop` to get an element and shorten the queue\n",
        "\n",
        "Hint: `push` is one line! `pop` requires an `if` statement checking the length of the queue!"
      ]
    },
    {
      "cell_type": "code",
      "metadata": {
        "id": "f1odZ0Vb23Js"
      },
      "source": [
        "def push(q, elem):\n",
        "    \"\"\"Add an element to the queue\n",
        "    \n",
        "    Args:\n",
        "        q (list): the queue.\n",
        "        elem (Any): the element to add.\n",
        "    \"\"\"\n",
        "    # YOUR CODE HERE\n",
        "    # ***** Start of your code *****\n",
        "    return q.append(elem)\n",
        "    # ***** End of your code *****\n",
        "    \n",
        "def pop(q):\n",
        "    \"\"\"Get an element from a queue, if there are any.\n",
        "    If there is nothing in the queue, return the value None.\n",
        "    \n",
        "    Args:\n",
        "        q (list): the queue.\n",
        "    Returns:\n",
        "        obj \n",
        "    \"\"\"\n",
        "    \n",
        "    # YOUR CODE HERE\n",
        "    # ***** Start of your code *****\n",
        "    if len(q) > 0:\n",
        "        return q.pop(0)\n",
        "    else:\n",
        "        return None\n",
        "    # ***** End of your code *****\n",
        "    \n",
        "test_list = [1, 2, 3, 4, 5]\n",
        "push(test_list, 6)\n",
        "assert len(test_list) == 6\n",
        "assert test_list[-1] == 6\n",
        "assert pop(test_list) == 1\n",
        "assert len(test_list) == 5"
      ],
      "execution_count": null,
      "outputs": []
    },
    {
      "cell_type": "markdown",
      "metadata": {
        "id": "Thcg79Nx23Js"
      },
      "source": [
        "<div style=\"color: #a00; font-weight: 800; padding: 1em 0; border-top: 0.4em solid #eee;\">Checkoff: Using `push` and `pop`</div>\n",
        "\n",
        "In the following cell, create a queue. Push (1,2), (3,4), (5,6) to it, then pop from the queue twice, then push (11,12).\n",
        "\n",
        "What does the queue contain?\n",
        "> *Your response here!*"
      ]
    },
    {
      "cell_type": "code",
      "metadata": {
        "id": "D9aAxW4R23Jt",
        "colab": {
          "base_uri": "https://localhost:8080/"
        },
        "outputId": "23127762-b55e-464e-a9a3-b97097643839"
      },
      "source": [
        "queue = []\n",
        "# YOUR CODE HERE\n",
        "# ***** Start of your code *****\n",
        "push(queue,(1,2))\n",
        "push(queue,(3,4))\n",
        "push(queue,(5,6))\n",
        "pop(queue)\n",
        "pop(queue)\n",
        "push(queue,(11,12))\n",
        "# ***** End of your code *****\n",
        "print(queue)"
      ],
      "execution_count": null,
      "outputs": [
        {
          "output_type": "stream",
          "text": [
            "[(5, 6), (11, 12)]\n"
          ],
          "name": "stdout"
        }
      ]
    },
    {
      "cell_type": "markdown",
      "metadata": {
        "id": "9iAB5Rud23Jt"
      },
      "source": [
        "That was our whole sidebar! We will use queues to keep track of our search in the graph!"
      ]
    },
    {
      "cell_type": "markdown",
      "metadata": {
        "id": "ykxDeXLP23Jt"
      },
      "source": [
        "## 6. Search\n",
        "\n",
        "Remember we will be searching through the graph. \n",
        "\n",
        "We will have a designated start vertex, and we are interested in the distances to all the other vertices. If we have to travel two edges to get from vertex `u` to vertex `v` we will say that these the cost of going from `u` to `v` is 2.\n",
        "\n",
        "Review the lecture slides for the breadth first search algorithm.\n",
        "\n",
        "### a) Implementation"
      ]
    },
    {
      "cell_type": "markdown",
      "metadata": {
        "id": "N66paquK23Jt"
      },
      "source": [
        "<div style=\"color: #a00; font-weight: 800; padding: 1em 0; border-top: 0.4em solid #eee;\">Checkoff: Uniform Cost Search</div>\n",
        "\n",
        "Complete the implementation of the uniform cost search algorithm before. "
      ]
    },
    {
      "cell_type": "markdown",
      "metadata": {
        "id": "TYDOn2h323Jt"
      },
      "source": [
        "\n",
        "We have declared some variables to get you started, including:\n",
        " * `costs` the vector of costs\n",
        " * `queue` the search queue; store tuples of `(vertex,cost)` on the queue.\n",
        " * `seen` the dictionary of already-seen nodes; use to only add vertices to the queue once.\n",
        " \n",
        "Hint: loop while there is still something in the queue, and pop an element off; get the vertex it references and the cost. Mark it as seen. If it is the goal, return the costs. Otherwise, loop over its neighbors and add then ones we have not yet seen to the queue with cost one higher than the current cost. Once the queue is empty, return the costs."
      ]
    },
    {
      "cell_type": "code",
      "metadata": {
        "id": "dKgf9IR123Ju"
      },
      "source": [
        "def uniform_cost_search(A, start, goal):\n",
        "    \"\"\"Perform a breadth first search, returning distances from nodes.\n",
        "       If goal is specified, return costs once goal is found.\n",
        "       If the distance to the node is np.inf, then the nodes are unconnected in the graph.\n",
        "    \n",
        "    Args:\n",
        "        A (np.ndarray): Adjacency matrix representing graph to search.\n",
        "        start (int, ): vertex to start search at.\n",
        "        goal (int): vertex indicating goal node.\n",
        "    \"\"\"\n",
        "    # o is the number of nodes\n",
        "    o = A.shape[0]\n",
        "    \n",
        "    # costs (or distances of path to node)\n",
        "    # inf represents that these nodes are not connected.\n",
        "    costs = np.inf * np.ones((o,))\n",
        "    \n",
        "    # Begin our search at start node start, which is distance 0\n",
        "    queue = [(start, 0)]\n",
        "    \n",
        "    # Dictionary of nodes we have already seen.\n",
        "    # keys are ints, and values are booleans.\n",
        "    seen = {}\n",
        "    \n",
        "    # YOUR CODE HERE\n",
        "    # ***** Start of your code *****\n",
        "    while(len(queue) > 0):\n",
        "        cur_elem, cur_dist = pop(queue)\n",
        "        if cur_elem == goal:\n",
        "            return costs\n",
        "        if str(cur_elem) not in seen.keys():\n",
        "            seen[str(cur_elem)] = True\n",
        "            costs[cur_elem] = cur_dist\n",
        "        # add to seen\n",
        "        neighb = neighbors(A, cur_elem)\n",
        "        for n in neighb:\n",
        "            if str(n) not in seen.keys():\n",
        "                push(queue, (n, cur_dist + 1))  \n",
        "    # ***** End of your code *****\n",
        "    return costs"
      ],
      "execution_count": null,
      "outputs": []
    },
    {
      "cell_type": "markdown",
      "metadata": {
        "id": "FxytMUgj23Ju"
      },
      "source": [
        "### b) A search\n",
        "\n",
        "Let's search for a path from cell [0, 10] to cell [8, 4]"
      ]
    },
    {
      "cell_type": "code",
      "metadata": {
        "id": "oNeNDY2H23Ju"
      },
      "source": [
        "stanford_start = [0, 10]\n",
        "stanford_end = [8, 4]"
      ],
      "execution_count": null,
      "outputs": []
    },
    {
      "cell_type": "markdown",
      "metadata": {
        "id": "MLU38d2H23Ju"
      },
      "source": [
        "Let's visualize this."
      ]
    },
    {
      "cell_type": "code",
      "metadata": {
        "id": "66uEPYob23Ju",
        "colab": {
          "base_uri": "https://localhost:8080/",
          "height": 281
        },
        "outputId": "53231f86-5cb3-4edf-fb86-d97fa088474c"
      },
      "source": [
        "visualize_map(\"Start to End\", stanford_map, start=stanford_start, end=stanford_end)"
      ],
      "execution_count": null,
      "outputs": [
        {
          "output_type": "display_data",
          "data": {
            "image/png": "[encoded data removed]",
            "text/plain": [
              "<Figure size 432x288 with 1 Axes>"
            ]
          },
          "metadata": {
            "tags": [],
            "needs_background": "light"
          }
        }
      ]
    },
    {
      "cell_type": "markdown",
      "metadata": {
        "id": "BvLYMLjk23Jv"
      },
      "source": [
        "We need these as vertices"
      ]
    },
    {
      "cell_type": "code",
      "metadata": {
        "id": "I-Vk9CBP23Jv"
      },
      "source": [
        "stanford_start_vertex = vertex_of_cell(stanford_map, stanford_start[0], stanford_start[1])\n",
        "stanford_end_vertex = vertex_of_cell(stanford_map, stanford_end[0], stanford_end[1])"
      ],
      "execution_count": null,
      "outputs": []
    },
    {
      "cell_type": "markdown",
      "metadata": {
        "id": "srm4LNdZ23Jv"
      },
      "source": [
        "We can use our function!"
      ]
    },
    {
      "cell_type": "code",
      "metadata": {
        "id": "gANDzsEY23Jv"
      },
      "source": [
        "stanford_costs = uniform_cost_search(\n",
        "    stanford_adjacency,\n",
        "    stanford_start_vertex,\n",
        "    stanford_end_vertex)"
      ],
      "execution_count": null,
      "outputs": []
    },
    {
      "cell_type": "markdown",
      "metadata": {
        "id": "PrIthvTH23Jv"
      },
      "source": [
        "We can use a helper function to visualize the costs! Yellow is higher!"
      ]
    },
    {
      "cell_type": "code",
      "metadata": {
        "id": "V-XFt6kG23Jw",
        "colab": {
          "base_uri": "https://localhost:8080/",
          "height": 265
        },
        "outputId": "5b27787d-866d-46e8-8ac7-ee8b35b1e14a"
      },
      "source": [
        "visualize_costs(\n",
        "    \"Distances from Start on Stanford Map\", \n",
        "    stanford_map, \n",
        "    stanford_costs, \n",
        "    start=stanford_start,\n",
        "    end=stanford_end,\n",
        ")"
      ],
      "execution_count": null,
      "outputs": [
        {
          "output_type": "display_data",
          "data": {
            "image/png": "[encoded data removed]",
            "text/plain": [
              "<Figure size 432x288 with 2 Axes>"
            ]
          },
          "metadata": {
            "tags": [],
            "needs_background": "light"
          }
        }
      ]
    },
    {
      "cell_type": "markdown",
      "metadata": {
        "id": "F-rRxfIL23Jw"
      },
      "source": [
        "<div style=\"color: #a00; font-weight: 800; padding: 1em 0; border-top: 0.4em solid #eee;\">Checkoff: Cost Visualization</div>\n",
        "\n",
        "Which color corresponds to a high path from the goal?\n",
        "\n",
        "> *Yellow corresponds to a point far from the starting path*"
      ]
    },
    {
      "cell_type": "markdown",
      "metadata": {
        "id": "fsVT2_wi23Jw"
      },
      "source": [
        "### c) Path reconstruction\n",
        "\n",
        "Now that we have the shortest distances to each vertex, we need to construct the shortest path!"
      ]
    },
    {
      "cell_type": "markdown",
      "metadata": {
        "id": "JLSOTQYC23Jw"
      },
      "source": [
        "<div style=\"color: #a00; font-weight: 800; padding: 1em 0; border-top: 0.4em solid #eee;\">Checkoff: Shortest Neighbor</div>\n",
        "\n",
        "Given a vertex `k` we want to find the neighbor of this vertex that has the smallest cost.\n",
        "\n",
        "Complete the `shortest_neighbor` function."
      ]
    },
    {
      "cell_type": "code",
      "metadata": {
        "id": "jq-iL6kU23Jx"
      },
      "source": [
        "def shortest_neighbor(A, costs, k):\n",
        "    \"\"\"Find the neighbor to vertex `k` with the shortest distance.\n",
        "    \n",
        "    Args:\n",
        "        A (np.ndarray): Adjacency matrix representing graph.\n",
        "        costs (np.ndarray): costs to each vertex from some start node.\n",
        "        k (int): vertex whose neighbors we should consider\n",
        "    \"\"\"\n",
        "    # YOUR CODE HERE\n",
        "    # ***** Start of your code *****\n",
        "    neighb = neighbors(A, k)\n",
        "    n_costs = costs[neighb]\n",
        "    # costs_incr = np.where(n_costs>costs[k])[0]\n",
        "    # if len(costs_incr) == 1:\n",
        "    #     costs_incr = costs_incr[0]\n",
        "    # neighb = neighb[costs_incr]\n",
        "    # n_costs = costs[costs_incr]\n",
        "    # print(neighb)\n",
        "    min_neighb = np.argmin(n_costs)\n",
        "    return neighb[min_neighb]\n",
        "    # ***** End of your code *****"
      ],
      "execution_count": null,
      "outputs": []
    },
    {
      "cell_type": "markdown",
      "metadata": {
        "id": "B71u7Pat23Jx"
      },
      "source": [
        "<div style=\"color: #a00; font-weight: 800; padding: 1em 0; border-top: 0.4em solid #eee;\">Checkoff: Shortest Path</div>\n",
        "\n",
        "Complete the function `shortest_path`. You should use your `shortest_neighbor` function.\n",
        "\n",
        "Hint: Start at the goal, find the cheapest neighbor, then find the cheapest neighbor of that neighbor, and so on..."
      ]
    },
    {
      "cell_type": "code",
      "metadata": {
        "id": "KXcNDgyQ23Jx"
      },
      "source": [
        "def shortest_path(A, costs, start, goal):\n",
        "    \"\"\"Find the shortest_path to goal from start. Costs are distances from start.\n",
        "    \n",
        "    Args:\n",
        "        A (np.ndarray): Adjacency matrix representing graph.\n",
        "        costs (np.ndarray): costs (distances) to each vertex from `start`.\n",
        "        start (int): vertex to start at.\n",
        "        goal (int): vertex to reach.\n",
        "    \"\"\"\n",
        "    \n",
        "    # YOUR CODE HERE\n",
        "    # ***** Start of your code *****\n",
        "    path = [goal]\n",
        "    cur_vertex = goal \n",
        "    while(cur_vertex != start):\n",
        "        cur_vertex = shortest_neighbor(A, costs, cur_vertex)\n",
        "        push(path, cur_vertex)\n",
        "    return path\n",
        "    # ***** End of your code *****"
      ],
      "execution_count": null,
      "outputs": []
    },
    {
      "cell_type": "markdown",
      "metadata": {
        "id": "jVQf71af23Jx"
      },
      "source": [
        "Let's use this function to compute the path..."
      ]
    },
    {
      "cell_type": "code",
      "metadata": {
        "id": "79i7D-fA23Jx",
        "colab": {
          "base_uri": "https://localhost:8080/"
        },
        "outputId": "6fe336a4-9dd3-4e36-c5f7-ac4c5f3a9f95"
      },
      "source": [
        "stanford_path = shortest_path(\n",
        "    stanford_adjacency, \n",
        "    stanford_costs, \n",
        "    stanford_start_vertex, \n",
        "    stanford_end_vertex,\n",
        ")\n",
        "print(stanford_path)"
      ],
      "execution_count": null,
      "outputs": [
        {
          "output_type": "stream",
          "text": [
            "[164, 165, 166, 146, 126, 127, 107, 87, 67, 68, 48, 28, 29, 9, 10]\n"
          ],
          "name": "stdout"
        }
      ]
    },
    {
      "cell_type": "markdown",
      "metadata": {
        "id": "Hy5O--E123Jy"
      },
      "source": [
        "We can use the helper `visualize_map` function with keyword argument `path` to visualize the path as well!"
      ]
    },
    {
      "cell_type": "code",
      "metadata": {
        "id": "Gyy1fDdX23Jy",
        "colab": {
          "base_uri": "https://localhost:8080/",
          "height": 281
        },
        "outputId": "a0928f2e-2d82-4013-c73b-8ca1c4b86aee"
      },
      "source": [
        "visualize_map(\"Start to End\", stanford_map, start=stanford_start, end=stanford_end, path=stanford_path)"
      ],
      "execution_count": null,
      "outputs": [
        {
          "output_type": "display_data",
          "data": {
            "image/png": "[encoded data removed]",
            "text/plain": [
              "<Figure size 432x288 with 1 Axes>"
            ]
          },
          "metadata": {
            "tags": [],
            "needs_background": "light"
          }
        }
      ]
    },
    {
      "cell_type": "markdown",
      "metadata": {
        "id": "cYR96nOc23Jy"
      },
      "source": [
        "Nice! But let's see the drone **fly**!"
      ]
    },
    {
      "cell_type": "code",
      "metadata": {
        "id": "1BN-wt4q23Jy",
        "colab": {
          "base_uri": "https://localhost:8080/"
        },
        "outputId": "91f21e5d-e07e-46e8-8a15-a566e14b4395"
      },
      "source": [
        "print(stanford_path)"
      ],
      "execution_count": null,
      "outputs": [
        {
          "output_type": "stream",
          "text": [
            "[164, 165, 166, 146, 126, 127, 107, 87, 67, 68, 48, 28, 29, 9, 10]\n"
          ],
          "name": "stdout"
        }
      ]
    },
    {
      "cell_type": "code",
      "metadata": {
        "id": "oYAJcFPi23Jy",
        "colab": {
          "base_uri": "https://localhost:8080/",
          "height": 740
        },
        "outputId": "c3bcbcfd-329e-4fc1-a97f-58b53f3cf33a"
      },
      "source": [
        "visualize_path(stanford_map, stanford_path)"
      ],
      "execution_count": null,
      "outputs": [
        {
          "output_type": "execute_result",
          "data": {
            "text/html": [
              "<video width=\"720\" height=\"720\" controls autoplay loop>\n",
              "  <source type=\"video/mp4\" src=\"data:video/mp4;base64,AAAAHGZ0eXBNNFYgAAACAGlzb21pc28yYXZjMQAAAAhmcmVlAABPiW1kYXQAAAKuBgX//6rcRem9\n",
              "5tlIt5Ys2CDZI+7veDI2NCAtIGNvcmUgMTUyIHIyODU0IGU5YTU5MDMgLSBILjI2NC9NUEVHLTQg\n",
              "QVZDIGNvZGVjIC0gQ29weWxlZnQgMjAwMy0yMDE3IC0gaHR0cDovL3d3dy52aWRlb2xhbi5vcmcv\n",
              "eDI2NC5odG1sIC0gb3B0aW9uczogY2FiYWM9MSByZWY9MyBkZWJsb2NrPTE6MDowIGFuYWx5c2U9\n",
              "MHgzOjB4MTEzIG1lPWhleCBzdWJtZT03IHBzeT0xIHBzeV9yZD0xLjAwOjAuMDAgbWl4ZWRfcmVm\n",
              "PTEgbWVfcmFuZ2U9MTYgY2hyb21hX21lPTEgdHJlbGxpcz0xIDh4OGRjdD0xIGNxbT0wIGRlYWR6\n",
              "b25lPTIxLDExIGZhc3RfcHNraXA9MSBjaHJvbWFfcXBfb2Zmc2V0PS0yIHRocmVhZHM9MyBsb29r\n",
              "YWhlYWRfdGhyZWFkcz0xIHNsaWNlZF90aHJlYWRzPTAgbnI9MCBkZWNpbWF0ZT0xIGludGVybGFj\n",
              "ZWQ9MCBibHVyYXlfY29tcGF0PTAgY29uc3RyYWluZWRfaW50cmE9MCBiZnJhbWVzPTMgYl9weXJh\n",
              "bWlkPTIgYl9hZGFwdD0xIGJfYmlhcz0wIGRpcmVjdD0xIHdlaWdodGI9MSBvcGVuX2dvcD0wIHdl\n",
              "aWdodHA9MiBrZXlpbnQ9MjUwIGtleWludF9taW49MTAgc2NlbmVjdXQ9NDAgaW50cmFfcmVmcmVz\n",
              "aD0wIHJjX2xvb2thaGVhZD00MCByYz1jcmYgbWJ0cmVlPTEgY3JmPTIzLjAgcWNvbXA9MC42MCBx\n",
              "cG1pbj0wIHFwbWF4PTY5IHFwc3RlcD00IGlwX3JhdGlvPTEuNDAgYXE9MToxLjAwAIAAABuVZYiE\n",
              "ABH//veIHzLLafk613IR560urR9Q7kZxXqS9/iAAAAMAAAMAAAMDNLIKRfVHO/ODwAAAAwM8AIOB\n",
              "OFk/+hnd68QCZg/WVoa2Z+U1qY77K7yTE/00kCMRsWehDUS6/SOkyWPfk4Yh/DLbOz4ypVhk+dG1\n",
              "edeSNXzxFRGrBlm+/eQZkCgVXHUHGmyNoLprwEL4PWIrUOdMYbObLc3r2ctEO1JsB6sApU7wxhDg\n",
              "01B+n1W7Y1JObHrCNHHQXx3SZH3P35jjTQyryghPxpfvJAAxZJQuZxUgN8lsNBbXkDXz/IdSQQBn\n",
              "HH9c01KsCid4TSzJMpnJFRVmmvXE0SMqoXwfO3ABrCsPuS9QiIzJyjd71XezbBcHSEtFXYWTEvmI\n",
              "vNJu+r/gLGqgApXzVAGRvLFzsMNX8t/1SqUymqtaKpCKl86e41nLKriST09Tdnpi0nXkcYHQgwOr\n",
              "jG0x5AFaVYcJI3MS+jlFQ++YwVJvWkPnAOo/e39+puXLl5+l19R1hWwG1R43Lf9YONZ29keNuEf6\n",
              "8Fi2biLKiZ85bvunY2UiP4WHwXu5ew4X1I5iuklwLzHyaFjQvqQVvlzLpgCd/Y53Jn/p2QbIAADC\n",
              "AiIYOdUEfQVktYIGCNtqIvLMEYv7n6//fSx56sfzc0z15pJIz09OwUrT2c3l7Yv7gTyfXcRJ4CYB\n",
              "nTEUwOF0ib2AJGtamhWAWGppavotQoPnR/7P9tjbwxo0xNrtNUPxr347+81MqAXBXHOIcp1HGpL7\n",
              "x6nxDHEolP7YcC0YfsGLH3mWzMRDJhTpOMSwA2jhNBhBcjRxi1/mf28Fzbir3EUmeZfApesK62QE\n",
              "7UAAhgGgUu4ZhbQ5bEv41kKhC43cjNSLhXMWBCAVFQAPJ0kJpoAK3THyNLMuRpQpNmoIhEcdyt9d\n",
              "DO1jzToS7USoqVyVQMVZbS5xjYg2ppXmUTUiXjxV3yK2dz8YOT+GSI1oe3szSxxyUjcf5yfHoL3V\n",
              "w7NwqTdCrHDKymjOef7zrR6Lb0aWpMPgZ1hV/fGZZE5ODWQobniEo6CzFFwpTZDRJ2/dhZs3sNT3\n",
              "epAIp9bG5/06zQcoUc17oc6BVhszDC0A2NsqxO0e8GP/1D4nimfaLXISMrZDEjuZbAV4SUioCLru\n",
              "asVgrcVyecClUZ3QiMwmxDynElZ+PxEv9bpOBGS0hvoxQrYFB927S6UDUaraisaHK0QJkiMvszSC\n",
              "ljEbFFjaWCozxZdvPvHHFhtlUte3C6WGlfpXmqXj6WWH9IuC/l/z2x8a9zDsfyXZTaMUY/L2mCAx\n",
              "JxSzh5VL2FfX3FAdTNX1dHnTV1zeZhWjrYe1Y0DUpdPmdOi2u+yN4LUdW0nJAdHY7vD1NnPO8Pcq\n",
              "O9uMZyZ+pjLlHJ2sDapADTexybGW9q9mSQwEeQkCluEJj21HB/EGaFk4zkE1QpLOmAnNBTNTuSrA\n",
              "DFTgS28rpTCnmtKIfYGdZBRSBFfdI2BeL0NkkowPuyh+QLF/lFVzDdXTGEVGKvxwz2YAAAMAXxJw\n",
              "/IcIxLzorZDgtXGqcX8o8S8Bo2wGH5vhkfAei4QaOJl9uF5Djl0ZWrxLbXsx03WK4GTMWG9vOfJJ\n",
              "9JHEnb3sk3m+6CHGiuO0nKBHsb9QnsEufJZxshk1JfcATrRf3ZcF61j4hrV5gNRuXvTiV7dYLd3M\n",
              "RrN37IhoIit0Hwsh+JFMa2cMs1VPmstFdaTk3N8WvjgwaRFIx12/UQbmGCkZ56sMH6cKVOhj1EYl\n",
              "XgAbyXiTdOTEnX1jaWcGj39aOx4ihL5pgwWA4znNRVR4bQtGISPKV+y4vAAWP05QiRTWSTD2TpWo\n",
              "Oe916FF99wvuEprhp+OUYX8UspVres+a41+4ZqqTwrWk4dAKKegoFVSC/XJmOt9N2GLNF7/9PYAn\n",
              "W8PB8jwP8af45uw4f8pXiyEnFoswQfZawgzxushM5jLM1+sdQFV8N/XgxrcAAQqpQ5tn9KinIUDI\n",
              "6czcCfToNU4LTOcNX8LDtB1cJV6X2IBirEAu5BkCsY+CMw/2whdF5ok+tEnuwqvHWPyVEQ7AV/2V\n",
              "8H0XHTI1BRDVFZTRmYITnmLtyq5dLeRwk7Kkq2GSqqqgj/PB4vzoCqeawc03xMwAF7jiKKM1rigz\n",
              "7rB6O52OCFD0H2ggNwIEr1ZfSQaib/lEhCBsALp0gd+Io2Bx2r9h5vuRXDQe7Sh7aYGCfmiBklL+\n",
              "5qRANc19M8ltYDf/QGmZb/RNP5aQrhQarfLFNaczVGgAmcGn4Je7l0RLoAKSFK+ZBzxjO7ZUr7Ck\n",
              "3kfh4GCeDaS/kvH4L/QXqCfEYpdxIWo9Oos4oUym2/5sNxBHqf4gogtYPgs9c5v8dnl4g9cyieo0\n",
              "3LEa2mB28XvCG6vs3rVdwQx2ESKlx0vb//OHax28Ix7/vDqdl6KjVeP1XyhMCA6e2SH4np2hBa/E\n",
              "zHJHympOf5fm/MzIhXYFPBfKGLASnbmaaPVuYF0f6BB0yzO4pe0NU97qGzMFbbmoJeWXJGrEQteT\n",
              "zxjauOhKp+qO0qzdXxhyLO85PwUlQ3GmE9amNg6TXGbPAy2s2NAmXl2AQMLXwMH6IhWO+OR/rd21\n",
              "JpdTG99efUndf4986QG15h0tAbtNYSSiXHvDrYU0b9ubOl7rBu41ypRxLq4PGNPTt/Qwn9hh/m1F\n",
              "0MViXAMRAu01zDBOhvHAGmnVxvYVYfx6o4zNhxZeV+6eauG5ePEy8sFMp3DnfFZ9VLJl8HJ+ikNm\n",
              "ylXoqFicReKV/TjG8FegdZRCTWS+N/uY2VDyC18aF/ZWxeIAlK7HjZnkSWapwcg5MPrJXnTxc138\n",
              "AM30iEjWJnNE91oLHYLUdClERdVQEyRI+9OV8S0JAMCBaVfqtC1cin4IL9cYMHH1qxue90xpHxQY\n",
              "zCS+u+WZLqgwwYDDFMZAAUE4XUpwAsP7ZLdyjjpI8Ksd9J/WPdg0y3xn3AR2dJ8XHhT6J5q1bbPl\n",
              "g45/NyNiaCDvBN/x6+Olp3BJACWXJjWl+Qha+C3epo7b+1E0mS7sAb9r7WT8Tv89fIuvlhMsUhe+\n",
              "QQn2PCB4Y1R8UCt7wDma+5jG4FS3BasLZIhg3tT+q4nw6R+BXsb3sgfLGFWw68BT9h/Qh6tQcZBY\n",
              "2Y+kH9eGjduFWBXPUjZMjwheuiFxjMpF0BVqTFdbMPrKIklzu5XvXFnRovZ/sgSg+mTnEOE/IC8Q\n",
              "7aZj4KrcHJe9zs1BFaEi9aQkUvfQ0zH1WZrWNVJ6WlCTNR56uTEJUVyqz+lbT8hGEfP/LmilIW51\n",
              "15erS7awY9e4itSs+jgw4217GP5Y1g+pBIpm8I0yeAE/cH3qcoU4Y3Wwg92V0H02jqgM0uWCXjcr\n",
              "PY9zWsUCxusouYTwpAl5gDLzEwiaH3urXlE2tD5PffkcpPh4NC+IwpW0V8BHwHbcPCw8ZXp4L0Jb\n",
              "Q6oVmV4VwrEkMdKN+jj9LXpyR49zA82V54+HSrOqGiVd6nuluSlSCeiPyTWdSHkfu1EYcOWBxJmj\n",
              "+z/TnhX8K8WiTrSBjx26nyP50yHC0zPpomGcuv9uu2tS2YHEvLhDSWN5gDW08880m8xRb/xiJ4JU\n",
              "FrtGq3EXY7U8DtbVfbySpv9DEdYBGk5x21DP5At4WCfSqcUs9/TetXYHiyZCetS83Q4T0N29XNsy\n",
              "+xafMBMTH+gyNKunMLSCW/srbwWQIQ66GDqxzCRrnHrthvFZ/5yEACDk5zIBmBUlW8ZMn1YcQgrj\n",
              "/378jUr7nJ2+rFLHJJ34JsnuI+tlNOcD99uWc6z+8DRK8g6fJHW4z7pwCACK9a0sUy4ew+QIxwgX\n",
              "brlHp/f6Jsgkv5w2ve2e2h1GD+wMEG2SFO6nyfO6pyInHxXqwBULT6XzxZZxnh6AttLzs2ujPaWO\n",
              "Fg9NhCBbQkjWaFA+F5X5uk7gXXKFNP40eGAd9HrKPM54ydVF48dhNZlqkXZIHFYUaZZEqEpSI2SJ\n",
              "NIY9gZ5gF3N80k8WwT7S0eAnfs25i1GVWtJnoZgQITpsFi8fvZgyJnSw2EyP5xfO+XTMZdpTfluq\n",
              "waFsj22pncc7WWsoOSHZxmQorel55Y3AAhKKFzo9LVxmaRX4E8eLOK2WzkLp/ymiGEY43G4WP+37\n",
              "lNjV6eAzUlyrATj8S67iy9IhuGVSRE2iO/0TdB4Qtm/+JYzCC0HJLKS53HdWYg95V1TpdaJfZuXa\n",
              "cbMCYev1xk+JcIVQ+d8MaXlo7F3nrRm336ufy/aV1u07ELkUdtmN8u2h9g55N+WfEL5EK+JOXBh+\n",
              "TpWkCc2afTOasoHqObqN7sr8bx/m9x9yjS5Uh2zd1PKj4Nc/OxM1bdnQzyqhI6nQndpTp1ortS3d\n",
              "BYJcRVqqRzufwC3/lMgngkYBrLaPuZXiC2bym97gbogCbLcKSELU6XMuuY1mySmD+OAXGA/ZxCCX\n",
              "ZLP9LuPIw89RGhLyCEXWCv+lOqphqCChueeEB9nuItoETHHlMfWnvZiHqdjqP7EfVKzt0KDkQ3ES\n",
              "mLuyqD489qc/yzCg87rt/r1KKROmFjXa55mHY689GTiteZiehPTfooRJwreRaAePdmCtUoEl9brr\n",
              "bqqScJUk1plfK6b9dJL0vXWBSlTpMSLc6CzUZW3V/hmPh8WvIuNwUyS5iB0Nwrrue9EJAbLdHkpE\n",
              "+fyLGe6QwsaDg7VhC6HWTRTELSPdv0u9dNtWzf0DyH2ruO0fbEGK3WoS+gjzqdAAhW72N1hV1f/r\n",
              "kc9g2n4wGwoJShD5cEhTU3O65NifjOtdTZqgy222TqqV0RXD+TBQ2Nzoa0hpJYSSsRMuaT97NcCz\n",
              "sST4VaHxAtxSBOOaHe+K4jmlktaZOOmvJ1Y5RkTBt44rSJCoWeArwRkoNpu77gxvzo0gPMCgKUZS\n",
              "3dtmEJHX1D/aS2kAdPuwJWWZWQPWYOptRu0egxLXCoDJB0ExYwjVXHvfSX1Cbyjb6RpJhm6rCrKe\n",
              "vENi1SR5l57yCfJTKFQda0lUrn0mstkLqO2XDYW7dxs1w0oAWe/fxz81ZyHw6P9QCuOUvNl7MMBC\n",
              "b+4pX+vApYykkqHbyliGWmFr3AMQ/hz9s2Tdjj0tx0PADOifUibc9sOrvW8AE4Hdmrff/Z7/9nvi\n",
              "9dnIyhkJlhgROAeYpoKGsJTjXfuJv0V7uKaYLkAQUsG6poYyGz4XOmgUKsV6BnbroGGYMMHlR8gu\n",
              "Zc9OJsu6PMNJPf5HwdbsjtzCjxZTfuoDq25bR557f3X6W3NhfVKbwkxdggDFKAmMBaB8fcjQbY66\n",
              "RYHg8jXS0bd04dTSIVZUAJmyd3fdIjVoH1/TlDpJjrqQLuZ9+zo1FSOaI03tWcdyTAS32AexeSDi\n",
              "TGunwLO/pkuzdgSXnadbGTrvg1EaRon6XN9BRwlZrBojklED+6TTONcsLh2ljkW4ox02hHjV4qC2\n",
              "AXjGPsES1BO3NhiVe9Eg5z+XshKVsZEaDDcaThKild170N/Qi5Ag3dc2yaswcShZdc+OBS281Nep\n",
              "MvrSTkM6Lczy8hjP0TGfakGMI43TOGoFn5ayLSnQwCJe63aOeq6JiXjk5zVoCZxQ+qEL5douqz0Z\n",
              "a3E+SdrfpPe6z9K5Vnt9HNEyORLK8hJ6RYRvpECj9uLL+OCpBUTy2AQ77ijg5sVwkDSfbFcUKk0n\n",
              "7LlK+oTNJDJhN9an5jHLvZTnAykTcj4SssC5QFuHUX9ONI3rggtJYKVVthxAB/D+4KL0bUxoRGA9\n",
              "vK2MMccJ6ixXPkTG5Oq9dAD7re1rpH1pEJ3a0+UXgD61oZRz4zD9f2o8qE8cdp4gHAddkIPWQOar\n",
              "2SFATWg/k3kMkLjgXzDqeKc3kCKVoqYBz8QendYTqerP+TIjWGGiqGUcwtA+yVjpWx0M6hsScIqM\n",
              "1bv/1hef+k6amOBvVrD35kjzIwGziUGtflqgo24wiOHneZB6YOFlIhG1WZ7f0mB09nqdZ/R519AY\n",
              "W6fz43NnG2OsCDc4jPPp/EPP83eSNpfHJglZXkzCLIlBk1nj0kxs/bJzbKZGKzCRGbgBqMcGB7+L\n",
              "6Ef0gXO/39vvKCbGu8zdeNKaHIO/vABIYdagV7CItdQ1mWXvCEs/iZZP+DWcfIZn9mCOgSUBbFcl\n",
              "clnnKJpyl7lBQKWuEBKOXnslJvwyQDrkLBDY21ok660NikBUMdeRCt8e3mK/vGHkPFUHoyEJQWHG\n",
              "/dVwvl8DgFt8/NWuw6uUYnI9FJtkcoQFPIlgoDcHmEXVPu6drbPJZMEwhYlp1vWUrptfuoJl2D/9\n",
              "Tp9enf+ePT3PZj0MzgrlZf+18E5FFSKSp3+T540pMK1FQ+/DBttnhw1qyngmmE+YgAqRncv20hxF\n",
              "bEsVSW+3KaDXxBCocBwk6evu2VLiFVe35D/+5LhVL+u/t2ts0As/E2eBIW9C1Ng90pBOw1DMYgcB\n",
              "YBoJp6bNnZ8mQvYdw9yohErIUfoe9G5a3EQ0cvn6tWBYPV8BWRKU+F56rJjRwvE5V4oTkppOuFSE\n",
              "z5dw5J8AR2F4LSRrftb4Yyj91Yp3TJ2u7vCdRcInAprCh3meIoNZOmihdaCsgPYNWzA7WTOW+IG3\n",
              "AnXDyH1dNVapBryvDEwNBWW3rMkgsrAeY9wctcT92EK7H15nQfUDa06qPcxCG1tafnGLGRncNM2K\n",
              "SSXfN//1yhYxkbURgcMdeRid4cH4h1bnil0QqCBjOQ7ESp4yIRCQq34XXTgE2OKKpEcjTKofvei2\n",
              "VL9Q2JyrhLf7Zwocn1xSRJa1yk2Tdg727kf3YzOtazZo1Ej7MZ2Rviq9kLDk1s2vg2+mbUpdbYOK\n",
              "44YRGe951giaPK1MExQbP6q0Bq4A/rFlFecGGZytbtRPC9JYHMZFY1uGTSkQb/tLa4i82WAaI4eZ\n",
              "/H8SveF1Gg6HeNMLpcM2MZfF8AKhAM0ChXHbabIr3pVmtI2T7a7Mllb+ZN3WO5dp/4az2mHG7Tn+\n",
              "+i6b7iN4/snfoE64AHNRcVa4DrdDWNPFMqr834jGH+e84/xE4MGMB9wqKJCy3SRzg4JOojTvvpXx\n",
              "Z86tsmVumaRDtIl++AAA6f64Kg9dRvdu/oJghfTAh5hHn1FbCIl4FKgvVWgnj/6rRPeAznPfXOx/\n",
              "7E4/211GvC4jFGQmnTKfel7p5DrSJEh+J8iFHUYKX0b/Fmq7A3Sa28Ob0XUp9n/0GjTkLF7myHus\n",
              "Zw6nNqIUSSK4prwWbNMGycqXPrDBml2jvB6tG/PQNzHpJy9Zta28DZvV4YgeRgrJt0UFb9u9eYB3\n",
              "fGNmsH3UTaFqI+I4MlsLoXCMdu3a/cfLDRxguCWkRuGHJXhchHAiv6DKrkET//5FpkknA3yFyxqH\n",
              "kZD41tmAAABeO7sY+YJJf2ifQjs94Dgclp5TkEsa9Xl1S0+F8At7Hq529sfiP+YK+/j5ueS+WbpB\n",
              "3gQIjZ543MIYPeofzpxiJIgP3yUorxlgGAn1GrjeJJ88F8tNJy0eqXD83hAtbPbOzIi0aiD8SACH\n",
              "fErodZnhdV9YmUGShSEl5O8ShXmgVCbEMxbvKOe8R+OaD84nN4iR0Ir9ZYfAU2b+cUHwS3qwUcHk\n",
              "PUcPdGM7gaA/Vz/VlppBSEVTjF/P4hLl12gkLtZZ+YALYNPjII/TrFnExrA2+8Ju6zJqWR6fdzEU\n",
              "wQXpgIP4St//6IiBQGdA1jMT5LRZTBdSUDGnUvHHF0eqnnE8jyPKyWHdByG7JzmaJY2fgNudeKZf\n",
              "s5Ub52MgTCwAaCWpYULgORUXa0LMHHhj9nDu1JfAvC2/dYlKryMoX5Z5VqtzPlNxMhmLbXEmly5n\n",
              "r1/AQn7DboVY04CQ7aJZtOUz5qhSBwZNVh0NOJ0qDhX5t4YO9IBkFEohNBh6z4kg+xNKDqOco6e/\n",
              "zVPteaMPipNqSvuwVeLUzaUWRWkupvv5AYnhR4TwtRt/NSGm//7wWlLflWmskQj1TmTdP4t5Fdyt\n",
              "lqRasqjjEJPkEv4rY+6kBJRu36kQCVAh7nOCbjPAEsLOnPK24yrUngx9ddwX/Y72z0VG/ypvFW+9\n",
              "GozO/NswRGo62AAfvMhWq1hCQHUD+ZaCfeYa6cmn1vhFHQdoq2EHAhi6GVfELkr8/fflUhiSiPYX\n",
              "rbYJIJ64PVVnzhTfG47aT93MiY4m4JzkJ3ANVaKBpFyyx2dT6KznfJ/5wq2jqT68LaqnAuZNzho6\n",
              "VXkoxXhAS4UVoW+87CVGNgInuxB4fvebnR9Eb/6hes0DPcHyTLd9m8qsQnCf+ZEzUF02eHVbZxot\n",
              "TZzEVN0X7zOfIag95SYwEIgP9mvxIKyLTOjndo+gwX5PgF240rcNDIxgT1m9K7Vacey4RuRXGrmY\n",
              "KzsBV69DDSHZCJwAxs65HwYYtBXByN5dPFj/jwgX3BU80ANwvsGDaWw3L2uEmkVtja4+QN62NHE7\n",
              "mzeh7yc8OO4KtMzJEL3Ndlq0P9yhSXJsO5HnoT/4KpWr1Kxta1NdfpTz92lQBsiFjP1h952nMa0E\n",
              "hRUlkcClNgG0r4Evo30yQlk3MyFHOR3nBDxKu/maOf+61sPCE6pxXPlUhCFwdyG5fZLv1E9gc5Gc\n",
              "QF9b4j3P67PDLyW8xXkwf7CtjWI9ZgFNZl/ToqbOPjalUqUD68sdqq+pmfqbV5Sds0cjXQzUWtOe\n",
              "S58HJeCKA8LyJ0lGEOkiaQ3coaAE73YGCcSVQJz+Riy/NQIc4LFnyvBq9vSStUlVJ1fYKPcDao/u\n",
              "/nOTJpt6Bd/OF4NUXYGBe49+pzIEx6IP+d3vVFbXeX4RNoVVS6s4eH9/Et69qKfbzTH+vPGcRWi+\n",
              "tD3/WN5KxN+uqaPDxL87vdCX+QEe39wwpUgh8VVHTJb6zqwso0y4zoyevfdUGQPawoKAOuNcpbg+\n",
              "j6tDZqW4FHXjsT4L50223lizjv0rJjI14qEOW/gvjkWU4nw+Cv/vPHcrqFjv9HqQlhUeoYjfS0xZ\n",
              "/6Of3YgRhGLGmH9rS8PAoLaYUjyzDYSeGzzfRNuKjSvr/6LxmMbxB62kkucpORZ4Jslw++vSEEBk\n",
              "nube3NSYgfJhgaBoNEXUTkCZ/rxsg4cJfZAl0LOwR6CM45SpOkhHJSNTO2jLd06312cj5nvbXSeO\n",
              "fOU10I2TfgVCfQnH9cQNR99Q/AA8ITqAkGTJtEiegGGtHC8EvffWGQKAwQsKFSnRXNBJOLquNA8j\n",
              "jezkwldagQQsTWTp/0ger/h7I6pSKxF1T/XVU8sItr4nAb3EVtSsL7GXSmdDruYP4GzwyG4HJgOF\n",
              "UK3Rns/FtsA+y99QIAnskCwpAaCWQzSGXnMGeEqFiNDtAIV6M2G/K7cyL2HztWk7JZLGu7kKjdiA\n",
              "hU0bJm2/7wF6MoUvsQbDE7H4wSFft3BSPblRQC48I6fSOs9M5R9Yap3BroNuRpJBGmmKNaeXQkKG\n",
              "bwW2Qa8Npht+CfvfqS40dtiCR79t/kW1ET2GxEMOmYAAACheOgAAAwANgqAei10AAAGmQZokbEEf\n",
              "/rUqgACt7Um5DXlEAAvm2HOi5U0xi44Oa9yA/SYFGr9pABLqZBQv5yX2pR4LkoBWGEq8e/OBZYEc\n",
              "iWFfj8Br5amc8gkZ0kxhQq41ej3qZq5jvqe49iWCPn4QeydX2sUKLXUN/3APYHifrK2mLAsDrATa\n",
              "KWcuy+S+6QU0TADvy/FX8bPKj4DuIeFGZgFpA6rlkFmsEvz1/UBv3hBSIP3LfW6K6//vcCL3QnrO\n",
              "yTk+33FoP90QYxETrmJfeOyJ7QRnenwtwP/sndo0kIfrLPfqnwAshL0OQ97FoBk16GgEvBjP+KP0\n",
              "TqsUVTaH5rYZVIASDihw0Z7Xz2fBUhvj/c7iwfNTQ9k+/b9t3M7cokUcS5Qk044qlEc9uNCI0rhM\n",
              "crn4LoBvnEKDLdQ6n6Jtx+VYwYyyDAA7bk2esSTKTC2//0mME94nBuJ+pg9Xy5sQK9Z8ZD1gm4PG\n",
              "LXP7eZZLxBxiNn4YOP+kwJzjgnM4Xn2H1aAHILiKqqEh3CyvHmloTNXCoDurBhnrMxoVKbfpGOCK\n",
              "p0LJcBepND4w1+5MU/c0FpAAAADDQZ5CeId/AAKdzsoe/S/JLgAujUMz19qmXJl8yYTg0ghlZL0R\n",
              "r48eRk9xs+sKtKgfidQJyEsoQGZ/oy+sUdxQq43JSU2nCdht+u81lWiCgCexT/Hy2/8fPm5fWTGN\n",
              "GuAytSmH5LwWHaKB6h6j/y+12txV8SPyCrzWgVB1DlUSMGw07uDmxRZxa44EfPNpHFjsoGp2Fn+w\n",
              "0VokO426hQIDmRHPBdMOLiR8uaPc9+Nm9x/4y+thV9AONYS8AY+UAQNr4AGBAAAAYgGeYXRDfwAD\n",
              "qjZxVV78eQAgaqlyYpiLkAJnXYn308jZl0Ieab/mieIDO2mznpi9DESkGW0BcPtYeBm/44DgyQQF\n",
              "rAGjXjAMl8zq81gkEYeIWnJhYi+Fm6yAMACADyUDsAQcAAAAbgGeY2pDfwADqjZtQi8uAAQAMGnq\n",
              "eP147TGPS6hr5yfdvvShASYtE3YGezGVRzvZQWPCw5AAAFZp871hu8KXlK5XFNMHWUt+qFj0DEvu\n",
              "FbDjijUs9/9P8Immks4hv5hXfOsdQNasQ73tIAAAAwJvAAABEEGaaEmoQWiZTAgj//61KoAArph+\n",
              "DygAHB7IeoqqW9NGJ4URXvtj3wZaq4gj1lEpEJ+SXy5olVfAM/jPlA/RINiDdkQJBprJREva9+Rn\n",
              "6ORAAAC/9VTsPIIj+dBbunvoSY9ER1e2coWCPcbnc+en6im+isCL+CjWc5hfJRhP1vlp4nrvmfYv\n",
              "164c4IlIGlLaVKow9+YuIjNBzFsgid30di+AUi3nmbsp9YMKnASqArLMGjFR11KgIsNZMrsK6weA\n",
              "nocgZ3zevAnR1Ie5L3Z7zdsxcRnHyrJ9t9GI2359wk98G/Z5mtGaSeAhyPcAKHvB024Zif3bgLSd\n",
              "UQr2OLS1efISN4RD2Fgwh2QtUqgAAMWBAAAAVUGehkURLDv/AAKd08EzeggAatZGGmBw1zkpkYdn\n",
              "Ek9vaYy/na5uk4OlqYKqi62HbpS7wAABpc+l4RefdYm1jQxSnExd/Q2W3jevQfM6e27QAAADAoMA\n",
              "AABJAZ6ldEN/AAvyFM4zedABtGNX2xFuHKIxZ5lIkvi3/xD2wIwxX5dtP/pIChfLsuPWeyV5pmU5\n",
              "IAAAX3eIFaoG61tjkgAAAwDegQAAAIUBnqdqQ38AC/AFPL9WyPgpQAbRkZwBq4/DT8hjTfuN/HNP\n",
              "80L9MQB2PpiG/9B7P8jeMBhCc/+R9x7wAAA8u9Dsq0U0QuNwKqOh3SrGfzJ595UkESH/tBn/TyYf\n",
              "7MxwGqqwIinDzwY1yIu7OOJYC3pl+oyH1cgs4OTfi96OUq4SgcAAAAYMAAABlEGarEmoQWyZTAgj\n",
              "//61KoAAso5qFoATWvJFDPuJQmev2IGJKFbM9ftXomWUGTVsYa7zFabT++ExrlQd1hDOAGMtcYMw\n",
              "9tfIDHjSGufN0WCtzE5GvCem1xQPLD22mGDlZlSE968tg12+MJFFtMvdCcEolZI2PCjgZzGXtWE3\n",
              "h6dikt0zCViQ12UiAeoAB7vAbw7jPX6XNZoDaNP+wCr/dmGXsnexBQK82YFCJW2Y/yYQYmLHVao4\n",
              "As4vQJhIIOrVnYyCdNR/549T1AQpsvdgvaj0dEDUT9O8S6Hypd/o0lFTznaTxCrnZ0bCMeKe0xJU\n",
              "l/1YfVuBlcTxJxfZty8eSX6Su5Jaj3sgMJPIe5feBDzNx8b3nlt5UPJ0U/zmXX/wkl6Nx3j2FivC\n",
              "qHvavWuuyO/PvrmTCTupkiaXAUagSIVgPcO0XGfK0F9xUnQ4T1Te2W1oOdN2wD0HM8jHnX0lQuRf\n",
              "kbJNXwveUBu+ifIJsHLb8BYz7eB0kjrqgAAAAwABscqmWCr+nOubpdywAAAJtyeEAAGXAAAA2kGe\n",
              "ykUVLDv/AAhEf16mk54JkAIg+GlbkHl7DRhX3sHIn4VlvX8Rdb1lttcgHC0/sfhTKdhKxnTTsXHX\n",
              "e8j9Xj2RM1QAAAeWh61CN1Pj5rko7C4I2BuFJBCqFA3yrEsyosVebmoq5TuHtHdeAqGHSwoyUyZs\n",
              "ePoTi4ZTdfS5cqgmV8Zi0q5CnnKi+F6J+zbSSGJl0J8JDI/jmkT2I+idVnJ3zKIL2T+e9pN5LHhq\n",
              "/0U3Y4/oW97zqQFT1YQJHKgQDihaWi6p50noJhylB5C/FfXu2qEBUAAAAwGNAAAASQGe6XRDfwAL\n",
              "8hM2Lxz9uMqhA8AYTwAar0AhqmXq6+KSb5C5X9s2HzKnmiA7xZYOSwC/ExKtoKQgVAAAAwJp8q1G\n",
              "rsIAAAMAh4AAAABqAZ7rakN/AAvymlBmggIAQgKrhXONwUf8DJuDVbY14a0y05sF4Y8FOepem8QS\n",
              "SmmKqTbNSWnQAAAEA1Q2EeffhA1qpasd5AjIg+ULdqPdDKH8zWpIv2ckPr7hZDUpmSL1fpLCsUgA\n",
              "AAMCHgAAAXtBmvBJqEFsmUwII//+tSqAAK318jACdtw2eSjzMaClhs+jnJLxQ7Tl+f6nk6cfujKT\n",
              "e8/4m2pihwK/wowh/TeMl7+rE5fFaIKMVvUjgJHIgAAEVQTOakhWmcqvjVVS8AEE++kV0dWvB5P/\n",
              "VtE+Ib9oSE28sA6/3ZhnZ2k45ie3m3W9QG0r27o+f/Vie4mCH+GDe9uqdjBjD8RgT4nlLyRJ+6yy\n",
              "3z/gAL4LJYlzTghpJEvjigVOeX4tkPFH8dpN0GnHWiankIMH4+GL2FZUuUnxpxTLTxLfaE2eMQ5j\n",
              "AW9YT4nt1tpy8qmt/GrQ627+8SUfGGkaHRsm7OnCKPgKtrhhnCsQ2kxsnGZX3s4G6A4UZ8+Ua6Iy\n",
              "vtlFcs9LKgU+PWZcsM7bXcMBJfb4j6PN1neA/kaGCvrHHy+mapCjke+jXruoB9V64GCFCVQ2NW9g\n",
              "Jd4v9VYaoNxhTWumKrYUMLvAAAADAAA4oWqVQM3VtL/syH+gAAAUbk8IAAMvAAAAxEGfDkUVLDv/\n",
              "AAhE2hUwKj8AHOXOy0hJ/5Cerzha0x46e5vHuQ8wAPCMiDgIwCyZa0zi9Uuk3HRR0sPr/EXywL+J\n",
              "a+gpAAAIrW5PDly4iPxNdWaCFlVPc0Pa/kNPZa+iU8nluQ+PYJfQtq/lhGSzlTtwfsE7LcJeBxxl\n",
              "XbTQDnpKT0yCLOziQfjolFYSM7qh075dQJLkJA6ltWV2zOhfu8dMTJkQaw8BSfj33WeG1HmreU+G\n",
              "rQ4TiF/Au4cK+aq4AAADAScAAABkAZ8tdEN/AAvPduFcTdyABDiCLe9j+Kc8RGljgqqI4dPL2EYp\n",
              "TS0LaYlHxmHjXJ/L8laItTE68su2nNFIAAAV6MUzV2lMOQrtu20gFWpKDPFJzC6HNmfe1oEIgdJL\n",
              "rhAAAAMCDwAAAEgBny9qQ38AC8927mOsEGcgBCfxaHX9xw52PCjNXyYgH3JXd5lOunDxpnzkrueA\n",
              "x65iX7b+DgB5lIAABFZSHLawagEAAAMACpgAAAEiQZs0SahBbJlMCCP//rUqgAIj9m6U34eACH7b\n",
              "DqPAss4Wx7STS9hdGxHH6VgozCe+GKJWL7Xk8/D8/jDd7dkA5n6a5ewcyqV5KfrgaxHprpGD6pob\n",
              "DaqhFTlUKUhXkVR8qpXhq7HAF9bNyX3N/+zUf/e/syGAAAdmWWh3jyjSH7fALuPqzsUtIJvT7UlQ\n",
              "y4g6rYNMCUYakERRPXoc8m2/Jkys0daMMtWn9PP1jGwI9FESV0tfQimMb39L0ap4pu205Sg2mPGC\n",
              "cKBjQd4MA18Gj+rlazik2LkFl3besxL8s3xXoxqrvL2Rs9RJ73d87ScOJi2iy5eLC8pMqI3IKvfA\n",
              "ZSJPa9r+kCM5p38SEj4/B1748fPmXwKuI3yNZ+QAAAMARcAAAAC+QZ9SRRUsO/8ACCwAOxgEo6wA\n",
              "mrUMDks+AwWIds9eGj+WKr2zFVo2WAhqYewVZY/LHfk7Psg+ff+68KDyUy8P34AACIwhaRyen2GZ\n",
              "j+kjZprrHT2TPZdRQSJyUjYu3kFtgUCJcWcjwL/8L0yCj//qqFfgptvYLs2snSRVmr5XKbah7cSN\n",
              "JRmd1XYkgpoYtutfcIcGhzkcUoj4pd/mwuJ8E+9aotTbeCqKuUXSTel21H1pzudXz1H1OYAAAAMB\n",
              "/wAAALIBn3F0Q38AC893HIZIARB7zOV3o/QQvJq+WbyqeSy2UHq3mqrsmGSxReCM9j1rbxLsW7+z\n",
              "8OntW91XPnHrfgAAIjvdTrRgXgOAh3+T9lVAREOH4v8oNZjr6L24pzVr/w8ibfrMrnx4A+q9YRo1\n",
              "lepPir0Jat45YhX3kI6gDrRZBLO8v9o6BPZgMTeUfVoK9iXpJ94ZIMY3HnMefsqDBCW68rvwNsDY\n",
              "dtCGW/8eAAADAATsAAAARAGfc2pDfwALz3cbo5yAEOImcrchAzDGEKEh0o6A6zScy4vCWZ5LJDre\n",
              "Bh1ZDoKNZt4SJnOgAABSgvMeP7HgAAADACTgAAABAEGbeEmoQWyZTAgj//61KoAArhWxYARB9Kyt\n",
              "WyvozqdvI0FfV3/r/aNCT3lsiXq07Ejo9gBRXDhM+XtKNAV24ENGOmwmw3lZhOwpxwMlExb0ciAA\n",
              "A3IyUXx9c50FteNRCQxxBqx43tDUEkUqe1amSdJ1Cw1sFl7UJx/mCr2gUn72xWK23XT+7v1Wv6gN\n",
              "+MQd2Gw7in7+nW3/z3podRgi1zi87df9M3KYtCX1b7Pc0XYpWgkPS1fG6Hxo7HBkRbUHC9FCgR+l\n",
              "k8Jxc4lx16MhtpD8iPDrRA5qEObjjyo4YDrYOQiZDkawOe94vZy1/u8Wd0j4Iq06WX2qrToAAAMA\n",
              "A48AAAC0QZ+WRRUsO/8ACCwAVQpwAP6Bn5uQPWco3XRXvDWQ9OvvtgEWR4wx3sXgo+h9FLTvMJEx\n",
              "7+QkboUyHsrplv4z+34AACIzpg6Wbb9Suj2vZdyOtBiRR2py6V+fKDLrbwLj/qEtXebwtuBzOIkP\n",
              "a9GGBJvElvivfzer7bLE/SaxhYgbV2WV4TRRycAM3mw4W4ylImTZ1lLqSHne1xxIR1o1dEuc78iV\n",
              "DxuSDo7AmPVzAAADAALKAAAAsAGftXRDfwALz3cbJX0AG1XBMWf1U66OyCBix8It0zvex1ShWmSU\n",
              "Uo2Um9pDPaO9SvyNKjglCtlb8AABEWwK+WFb0Z4xOJHx0B2BJZtjcHUW4PSRAIr5/qR6DMbDPz14\n",
              "v2u9q06wGnmT0rN0zuNIgHnUn1n05SnkODG6SgaPJ6a0bpNBuYze+kYOJJII+ZEA8puRYaSd9OuB\n",
              "Wx3sSwvk9xoyzVujcW9X5RzAAAADAFTBAAAAvAGft2pDfwALz3cZN89sAIcRM5gDsOXLDEifvl+X\n",
              "fayC9+8X7sWC2/1FEO+ohW5e9rOqR8ADQgLznQWFIAADYKjUsua8cH1Se6f/n37cvCQdxyIsx0Pf\n",
              "qh9cQvzu/omfqqjvtlRW13W0BckUUHaaHkP/M+JXI9RN1wmLazRhc4g8xM22+foT6XOVUQL+RYvk\n",
              "ojCmpr5bcipzaEqZYlUGKAsBTcHugEvTximH1xfdLq66PYu/J7UQAAADACFhAAAA/kGbvEmoQWyZ\n",
              "TAgj//61KoAArfqOLACID5BOSszcfehLQlkiUtfzFtYsyehw3nKWcPtuC3SDus8BGrbtkPmKsPtR\n",
              "aIWYW0ciAAIKgMnoGQqebW1loV0wm14WjzwOh4s5OBvcXfgYJDDAzvIdxL6xYSqaxPBLVQDmtacb\n",
              "alAjvbTWw66PENBxB1UVbvzvxBw3EFnGK1zVb0zi5IqXWzmRBsrMmP7EhyjmH6V7MT615z8FNG80\n",
              "XcFGIKT+ev1GfSYQP2svkxXgezUIoweV2+jUoPVj15FGbUZmGMbn2Rg7lmT1PvLyM6cfzhUL92NB\n",
              "rQKGzJY/VQbambIJxLAAAAQ8AAAAlkGf2kUVLDv/AAgsAE4iTcADao/Ppu6D3t5z7S9Uwt4n/lF7\n",
              "uGx0P30mfyx0gdXONomyK27HWczn58Hr/O8EdmStCkAAQW1sIK50iO2zgI5AsY8Y8Js+XRntOyAK\n",
              "VC/NPgLlxQpgeIa8uiZmZiOQxlKqNa3WQgLOl7+y7bfSqOE9Sa5dDPMYAkpDczb87WjG5AAAAwAI\n",
              "+QAAAE8Bn/l0Q38AC892MFQ+weQAiDXH6ESgwYF2PSKpCiHV1QgWeqJukj6MtIAQ88CKUVlsCgPP\n",
              "wECzx/3i0rAC9vwAANAinD/d6piYAAADAAhYAAAAcAGf+2pDfwALz3YwVBxpiqAEKe8zldk5FSAJ\n",
              "1eSyChz7SKYTBp5Q76bYmC27dpDtQJ6Nd31YjjXqbus09UBv2EKQAAVCU9AWkEF9i++xYDumBufr\n",
              "lIjkdfroA0pp+wCcIWB5YUhBrgp7RwgAAAMABlUAAAEYQZvgSahBbJlMCCP//rUqgACt71GxNx4a\n",
              "yOAEP22HT+CbNaBC0pD5GH49y3B5W1H4VQnsLp0JDEFVMC8pTeB8tYcXh6sasziBpTQNfIC5iqYJ\n",
              "iIXIQnaL1r9iskn6XSZXtVKr2ZKKZTfx/nGxNMhggo5EAA0thhiMV+50n2BC9cV+vjgZsMNbHFsh\n",
              "U87lpvcOdxs3LApgb1u+SGfib/uZL6S5M/EbuCac4ehgmnGNCOlsrSug7g3ZmCWjLMuhlVC9sQgt\n",
              "hnqxWD9uQD2uRpdUAiliFeV9ubo/Nx3kTa1f8NTUcU6miZ5MWmRh1obvtgekBBg1csaow7ZVijJ9\n",
              "yw2TfBtb1vFB1tzrL5qCoDj+/3mZIAAAAwAFTQAAAIBBnh5FFSw7/wAIK/+7V1g6TznA6AAF5ehS\n",
              "OHWGaSXd+a2Y+4daXuBu1csOLKIhEuUge8jWZQRS2kIT+NhRUnWTkQougAAnEx8Fg5atzR1zuavt\n",
              "r7T/GEEe0s/KMgsh//Q1/A4gTUdJj313U0H4HSSQaAkBsaDRGqD2yAAAAwABxwAAAEgBnj10Q38A\n",
              "C4WXIi0C7ACHETOVuQgZhgYXRdN0k+tK0nMuLxbZ2QdWwi40vk4HewP0LdfcoCR+JAABdDaGoLA7\n",
              "yAAAAwAApoAAAACwAZ4/akN/AAuFlyIqTcgBDdae8FWJBM3qa7xHbVWjKTTrDZerCi2U4CuBsoyL\n",
              "2w91RjJagK+X7AAB1U9IyV4LDJeyp3ZysjcbCameD6wixD6C4kX8Ck+JzywlzhdphVTdMqX77bVe\n",
              "BqaSa+VShSlaG6c3h0K6Uj/jO+p6PePt/4OIk4+Jxae2PY+hnKi1JEYN44GQBOB2pdInnCl9gyXW\n",
              "U0GTvEsbE07ggQAAAwAAOOEAAAD5QZokSahBbJlMCCP//rUqgACt9fIwAiDcNlwa0CSO/jwq0Xgf\n",
              "hzfXvUJbDETCXNqoBtkU4TQR4cvL4UPjkjPVyG4zD6Tb+E4w1KkS2GQAItUPNMhwvaDYE4CrNazL\n",
              "T0ZeXKC2vfZvDMiSfksZg8yn/QajiCuEsDUqB6FaRc1hSXdOYw0yI0fkgoiWWUJxTSCoT3GmBxH0\n",
              "lYN2IIzyBHpfLc3VWpdACLwyqReqgdL8VLj682TWoALBHyZIJUEhIzLvG5oj1yQo0xvjlwn4APCg\n",
              "w1omiDLhHEafHW/1sNKXXNmCEEvtRdQK8IgLoNXi7cqzq/7AAAADAAP8AAAAuUGeQkUVLDv/AAgr\n",
              "/7tJSVpABfXwlGsuwmk9Xm7QNDqNK2m/rHmBmZOj4xzfiS5xA1wrfnpfPY0D72lM3CETwd+XfgAM\n",
              "2YIBYTUpqjJh3B0A/e3kpmpjsHob59qUYBxoYiujxdZnnywdFPGvUR0vJi0wjay6tQawH3n8ebpa\n",
              "4wgwCRsLOuk7wjob7IasXRZoOSNGXr0p0F4QmF1S/6pyjaXPn4wu/eq9QkuuazgDZdFMMLOgAAAD\n",
              "AAJPAAAAuAGeYXRDfwALz3cbyLkAIcQbwEZv4pumFUpLa6Dm/GYw2pjV/8v5Dk6rnc65EgdBF38x\n",
              "d0Xm9DvwAGgOWdP8KeFdZWi6FaRnRPFrWuPVqPDjEJ87FH3BcZn+Bp7rDlu2TH3cwI08d5pg99Cy\n",
              "olNhHGRo950XNn4cBnaXlopdQyxB1J8SiZ/7GvdALyptG7lcfu08drWrqQfuP99XnZKtE36Qn5Af\n",
              "JHoq2U9eMB0iYSzyMgAAAwAAI+AAAABHAZ5jakN/AAvPdxmTnVUAIUMEQsKmhIwa0KM1fJiAfclW\n",
              "3s066cQpICXcdPxNundymAKb2FS/1+AA0B6lGlRUr4AAAAMAAYsAAAEqQZpoSahBbJlMCCP//rUq\n",
              "gAIT9oM+pXtAC8NABg9wxcUfgZeJy7JLje47D9PLYLdXiqOnNwJnafzCP/67ISzdrLAXXV/He4d4\n",
              "SdHomZsy/sDbhL8pwGIWUlsSA7qtCAJX2I/OclpVu4Ii8e8VcaN/lHQgun1YXCfENofNv0WwdMkP\n",
              "rjwAR2EbOyIhiTjlr+gPkKVRSY3gZjd7WPchKrTWgt7M0W4ObBpW+LeJvQkcSjDNY4GC6VagOD/6\n",
              "z7eFkq1Q/pb3xMCHrqf1rwBxHaOZo9KGXwJmgTpZVgRVmAZrMj4jFTsY6Z1Qz9ezvAJ4T5/LY0cL\n",
              "U9ISwH6aZaMui91dFXjenoVgKJkfLb2ZdBtyifeaVox4/+uZwfTxT9Eq5xr1jQAAAwAAAwDAgQAA\n",
              "AMtBnoZFFSw7/wAILAAz3bYHCHhOgBKoyYcG7yK6PqAt2X7f1klj8zEG91T9YTy688fyr5Ul6Q7C\n",
              "POG0AJ6NNkzfgAo40kmKp7JlQmBYHZTLvuqAOq0A3Xan61auc7FDMVV5hHleZntnxNdYl6iXYRty\n",
              "wHH0DKB239AYUjh6owoZf6Zwf2UApmKX1+1cvku0pmjTZxofztYXKTvpA2AMD+WHs/b7/rZAwNqt\n",
              "An3mh0rM363sL0uvq162yl07oOHrnBEmhWRdAAADAAAEHQAAAKUBnqV0Q38AC6HfD1y0AG1XJd1c\n",
              "d3QZRvctZvKp4r0If0bl0fAdD/utQJ/zyOlZVDw7+P74d47PtACj5TgAlMLDuYoUxxp6oqNxvrmS\n",
              "wzG+WTAzZg/525VDinJoMySVwepnpZSQr3qKBVZNhWBdSrf8wt4Y77kRFSlqTQLlI2cPrrxXuqYA\n",
              "SbE69RZxVch/HDvIEux5j7loLnvMp26DsIAAAAMAAtsAAABEAZ6nakN/AAO2U5IAEOImcrchAzDG\n",
              "EKEh0o6A6zScy4vCUjHYmzpi0k2ADdRdGFqJ4ep05ADtX6XhuwziXYAAAAMAAUUAAADuQZqsSahB\n",
              "bJlMCCP//rUqgACuFbFgA7S9MmeIcHdfUrAIl3iHS0IFu79bROZYuOJ3gwcN6aQuObGgN1/2pNOc\n",
              "DBBuRBfzISoj7NBLUEnTqo9OXc4ou2GQAblV90ctt2zEpQa1JNDinuwZ65w4d4o77I/JFy2/bkz9\n",
              "Azye1oW0b/pOtCatL6k4RTCf6NwGhfFgFTdwbdk6dcMkra/3Zhm1+P4X48QK6mWsO33SWaAU5xey\n",
              "F4iX7UvusR3eXzFOgkb1rXRSsz2vArRHhcdsWZQ8BP710MRqRyAvVZG6VzTd8KvIP0it8m7AfWAA\n",
              "AAMBQQAAALxBnspFFSw7/wAILAA3wBGjwAmrUMJDXbOVwEGNSfbQczgqUr3tvHiqsRKUGZP3AfAZ\n",
              "rJd8EYgfGOzo/L1Mv7GnmLESTp0AAxWGLuV8DzTIsstOgBqVSZisU93ZcoyDTGx0KQ1hyqRK0oow\n",
              "WpO9ONd12ey3cG3myJXEzZ7fdRMTjOJJtTRQ8mcE79/bOxJNNu7p2pGzotr2PCwVhIKeYgTE+2+B\n",
              "lS131PVrpiLPl+1RcYGIO/LQAAADAAAg4QAAAKgBnul0Q38AC+9Xq58gAQ4iTtuOGC1W0LDLwAc6\n",
              "gPkgnJCERozkLwx0jB28VuW81ecO5xWlIAQWHvHBRfHOM6wjb8NzDNAn9vbLe5M2diKZ6HFSeQJJ\n",
              "9HiRUYa/vu4Nf08S/9wHvZBqyWMuv0UaefH+pbXJ5fHSxvujvICdhne7DO/4jvmB8KkG+Hs97xgz\n",
              "/mV5PnLz1Q3cHE1D5c9AjueSVgAAAwAADFgAAACqAZ7rakN/AAvxdJjwEQIAQggj5KBGGnbuDBFj\n",
              "6LIrmBCUr+G5aAUfHimKrjCG+WhQXkEvac+UKQAfuz+JRFcSD5UtHatJBXyPxYKRGwJ9uClUXtxU\n",
              "UtyjPlAFk+9kvdue3Gj0IeaVt7yxxBjuQx3k68GcgyK2kaC0JaebEGvdAFcAeOWIU2UD6Woz5+Ao\n",
              "qQIbdU57q5F7diCyf1fxVQUoe9SRAAADAAADAj4AAADrQZrwSahBbJlMCCP//rUqgACt+l9QAGVL\n",
              "Luw3p9LzrHGJMNm13pKMxgJqedKkUH8ZUG6DcbwMdn6ZLZU+btNhweg6ORdqX4FszqsZS3RiSP13\n",
              "8uu74ueHHAZq2mkQYbsDOij+CkUPWdxRQxT7swzJGpKKEUM5/u31qekvyhGaJ0r2AQnbHeYJUVFr\n",
              "V+w4sKMYNgLyNoO7wEP47zuo+e9alHIId1+Clq7NRwONjXiaAJhNYCRIznZE9noybP8C0kl02uZw\n",
              "MiHp/fTlz1MEY22g1FDK9k0v582woZGGIqQEIrtNqAAAAwAAAwAfkQAAAJNBnw5FFSw7/wAIRSng\n",
              "z/cKHwAhTUL/8hysma6//l73kdH3fHVNwURx6N9SazK8JCNfsFSKH7LT7Cosb5BWxHQAdKZZpqPn\n",
              "kuczVBOx8Rsr0uhCQxuYix1W+Uz9nS2uxx82Y+kQ3JsNf6wXqFxs+ne+XCYkRkTtE2tKpxSoYXB4\n",
              "t3ZdYUhnIh22HjnnrkAAAAMAAQcAAABKAZ8tdEN/AAvPduFca10AIg1ARltQEm0augFNbyxfGyWL\n",
              "h/okT2dd9FLpkGxyHHKpYzS7tZJnxvwA9aQiporLmxEYmAAAAwAAKuEAAAC6AZ8vakN/AAuj0Ip9\n",
              "xtwAEQe8zlK8h/oKSIJhspvjc95GeHGsijnKZKDqOIQI61403KJGxfFS7of/Bk6pISAN07GxmPTl\n",
              "+6d4D4b//O2xi9VQgxUvyptVXCHp6sSPsekZy3YaJ2te2c7qlDHQsHJ14L4ZmT1ONMsJu/kH2JcL\n",
              "HzfE8uAaAHaLBv5fsHCgOENVY6lVNpViMNiNoyt1CRtLjw+V7RHkdXrMLQDj5WPI1RvFqdQAAAMA\n",
              "AAZ8AAABH0GbNEmoQWyZTAgj//61KoAAre2chppPMgqzOYAEKfOxM+XnEoQNLulMLEC/0TsFIL1l\n",
              "9Mu04lQlrNnS1nbwJeH/cdWOayV77TrWqqHIGRup9ko6AUT7jhnB9BhQyn787t7J2cwxtvgA3qfb\n",
              "MNjJNH5BAQnKZdyxFw4vkkGqmkyXRCy0QCbFY4MkufSfTx85s9ruXwfjmC9wdBkAkvTqIRTwK9df\n",
              "eBVeuum6xFIa+s0FN0kSAGp1Qbhc3sN2AP+qpChR/ea1tOtSAnnCMv9vN2si25Kld/UgAyGrfWtr\n",
              "4/6GLjHvrTISjokey6SmaOA4MYfEZldoQScE8d+7V/tFyeCBMI42OsFIpWBTTS3aR0t4K+7TtK3E\n",
              "AAADAAADAFlAAAAA2EGfUkUVLDv/AAgsADsYAAdYAQp8NJSu7qnylfkidkUchIvtWxvf3kay7diU\n",
              "E0YvpG2TfRlV5CnUj1SzQoUbBZd4oXR+BOa0SRdYKKCITvB0DgMmppZ1tgEO3lEtzMyy6Vr/+KPG\n",
              "x/0fmGQKyl6aH5F2WyM6hX27GG84olgSQt+TMd/NtPCu00d33+3HebJaJNyBVc+Iu2G1DG4jmmrQ\n",
              "PMe2F7ri2NTEjOsDdbJnQiolx6/K4jwjWqOMQjclByVFzWE7urtigSN3T9ixA4qVKcWgAAADAADP\n",
              "gQAAAEsBn3F0Q38AC+9VS+Gz6ADZQQjV3qCNaHBMeHqK+VNyFke35wDY+uKiPAmJrFft7GJt6B/j\n",
              "F6dAB0ixialiWaZ/RrMAAAMAAAMAXcAAAACgAZ9zakN/AAvxdJjuzdAAiCnGoOMN8AG9KsoVWW9y\n",
              "PaOKVcnzIDnqOVu2EeraED1E8hk7mixeAKQPiu7tg6fe9gpzfbtZ7/qvLtm0BD4Cg63j+He24NPM\n",
              "oUTy2gl4Ft0FGR0AMdY22zXiMn1XL37BUKXJRcCJ9W5c7mTlyWE4UHZxQQjfUS/K9f40jzxPwaaU\n",
              "N5nOYzuI/qJvoAAAAwABVwAAASJBm3hJqEFsmUwII//+tSqAAK318jACINw2d8QSnQWA/b+aNIbC\n",
              "j/cUDo6R4APm0hIfjeNtOoX/Npc9YNdd2VGqyro83xKGsYyaQwu0MSwAa2GQp/qbTHu197ibvNNB\n",
              "BXK7v+Kmm82bcPoMf1AkbPZZVsMb1/SCKGjnvCvVgeAEAi3k8F7Nl5aE4h67f/39xEYLAu5cY29O\n",
              "d8Pa+jT9vZcf7PN+1TXmPjnnBiZP4HdkZ2BroWtnOwxty3KznHVHtXoHIZf9aRrvqasTHLhzUWjY\n",
              "bnLjM65do9HV1VmphTmaZ9YRO6pUQPdcqK7k2Rlq+X4iHrntOBVtWXwkEu+WOZ3+KfJ+FZKQ9WhL\n",
              "jx31Ki2Wk/wEJ5edeAKFyn2AAAADAAAGzQAAAOlBn5ZFFSw7/wAIRSng0EBt4AOcugF77hFQKlsL\n",
              "NzaMjfcFowcMrjuHFmErmIG2DdP6FgsjsHNzJ/NJUGTV5snJBi5WfAUhjcCf6HQBx+US2EVz6bUw\n",
              "XbZBQly/gEA4RceVD3H1hXsfzbWwrx6uBGWkNuAA+amez0rWPBekcaE10gPF+zthQMrCj0WUJlVy\n",
              "mH7RT3aXwAPVQNDRd8ajVryy7lZrax1UAieeFIJb6UiE2KhnjX+4AU2/Zi08PbylQNVKdGoclNwU\n",
              "Nh/69TQXemFMmBL9le70a2bnTfVmX27rOwoAAAMAAAMCZgAAALABn7V0Q38AC+9VS+Gz6ADZP9/F\n",
              "VD+LO+ZISxpjAuQR1vW4SNJ92zxTx/RVatF4V/fk47M/ea3fg9PUzZYctd9fmtjKYWKi79bKkynK\n",
              "GtbzOMcBCiw9CcGEWrwuFKYJSMPOWimnTAQpL6G1iI5UpJLi0M0XsiQY//fE4PFi9gRJBk+vLAx4\n",
              "Ylj9QsXMEjlhXrktk9uRb7RDn91Z7QCNCP7j1Oz8BPC+M4qKAAADAAAPWQAAAE4Bn7dqQ38AC/F0\n",
              "mOdJJlQAbTzuuPjHWSq2s65CwaO+hjIUh5I5koIthM4pwJIIUwP1wok2H16Vx+D1OLqrFPXIXeHy\n",
              "u2LQAAADAAADAu8AAAFPQZu8SahBbJlMCCP//rUqgACt7DFxFr1AA2l7XcBep0NaarlHNJ4fRfxj\n",
              "Hs1XG4eW/0KznDLsxOwcMnwiO959Jj6rABiBa0x3MniUJ74cVB++LVrHKwGGg4GAGbLkP1sRQfAO\n",
              "pKxRfbdeKsL/LTfzNbollSghka34qSG0KdcH4uOl76yqXhf7vEs8Q9jpmuClt3v5z7DudKy+/HRa\n",
              "ZR6XK2OY5Ieq1lDcEZdtbeSH2C8zCbDv0fUAMWaDuawzzKM9Qgm1YVK+CB/x5P5gdr5FoHtjQnDn\n",
              "q2qh/yoGK1G+ZGOI9Yu0FyGuDSVyEmxTeBE56zEe4UdY+Ap7m5vyBX6rLDhEQ5zZKwW///XIxTcW\n",
              "dqmZt0w5RfBHAN1ggNG/QbIxY2gUorqtjbWdp/xGQUKvI1X5EOlMrx25xuJc8G3a3ctzuwABKZwA\n",
              "AAMAAAMAA+YAAADPQZ/aRRUsO/8ACEUp4NBPKcAE1ag3Yskj/ZaqFI324frJBUB+2LNjswOuloDk\n",
              "b4tUHlbyu8o0GPSvYq34PVyERBJNOQ0OQuo8UUIenK39+ZdPihAUGsU6aoQxbyfCt7fPIhYaj2l8\n",
              "FIRaRKcw2yJg+28YExw+Jj+qZUdoZGL9SlW9Xd5RddqAY8Mu945EdchXSjJ2YfFZVR5iLR0DLYCX\n",
              "+n7WlXRgOGlhm3Zmv2WwYqEZdcAfXHQxvkUCXNP0BoEu/KfI4DCp+GQAAAMAABBxAAAAngGf+XRD\n",
              "fwAL71VL5WBgA2q5Lun9ggEHreGQvgp5Ux3RUoX8I57JBx2C02U5aEFXYC0pXBmCpxd9+pULjxFI\n",
              "ZGfxYYKLYS/3LH6JdPHcluDNLAlhHDRSKbY+xE/FuDyj0LZ9/Pd1bnb2RI7LfAO5lTSx3b0+jxsC\n",
              "UhLkW5vO+kjI3O/qgNpOh54or92q8yW6/BqWtkH5qAAAAwAAAwF3AAAATwGf+2pDfwAL8XSY8BEC\n",
              "AEIIfRUhDzhcEmIBVHCe/biLMucOBk/yjgq9EJqkcq722j2IAe/vcPhSGHR0K4URrLju53nGe2vW\n",
              "oAAAAwAAVcEAAAEPQZvgSahBbJlMCCH//qpVAAFb9ZmACIPnwNg+BoQBsbGrvcKMT+t26C2o4rU+\n",
              "PKK24kC3iBWBX/cqce4XNpTkew9TM3n5A4JQyqEBLGWiJaAMJOz3Fmp93L3JAFHc+qYeQNTCiPXr\n",
              "9Xtr+34VX6Q3R0dMZHbgxe/psCHonYHZM84Zja32PO1tXLdD44AagYOD/nWvRbix9T6LECcqpunt\n",
              "YtkGPEBp7z1SLxeSFpjrzbO3OHElJeBdqtpvBEsYgjxZ40ubNUV28OIAy3HGtldMLY6CrZFL6BHY\n",
              "N5Ma5WY2c9k1eGZlOrr2MEAfUay/7NmSG/xPtKySTXyLHo7FdeJzBH7PAayCkAAAAwAAAwAfMQAA\n",
              "ANlBnh5FFSw7/wAIRSng0G4OACatQwkNds5RuujFATIEL3Ge+2ARZHi1shW/fiZGySClHNOZlJs/\n",
              "vLEeyKPXzvPLxS8wd+mwVr5uzeoAys021PoDf01oMXg3nT0wJ9OIK6JddAFNFSKL/3vUOsqDutt3\n",
              "OXv+TSm8Eb5MTd73CixhBys6kK2n+Ve2AYoivFMsgxYAXIwXXdpHtbGyRjxCshKICXI+hpN1dV/8\n",
              "NDT+w2TqYYKmnHUux8QKWO8WyJWwXm0d59RXJy3NFoq7ZvP/sSp0WmIAAAMAAAgYAAAAvwGePXRD\n",
              "fwAL71VL3DioANqCFqCf0Pd83ImuwPPsDzcVH2vyuUfi1EVVtALY5jA3stFi+lQ3O8c6ByCBdczv\n",
              "FNsYWB/GMp54zqBdDevRVKCaFx8A7s47Ky43CCiPSPIb3TNg0If6TjrYrBFSq+XcVC5fPCM+SJ3k\n",
              "SVWlWlXNXZVNRwJ8KMNZlvsQSy5L8nb6cgrQMencJcFzEGdTX6t1gK5AUq9t0ZJgODJEz0IvuJPZ\n",
              "yzRoBQC1pvAAAAMAAJuAAAAApAGeP2pDfwAL8XSY8BECAEIIIrebLJE8RGljgq05i9hDLWQO0Ckl\n",
              "TfKbRpk3AbLFFfdQ53M0LamKOP7mhEku3caKKD3mVsM35rLRJiMcqs5Li0gZhN5VP6RTLEZvIoSB\n",
              "YXZk01zdZ8aVskrJBMCO3uwDFXEGIDwXCIFWQfiBcM7CsH6bsso5+itKFT0pisZwJ19QmVZ0PDVs\n",
              "z+yaMbBgAAADAAGVAAAAwUGaJEmoQWyZTAh3//6plgAFTF/DgAnZNkDSlw5QR+yGD75l+W7cULUO\n",
              "br2g0aQCFk3d9qu+a778FrHfOe/8gZZsSuxnuH2G/NfAHJL89a+7HOZw4PSWrr+iF17cDCqGV6ho\n",
              "rpkztDlRPpAto1bvesVUeKJ0/1B8w0CGsuUivym46R2OIs8U+tY2GaQSlXF8J/FryIejOnGV9dYy\n",
              "QiH4Ijjs2dp/V7AuYO9PG1kHT+fHQOH+CxfIaGAAAAMAAAMAAz4AAABuQZ5CRRUsO/8ACEUp4NAv\n",
              "eOACFNQzHCEaL+LG2lacALmHYCIklguljDbfWSbCR4SmRMnAHxUOp8bPDHkHzoW5MU/JmVRrN/8B\n",
              "b/usjnTnUW+A/IcDpgWvhLAUObFosD3ag5LUhXx2oAAAAwAAEjEAAABSAZ5hdEN/AAvvVUvfCQoA\n",
              "Qp7y3BIAEeO3+AxCSs/MGRh3exIKBBRqcmfqW3MUWkboCEmlLLNa5JtnwDJS8w0j2rQlTLGfD31q\n",
              "9lZAAAADAAAwIAAAAG8BnmNqQ38AC/F0mOy0QaABEHvNRknDPoevBjZupKZRaRaLr4v+haEMm+Gi\n",
              "SeQhu1ATPV+iepxx/J7QmgZEiwk8KXaeAqqlyy6XuFAg8XueQ98tm7rhmZqvV1ki3bMtuOuA5j16\n",
              "aBWLdgAAAwAAFJEAAACTQZplSahBbJlMCG///qeEAAp+3JAAhxEzlbkLPNuhChDDyUO+nojfMZNi\n",
              "2AJ7zHQ3QwP9vix9XEmFWrAzLC3o4aSbM00ZUo2e2x2fWJZf2WPTSbeMv6HECpAOtKvBPyHuoLd1\n",
              "rf789HkiS7/gu/scoVlG6iH+0r8EqA21Ff3zteu2lD8o0KofkNnAAAADAAADAB0xAAAGdm1vb3YA\n",
              "AABsbXZoZAAAAAAAAAAAAAAAAAAAA+gAABtYAAEAAAEAAAAAAAAAAAAAAAABAAAAAAAAAAAAAAAA\n",
              "AAAAAQAAAAAAAAAAAAAAAAAAQAAAAAAAAAAAAAAAAAAAAAAAAAAAAAAAAAAAAAAAAAIAAAWgdHJh\n",
              "awAAAFx0a2hkAAAAAwAAAAAAAAAAAAAAAQAAAAAAABtYAAAAAAAAAAAAAAAAAAAAAAABAAAAAAAA\n",
              "AAAAAAAAAAAAAQAAAAAAAAAAAAAAAAAAQAAAAALQAAAC0AAAAAAAJGVkdHMAAAAcZWxzdAAAAAAA\n",
              "AAABAAAbWAAACAAAAQAAAAAFGG1kaWEAAAAgbWRoZAAAAAAAAAAAAAAAAAAAKAAAARgAVcQAAAAA\n",
              "AC1oZGxyAAAAAAAAAAB2aWRlAAAAAAAAAAAAAAAAVmlkZW9IYW5kbGVyAAAABMNtaW5mAAAAFHZt\n",
              "aGQAAAABAAAAAAAAAAAAAAAkZGluZgAAABxkcmVmAAAAAAAAAAEAAAAMdXJsIAAAAAEAAASDc3Ri\n",
              "bAAAALNzdHNkAAAAAAAAAAEAAACjYXZjMQAAAAAAAAABAAAAAAAAAAAAAAAAAAAAAALQAtAASAAA\n",
              "AEgAAAAAAAAAAQAAAAAAAAAAAAAAAAAAAAAAAAAAAAAAAAAAAAAAAAAAABj//wAAADFhdmNDAWQA\n",
              "H//hABhnZAAfrNlAtBboQAAAAwBAAAAFA8YMZYABAAZo6+PLIsAAAAAcdXVpZGtoQPJfJE/Fujml\n",
              "G88DI/MAAAAAAAAAGHN0dHMAAAAAAAAAAQAAAEYAAAQAAAAAFHN0c3MAAAAAAAAAAQAAAAEAAAJA\n",
              "Y3R0cwAAAAAAAABGAAAAAQAACAAAAAABAAAUAAAAAAEAAAgAAAAAAQAAAAAAAAABAAAEAAAAAAEA\n",
              "ABQAAAAAAQAACAAAAAABAAAAAAAAAAEAAAQAAAAAAQAAFAAAAAABAAAIAAAAAAEAAAAAAAAAAQAA\n",
              "BAAAAAABAAAUAAAAAAEAAAgAAAAAAQAAAAAAAAABAAAEAAAAAAEAABQAAAAAAQAACAAAAAABAAAA\n",
              "AAAAAAEAAAQAAAAAAQAAFAAAAAABAAAIAAAAAAEAAAAAAAAAAQAABAAAAAABAAAUAAAAAAEAAAgA\n",
              "AAAAAQAAAAAAAAABAAAEAAAAAAEAABQAAAAAAQAACAAAAAABAAAAAAAAAAEAAAQAAAAAAQAAFAAA\n",
              "AAABAAAIAAAAAAEAAAAAAAAAAQAABAAAAAABAAAUAAAAAAEAAAgAAAAAAQAAAAAAAAABAAAEAAAA\n",
              "AAEAABQAAAAAAQAACAAAAAABAAAAAAAAAAEAAAQAAAAAAQAAFAAAAAABAAAIAAAAAAEAAAAAAAAA\n",
              "AQAABAAAAAABAAAUAAAAAAEAAAgAAAAAAQAAAAAAAAABAAAEAAAAAAEAABQAAAAAAQAACAAAAAAB\n",
              "AAAAAAAAAAEAAAQAAAAAAQAAFAAAAAABAAAIAAAAAAEAAAAAAAAAAQAABAAAAAABAAAUAAAAAAEA\n",
              "AAgAAAAAAQAAAAAAAAABAAAEAAAAAAEAABQAAAAAAQAACAAAAAABAAAAAAAAAAEAAAQAAAAAAQAA\n",
              "CAAAAAAcc3RzYwAAAAAAAAABAAAAAQAAAEYAAAABAAABLHN0c3oAAAAAAAAAAAAAAEYAAB5LAAAB\n",
              "qgAAAMcAAABmAAAAcgAAARQAAABZAAAATQAAAIkAAAGYAAAA3gAAAE0AAABuAAABfwAAAMgAAABo\n",
              "AAAATAAAASYAAADCAAAAtgAAAEgAAAEEAAAAuAAAALQAAADAAAABAgAAAJoAAABTAAAAdAAAARwA\n",
              "AACEAAAATAAAALQAAAD9AAAAvQAAALwAAABLAAABLgAAAM8AAACpAAAASAAAAPIAAADAAAAArAAA\n",
              "AK4AAADvAAAAlwAAAE4AAAC+AAABIwAAANwAAABPAAAApAAAASYAAADtAAAAtAAAAFIAAAFTAAAA\n",
              "0wAAAKIAAABTAAABEwAAAN0AAADDAAAAqAAAAMUAAAByAAAAVgAAAHMAAACXAAAAFHN0Y28AAAAA\n",
              "AAAAAQAAACwAAABidWR0YQAAAFptZXRhAAAAAAAAACFoZGxyAAAAAAAAAABtZGlyYXBwbAAAAAAA\n",
              "AAAAAAAAAC1pbHN0AAAAJal0b28AAAAdZGF0YQAAAAEAAAAATGF2ZjU3LjgzLjEwMA==\n",
              "\">\n",
              "  Your browser does not support the video tag.\n",
              "</video>"
            ],
            "text/plain": [
              "<IPython.core.display.HTML object>"
            ]
          },
          "metadata": {
            "tags": []
          },
          "execution_count": 76
        }
      ]
    },
    {
      "cell_type": "markdown",
      "metadata": {
        "id": "CJc9bIeE23Jz"
      },
      "source": [
        "For your project you can try this on much more complicated maps, or on maps constructed from satellite imagery. Additionally, you can try more sophisticated graph search algorithms!"
      ]
    },
    {
      "cell_type": "markdown",
      "metadata": {
        "id": "q0rwObPK23Jz"
      },
      "source": [
        "## 7. Mystery Map\n",
        "\n",
        "To see how all our code can work on any map, try out this mystery map!"
      ]
    },
    {
      "cell_type": "code",
      "metadata": {
        "id": "CRe6d7un23Jz"
      },
      "source": [
        "mystery_map = np.array([\n",
        "    [0, 0, 0, 0, 0,],\n",
        "    [1, 1, 1, 1, 1,],\n",
        "    [1, 0, 0, 1, 0,],\n",
        "    [1, 0, 1, 1, 0,],\n",
        "    [1, 1, 1, 1, 1],\n",
        "])\n",
        "mystery_start = [4, 0]\n",
        "mystery_end = [1, 4]"
      ],
      "execution_count": null,
      "outputs": []
    },
    {
      "cell_type": "markdown",
      "metadata": {
        "id": "eHNqiBjB23Jz"
      },
      "source": [
        "<div style=\"color: #a00; font-weight: 800; padding: 1em 0; border-top: 0.4em solid #eee;\">Checkoff: Visualize Mystery Map and the Start/End</div>\n",
        "\n",
        "Write code to visualize the mystery map with start and end goals!"
      ]
    },
    {
      "cell_type": "code",
      "metadata": {
        "id": "XkaW6RwK23Jz",
        "colab": {
          "base_uri": "https://localhost:8080/",
          "height": 281
        },
        "outputId": "e7b6d437-dc3e-4b00-8493-a03ccd65938d"
      },
      "source": [
        "# YOUR CODE HERE\n",
        "# ***** Start of your code *****\n",
        "visualize_map(\"Start to End\", mystery_map, start=mystery_start, end=mystery_end)\n",
        "# ***** End of your code *****"
      ],
      "execution_count": null,
      "outputs": [
        {
          "output_type": "display_data",
          "data": {
            "image/png": "[encoded data removed]",
            "text/plain": [
              "<Figure size 432x288 with 1 Axes>"
            ]
          },
          "metadata": {
            "tags": [],
            "needs_background": "light"
          }
        }
      ]
    },
    {
      "cell_type": "markdown",
      "metadata": {
        "id": "szFaFR_u23J0"
      },
      "source": [
        "<div style=\"color: #a00; font-weight: 800; padding: 1em 0; border-top: 0.4em solid #eee;\">Checkoff: Find and Visualize Path on Mystery Map</div>\n",
        "\n",
        "Write code to visualize the mystery map with start and end goals!\n",
        "\n",
        "Hint: It involves several lines, but they are the same as what we did for the Stanford map!"
      ]
    },
    {
      "cell_type": "markdown",
      "metadata": {
        "id": "vr6o4V3A23J0"
      },
      "source": [
        "### a) Computing and Visualizing Costs"
      ]
    },
    {
      "cell_type": "code",
      "metadata": {
        "scrolled": true,
        "id": "9SXZMetQ23J0",
        "colab": {
          "base_uri": "https://localhost:8080/",
          "height": 281
        },
        "outputId": "0b2237dd-7534-4b2c-a48f-84108a079a3e"
      },
      "source": [
        "# YOUR CODE HERE\n",
        "# ***** Start of your code *****\n",
        "mystery_adjacency = adjacency_matrix(mystery_map)\n",
        "mystery_start_vertex = vertex_of_cell(mystery_map, mystery_start[0], mystery_start[1])\n",
        "mystery_end_vertex = vertex_of_cell(mystery_map, mystery_end[0], mystery_end[1])\n",
        "\n",
        "mystery_costs = uniform_cost_search(\n",
        "    mystery_adjacency,\n",
        "    mystery_start_vertex,\n",
        "    mystery_end_vertex)\n",
        "visualize_costs(\n",
        "    \"Distances from Start on Stanford Map\", \n",
        "    mystery_map, \n",
        "    mystery_costs, \n",
        "    start=mystery_start,\n",
        "    end=mystery_end,\n",
        ")\n",
        "# ***** End of your code *****"
      ],
      "execution_count": null,
      "outputs": [
        {
          "output_type": "display_data",
          "data": {
            "image/png": "[encoded data removed]",
            "text/plain": [
              "<Figure size 432x288 with 2 Axes>"
            ]
          },
          "metadata": {
            "tags": [],
            "needs_background": "light"
          }
        }
      ]
    },
    {
      "cell_type": "markdown",
      "metadata": {
        "id": "tyXxM2hn23J0"
      },
      "source": [
        "### b) Compute and Visualizing\n",
        "\n",
        "...using `shortest_path` and `visualize_map`!"
      ]
    },
    {
      "cell_type": "code",
      "metadata": {
        "id": "TcQlnQIY23J0",
        "colab": {
          "base_uri": "https://localhost:8080/",
          "height": 299
        },
        "outputId": "664add90-17a3-42e1-b411-0dd9419d635f"
      },
      "source": [
        "# YOUR CODE HERE\n",
        "# ***** Start of your code *****\n",
        "mystery_path = shortest_path(\n",
        "    mystery_adjacency, \n",
        "    mystery_costs, \n",
        "    mystery_start_vertex, \n",
        "    mystery_end_vertex,\n",
        ")\n",
        "visualize_map(\"Start to End\", mystery_map, start=mystery_start, end=mystery_end, path=mystery_path)\n",
        "print(mystery_path)# ***** End of your code *****"
      ],
      "execution_count": null,
      "outputs": [
        {
          "output_type": "display_data",
          "data": {
            "image/png": "[encoded data removed]",
            "text/plain": [
              "<Figure size 432x288 with 1 Axes>"
            ]
          },
          "metadata": {
            "tags": [],
            "needs_background": "light"
          }
        },
        {
          "output_type": "stream",
          "text": [
            "[9, 8, 7, 6, 5, 10, 15, 20]\n"
          ],
          "name": "stdout"
        }
      ]
    },
    {
      "cell_type": "markdown",
      "metadata": {
        "id": "1YFJU2X523J1"
      },
      "source": [
        "### c) Animation Visualization\n",
        "\n",
        "Finally, we can use `visualize_path` to animate the flight!"
      ]
    },
    {
      "cell_type": "code",
      "metadata": {
        "id": "5WvLm0ru23J1",
        "colab": {
          "base_uri": "https://localhost:8080/",
          "height": 740
        },
        "outputId": "58506c35-335f-4297-fa81-c0c6ffd7968c"
      },
      "source": [
        "visualize_path(mystery_map, mystery_path)"
      ],
      "execution_count": null,
      "outputs": [
        {
          "output_type": "execute_result",
          "data": {
            "text/html": [
              "<video width=\"720\" height=\"720\" controls autoplay loop>\n",
              "  <source type=\"video/mp4\" src=\"data:video/mp4;base64,AAAAHGZ0eXBNNFYgAAACAGlzb21pc28yYXZjMQAAAAhmcmVlAABSzG1kYXQAAAKuBgX//6rcRem9\n",
              "5tlIt5Ys2CDZI+7veDI2NCAtIGNvcmUgMTUyIHIyODU0IGU5YTU5MDMgLSBILjI2NC9NUEVHLTQg\n",
              "QVZDIGNvZGVjIC0gQ29weWxlZnQgMjAwMy0yMDE3IC0gaHR0cDovL3d3dy52aWRlb2xhbi5vcmcv\n",
              "eDI2NC5odG1sIC0gb3B0aW9uczogY2FiYWM9MSByZWY9MyBkZWJsb2NrPTE6MDowIGFuYWx5c2U9\n",
              "MHgzOjB4MTEzIG1lPWhleCBzdWJtZT03IHBzeT0xIHBzeV9yZD0xLjAwOjAuMDAgbWl4ZWRfcmVm\n",
              "PTEgbWVfcmFuZ2U9MTYgY2hyb21hX21lPTEgdHJlbGxpcz0xIDh4OGRjdD0xIGNxbT0wIGRlYWR6\n",
              "b25lPTIxLDExIGZhc3RfcHNraXA9MSBjaHJvbWFfcXBfb2Zmc2V0PS0yIHRocmVhZHM9MyBsb29r\n",
              "YWhlYWRfdGhyZWFkcz0xIHNsaWNlZF90aHJlYWRzPTAgbnI9MCBkZWNpbWF0ZT0xIGludGVybGFj\n",
              "ZWQ9MCBibHVyYXlfY29tcGF0PTAgY29uc3RyYWluZWRfaW50cmE9MCBiZnJhbWVzPTMgYl9weXJh\n",
              "bWlkPTIgYl9hZGFwdD0xIGJfYmlhcz0wIGRpcmVjdD0xIHdlaWdodGI9MSBvcGVuX2dvcD0wIHdl\n",
              "aWdodHA9MiBrZXlpbnQ9MjUwIGtleWludF9taW49MTAgc2NlbmVjdXQ9NDAgaW50cmFfcmVmcmVz\n",
              "aD0wIHJjX2xvb2thaGVhZD00MCByYz1jcmYgbWJ0cmVlPTEgY3JmPTIzLjAgcWNvbXA9MC42MCBx\n",
              "cG1pbj0wIHFwbWF4PTY5IHFwc3RlcD00IGlwX3JhdGlvPTEuNDAgYXE9MToxLjAwAIAAABPDZYiE\n",
              "ABH//veIHzLLafk613IR560urR9Q7kZxXqS9/iAAAAMAAAMAAAMDNLIKRfVHO/ODwAAAAwM8AIOB\n",
              "OFk/+jP3q8QByNCLK0QtIB1sC3bIAjeEyQjFEqVCvMdhCRXtCp2W4KD4KLlqfnXoYN7Bu6K36Om7\n",
              "O7aquS+5vGfzca0m+IUHN3W6WurXIRp0aczoiHRgGCvMBaIYyImZavUWdFoh2pNFi8lJGHTFGR3K\n",
              "xm8w9+/bF53GAosh1LKySxs5vRiQZnrrblYfrFs41/o+Npo/eCcJaV+611M0U4MdKBmwqVcihnkj\n",
              "61ACu0ILJBBgSbCD8XTzbtJ3QTTtRddLjf1Oug1R0Gyi4vBY+RhP3Az4VH0h95DliMWyM55G8AEr\n",
              "UFjlMM/MXCjKEyasu7DJ9aK/VJv8qG3YOcxoeOfjfkNhGFPU+dJBcYAevSFhXZg1vv/jsl8twiHm\n",
              "Yl2q9EKBprTHiCQSNmddePAAAFQS7dsE742QBTJp43/LxmldjPE/Ev8oJ7utqOdlADDxHzYFwqF+\n",
              "CZHn0kihZnm//c8eCHIvRucyAbDJzczNlZwyd/bC+DIu/iKlA4UeWM6/taTd99GT4sAcvM9E9Cih\n",
              "EHPUzEUAwcTXJqmNStxg7IyoqoH9uSt8A2RPEv3EpDx8YvH9ZO7k2c16Klqe4lg+p1/eYgO1QWFl\n",
              "ZZFBgBl4RkstDip4xHHtj7puhBxmfp7YoBP/yc5WHlDC+74/GKHYK7/eAAJFMub+BnaY5Es8mccx\n",
              "16ULGsL3opupKJnjYKk83FyaQ94g6dUkPY2slCcncb1vQ+oWMaHQ9jTQAA0AZpXv9K5wrRNVhoHx\n",
              "ejYfomF7mOzkLXwIeh6PtZklh7uCWl10f4ivV+saxe5fYgEcB+x6yrrsG8DxH9k9iGC81Jm81+d7\n",
              "ot08MP//gd3U+tX/7jgXeukcGAd+Pjj//wBnZH6k60xDhvBDd0oAk+LTe5DG82Khp/qundlBH7Kz\n",
              "Df3WhYKFh+M5/J8Dgg1TPWw04b4c9lTnUt9RMcBIAxUhY+Ztrf3QSbprn+/rX0veaR2bAguZHZFO\n",
              "0cKdSXZVyUp2J+F+H6yaM0Pm3x6YW6XLIIegkZ8AlESh9TPC2LGIWVeqLOYdXsuqlPTH5hCfQ0Cs\n",
              "LrDq2rAj34kjampVyEpxzECkmWGL/ahqcoD474W/gH4BPDKSGAhjOMN62Ayepb4W7L67cB4A88S7\n",
              "lARQFZBAXm+QmawXd94JkxtfSIdZjFf7COCDJKhmqA8ZdxyH4iwDbTdAImCbBaBsvb3ItBROaafs\n",
              "Wg1zXOpxQ8C9sIjYR+jHSTPX6n4QVEVkRXW4a+AcCAb/Mrg/R5DGegZk5q41jKRTKDQR/2ncyYTY\n",
              "s3xPnPu+Lx4gAasawDHMnuhZRyBEenmMW2eHdULfgX6tmEk+vXlecPgpRZQjU4jsbY9k5/h8BDX9\n",
              "7+WxFkVWR0vdzKSI1g44N9zBvCTr1GeL9XSa1lNGl9AJsJexKqeRYzGn6lrUI782hbU6OZKornw3\n",
              "yFeeCFTsgXOnVbWJjrc3GfMviGC76Ip5p6agM3JOMTLwsEPnIfKxqbYL9HWa8nXPZrJP+qx/voZk\n",
              "hNmrHKhDDMl9PgtgvvymA4glxMuSE4eW2s002Dt0N64tznfECOwbas/4MtA8NzrtYjVa9aZqNT6D\n",
              "zyef2j3qDGMbWvPiI7OJqN1G82Ej9aSXxBgC+WOM8PV1fboKuc1ztfzZCLpLx6Uqi+cGiuPNOP5I\n",
              "goIvJjfi+2mndvtKZsDMgcgibOrXWTqFdwbLLPLLS6mptLH19cVZPd+f4qWjCI7C4+fjHZXm+8O9\n",
              "zGRzLP2pPdt812bvHcLd+U00Xa1EjS64H6JioI1ibH31QQD7lhP029xdvcV6NFnsyxW7bJv0yiXO\n",
              "RMjUut+dOw3X8s23CuFu41y6fTrgHt3E/jnJjqiCyp2IZ41zWbwGMzfDsgBasemwQhziRVQNAClP\n",
              "b8bmbN3weU/uj0FhJOEDXCXK6jDIsg36Mxhgpjwv5w5R/WuwWp6oaVUGXIV85pR6hsf3upKGTHdD\n",
              "VytTrwijfRu88nhbzS0afMjQAZvIfI9YbqTguDG7YeS68LuMA4pxKUkjxR9Mhmp2WG0o0AaMgXmD\n",
              "zFoisxJVUIvStbJ0T1XDw48zCZ72NoU/MMUOIExd1SABlAILqx1wHToln8rIw7JUmmgknmJ5Yhs9\n",
              "isM6YqPCtxZ9pLD84/AcK3D1VGz1Cp/dIUOK/ENCPiRpaHt4Do0h5vd9W7ZvC+dDIawMfApTzhB4\n",
              "WXUSQX1k3zzAdLCu40ZG0udakhtKMzN1sW1qWdNOpNBFK0dCbBcJXtUZaA7nvaKNU0/U75V5QqPa\n",
              "MYqujXUx2WnNlPdVwzCm1N+kVmg5qD9lRo2Xu3EtMVafPx2+aRoEZSL89s4JNc6DtJXCyRZ/TOkr\n",
              "Am5li8pOc27ZOiZcjEeDmusAQ0R8hBCKHcwk293m3mAnuXXqzBpnr6Na3CVlNwKY0Jb/EwZ+lkf0\n",
              "H3auK5N9Ya3RT+ol8PDBXe9ByRGL7J/snYAk//lcq4sZGlO1x//Rk2tJITwUNo9wafITXsfLj3Nl\n",
              "kqCksRMpUKZAG5SSWp026O97/6WM3+vsWqfdvLrX2qu7h2js+FsSXOPzf6vTHbdCh/ACEnt+SCrv\n",
              "VnxBKWPyJkM9qhVsPQAPBeNt7Rd1uZwWUWTU+9KEE260/vp7CJXK45OLgY7nNx+z9XTiTGY+uwXM\n",
              "oXl9vSF2TZnq4TYorTlJaJgAd6Zd9cjz8ALNQcvpXfUQ5DuEiN3JR89D23Sh72+YG4SU0zA9K7uX\n",
              "ad5jGanWpiqgjapGENXyacj4P1PGatB+/9IjZY2pOFcgXwkbNIcRy6iPtYTQY+UT46SAMJkZgx9E\n",
              "T6d9s7HdY39/8BBFPtjsnOdsD0sBtABF0Nam9cwaB5Tofh3m7Uv8AC3vCYwb3pFGeWP0LHbzrzE3\n",
              "o0c6MN4NWxpDqpPHwsj3wRJhJLETlBeKTPlmUWj7yerHT1Z5Wqi3BcO9pgRgHncmDcLU5dqpLiKq\n",
              "dSpVItKrgtpiau8jXHc8EEXpAZl4GHdljwJiGbDfeGThYpAz2ZQ7hmL4vLqlFvGwO1uTZodzmAYi\n",
              "mu++8y3ixbm7AL554BmJdi1jv+3+Z5BjOp1hwyZ4rKs5qsMAHHxjmiVlw7e36xU8sUIinJiWpLCx\n",
              "D5eKWBUBWJ5MLhzbvN+4TTvMgn7UwFXHpi8Y9rV/Ils+Q/bjb4rP8KDa+pnthIflPGzmcsBXeL3G\n",
              "wbeVcQx81/CUI15Ke2Y7CCjktuN3oojVt6cR3jgoatS0wGiVUYI91ZSs9vKrculuEDgxSuQpkycY\n",
              "rm/NiPuLku04EI92ye0ERwm0C2P2JJYeaFbJlVku+mtVFnS/+d/xhV+lWmN4aXDJy7XEqhmafGB/\n",
              "EpPNs/KHqrhkTuPsdvPlYElkJvniODiz5oh5UKF4u1NmPfghRgC4zbWLkfXR4ShrQAmoVDmqHFss\n",
              "oLs9crc68yp1hjxxKJ5p4c1eAW4D+MbVv4CUYJqiNrvoXYDvXIPx+zDDGqOWfWoymlJhTVtF9YUr\n",
              "+rrA0ozmUPelmZrrEFLW2fqNzeYnL9BeHyvF+6Dky/4v+v/Gt05z8hb4rDV1qlTzKd4/dlqIqlBF\n",
              "pXBqsxEy0BB3vuft+P7bkCACAb/jOPXKvkvwmdYQa6CrNmaV0XZFmapHG/SFclFfkDnxnAnbkLu/\n",
              "vW6PYFKYMYhtnN2H9BGBizLNUWCs7uvYwRUFMxnMKnvVum5asBh40KwH5KsYpUBUUBwnWmot7M+q\n",
              "11izZUXkB+0EIjVYQOWzMw5QWmC+4Cxezo3S4jNzAACJsipYQZAL+vMgq94bG//NDzgUiXrdL2uh\n",
              "D8Z7CYrgbE0zBfQcG1/l7qJimtL6iqC7ovE0EOAzcDbBc/qMlwmHUeZxqgx1WtkTDdlv3gNIv6lR\n",
              "j6qGKgYzx2OlvmKePYDKkfGjtYKKeLqy6jMb51ncXabAtvTZqHjrNZcfvPsJ1ObBNdDKJD6jzZ25\n",
              "jcAohAzT4U3ovPh72yupqth+DRHKwRMMCoBhr4mFBks8cuD64iHHbPcz7jHsvdERc6DJiDh9W/CM\n",
              "3ZwuwdmVCWnhyRW3zdVzhytBzRyIfcEIZQEAAY7on23h/VL4Ppw4njeu3XKcnR7jwKhTovonfbR2\n",
              "8J5sVkkNkoa7Oe+GU7pRLpldrEJDbcKgd/DtsPbmuWWfN4WEq9vQwPMUGw7ishg+MfjC2iZqlZxy\n",
              "0Cj030iyNGVlEffPyjV6zNKap+OlfgG/vlvNZ0N323KLqIgz18M2JUqLFf3Rx4LCmmpXvtaPPw1i\n",
              "Bo3eoZ/ZwYmbl+ciORGrpeFDyuwRE7ze0jDZi/Uhk4Hvf1JOpk1GfDALSBgPglY/niMRzBuSG2eY\n",
              "nnB2e0byELM/mrok9oF3/S6NHbIOb+iWaqo7dCYUSuH9ky6S2MBoodioDkYX/caiTwz80fBhqeAm\n",
              "qGe3FbEVIK+riBxBtjgFBz89h0LDLN0OEqT54U48SEEC3z07riYO9HjUenqfSqwa6QCLgyJgKHr2\n",
              "c9X92B2ifnBoGk6a9EBUiRSWcmj7I3J9wPPpn8gHPeR7+g4PJ+XoeVIL1Q0dk3S8w0kpJ9Um+q2Q\n",
              "XlQa5S3cjSJzY3qhkNfQq9toZQB5PjrwJPvIcRoKYMeUjU3tSI/uSFl1VWAdq53Yns+Q1rN2oEOx\n",
              "I2mHWSNwxo0bq/WgeOtubFBHlYFl8Mrkz8264zrUl+vgiKNTBxZ9lFCFaWmwqJF9uJ1H8cKBjB/t\n",
              "UGt0yVDMFGwZoZqRhde0a46AacCWP+wrVEG0ErKlv7hVwEsUCY3Pe+PNo8uN43D0z/kM1760DBHB\n",
              "xWIsMauamSF0iAxtS0uGmvrhMtcRpD1AO/CZdHoyI36gv8eN4HMjyXsP+pj8pVFnWiDQ/0iW/Wtw\n",
              "JM2YCla3Y94sY5YFT1usvZ9pqVYV3ryL+rWxtNKmNoerKTPDtfuo71nIw09DqPiiiQEyxqSCHqgA\n",
              "l1/+YoSNFaz0i1pdrN2NQ0KLIjtsk+w3qGnUzR2HYawCBiVhhrqvjE/pl4xYkPpo0MfIbN80rUkd\n",
              "AjrSUarRHL3SvmUMLlYXIrNCp7r05P88NgPhTODJNuQLJ0WjoPzre+fETHkcADN9lEcLjhUKIXfQ\n",
              "Jg9GfprPxA5a00j8VikWez4wsKICqV4mOoYiuuCVyhuOnwdngzbF36GJyI2HouAz0uMijGuy5ZaG\n",
              "ZZtJ2L1eKL9kURhWBWytToTrsNLDPkKEIwKE76hr38//4bmNuV//57zGTOqNYYmA/5T6z8uASgnK\n",
              "oJXxf1YlkVFCIjeFFFZbItvH1S7LKc/7IOVSorx/+7rzecFILBa6ATrwVLS/NcyvbyGvl6n+Tj+a\n",
              "Lifb2uEvFx/PcnmjQ6ZB2Ceqnn0hFoVoVHR1PQ0xIQxz2V7DMcmP9D5EJl79AmfKPaPfaz9o6bdp\n",
              "fIAPUsEs8ac38y6y9SNf24nxokhdh5+AMd34bwMAt+dlcgJbKQpQipgahDBXI4A1cv2xGmtq9pnS\n",
              "Dg+wHs9O51RQv708jN388p/52UC59zXqTkK53QgrIXT+udRWX8AlwWstBYPrZX2VORnzpjF2lLJA\n",
              "qizoVPTcB1bW0NmP3t3hdVet5dB66isQSBeLpLmFbMC7Xoig+90lZR+/iDiFuF1Y11kfRboq1fPj\n",
              "6G8nNfDpjRFHg/tmCMJu8gDyKKyrSStLXpomqnPIE2mtkpNfYktTFdqiZKTgIx5S133QQ8kPpaoY\n",
              "HeijvoRoWMy4JD058T0enKdniLm21xCU1uihO2mv0d7ZpRp35esMzWTly1yw+K34zF6o3CcU+ysj\n",
              "8eArYr/c8KAZAWXmDWdAkdAakPgEkV4RMNDCiSR87PU2F1soKzv0Z5BoO+C/zUAz+WwEnCFcSKvd\n",
              "T31gglE1LEgvUTPf9d/hLkLE5/svukr8fpAqDNu3N02tT80AB2WnQ8u86Iqjk4RKOiWTSv/yMe95\n",
              "Plg9cNelAeOFutngIf3xiZWjfDQ0FDs9xZHDmHCy0dG7gQu9IfqVBw6VYsBzatdcKuYnIn/i6jpZ\n",
              "+SmLKx5dbg/M4zi8CdMtsbNJP2SEbawSg5ixcTGReJhBXlHFT8KVrhSQogAtSZsN3lyKssrMpul1\n",
              "4r07D9Gp+VZVK3Y+9kHYdrtTuE49IdSGpSSWmhDeA/7miAWtc1DGJEnjImQUEicngs+S8aUq1gjW\n",
              "u/LxUXAwpWKMN3FInjhUHfmvsZLjpr6y9DlPYY2RKlsLzCeyYFDrfIQsdLgEfZEoAtfvrfJTfjQX\n",
              "AF1e0DhgylITCw9j5lkIzTjvzCGDP8OxgP2fgnVuQCcGtnnm7Db8dSIut0DavHaH7EZmnJIzjEy4\n",
              "jOZyKdT+Vzk8dHw3FODR0lV8l0ipwMd1tV0kNfO/+Zz8BeZbVNXSZMSRikKLB03wfLt71rLf2dlC\n",
              "PUXSgdtaazy6NKmfpl//731gHvPX7Cv7aI7h0V0o3auVbwJtJ1XSTOBFPD1Z+T+U0XBCrZDk7ZcN\n",
              "4KtUgBxaTB7dUxn27u7bV1lbBCk9T73bELV0Y9D8qdGkRSQ4DtjoVvxMowSzwsnDgOcnn6D7cBVg\n",
              "SIrtFAbs6ceN0bg4ry1C15ND4aMRefguvxi5OY1YAACClaxdYzsnN5oGtfRNPPou3FS8WAcBIj2Q\n",
              "FiMNdNdLYVqCzyrNWK577d847dWGJzP3FAT6AAZEAAADAI1eAV+2QQAAAvNBmiRsQR/+tSqAAK3t\n",
              "SbkNeUQAC9+5zoubJmLD7nDcjyXsxuTD7DiomlcKS0aIS/fRgrX/uAsjZ9zRSab2iYEEIQ90IJRG\n",
              "FxAbH5vBzIa7rboltdSokzgDN4+rFCM1TbuR1YRnE9PUtqlUGIs38M3bqOKfXS9imymbpLP8YTwZ\n",
              "nEBMtfUm623+oOGBC94aQHY8uf1+xMtiM90TZQ98V6dO6+gLR3ANp4Ou9jPNCbrFMs728Z75qOXI\n",
              "l5EYXqxU3Xzy+LFbZ5Cw/uSCqTmizBcslwSonXLFIPukfHRdwOPJVjnsn9NiV4IF+/dszSibZfZ4\n",
              "NNGD31SPnrz8SCgPrBCEeHQfVDDw6I6W9ewY6u9VW7VQ4pnctCi8/4cXY3HEZKniv0RUE0yTQ34N\n",
              "0/H12vVNjF19nV3oGtbM7sQ63fIfYqhzkejMZTl6LxkHWlsbDtIZQzMmlfbzyB5p+EmeEFPRzNRR\n",
              "QkjvBnzzNDNrUUkuOAi9zD2LHi9P9I/z40auQhO0YwXOFiCOJvIV0KYcMTvVXSwYRT44+FrQ1azp\n",
              "N9kA1eQtXA5sIAHFHL6MNYtP2r+kvkezG1GWF/x56DqB33L3FKjRhkL4h43IjX59Uu6bJWp81fuq\n",
              "OFGvoJekdudr9iO9pV2GE7Z0aZ5uSyY1fYe0J7hUvyFW4nwkz15+syNtpZavGqw6oJPLReQDVVIl\n",
              "v/0L1y+iZOujuFceT8YdmOtS1sKSsBJGufjwGLlcBaJTCdQ1r0kgBrTRYEfMSRW7rOE86KU7rJ/F\n",
              "t6M6mvPcHAYT7fQxE33c8bDD/6d6Qug6I3WtwTg9WRkUI/QrNWXVut5ypVBixsoKtPBHpGV2DKFO\n",
              "Rf7+4BFBfjYiscrT0VajS2t85vHN/fY/3tIe9qm/OuJAnUdgYaBtwO+DXccx4zJ9Ftmi/GCDekgR\n",
              "yOWbcvp0i/ooRDFV4wgBVA1A0FDFsC0IdGJI4rA2eL7YqKwchALqFv3BV5ykGfkEyWasFCpkf4AF\n",
              "tAAAAjtBnkJ4h38AAp3Ozu6oyrgnABLGoZnr7VMuz2YL5XRqKM080a7PbvpkgrFJomG+2V9h+pV0\n",
              "vUbTlh0ZH22QY6vsorfU5CdZfkW2vqzNJJvpsBIJ4PoC0EWJE41OkBQGqBmnPiOrYhIRWjLCS5CV\n",
              "7aX1zpWFtEkf+gPzZV6bPw0FwxEN9yJaLMCRMNCkm/BZ/aw0ARJ7KGouAvvvKg3YDLugjRzAbO2+\n",
              "PYjy/8y6v+sHrtCIkbcnQ8ysIoa5zOneBrNsYexn2yMBs8nG8u8CKKqiFJ+EKXzgRQGWKjnQw/Od\n",
              "/xlTT/gPsfFHu+NGo6+WWhyKrAX2M/lLFLFVzyJVWhAIsPbiDR1azTLHvsbXigVGP+Q3TQskat4L\n",
              "Q8XyZYz72ZwJByTpJhcE3Kg7kIqyQya1rmecLAjO0kIjw0Gxx9dTrvaWmH7ztsBZqXQZ2iW6hzew\n",
              "LqIOjtinZdHZ+p+jx0GAoYWbClILjruM1o3x1X+obPCjrbSxWok9PHs4dTjenEGz+tLZ+LXfddWd\n",
              "QOin6IzW3ZwyrQd8INDPONUoT+HYOxQB7jfuZvg8PfiTOkuAry5SvCw5Ok9YAQWfvHyLGHbw+9yF\n",
              "L+roanVqUNR4L0davud/Zq1+mHf0ADFb/ByaF5Mn3XbmO4f51wzHauY6FRBMFpM+6xnVb4C1LUup\n",
              "c5jXFVC3nQSGm60ZswZhGW7thEYAC83z1iBoPDJ24VAU/DN+AmcUh3cjtuhLw8txed1wArAgAAv4\n",
              "oABE7wQNAAACBwGeYXRDfwADqjZxVYJnLyADVybw0rkD4vwW72it/o8EJsC+bHGT1/lzv95RhmYF\n",
              "HnQc6UGiPxL7Ifr447s4BUC46ZApnecF9efKC6u0uf9qQq5K60wH7I52NEMq7QsUUoBZQVPOQ3Mb\n",
              "tsYEOfrXY3uUrEJVbYMpVAwFQlNApBPX0viG3cdkYwCeOpekJWbNUsWwCaE5XEuS23N3G3nUqOVg\n",
              "Owjg5obNResQZ3XAzsx9Sa9WpUYe4YiSaB6nbiYW8NrzttG0yXof8CkYjbLrWu7NvgbYalr1c2kS\n",
              "LY3/tVmFAErkTrzf3pDO5+NGZooDpv7+JF4styViX5+ear+I1+Iz0UcPYDydzWcaAlmGTxhQQ054\n",
              "NnT+vIAZE6UEFFVPSa3IovTYHKjp65h1SVoQsLWDAnJZFnJTywciFwkZ1WFrUVxEWE5QaNsUNa2L\n",
              "hpcFmSuHB8bKUnaj/reHm1xJCru1Ci2T4C5LStguRagmQbcLwksZIuuuJOtW/njQFV/Y6pggTyPA\n",
              "utGi5ar2gMdlo8esbSTETM+vlsgeIXv8O5DobviHFgP5tZ2rjRgZcBOCzJEVz58c1p0L8tJcPeak\n",
              "mw0WJfCzEiZyLxVKA+IbNoVwmiMsAcsyTTmNf9BYO5VNrdng0TNTSgRXaiIDr0Iju1KGVWOdiLzs\n",
              "mz57/w5x2EAAAAMDWvAWUAAAAgEBnmNqQ38AA6o2aBX4ENQAZzceaP632GoKVhTp1kbku0dCuQ5D\n",
              "ZvM/HXWNQ1BXBUpU2QJa/CFA4ZJrnPrqnIfMBDO3w4AzULXbzOVFELZfw8n2+2Vtetk6pXryU8eX\n",
              "FcihMkXEB9+1gXpDOzWmGQ8AlWMkUBWn+by0TulyRRRAzPIXMsBl4gO7huEHrrqgpZamtTjQcxZh\n",
              "nTVoy8FIQPKtarsBtk9P/0cnkB1i5Hvxr/VWlebCpEFMgzb30UhOPwGHRM0eJAIIJ8m0lJqtcxeT\n",
              "N67vwt+vPp9zfZcKPFh/1lxNJTGKeWMsQ1LzuM/+kQ1hBr8MfAZNwyXLB/o9vDggFKpGeCbXL7fE\n",
              "4ykdEAE/jeXm/8RUem9Rtt9yfF3Z7NylknCjoY0KyLNe0P/lAhes3mwseTBr7zl1c7NYCqoqPbbR\n",
              "z46pO+WY1y29Rctcqqy+Xq2t20Tp8KtbJq/flYk0LOVf2hz0uLonsPjRjdCzOFaWfl6w0Jbm2HbH\n",
              "smHtrB+abOG5M2mAucmaGrTykRj22aYpRoGQSV89dqWe1dvYyS3KvbMa5LcLLZAHZIghO56p/r1H\n",
              "MkJcD6On9JsoAvHR01h7Dnv7DB7fo9CZ0dOkYXblPIXnLDMxI8JCRjCmolgwE2aCu7wNVKASJGcV\n",
              "4wg9yyXCe68YltbCAAADAAADAccAAAKBQZpoSahBaJlMCCP//rUqgACumH31OoARY2OR+s4bDQky\n",
              "2i7+KgFnCK2lkn/3XOmztjXL1fF2D3spy3NZv/rcyf8OSL/thkEm8O4rinm9JDT3epsIqiq9gEME\n",
              "MlH6L/1zHBQUE4a1KoKgMP5VUsEbcvE0Iz0cmeNfq2Rf+8FVS5hxtEtsATUjUqB0hbJRemHDg9Md\n",
              "OyLH8f8x0WCwE+o0k0YqhDNdo73EhQWDOr5qQv2jiDLiFIrd/LPjuxAWW8//f3doousSMPOiu6u/\n",
              "bv7Cn8RqD+ZqFtU9i9mOyH5Pblr1nxxzzHLNP0rks/g0VMvUk57lk6rousQ0kYUwCzqjRohA55BP\n",
              "DHdJiF7LD79rlYJSIIDSvyj6342NHYwoUTOtYIYcnB+WxHXFGkqDOpiifIns/sDUD24AbaH5lmsF\n",
              "EjshEGlnF0D7YTU68HF5M8xDLHpgEzA+KlhcyM1bq8LRd2ZrWkqEbnL7aWh/ceA1xqB1I+IH6MIk\n",
              "rlb9h8lCQM40eqIEOZyzFuQwAFLcNmPCMjZMrlr2PuvC446YGpXH21aRIO2of5/hVHUn4uFTSZQs\n",
              "mf3W74PdEP7FFUbQaylNKmVxv4iGOGVfBjthEBE5PLCtS+7jL5FpteLRV6XQCsGFOYdtg14KYPvs\n",
              "5NWeepEi90RKhF6pcTMlaln1D73RtCBMapabfxwO8dgB6vGIi4H43YfQuyLo79JHj7gLTlIkjnpJ\n",
              "M/mpE2KLBu5UBZzsuTmrQKHCG69kKmrYZkoRbaNJx2MRKUwRzoKn+EZvWvIAAAtfGaU2n7EyleaX\n",
              "cOV3dJl2KM11adpyzJkhOGC+mHYEIUwgfipMyOCxgAAAAwAACXkAAAIzQZ6GRREsO/8AAp3TwOvW\n",
              "0AGrbqpwq35FSnN5c/hywr4oRBYGGlrL0+UXs/gskWNiYMOQnxQYXqCrscSj8AAAAwBcT1o0Cm4B\n",
              "1no6X222sNRqYY6sN+q2+aoekIegVTxHbhjbmmMtJhYW0ZQH7PHl7U9zscSdaUPRMrlQAMEETpJW\n",
              "iF4h4nykBswyTr6GrWDum5bcNZbonHC02Djw9X54l2+FcUxn1XbROVy8fg2SbbR8NWKHvuXumGDe\n",
              "nF/CQSemYBVd1BblqjIQfJWjFMwYa/DBb4+mmo0PIn6617HsNRktYPJx8GCtBAaslvtot3qb07dC\n",
              "gYtLFfFlAwseFGljeenKzLSJGg2bmEYvKMAqXjGgq23sDjxCru/6PDR1ayBSbIvmrfYRtd0LDyx6\n",
              "3utnmzfzmbh9x6aGMYPOplkZvNcBQtExs+eZU6HMaHU2Qx8ur6TGG+ZsTMNjoY3q7Qi1FW7AdCeu\n",
              "U3UFqmDLr1TXyQ+QcILSq0eGHhVKiSGUEJXVoZ0uz0hR/dTBj8tC1KEO4l+UyayyEdsYQsvM8ucf\n",
              "0QaGDthOFYPb1BuqGb6Ai7yFY22DqxMeXmjvrBqOdzWd+ArDnng5Kj3Q2jHKMQCo3OStQ7Wasm7G\n",
              "d3yOajHaa8qNhuQTuhTct/13L4hpEOS8bHtzCIHvuuAMZ9Rjs48cAPwSf8fd7MsNUnNtb3RjYLlc\n",
              "5YoC1d6GIT6rgNqR2nDQ1B5ghALIVowTHXwAAAMAAAMAGPEAAABfAZ6ldEN/AAO0Mwx6ADaMavti\n",
              "LbUrSUKAUlMkhcUJ370AvoVkKhO4t55MEqBSNxWcvEt4Ye5r0iaNU5YT7FAAAAMAF1PWjL4/Rpi5\n",
              "bIE0zrgFZ08mLdIvgAAAAwAAHdEAAAILAZ6nakN/AAOqNleXHs6FJhaADaNG3AGrj8EIOoVUgKrN\n",
              "qgbBnOoVva2mDcRnQpCPlRGi7wPR1WBbIF+OOsSwC/GS2of9WHfl/JpxQgRBu4bTDc8ye0W3p2CO\n",
              "cP4auORDKnivoC+WmmrUTGP4fLB67IFAClndtUgZvG/lNYYMbdUpJjPMxRTJ408OQh0phv2humc+\n",
              "RvSOgX/sIm465Em/+w479XVOqtkW1T6OX9merKwoR3VITWpIVnafiO+usCNwRYV749xwBXNFxZd+\n",
              "+EqeX7p9zxXEmoABDRVCHIzulM9+rUEC78k/4pgZjbA2FBY70gi1H1veOq8KeGBlMVB9r26msMkC\n",
              "QwLE3ttgcnvtLUWKWZ3FLNVhokULhcPt58BwqvmrwsPxMsIsnK2M1uJD5PccqrmMzUjJPSQdzrgX\n",
              "7VagpJz2173IT+gXlBHAG9/+RAkZosQkEjLaGiPkvFHzR2AAlJA1rE20dRUT7w1oN7YNhXl0hc5X\n",
              "RyBjDCaPYp9irl7WTU/naaJvjgF4TjyM3dKa65SF2qtSR0UKtPUeCuWv2IpgPp9NnqfwSBxiBvOS\n",
              "EPTIq4lQdXvHq7sdHEDXRcUNUj0PyTioiJwoAaZqpcSLrwAQONLBy7GisAczFNSyTryuxWzsNuKo\n",
              "GYpE6Ag4D+77izhm1DYfKwvxaW92ZG/D1QsAAAMAAAMDlgAAAnNBmqxJqEFsmUwII//+tSqAALKO\n",
              "aXXpR+hN/xbB2qgAh+4YuGGkajOYvK2uk2lcI+M/Bzv7x6LJlf2Qm3QE7BiK9nTd13iBygTHX30I\n",
              "lBsn676qp5zx5sKfjQ0YkgDAxz7zwFXXmYEzZeO5eA++pOGXOaFbSjPpGBIkvFD4XTDXK0wE6kT+\n",
              "V2vzMs4wLckizOMODaCyyafGVZT0bns709P3yz9cNXPAyAYvcsQl+1T+vTUeL7SDw6jsZCjSCJF2\n",
              "LSwv94osHa88kkBCdgbY9yzeljDOiYjuXkwh+rAFSi0NVrelYlAXxxJou9ILw/d3j3/vgMbxQ5B7\n",
              "99aX0rQrQjg5T8p2xcPmM5lPfrVt0W/4b6dv4a1Nm6769hHd2ffyHbIZmXfErGk0juDMaskIHlif\n",
              "DF9SSlN9EsEZC0FANL9Kf9RdwVVQy1ZmDMWd4LNIckn+kPBgzLUz8XCft7Z2J4QUWDpAq67pns5E\n",
              "SrfNrH+I4vsXH1rsZrqzAZngrZOBOmn+eBKmaiYvkTDtiUQB4Aq7G910bi+OSfHrASe/f9BlJBw3\n",
              "yDv5KnGj8ZZtO3PpSfOwIOIg1hNCV1M626eS6dkzkU+/Hv1YjOhlrZcw2+Av30lKcOMKe9J9x576\n",
              "+YiSAJ7XY5Wswd9iAvQ+LZHjbgVz82KFkAYIv6ExgHtLsZZontsBsYeT87fp///q9HuyiXq4v78P\n",
              "WNvf1xjK1AcVRekkMd7Ct5LIgYsobQ4Ln2dJNfUQLEfKXSemmg+ueeKML0eRX3YC8EAwInlMajUy\n",
              "un3STNgRn3pVbiduYBTkUckQ6Qy1Hx1ATUrSpkwq5IAAAAMABbQAAAJ9QZ7KRRUsO/8AArhioVuA\n",
              "DaroBfBWtNbKV97ByI5Dk95P0cG9ZbbVSPtrhz6OXXjyfdaZkOdi31XqIe8OxBZWAMrxfo+7ESU9\n",
              "2SD7PglIsCNbkznrIl+pScuUKnuyMi74Vgof+X4nSnr8zf+7KFekRoV5a5REk73mskb1Pd0ZIUnG\n",
              "3834eE+rI+e/BksuO8nlKltVkt/XLCGiN98oVqemyEBJ8jBCPw3akEVi3bXFFI94FO9iMvOQF1tZ\n",
              "if+vLJ/k8P0E4GT4T614wajZ/cpTQYU8hvOtJ0gWECzm1wPXcC+PBigdu8UgSxDjs9vJDWPRGVQA\n",
              "qqFAI3zcv+FqxW7LlsY/5mWqtjv77JqusgiA0CJC5atytfw1uVLfGAAGCZH91aBG+DVuQsq9pis7\n",
              "HNszyNeGr0PjcoTsrYhYcbMysv1rix9Qvd2lNfGf28rU9algbUJpJuPB6mK8Zj0qZ0VxIMukBXoO\n",
              "vhh8zX9NaASnmP4kEK+7Nyh8qpAijyiIJo57/KGHIrr9LHgFsJNftPguTWHzqhX66O9l5FC98ww8\n",
              "s+S0zS1GhVk19F2H1rH/QovKDRWYvAzh3z6VNurEZ5PSCYwySvFbAvDWcVtHz3ID73UzjEUrpGiI\n",
              "cTrtuahsaKwwU7X0bUS89fFTo7z5MwczhQGGjidOp5TGVF1USRZJetMUQSUCSkEMSJJsNRMarBN+\n",
              "8l6++ZteqlKtkWxafupyzCQ20+UvKzvl348zMd0ueMOrr+DxPJyefzH+OvqEyc94Cuq18SiwATtw\n",
              "GgdcfxZv1gKznvlvPmvZMdmSihol3TSQRQzebj7A8h2E6P/iEluXfLvSkAfAAAADAAAj4QAAAGIB\n",
              "nul0Q38AA8x4dIr/nfb4AM6sAGrhpmDPl2jireHYu+9h1BEU69l45Kwd3w6yQu6ONjGHETJoBvTb\n",
              "FkFc4JOQNbERA5PvgsxoCrv1ETPrZ80Ymu0i9S2sAwAAAwAAAwAGVAAAAfsBnutqQ38AA7f3IANk\n",
              "u2B/TtwUf8DJuDVbY14a63Bh9UKOR/hHt+zu0CF4VE+1LOn/OB8O5j+du2A5oVuv0qlpm+FReomc\n",
              "5baqSweCTVYP8mmmXpEgDv5e5vELnBpebi1w987tdu1Vomn9wS+3+jjjGkDG2eNGQd7kflQbM5Gp\n",
              "7jzAWagbCwVtJQnPl11hguN5MaPzZC9Sv4Nl43T5GMvxcVsSmuK0ME8485vThUapu/DSk3XLWlAR\n",
              "fbKxSmhMhLoUIIHvXHi5jsC9P8Xhrc8N74IWjIuHCq7itMdTWvr9mIKp30VWknjtDFUYfFb6YeJ6\n",
              "6rs7ELNPIc8EXAjC42Psnid5q3N5D16yBIq1/tNSX7STqWTubgd+RNJopCpWyVRRk6z66+vH1JJ2\n",
              "h32GpJC1EXwhxI2gaOevnnirYWJM8wfFOyUrY99SNqkh9+m4vT1Z0g2hXhsc+koBFWty5U1h1Jlz\n",
              "saOxV0POhOQeN2vbwvYWvR0yIoMtirbklD26S1DwKo4i8LckpTojHJ6yBb+f/buh7RwTxhMpZyFl\n",
              "VFvUosjwgu+s14YOY+96yRSf3J+fgYLwF4n2uYxQoji8fQZgKOaIqb0FEjgHyGfp0c12VLMIhAm1\n",
              "0ZYM63sH+zzq+enferfGXszNr9kyk3N7mxfNobM4uAAAAwAADegAAAIxQZrwSahBbJlMCCP//rUq\n",
              "gACt9fIwAnbcNnkS4TNxG72IkuZoFQ6CBRSBi8nTj9/HNaNQDy1JgeCIBQf5lund/4qOsXwWfjNb\n",
              "2EcciAO5uf/X6e+fNbP6XaVgrloj/JRFfwUrx78g7NwgBKTWjtA7TUyjikpGRXunIDm/qNRtEtVn\n",
              "yZarc+f4e8UKLH5LCwGbt6kUbhpNnKqd5zwMERz2n9J7MFP7+vZuFyFahOQwHhkfA5cdkx4Ct35Z\n",
              "quhV7dVqTKKakJ5vWtphuctDbzGk+Mx750xkpk5KIi0Y8d/ycvB8ZTK/IxXWMKLiFejPKfI6qHtv\n",
              "OZWVIabWGulwWkYCuPWdvPnkxzgZuFWSzEZoOFNuH6i5lhnGBW4YIfbTGaOfPzzQ3deBw28WQNv3\n",
              "OnobiovZfC8dKMSZsyxw6NeJJiuS+qRMK/XgkE3xzDApy8majqFgcx/b4y0hV8Otk3/s7KtqMx10\n",
              "jG8bBO4b8gROc/gqMJVkQmr0oNIx6gWUoXlqBkLRHqqAW3H58eXtPJVo+eDWps17GL9n3fatz8Od\n",
              "x7huNgFVa3hU6fEfpDRMhwvwOJdc/6tINcw6naNsB2/Nj5gBuJ54dyDAr37/ka2QB56e+T2CEOi4\n",
              "GNgDb2UoUoWDCFz6H6vtqXUrte0HWhv3epxTiKOpfGoeEQAuuFQI4XY9V4JlvgSgkT5dW3rPw5eg\n",
              "9rr5xTiO6A7UYvkz99OoK1SLxBMiUfVL9AAAAwAAAwELAAACbEGfDkUVLDv/AAKoocAC+vhKNZdn\n",
              "Y65C2My6+Onubx7kPMAFiV+EMdKenCeYZx50XQpoAqejRUWIsWBT3lAFXZA8uhxzwEDP5lqB2dMF\n",
              "cLaNSM9CFpLHe5KO0hGdYyyKvYB/MVpQA3AypCqhvuQn3Sv/x1JHI7QVPZQ9LqO8oFvvJrwTBxFD\n",
              "M6MfIdxwRjf2IPTZNEfjVzXsxkz9PyjuUo1JZu2CSJlNhx+TKxsj6rTV6OQ51VhqPgEQrkC4ALox\n",
              "e3IpqRwmEx8cSFk62+uvn1EZYIZa2YV4ia7WprqSO0ApIU6n4O/2teuoNJBOErGYU4C3fvgHsYau\n",
              "Brp33PveTiCYYR4nPSKAyyONSt4lG3Odl9s9NaHcBlD3B/I256YfUa/uVxyt6pDl2GLg+jlyfynO\n",
              "3UT1344m+HyPgo5PnmCUP4plEEONAiWI0/dHtdUG/EcpLFOCOxslVaYN76OVNevP98J0rE4iBob8\n",
              "8zDEciVYJO36KjLT0c8fpRmyPDobNe01oVTdH2LN5ILzBsvZvaduppr6/wG8EjEqv9yjyHRrzTR1\n",
              "09OGwFoebHmV0yLIDyz/D6JvFzx6/9xvU8stuaDoM/18dblsXyyFSNyNT8wg2ffiMWbcS6o6jE+W\n",
              "y8NT8XL17hTKHaZCdpT18JY8/+g17TR3skFKIYBYYE+3PX8VUHEcM2iay/0NKRX/jYpfGWFCulZb\n",
              "IuXCjh4kjSVPsUBsi5NpdrX45FMM8eXYM6qgzm4AT7aZzrS/dlNT6XkrfLohXlff1OG+nMPdRoTw\n",
              "pOnQGPdyiR4K1pVSrirZtAkitF4AAAMAAAMAADjhAAACCwGfLXRDfwADtoC5ACEEEW97H8U54iNL\n",
              "HBVURw6eXsENbLmOoSsesc+NREKhd25+n1zNr0k+0uyB0EE/Fhq5KzPjv8HisN7Q3Xs/5t2y3Y4h\n",
              "EKnuxQvWct3B/llU4AUScDc3k1NOA6C0qbZmlLhWOYZN7i/+P+n/1S5qUAmWJSWzwUVJtNth3ufC\n",
              "14QoSGUAv5QlYx4pZFEV3vDKQcpDJTELIwL550eqkK6FpTIOznyDleYe3iBM7HuCRqSmfiIQaJSQ\n",
              "nEiUzZBMPYBrJR4UICDWa0R0AXgXAGt+0GwDOV99B81Oas8+XPDJBVt/aklHmeHnhJmdL9y1Ddqn\n",
              "lF2DHrwqcMMx3EVMXJoRLNuQ+XppG1loutBK4C63Sv+Vd2uJu97Xg5a52C2cFw8xCkApkTkAPJCl\n",
              "KxF7E40aSUmW9Hecgi4DJUr3fM3xslHvryWTZRK5DZi+v5ecWoWV/gaUS4T3wt1Yv32actj9OuKR\n",
              "EjpYNKR5F6toAr0wbUOr7pO1bFqc/YcqAmr0GS0QyU0YxtN4MtoLoVhGXEyDAgS0k8DYry5oB9cG\n",
              "tYyAwflxAizD1+s1JOu7fDe1+eGS+pA3UZ2UvpBOa6TpPcuhHP2pBzpfDx6NzVVPX+/PQIeWYMgO\n",
              "e59i0LLWnfBoGnHcnWSuHj5QMrpum5/2qssEs64w2isUy0QTQAAAAwAAqYEAAABsAZ8vakN/AAOz\n",
              "w51UACH/i0Ov7jhzuxazNXyYZ8/0Lu775rpw8aZ7+K+XcfsUFz4bUSdOaH5wR29Ik/kCT6RweVJi\n",
              "wBnlum6mvaOVehX9B2j7AnnoWKAhIlE41A/flp7TUJcb4AAAAwAAAwFbAAACLkGbNEmoQWyZTAgj\n",
              "//61KoAArgeaEAEP22HTwqm6MsytN8/7WALqzE+8dJ/8GFlGhjtmobqRhOz+pCDxlw+l9iLX8zwv\n",
              "fm5x/u1iJ2bXSQ3d+VfNCeX33jquTwjWgTi9c/BOCh2ycJwVxJPgZ7ajwPTUoIC69W9u4lSxZFqc\n",
              "MeDGuo1Ox+UEVjBGeOJ2DiLubVi/Lw1QomrWrYZYvdlslfIDqprUr+D61YqOIwEOz6/q2tl2S1Xe\n",
              "fGxsirX7b32goNRWXCMLFKf7Vje5MRaHzlMvUNZt/Jq+Guin+VXFUlcfh5fn5W69MmbFy/983HF9\n",
              "H5N+pjYzcuXOtt1FILWyzZT/lyMpnAlKELBuHsxL5zpug8Sy2iQxVT465uuHVpSXVXhScmUUwZb3\n",
              "u0HdRrmMCLmKamUbyIOs12nUqoRkvWYL2U8L/PiokbtNvJst5ORt5UVa5OSLuznGU7HTr5aQ/0aR\n",
              "kC2dfwNmgV9yQmm/JKOCTcrbq8GYwwiJKD1qn7UlsDNvRYATLWDDbt9MU1/mpgHTKCEF+eQnTf42\n",
              "tdlVe1rYeYomUkNBml1cDieQxBX+V7/h3K5OKyIywuYs5YB6+SGi9VaWMBuuNIEEkwt2dFYeornR\n",
              "zFIogMYYSENmxbtST/4u1e0nBGierabuF0mt+kLVHWAMdO6UmELOMc7vV8rXb+fS1jWG49oN5HNn\n",
              "gxXHiZb2FFEuz90sDT+PAz9ojeXtistrGz/7oAAAAwABEwAAAjVBn1JFFSw7/wACprA3AA/oGenJ\n",
              "Z8BgsQ0IJs0fyxVe2Yqk9ZafVVlBbizndSW6H9dBGvRAZKytgu3facgX37z+vMbrwS5iO5k8+P7B\n",
              "yMTN7VKx5qh6Qh5/TRHPSI2teB0XMcYK/X1fPo1avlXs72GC55CJ7pSylqf0qxcE7VzDs+tnwLRg\n",
              "7p0/bHPxiWOF5/UTnuRj67mlF/lf3bz+h8t+Kt12mjJ7D/vzASKPqlHS6cvwi+IVMGk0cub3CAdU\n",
              "noep4/lO0MnGQfwvhjA/98f23B6ncb4/jaEj9+s+bZtwHLbHHF6JHW3tPjQbIKKP6PK/Y/wHJxg2\n",
              "gsZK08zS1WnyDSpy4EKR7ql1M3cLZYaXjS59sCvh+X4i7seu6sSWLW03aS36NrOaBFcjWMG0y5/y\n",
              "7M//xTOkHsqraz2vwe2oE4+kVum7lQza+1DQ1AggrI49WCk9m9F0ShLxfi1F9RkYoRtELkmZNwkL\n",
              "PqKhhJH+vxHMo2UbIJO+PoyrY5joVVkZm9gtKA08YFI4SMZ770Wmiid72jSCa+i634UdGRh3KRRj\n",
              "8wmjf/RN8rTdQ3lMLyT0Gzao0yG/w36K7tztuU7vgzwTVIbNhVHf+7TyDVudDTxn51b746TwhP05\n",
              "jbIaG57SIYKUwYX9FnbXv7qreo322jOoQm1ZD9q6PTrBfPHzK5xSJtmBFfGZOxm4spPQLHvBW6wP\n",
              "f3MJA9rZjb3/KuPfo7vA63L5xMcB5KnOAAADAAADAAStAAACFgGfcXRDfwADuMegA2q5Lurju7af\n",
              "UZsNy5VPJZa7jDQw1V2TDJTvIjOUdyzE8mPfzr7BSU9OZktMGZCdOQLomCfZHYdml/SyOX6CVaE0\n",
              "XfnM4ZzgxvksrfujRlcOs1btr3TAxlYv5Yg1JJ/d9MsEzMCLjYUYc2b6rO/TvTF73agPJ0zXg6dr\n",
              "R3CtvnfthDuwPBlUYzQC5E82wvKBQ2sLRARQSb3mcsVuOQ6KDQm+IJVdYmk3sBRc0PCYCtfz7ij7\n",
              "FompMXw1i85kZN3Kn9W9syykIwJLpavdPMsrrr2gxgNslw+ex5JqViJf61BT9rJKmbV6VEOeVrkc\n",
              "UQtUmH91eFO+KLCfzagqgKOZt7uDtYX6nBsFnq7a04gnu41COlIAC/8CyUY59h+rXrPdXQ9ddSRK\n",
              "xiCKgfymhkIfvo9hddPy5/ps7gJU7jD0SH9MoPzNsUN1WdzPGwBc6mpc0FGyC+ZWC1EdWtEPk5Dd\n",
              "Ls/48TcGXYR26S7ahjGOzPrMI11M1U5QDEmCExhhctacNjmFtS0kEN68eS+VGdpILQtsuJMXD1Ot\n",
              "Du82MpvW37CYcqUs6q/hAiODgI8LRnVMtn6dFADjDo1ph5vzsU6lcohlFC9OLqEN1+5s9NcFz2PZ\n",
              "3gAvyVfIrbO0xqHXXCXwR+8DNn4oJma5E3IQ4GctTbDu7qME+ttCCVTVn/vaVLHQx0SbgAAAAwAB\n",
              "HwAAAFsBn3NqQ38AA7ZTkgAQ4iZytyEDMMYQoSHSjoDp5/KeEEyhiekxKvbOTODe3v+EF4Cl/f/n\n",
              "BR3muKNnIBB6GyN9v9q3r5LOB2IorDddbvugYinDAAADAAADABdwAAACSUGbeEmoQWyZTAgj//61\n",
              "KoAArhWxYARB9Kyw6IIeqaSdlF2GUsX/W+waEr1e253xG0JGGSmABEM4RZJ/a8CSfe3HgS44C5rr\n",
              "elgh5irdxLthkAcO44vnxFxOR2QlwWQMHmEXCI0zYFx0J7PmJ/PjrFwEmQSMCVhA3/3SPH6WhAJr\n",
              "LDWLIqu7BDVYxe67x2KoqpLOmjgv2FwvBZAGpT8bCqwnIVm7dlU76z4WkxeOtS/znFkjVtmsM08f\n",
              "NoId1/8Z2UB/+GhOfCkMOq6u4g8cZekHlHmP2ceMmqoE7Mb45KLWfQkRVeD/DkfqMo3S97Irk/+y\n",
              "lbBS1+SBCzFhaaxnmwubhOuIdEfiPAvZ1qLLD5Frwfi2HHHswXrkG5AFhC9NTcXPLgQefbZVCkUP\n",
              "0M/XapjkTQh518Zhy+Y3pvm6zW/Re9aFUhyxl0DZPnOPjX9dQOBo5yaPbuWLnGsLTgAZNKkXAw89\n",
              "NPhl8hrLpv1JbTGy7TBPc0ZSv+hZ1aeb2kCU/hE84/yNddZJbiOVR3dZef3kPnspH1QaCIY0viVV\n",
              "7BIGksttRlXJnBylw5dwzhOq/QgqBsE/kbc1/qB9DAzwDOio/1fkYKs0Dk9IUsqPQ8KAO6/UngBd\n",
              "EabNiBfq95ESwc2vv5MqLHRwelvc7YwX1Ly0YmasDYLrSZxzx3+CqGQFiECkCtwRv0IbU/mliDOy\n",
              "GI0v8MgMpjV4t5/ghUMCtO88vNB82KHm5c/FDVG74dJga66fBvl9/uQ53FsEWWAWJkJHPgAAAwAj\n",
              "4QAAAjJBn5ZFFSw7/wACpH2XuACdvhpW9kDlWc+VhKTSRUcfIhyZ38C0HESVYbTCtIXDp2FOE3lU\n",
              "HoD1I79KHfY9fNPd2QRVtThFE5FGv6/6425cnZSghipAWsaTFC1fg6E1MXxwHF5lCTwCBMkOqC9e\n",
              "NM97igsJnD5Oph/O4/IgNnoIPSHick3ylvIn1lypVl9TsteI1ajN4gKueFWv8ooJQRmwJvIcIsei\n",
              "fMIC0EE9gssvkCFkuRAmROADXXc2l9QW0nbsouifLPahnQT6bE2zIRUs7twQs9W18RBy6uxWFx7N\n",
              "q6cij8NxfJb327Qm6nFlL25jwikBk0izE5Y17qIDkYvvt3llJRIwDy7Br7OhqMTsyubnD7FQYHyx\n",
              "F7rgFKkZSkiNwRX6cVrTrQov8gO5d3tcLLGpfNm2kXj94neUOZn6/aBqGHsqMgEBwuHXD2bdNdoi\n",
              "oUy8goHt9LtIbjDuoVsLQL1Gc070y8OtMm84yPzQQ+84xE0CwxrSgohvXP4zaG/0fLtRYJBEqGXJ\n",
              "A+Wye3+Tgdlg1ft6I187mNs429WqShKHvu4874YVk56FxNZDsJ9LA4x6n/SN0EbiWZ8XjmFl02gV\n",
              "Ia1swD8xPzugtMkLtanCBzjNxA6+gqf+zoszIzeE7XVuP+mbRR3d3E7zmZwG0DhG9K1fhwDZBmh9\n",
              "ilJMTSIxCoVFsN+P8H3Z0gd9TVZAF+6s9MmCewcuVxWq+OdQLzzBLvpJRNECOlWwAAADAAu4AAAB\n",
              "+AGftXRDfwADtaoSABDddztjz6ttdileu+nLXW/m6ONLoIZKCfhbA6z4XD/8g/MGO7ZudpyBfcHI\n",
              "r/bWBSw0xXTZEp6pZKq3f0AWu2XomUSc/jCh6QmtbEJfmvDKaShwSbBmLLA8WX61QcByFvJrNZGk\n",
              "loWiwIW/d44WTRwQncLsdZoHqrgRNrN5P5CNJt3AQ+7aVITDrrxfPFKfjcyl2buKoumCY3CfIo6N\n",
              "yEB4T0S58f87iyNJbS9EMOHEOzpZ4KtSx4XFGbPqI1XegCGtNZQTI6q7WVLvMhotwxcxuKnMVr3R\n",
              "OS9ysdb4NKzHHDlxh+DY0FcmQPgayCLvDJtVicesr8dL0iFudrfB1jDY4zNcCLWNztg1xOoJ7nUq\n",
              "nWOwzmwhrK2OGTrX5S6KojSL7ufOptxUy3Rz+U1vsoZmJxZVnTQ60oQfe/nqgmZMt1MK04PYNu64\n",
              "SNShmUBlo6fZM0fKiYXGJJUz8X67zF/zttgFn/cyjFFVTuVbLHWcVZj2mtyNryWad6MvgLPspagj\n",
              "9vyT0k3fpqq6I1xNvUO+B8bIc/LB1jByvjKmRj3Uh0J2HOp9IY/S4jL2jUUZcnjAUYgFhe1jmp+p\n",
              "A9s0C7UnrOxa/h0XGDN+UNC6L7v0iBbMSqqSG74vRNQD5GgBwyZRgAAAAwAAAwCvgQAAALcBn7dq\n",
              "Q38AA7Nnz2QAhBEzlsUfMuWGJE/fL8u9ImNMmdW1GybhoScZvlCgEsRvkawiooiWnIF9k2nynrPo\n",
              "ouFiGUyl+Esdfzt8w5Si9EbagX7vACp+kszZOOn09CfOp4IXHQ8MGCHWRGbnQmeU9Vg1sTILG1jr\n",
              "y3/wjgklERvA1jD5Jl7JtOBJezJ6ZUdZYIt/uzLSFCsPeN9SVb0rc9NenrKy5/u7w661e9Hb9uPn\n",
              "b7UAAAMAA48AAAIQQZu8SahBbJlMCCH//qpVAAFcG9EAAQ4rwNXSIqvhuLkNzipbzHwjOErXySb+\n",
              "DC+yi/JHMgvwlHVTaLrb3BbqW1+SAAA42//LPIbLBUMw1sFXU9FQzt4PVOS6wrXbwTUuXL68b6z4\n",
              "HX15c0lw+0CHilMIcgy+94m9bdGbVZLivo9OjJ3Bi+Kx+Qb9NGt8km6R73/JAAsYVT9Ml/63TFdv\n",
              "zu/IxXopExVo1XRFR2WWwocopbFKJQYjuxI1wxoRhRuu3HVZyVH/Ea+CWn4mxFeCHBqKdc5T3fGQ\n",
              "lpLDa3hH4YjNPPB/zzxB6czFLiaLbPvkGoHAmyQara7/rC0bCAQzj9aUqi9mKXxC6eY2DQz7fJuo\n",
              "qYQuWeFLe1PszGq+EqSPxe5tmhohoMDmQL6UzHSjdYfia92mXYhT2uHvWk1yY0XL9ozr712h8Frr\n",
              "Q45+yuNL44YSsshz0dccH7/tCJ6Tjth+uyjuNi1DY4ioiGAFBp1WxLnLuhbpKBr/eat/uHZDgJN+\n",
              "PmF9CjspDg7cr45mXO49kNIOCNoS2bdKj96vmTjR/JcxiDWa63hMA7rde6TtUC5ozhd/Djkcx9eT\n",
              "2DwR3RpjAu8ho3ZEmHfYkrIVbOmcMmQcHCN4Ti/C3MhKXLwJ3SWS2qsVehTqS8KehWkPx8Vi3hh/\n",
              "6vvV+rQfSSqykEbN+wr7qLFMZ3WbMj2AAAtoAAACBEGf2kUVLDv/AAKeqD3ABEGoZjhCNF/FjbZp\n",
              "fKly0SbtOruifhL99Jn8sdGO9nfNpIiyX/dkzlKaT5GEar6+hQIdkEVqbWKXmXTbniLB/emoWc3V\n",
              "vRCX7cdrjA7VmINSwZ3c32NDzhhFf5sbrHTskHwh8sFAHRmfS8F91hP3p9fw5jo5Zr2FSR2lDZ/+\n",
              "XVbOWFTJbiJxgGo/F+WeK77xa7N3VnCiT/Gj1dCISmycRTLF72u55NdFurzCNiNtrLmf3jMZotCt\n",
              "xB6w91Sf0rzdckLy21DBGLbhfAjBM5eOvcFF1VabVmh7UwJYl9u+VYBqnyHc1Gcb6bFW5SIizMeF\n",
              "Lh4qUOhJBuTH6iCeTowIbQ16dVecpKbYae6Z1UGL671RSSy7seVl4qd70QN+gfy595oEQRKpryFX\n",
              "6UoZQmF+zi2ud/Bpfw3T1dD0sv2Qf96AnwKuzlGdSrvCIRl5r4Q3yNu+Ky7ZRafsKjZnOOt+VzHw\n",
              "JoxMmTNrJRPVznjlt+mWwt+AcyEC1AYQQ7EwdJ5wLSJ9xuvdiCNUBSxex1d38Bqd2rVQ+pUUhbFM\n",
              "z+eIJywc2soeXGksWSAhuojKOrIfH06PcqPnMEfIThc43CrPyi9NeX5l0LcCvaqepkItH0Gf28ii\n",
              "FsyfG3MuEyqcKaCxFWZlOB7gbd98qZTo0QSzwO8AAAMCbwAAAGUBn/l0Q38AA7YQjQAIg1x+hEnt\n",
              "lgNcX8j5fbk1aBSF9l8SIFpRgmHOn1QenbdPN23W2G6wiurRssHTkC+4MgZiqn4rLZ842WQ94N0T\n",
              "1OvRGWE2z85hlf+zIDFpLPKKoAAAAwBvQAAAAM8Bn/tqQ38AA7VmPaQAhTXHdQlNQsj3PR3jO3Hs\n",
              "e5h91SEc348P1K2kTGeQhOvGg3gq68PDH6P+nIZrbIltpyBfjlYl9zHMOhM3CisO0YAJ2se+oNyW\n",
              "9DGHwzeuv450ufo4eHDAlNKzq3FreOIl5CE0h0XW63aV56FozxN64DawbEG96Ny+G0lL4jn7Bb79\n",
              "pzgc+VFjWP2Z1V/nPCt0NN1rLxZrxCMdRBQkiEri8FguEDhzvomj7N7UTur+PFudyhYE2HM1hZeH\n",
              "+iFEoAAAf4EAAAIKQZvgSahBbJlMCH///qmWAAVRYM3af2ACIPkSuviN6mi7zURMYxrOyxy8Qz3W\n",
              "xu5aLJqy3T1SYasJos7KpxLiGAZDnQ1suEpvxpkZ4MxxzmDdw4vS1ugg18RXXdqKpoKqUijPKWH7\n",
              "dfggAAFR510rjchTgmKcclzaQiaf6xWcZXqEJ+hftVTUqWnP77JKdJ8ZUlOZ9+sNRuh8hJCrQmvL\n",
              "7J0S7UYgvTDSxI8/2eS0eSMWKG3lEdvPZ48r8aX25nz6lRAvfmhuZMPFsAlzte6x9oRuVf2n8cxo\n",
              "lZCF+ClseNX6kGHsUkgza0+SOFw+xxIHnzKnfnHnsS10OIHS+FvvwIUFGX0kwkY2kqIhE4hHAriu\n",
              "upKtzAeyclN0N8FO8YxvOjqHHr77Q8Sg1FAHBS36r8fzAQbPA76QlcfkcZeX1TPFby8sJ0PRQLd4\n",
              "+iIup9bcIkf8EpqeEyvvgiUBRSKF3gUEXrwYbbZZI2HSny29TnkNwt1RcZjRg+brWd7xtf7H/zng\n",
              "EU7moqXpNVv6mOyBMibAbM/rZ+nRr4cu/ZsBBNBCR4PwhziDnepBVYaVlbWDfK4BJgYeJ3Z/EGd/\n",
              "MuID1CQj4zhwZYe+DpX/R9uemBxgii9+uzu4rH/O6cFeFXuNcOtX2DzyBsWMzwhBd37+Skn05UAg\n",
              "awmGiOp0vxDcFaf0tkywEHHzQAKbAAACXUGeHkUVLDv/AAKdznqrC/aADOx2lEVnq+kAO79MKIEV\n",
              "LIlj1Fn6PFfJCzRV8eEEcf556ezIqUIg0Eono0MvXQU5AvxxMCmXi2b//lj1K7UNNeIm6KALqkm/\n",
              "8BSnnljynli9tyEJwEjeSVy+vgiR3P52OnZvF2dGEylhy9mJkvaQIHM/MA4+/OjnZLzKARYtMt3A\n",
              "Gc4AJb3Sj2lyi2oeAAHtnrTfXRTfgKLr+8mJKUh/l6e7m7ad1puF64n4+R1aiAwzYilFY6v8Xl/u\n",
              "f/DQU/M+3rS+MMUXg1N/zU0rNnXqBHEbal8QCCm4SvJk4PJr8WVEJ5sF10KLgFfVjpBNgGG80z4B\n",
              "V9C+CILK2mYr2LSgZCYO7vZHur7J5r0uIHUJNB88FRWvyOTWdvn51bAOWjJBCde7be+Fl5GmAIsN\n",
              "zsjwGB9sltC1+GIwgVcQtWfs4D3oNvwhQunIKPXFfEm5KNxxxLJP4YihHaN4jb95GjLFzQ/vyHwC\n",
              "uqYp4WO3upalXh60OMX++qcAxvzvn6K3eaCCVkK/LzkBVZK/umK0YASEpxM400gtsZNEjd+UaVBv\n",
              "4hH1w7Q+czep6MIgtg/1+oBqJ0ChHoCTlExELds2OVaI7ZJDVWofY8C2JSJVuLLr5e/J3xKT1+Jp\n",
              "FhuKHJywVPA2aQrcZEEa+7WFQeUjrihriD4K/px0Yr4zQVT2Zel2NAfhy2/TdCnaZcDMEE7zUbsc\n",
              "e9UUIwEybr1oT43EH6x5SDNd72Tav/jTm7NUtNOpAoXmHl3tSRSEqBfaak2GsLAG2DgD60oJVELw\n",
              "AAbMAAAAWAGePXRDfwADtoC5ACEETOVuQgZhjCFCGHLsO+neAHg9167qWKUppmrbvXCdzc9Q4DP8\n",
              "4KOPyhZTaAD2CLELCm5eBhEr14jjIl7bssU94WuWsPvrA4AABMwAAAISAZ4/akN/AAOqPFcUgAQ4\n",
              "iOorh2zAMSdIMeppEAqaq+W2HNW/TAqycdWHzLSm/OXh9dqy7IIrlsxi7etWjl0xLD65/TgAHkbW\n",
              "UoGRUymKoruIL4bhvXpnRCYp7/Tv7/bGBqgPfbIsrwxuGtNUD/HPLAziuUX9y93qh8eGTyxU2kif\n",
              "ZxYaPoxz3w2+cMZmtvu8WjoRmUOy7wdVfkcdKEciCRlB8wmA6682201zNo7n+3gNEYZefNpq7oK4\n",
              "TsDRa17qcErcIHgompSXDX7TUt2ZsS1vtRFUqQbhW42az9zDBSoHq1RZIhZpXMFi9Z8W+KW3m2Ep\n",
              "pyfK3mHCa07tdxGW1YgFm0lCEQGCxuvgLLgzvbfjHnZXW6twhsWiRIVKRWEXU/3pP5XXon/Rlfpt\n",
              "GS6fPGyPCaxxNCVresYmUdaryE76nto1LYAUktsTnRdgD3Wa5X2HJc4SdZ5WhAqcBFl+5xg7MzGt\n",
              "qQlm3DFVhcKhJQsK7D5sC1baaAzZNHFtyuH7Ejd1URZ8k+kJX0DUtj4ho8kD5VZ2F21K2TjOgKgD\n",
              "bL8AMif7wgsdH6ivDAq2f4m5yvyqzEweCmKe9/9qvtn91AUGrU5h2+mwDcJ8OIbEHNYy47WaYrv2\n",
              "FQm5snUzkxP2ehVg+HRTluOzmqjAbl81aMnHa3fptSF7o62dP5Q+c7VvYVSaazDvYwJQZ1gp/wAA\n",
              "Q8EAAAIdQZoiSahBbJlMFEw3//6nhAAKfGINrjRTrgBCTIcpOiWq4+TxSrn9rfVP0eVNCDQNi59O\n",
              "zrsAokFStcfPocXlE/i/h4vpRwwAAAMAABDuw8+bWppynzhmce7ZHtwoPYSgG8tZ+cfGlhw3KdH+\n",
              "zl0Psfw3fD5ovFBWlaQEWpPrPbeU/myCJm/vro/B0AP/KZoPdnbBJXlNEoViDKMNedwWFGfRF6Qf\n",
              "1QRb1LASShPSqAPueeJ2rykYM68V8AzIp08yL6zGcQIs9RfHNbS7Epdv4mjn9r0/Rrrlf0woXAac\n",
              "rjOXojQFE7Kpqyc421zy2OGS/N3BxABo/Wtqk8pXj2wjqG1bWIRi7Baus5/yjgGqby5cNW8PIW8f\n",
              "Jo13dekT5U4xvfmtKyNjarbPyV7NaCxFv72/87An7DkvAbolVvLvpuGDcnzuG1beXdELL7m6OEa7\n",
              "+u3eIUdscCjKz91MGJhCE7qacPIVmKtVN+PBj4tI7Ioa9INbuiTcbeX+tuaVWyF9n45ji2aN4T8I\n",
              "JF9qczm6doir2kt8fpy9PbBQp85kOQ2YJesIjS4alaOUzebv0uLKGL944lY00uxmJZLjrPgoHbgy\n",
              "tKbPISqOuw2oJr24MwQLlmzvHKcS0ZpxgJSSrQCSByVPELiFTen/sW8SWjZ7yPlFCgANMr6tzWXr\n",
              "6Lmfrx2DlYwmuqYfH2RBCevAuHOL1AmBBN4xh1dtQEQiigAAANoBnkFqQ38AA7Nnz2QAgz1nLYo+\n",
              "bcadPR/cK6vzj11IUouutPOT0IOLHPJYLmQjj1O+JBn/OCjov8Yj3aRFBRfPnHDHT953HwC90HYX\n",
              "ThlfLYdyEtXkrZObyrOsleq2XwoEq1K6OkVPA0HqSUP28D+vDBniaw+nKuArGZjWwq97FO5xnXy9\n",
              "/7pLNr4zr4ZSJWPPvvukMoOy/PSRxc4pNyNCKIOe8skWTW2olHgCfdKoZWj6achcfN4qAcyhLEMi\n",
              "SrZ+AaLUSzSdDp0DKsKWTVSIWcmgItVv64ANSQAABNJtb292AAAAbG12aGQAAAAAAAAAAAAAAAAA\n",
              "AAPoAAANrAABAAABAAAAAAAAAAAAAAAAAQAAAAAAAAAAAAAAAAAAAAEAAAAAAAAAAAAAAAAAAEAA\n",
              "AAAAAAAAAAAAAAAAAAAAAAAAAAAAAAAAAAAAAAACAAAD/HRyYWsAAABcdGtoZAAAAAMAAAAAAAAA\n",
              "AAAAAAEAAAAAAAANrAAAAAAAAAAAAAAAAAAAAAAAAQAAAAAAAAAAAAAAAAAAAAEAAAAAAAAAAAAA\n",
              "AAAAAEAAAAAC0AAAAtAAAAAAACRlZHRzAAAAHGVsc3QAAAAAAAAAAQAADawAAAgAAAEAAAAAA3Rt\n",
              "ZGlhAAAAIG1kaGQAAAAAAAAAAAAAAAAAACgAAACMAFXEAAAAAAAtaGRscgAAAAAAAAAAdmlkZQAA\n",
              "AAAAAAAAAAAAAFZpZGVvSGFuZGxlcgAAAAMfbWluZgAAABR2bWhkAAAAAQAAAAAAAAAAAAAAJGRp\n",
              "bmYAAAAcZHJlZgAAAAAAAAABAAAADHVybCAAAAABAAAC33N0YmwAAACzc3RzZAAAAAAAAAABAAAA\n",
              "o2F2YzEAAAAAAAAAAQAAAAAAAAAAAAAAAAAAAAAC0ALQAEgAAABIAAAAAAAAAAEAAAAAAAAAAAAA\n",
              "AAAAAAAAAAAAAAAAAAAAAAAAAAAAAAAY//8AAAAxYXZjQwFkAB//4QAYZ2QAH6zZQLQW6EAAAAMA\n",
              "QAAABQPGDGWAAQAGaOvjyyLAAAAAHHV1aWRraEDyXyRPxbo5pRvPAyPzAAAAAAAAABhzdHRzAAAA\n",
              "AAAAAAEAAAAjAAAEAAAAABRzdHNzAAAAAAAAAAEAAAABAAABKGN0dHMAAAAAAAAAIwAAAAEAAAgA\n",
              "AAAAAQAAFAAAAAABAAAIAAAAAAEAAAAAAAAAAQAABAAAAAABAAAUAAAAAAEAAAgAAAAAAQAAAAAA\n",
              "AAABAAAEAAAAAAEAABQAAAAAAQAACAAAAAABAAAAAAAAAAEAAAQAAAAAAQAAFAAAAAABAAAIAAAA\n",
              "AAEAAAAAAAAAAQAABAAAAAABAAAUAAAAAAEAAAgAAAAAAQAAAAAAAAABAAAEAAAAAAEAABQAAAAA\n",
              "AQAACAAAAAABAAAAAAAAAAEAAAQAAAAAAQAAFAAAAAABAAAIAAAAAAEAAAAAAAAAAQAABAAAAAAB\n",
              "AAAUAAAAAAEAAAgAAAAAAQAAAAAAAAABAAAEAAAAAAEAAAwAAAAAAQAABAAAAAAcc3RzYwAAAAAA\n",
              "AAABAAAAAQAAACMAAAABAAAAoHN0c3oAAAAAAAAAAAAAACMAABZ5AAAC9wAAAj8AAAILAAACBQAA\n",
              "AoUAAAI3AAAAYwAAAg8AAAJ3AAACgQAAAGYAAAH/AAACNQAAAnAAAAIPAAAAcAAAAjIAAAI5AAAC\n",
              "GgAAAF8AAAJNAAACNgAAAfwAAAC7AAACFAAAAggAAABpAAAA0wAAAg4AAAJhAAAAXAAAAhYAAAIh\n",
              "AAAA3gAAABRzdGNvAAAAAAAAAAEAAAAsAAAAYnVkdGEAAABabWV0YQAAAAAAAAAhaGRscgAAAAAA\n",
              "AAAAbWRpcmFwcGwAAAAAAAAAAAAAAAAtaWxzdAAAACWpdG9vAAAAHWRhdGEAAAABAAAAAExhdmY1\n",
              "Ny44My4xMDA=\n",
              "\">\n",
              "  Your browser does not support the video tag.\n",
              "</video>"
            ],
            "text/plain": [
              "<IPython.core.display.HTML object>"
            ]
          },
          "metadata": {
            "tags": []
          },
          "execution_count": 81
        }
      ]
    },
    {
      "cell_type": "markdown",
      "metadata": {
        "id": "hal-AnoI23J1"
      },
      "source": [
        "Congratulations, you've completed a whirlwind tour of graphs and graph search algorithms!"
      ]
    }
  ]
}