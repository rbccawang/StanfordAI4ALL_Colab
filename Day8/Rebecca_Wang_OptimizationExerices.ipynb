{
  "nbformat": 4,
  "nbformat_minor": 0,
  "metadata": {
    "colab": {
      "name": "Rebecca Wang - OptimizationExerices.ipynb",
      "provenance": [],
      "collapsed_sections": []
    },
    "kernelspec": {
      "name": "python3",
      "display_name": "Python 3"
    },
    "language_info": {
      "name": "python"
    },
    "widgets": {
      "application/vnd.jupyter.widget-state+json": {
        "31d3d73d3ddc4c0aaff0654d97b250a8": {
          "model_module": "@jupyter-widgets/controls",
          "model_name": "VBoxModel",
          "state": {
            "_view_name": "VBoxView",
            "_dom_classes": [
              "widget-interact"
            ],
            "_model_name": "VBoxModel",
            "_view_module": "@jupyter-widgets/controls",
            "_model_module_version": "1.5.0",
            "_view_count": null,
            "_view_module_version": "1.5.0",
            "box_style": "",
            "layout": "IPY_MODEL_28b65d9c1df24e9a8839dedcabff0477",
            "_model_module": "@jupyter-widgets/controls",
            "children": [
              "IPY_MODEL_bec3aadd0cb0446f824bf85f07ac7796",
              "IPY_MODEL_a979f2945ae648e88a0b55cd99f7bf67"
            ]
          }
        },
        "28b65d9c1df24e9a8839dedcabff0477": {
          "model_module": "@jupyter-widgets/base",
          "model_name": "LayoutModel",
          "state": {
            "_view_name": "LayoutView",
            "grid_template_rows": null,
            "right": null,
            "justify_content": null,
            "_view_module": "@jupyter-widgets/base",
            "overflow": null,
            "_model_module_version": "1.2.0",
            "_view_count": null,
            "flex_flow": null,
            "width": null,
            "min_width": null,
            "border": null,
            "align_items": null,
            "bottom": null,
            "_model_module": "@jupyter-widgets/base",
            "top": null,
            "grid_column": null,
            "overflow_y": null,
            "overflow_x": null,
            "grid_auto_flow": null,
            "grid_area": null,
            "grid_template_columns": null,
            "flex": null,
            "_model_name": "LayoutModel",
            "justify_items": null,
            "grid_row": null,
            "max_height": null,
            "align_content": null,
            "visibility": null,
            "align_self": null,
            "height": null,
            "min_height": null,
            "padding": null,
            "grid_auto_rows": null,
            "grid_gap": null,
            "max_width": null,
            "order": null,
            "_view_module_version": "1.2.0",
            "grid_template_areas": null,
            "object_position": null,
            "object_fit": null,
            "grid_auto_columns": null,
            "margin": null,
            "display": null,
            "left": null
          }
        },
        "bec3aadd0cb0446f824bf85f07ac7796": {
          "model_module": "@jupyter-widgets/controls",
          "model_name": "FloatSliderModel",
          "state": {
            "_view_name": "FloatSliderView",
            "style": "IPY_MODEL_4e85e72b41e3432dbd41ef77e34a6a17",
            "_dom_classes": [],
            "description": "a",
            "step": 0.01,
            "_model_name": "FloatSliderModel",
            "orientation": "horizontal",
            "max": 2,
            "_view_module": "@jupyter-widgets/controls",
            "_model_module_version": "1.5.0",
            "value": -0.19,
            "_view_count": null,
            "disabled": false,
            "_view_module_version": "1.5.0",
            "min": -1,
            "continuous_update": true,
            "readout_format": ".2f",
            "description_tooltip": null,
            "readout": true,
            "_model_module": "@jupyter-widgets/controls",
            "layout": "IPY_MODEL_fa82aa742ccf4f248443100e08e614c9"
          }
        },
        "a979f2945ae648e88a0b55cd99f7bf67": {
          "model_module": "@jupyter-widgets/output",
          "model_name": "OutputModel",
          "state": {
            "_view_name": "OutputView",
            "msg_id": "",
            "_dom_classes": [],
            "_model_name": "OutputModel",
            "outputs": [
              {
                "output_type": "stream",
                "metadata": {
                  "tags": []
                },
                "text": "MSE: 0.3011\n",
                "stream": "stdout"
              }
            ],
            "_view_module": "@jupyter-widgets/output",
            "_model_module_version": "1.0.0",
            "_view_count": null,
            "_view_module_version": "1.0.0",
            "layout": "IPY_MODEL_0ac98c8da8db4cec8b3ab70fc682c5a8",
            "_model_module": "@jupyter-widgets/output"
          }
        },
        "4e85e72b41e3432dbd41ef77e34a6a17": {
          "model_module": "@jupyter-widgets/controls",
          "model_name": "SliderStyleModel",
          "state": {
            "_view_name": "StyleView",
            "handle_color": null,
            "_model_name": "SliderStyleModel",
            "description_width": "",
            "_view_module": "@jupyter-widgets/base",
            "_model_module_version": "1.5.0",
            "_view_count": null,
            "_view_module_version": "1.2.0",
            "_model_module": "@jupyter-widgets/controls"
          }
        },
        "fa82aa742ccf4f248443100e08e614c9": {
          "model_module": "@jupyter-widgets/base",
          "model_name": "LayoutModel",
          "state": {
            "_view_name": "LayoutView",
            "grid_template_rows": null,
            "right": null,
            "justify_content": null,
            "_view_module": "@jupyter-widgets/base",
            "overflow": null,
            "_model_module_version": "1.2.0",
            "_view_count": null,
            "flex_flow": null,
            "width": null,
            "min_width": null,
            "border": null,
            "align_items": null,
            "bottom": null,
            "_model_module": "@jupyter-widgets/base",
            "top": null,
            "grid_column": null,
            "overflow_y": null,
            "overflow_x": null,
            "grid_auto_flow": null,
            "grid_area": null,
            "grid_template_columns": null,
            "flex": null,
            "_model_name": "LayoutModel",
            "justify_items": null,
            "grid_row": null,
            "max_height": null,
            "align_content": null,
            "visibility": null,
            "align_self": null,
            "height": null,
            "min_height": null,
            "padding": null,
            "grid_auto_rows": null,
            "grid_gap": null,
            "max_width": null,
            "order": null,
            "_view_module_version": "1.2.0",
            "grid_template_areas": null,
            "object_position": null,
            "object_fit": null,
            "grid_auto_columns": null,
            "margin": null,
            "display": null,
            "left": null
          }
        },
        "0ac98c8da8db4cec8b3ab70fc682c5a8": {
          "model_module": "@jupyter-widgets/base",
          "model_name": "LayoutModel",
          "state": {
            "_view_name": "LayoutView",
            "grid_template_rows": null,
            "right": null,
            "justify_content": null,
            "_view_module": "@jupyter-widgets/base",
            "overflow": null,
            "_model_module_version": "1.2.0",
            "_view_count": null,
            "flex_flow": null,
            "width": null,
            "min_width": null,
            "border": null,
            "align_items": null,
            "bottom": null,
            "_model_module": "@jupyter-widgets/base",
            "top": null,
            "grid_column": null,
            "overflow_y": null,
            "overflow_x": null,
            "grid_auto_flow": null,
            "grid_area": null,
            "grid_template_columns": null,
            "flex": null,
            "_model_name": "LayoutModel",
            "justify_items": null,
            "grid_row": null,
            "max_height": null,
            "align_content": null,
            "visibility": null,
            "align_self": null,
            "height": null,
            "min_height": null,
            "padding": null,
            "grid_auto_rows": null,
            "grid_gap": null,
            "max_width": null,
            "order": null,
            "_view_module_version": "1.2.0",
            "grid_template_areas": null,
            "object_position": null,
            "object_fit": null,
            "grid_auto_columns": null,
            "margin": null,
            "display": null,
            "left": null
          }
        },
        "e29168b89f2642d593d07780b61bf0ea": {
          "model_module": "@jupyter-widgets/controls",
          "model_name": "VBoxModel",
          "state": {
            "_view_name": "VBoxView",
            "_dom_classes": [
              "widget-interact"
            ],
            "_model_name": "VBoxModel",
            "_view_module": "@jupyter-widgets/controls",
            "_model_module_version": "1.5.0",
            "_view_count": null,
            "_view_module_version": "1.5.0",
            "box_style": "",
            "layout": "IPY_MODEL_194d573b43964cdba0190a3801215036",
            "_model_module": "@jupyter-widgets/controls",
            "children": [
              "IPY_MODEL_dc98eba3ab424928bc1ba3c04ccae07b",
              "IPY_MODEL_a9aa72ab487e4456a879a24e96eeb28f"
            ]
          }
        },
        "194d573b43964cdba0190a3801215036": {
          "model_module": "@jupyter-widgets/base",
          "model_name": "LayoutModel",
          "state": {
            "_view_name": "LayoutView",
            "grid_template_rows": null,
            "right": null,
            "justify_content": null,
            "_view_module": "@jupyter-widgets/base",
            "overflow": null,
            "_model_module_version": "1.2.0",
            "_view_count": null,
            "flex_flow": null,
            "width": null,
            "min_width": null,
            "border": null,
            "align_items": null,
            "bottom": null,
            "_model_module": "@jupyter-widgets/base",
            "top": null,
            "grid_column": null,
            "overflow_y": null,
            "overflow_x": null,
            "grid_auto_flow": null,
            "grid_area": null,
            "grid_template_columns": null,
            "flex": null,
            "_model_name": "LayoutModel",
            "justify_items": null,
            "grid_row": null,
            "max_height": null,
            "align_content": null,
            "visibility": null,
            "align_self": null,
            "height": null,
            "min_height": null,
            "padding": null,
            "grid_auto_rows": null,
            "grid_gap": null,
            "max_width": null,
            "order": null,
            "_view_module_version": "1.2.0",
            "grid_template_areas": null,
            "object_position": null,
            "object_fit": null,
            "grid_auto_columns": null,
            "margin": null,
            "display": null,
            "left": null
          }
        },
        "dc98eba3ab424928bc1ba3c04ccae07b": {
          "model_module": "@jupyter-widgets/controls",
          "model_name": "FloatSliderModel",
          "state": {
            "_view_name": "FloatSliderView",
            "style": "IPY_MODEL_d2c2adf1d70342fcb39b4c1c778c6ab2",
            "_dom_classes": [],
            "description": "a",
            "step": 0.05,
            "_model_name": "FloatSliderModel",
            "orientation": "horizontal",
            "max": 2,
            "_view_module": "@jupyter-widgets/controls",
            "_model_module_version": "1.5.0",
            "value": 2,
            "_view_count": null,
            "disabled": false,
            "_view_module_version": "1.5.0",
            "min": -0.5,
            "continuous_update": true,
            "readout_format": ".2f",
            "description_tooltip": null,
            "readout": true,
            "_model_module": "@jupyter-widgets/controls",
            "layout": "IPY_MODEL_2065702ce0b84bf4b641a57c5f6489f2"
          }
        },
        "a9aa72ab487e4456a879a24e96eeb28f": {
          "model_module": "@jupyter-widgets/output",
          "model_name": "OutputModel",
          "state": {
            "_view_name": "OutputView",
            "msg_id": "",
            "_dom_classes": [],
            "_model_name": "OutputModel",
            "outputs": [
              {
                "output_type": "display_data",
                "metadata": {
                  "tags": [],
                  "needs_background": "light"
                },
                "image/png": "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\n",
                "text/plain": "<Figure size 1152x576 with 2 Axes>"
              }
            ],
            "_view_module": "@jupyter-widgets/output",
            "_model_module_version": "1.0.0",
            "_view_count": null,
            "_view_module_version": "1.0.0",
            "layout": "IPY_MODEL_77322f5be657482fb36f0c0b3879f67a",
            "_model_module": "@jupyter-widgets/output"
          }
        },
        "d2c2adf1d70342fcb39b4c1c778c6ab2": {
          "model_module": "@jupyter-widgets/controls",
          "model_name": "SliderStyleModel",
          "state": {
            "_view_name": "StyleView",
            "handle_color": null,
            "_model_name": "SliderStyleModel",
            "description_width": "",
            "_view_module": "@jupyter-widgets/base",
            "_model_module_version": "1.5.0",
            "_view_count": null,
            "_view_module_version": "1.2.0",
            "_model_module": "@jupyter-widgets/controls"
          }
        },
        "2065702ce0b84bf4b641a57c5f6489f2": {
          "model_module": "@jupyter-widgets/base",
          "model_name": "LayoutModel",
          "state": {
            "_view_name": "LayoutView",
            "grid_template_rows": null,
            "right": null,
            "justify_content": null,
            "_view_module": "@jupyter-widgets/base",
            "overflow": null,
            "_model_module_version": "1.2.0",
            "_view_count": null,
            "flex_flow": null,
            "width": null,
            "min_width": null,
            "border": null,
            "align_items": null,
            "bottom": null,
            "_model_module": "@jupyter-widgets/base",
            "top": null,
            "grid_column": null,
            "overflow_y": null,
            "overflow_x": null,
            "grid_auto_flow": null,
            "grid_area": null,
            "grid_template_columns": null,
            "flex": null,
            "_model_name": "LayoutModel",
            "justify_items": null,
            "grid_row": null,
            "max_height": null,
            "align_content": null,
            "visibility": null,
            "align_self": null,
            "height": null,
            "min_height": null,
            "padding": null,
            "grid_auto_rows": null,
            "grid_gap": null,
            "max_width": null,
            "order": null,
            "_view_module_version": "1.2.0",
            "grid_template_areas": null,
            "object_position": null,
            "object_fit": null,
            "grid_auto_columns": null,
            "margin": null,
            "display": null,
            "left": null
          }
        },
        "77322f5be657482fb36f0c0b3879f67a": {
          "model_module": "@jupyter-widgets/base",
          "model_name": "LayoutModel",
          "state": {
            "_view_name": "LayoutView",
            "grid_template_rows": null,
            "right": null,
            "justify_content": null,
            "_view_module": "@jupyter-widgets/base",
            "overflow": null,
            "_model_module_version": "1.2.0",
            "_view_count": null,
            "flex_flow": null,
            "width": null,
            "min_width": null,
            "border": null,
            "align_items": null,
            "bottom": null,
            "_model_module": "@jupyter-widgets/base",
            "top": null,
            "grid_column": null,
            "overflow_y": null,
            "overflow_x": null,
            "grid_auto_flow": null,
            "grid_area": null,
            "grid_template_columns": null,
            "flex": null,
            "_model_name": "LayoutModel",
            "justify_items": null,
            "grid_row": null,
            "max_height": null,
            "align_content": null,
            "visibility": null,
            "align_self": null,
            "height": null,
            "min_height": null,
            "padding": null,
            "grid_auto_rows": null,
            "grid_gap": null,
            "max_width": null,
            "order": null,
            "_view_module_version": "1.2.0",
            "grid_template_areas": null,
            "object_position": null,
            "object_fit": null,
            "grid_auto_columns": null,
            "margin": null,
            "display": null,
            "left": null
          }
        },
        "f4d090182c5545009f0ab142b83bfac7": {
          "model_module": "@jupyter-widgets/controls",
          "model_name": "VBoxModel",
          "state": {
            "_view_name": "VBoxView",
            "_dom_classes": [
              "widget-interact"
            ],
            "_model_name": "VBoxModel",
            "_view_module": "@jupyter-widgets/controls",
            "_model_module_version": "1.5.0",
            "_view_count": null,
            "_view_module_version": "1.5.0",
            "box_style": "",
            "layout": "IPY_MODEL_d51aa899beb24a81b26c5c31866e0710",
            "_model_module": "@jupyter-widgets/controls",
            "children": [
              "IPY_MODEL_25849e494f534db8890bd657e8de09cd",
              "IPY_MODEL_91d157e293f84e27881e0cf39327756f"
            ]
          }
        },
        "d51aa899beb24a81b26c5c31866e0710": {
          "model_module": "@jupyter-widgets/base",
          "model_name": "LayoutModel",
          "state": {
            "_view_name": "LayoutView",
            "grid_template_rows": null,
            "right": null,
            "justify_content": null,
            "_view_module": "@jupyter-widgets/base",
            "overflow": null,
            "_model_module_version": "1.2.0",
            "_view_count": null,
            "flex_flow": null,
            "width": null,
            "min_width": null,
            "border": null,
            "align_items": null,
            "bottom": null,
            "_model_module": "@jupyter-widgets/base",
            "top": null,
            "grid_column": null,
            "overflow_y": null,
            "overflow_x": null,
            "grid_auto_flow": null,
            "grid_area": null,
            "grid_template_columns": null,
            "flex": null,
            "_model_name": "LayoutModel",
            "justify_items": null,
            "grid_row": null,
            "max_height": null,
            "align_content": null,
            "visibility": null,
            "align_self": null,
            "height": null,
            "min_height": null,
            "padding": null,
            "grid_auto_rows": null,
            "grid_gap": null,
            "max_width": null,
            "order": null,
            "_view_module_version": "1.2.0",
            "grid_template_areas": null,
            "object_position": null,
            "object_fit": null,
            "grid_auto_columns": null,
            "margin": null,
            "display": null,
            "left": null
          }
        },
        "25849e494f534db8890bd657e8de09cd": {
          "model_module": "@jupyter-widgets/controls",
          "model_name": "FloatSliderModel",
          "state": {
            "_view_name": "FloatSliderView",
            "style": "IPY_MODEL_8f70b8a8e6114071ae3db7fe0c83176b",
            "_dom_classes": [],
            "description": "a",
            "step": 0.01,
            "_model_name": "FloatSliderModel",
            "orientation": "horizontal",
            "max": 2,
            "_view_module": "@jupyter-widgets/controls",
            "_model_module_version": "1.5.0",
            "value": 0.56,
            "_view_count": null,
            "disabled": false,
            "_view_module_version": "1.5.0",
            "min": -1,
            "continuous_update": true,
            "readout_format": ".2f",
            "description_tooltip": null,
            "readout": true,
            "_model_module": "@jupyter-widgets/controls",
            "layout": "IPY_MODEL_ccb8aa5e0b2a44059330356adf38f399"
          }
        },
        "91d157e293f84e27881e0cf39327756f": {
          "model_module": "@jupyter-widgets/output",
          "model_name": "OutputModel",
          "state": {
            "_view_name": "OutputView",
            "msg_id": "",
            "_dom_classes": [],
            "_model_name": "OutputModel",
            "outputs": [
              {
                "output_type": "stream",
                "metadata": {
                  "tags": []
                },
                "text": "MSE: 0.019\n",
                "stream": "stdout"
              }
            ],
            "_view_module": "@jupyter-widgets/output",
            "_model_module_version": "1.0.0",
            "_view_count": null,
            "_view_module_version": "1.0.0",
            "layout": "IPY_MODEL_1c5b0a41863a432f8d98318cca56b731",
            "_model_module": "@jupyter-widgets/output"
          }
        },
        "8f70b8a8e6114071ae3db7fe0c83176b": {
          "model_module": "@jupyter-widgets/controls",
          "model_name": "SliderStyleModel",
          "state": {
            "_view_name": "StyleView",
            "handle_color": null,
            "_model_name": "SliderStyleModel",
            "description_width": "",
            "_view_module": "@jupyter-widgets/base",
            "_model_module_version": "1.5.0",
            "_view_count": null,
            "_view_module_version": "1.2.0",
            "_model_module": "@jupyter-widgets/controls"
          }
        },
        "ccb8aa5e0b2a44059330356adf38f399": {
          "model_module": "@jupyter-widgets/base",
          "model_name": "LayoutModel",
          "state": {
            "_view_name": "LayoutView",
            "grid_template_rows": null,
            "right": null,
            "justify_content": null,
            "_view_module": "@jupyter-widgets/base",
            "overflow": null,
            "_model_module_version": "1.2.0",
            "_view_count": null,
            "flex_flow": null,
            "width": null,
            "min_width": null,
            "border": null,
            "align_items": null,
            "bottom": null,
            "_model_module": "@jupyter-widgets/base",
            "top": null,
            "grid_column": null,
            "overflow_y": null,
            "overflow_x": null,
            "grid_auto_flow": null,
            "grid_area": null,
            "grid_template_columns": null,
            "flex": null,
            "_model_name": "LayoutModel",
            "justify_items": null,
            "grid_row": null,
            "max_height": null,
            "align_content": null,
            "visibility": null,
            "align_self": null,
            "height": null,
            "min_height": null,
            "padding": null,
            "grid_auto_rows": null,
            "grid_gap": null,
            "max_width": null,
            "order": null,
            "_view_module_version": "1.2.0",
            "grid_template_areas": null,
            "object_position": null,
            "object_fit": null,
            "grid_auto_columns": null,
            "margin": null,
            "display": null,
            "left": null
          }
        },
        "1c5b0a41863a432f8d98318cca56b731": {
          "model_module": "@jupyter-widgets/base",
          "model_name": "LayoutModel",
          "state": {
            "_view_name": "LayoutView",
            "grid_template_rows": null,
            "right": null,
            "justify_content": null,
            "_view_module": "@jupyter-widgets/base",
            "overflow": null,
            "_model_module_version": "1.2.0",
            "_view_count": null,
            "flex_flow": null,
            "width": null,
            "min_width": null,
            "border": null,
            "align_items": null,
            "bottom": null,
            "_model_module": "@jupyter-widgets/base",
            "top": null,
            "grid_column": null,
            "overflow_y": null,
            "overflow_x": null,
            "grid_auto_flow": null,
            "grid_area": null,
            "grid_template_columns": null,
            "flex": null,
            "_model_name": "LayoutModel",
            "justify_items": null,
            "grid_row": null,
            "max_height": null,
            "align_content": null,
            "visibility": null,
            "align_self": null,
            "height": null,
            "min_height": null,
            "padding": null,
            "grid_auto_rows": null,
            "grid_gap": null,
            "max_width": null,
            "order": null,
            "_view_module_version": "1.2.0",
            "grid_template_areas": null,
            "object_position": null,
            "object_fit": null,
            "grid_auto_columns": null,
            "margin": null,
            "display": null,
            "left": null
          }
        },
        "27aae29c92fb44048338b959a004cb72": {
          "model_module": "@jupyter-widgets/controls",
          "model_name": "VBoxModel",
          "state": {
            "_view_name": "VBoxView",
            "_dom_classes": [
              "widget-interact"
            ],
            "_model_name": "VBoxModel",
            "_view_module": "@jupyter-widgets/controls",
            "_model_module_version": "1.5.0",
            "_view_count": null,
            "_view_module_version": "1.5.0",
            "box_style": "",
            "layout": "IPY_MODEL_a2661349cb0b418f8bc25e61468ed117",
            "_model_module": "@jupyter-widgets/controls",
            "children": [
              "IPY_MODEL_56d17effce1043ddbc1efe92d64a0d4e",
              "IPY_MODEL_50ec2766c28047278b468926fc578dd1",
              "IPY_MODEL_cd809689aa7f490ea05e4cfe141cf576"
            ]
          }
        },
        "a2661349cb0b418f8bc25e61468ed117": {
          "model_module": "@jupyter-widgets/base",
          "model_name": "LayoutModel",
          "state": {
            "_view_name": "LayoutView",
            "grid_template_rows": null,
            "right": null,
            "justify_content": null,
            "_view_module": "@jupyter-widgets/base",
            "overflow": null,
            "_model_module_version": "1.2.0",
            "_view_count": null,
            "flex_flow": null,
            "width": null,
            "min_width": null,
            "border": null,
            "align_items": null,
            "bottom": null,
            "_model_module": "@jupyter-widgets/base",
            "top": null,
            "grid_column": null,
            "overflow_y": null,
            "overflow_x": null,
            "grid_auto_flow": null,
            "grid_area": null,
            "grid_template_columns": null,
            "flex": null,
            "_model_name": "LayoutModel",
            "justify_items": null,
            "grid_row": null,
            "max_height": null,
            "align_content": null,
            "visibility": null,
            "align_self": null,
            "height": null,
            "min_height": null,
            "padding": null,
            "grid_auto_rows": null,
            "grid_gap": null,
            "max_width": null,
            "order": null,
            "_view_module_version": "1.2.0",
            "grid_template_areas": null,
            "object_position": null,
            "object_fit": null,
            "grid_auto_columns": null,
            "margin": null,
            "display": null,
            "left": null
          }
        },
        "56d17effce1043ddbc1efe92d64a0d4e": {
          "model_module": "@jupyter-widgets/controls",
          "model_name": "FloatSliderModel",
          "state": {
            "_view_name": "FloatSliderView",
            "style": "IPY_MODEL_e3c92165b6464aed9f908d8ba9fcf963",
            "_dom_classes": [],
            "description": "learning rate",
            "step": 0.1,
            "_model_name": "FloatSliderModel",
            "orientation": "horizontal",
            "max": 4,
            "_view_module": "@jupyter-widgets/controls",
            "_model_module_version": "1.5.0",
            "value": 0.1,
            "_view_count": null,
            "disabled": false,
            "_view_module_version": "1.5.0",
            "min": 0.1,
            "continuous_update": true,
            "readout_format": ".2f",
            "description_tooltip": null,
            "readout": true,
            "_model_module": "@jupyter-widgets/controls",
            "layout": "IPY_MODEL_2c8068274e1e4024a5508cc5c6f9b9dd"
          }
        },
        "50ec2766c28047278b468926fc578dd1": {
          "model_module": "@jupyter-widgets/controls",
          "model_name": "FloatSliderModel",
          "state": {
            "_view_name": "FloatSliderView",
            "style": "IPY_MODEL_ff84308a91904e15b379bfe888fe0fa4",
            "_dom_classes": [],
            "description": "initial guess",
            "step": 0.1,
            "_model_name": "FloatSliderModel",
            "orientation": "horizontal",
            "max": 2,
            "_view_module": "@jupyter-widgets/controls",
            "_model_module_version": "1.5.0",
            "value": -0.3,
            "_view_count": null,
            "disabled": false,
            "_view_module_version": "1.5.0",
            "min": -0.5,
            "continuous_update": true,
            "readout_format": ".2f",
            "description_tooltip": null,
            "readout": true,
            "_model_module": "@jupyter-widgets/controls",
            "layout": "IPY_MODEL_2527fc13358d4857a31b47e0e41149af"
          }
        },
        "cd809689aa7f490ea05e4cfe141cf576": {
          "model_module": "@jupyter-widgets/output",
          "model_name": "OutputModel",
          "state": {
            "_view_name": "OutputView",
            "msg_id": "",
            "_dom_classes": [],
            "_model_name": "OutputModel",
            "outputs": [
              {
                "output_type": "display_data",
                "metadata": {
                  "tags": [],
                  "needs_background": "light"
                },
                "image/png": "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\n",
                "text/plain": "<Figure size 864x576 with 1 Axes>"
              }
            ],
            "_view_module": "@jupyter-widgets/output",
            "_model_module_version": "1.0.0",
            "_view_count": null,
            "_view_module_version": "1.0.0",
            "layout": "IPY_MODEL_1012cec9c93c4a1ea77b80a2fb7d886c",
            "_model_module": "@jupyter-widgets/output"
          }
        },
        "e3c92165b6464aed9f908d8ba9fcf963": {
          "model_module": "@jupyter-widgets/controls",
          "model_name": "SliderStyleModel",
          "state": {
            "_view_name": "StyleView",
            "handle_color": null,
            "_model_name": "SliderStyleModel",
            "description_width": "",
            "_view_module": "@jupyter-widgets/base",
            "_model_module_version": "1.5.0",
            "_view_count": null,
            "_view_module_version": "1.2.0",
            "_model_module": "@jupyter-widgets/controls"
          }
        },
        "2c8068274e1e4024a5508cc5c6f9b9dd": {
          "model_module": "@jupyter-widgets/base",
          "model_name": "LayoutModel",
          "state": {
            "_view_name": "LayoutView",
            "grid_template_rows": null,
            "right": null,
            "justify_content": null,
            "_view_module": "@jupyter-widgets/base",
            "overflow": null,
            "_model_module_version": "1.2.0",
            "_view_count": null,
            "flex_flow": null,
            "width": null,
            "min_width": null,
            "border": null,
            "align_items": null,
            "bottom": null,
            "_model_module": "@jupyter-widgets/base",
            "top": null,
            "grid_column": null,
            "overflow_y": null,
            "overflow_x": null,
            "grid_auto_flow": null,
            "grid_area": null,
            "grid_template_columns": null,
            "flex": null,
            "_model_name": "LayoutModel",
            "justify_items": null,
            "grid_row": null,
            "max_height": null,
            "align_content": null,
            "visibility": null,
            "align_self": null,
            "height": null,
            "min_height": null,
            "padding": null,
            "grid_auto_rows": null,
            "grid_gap": null,
            "max_width": null,
            "order": null,
            "_view_module_version": "1.2.0",
            "grid_template_areas": null,
            "object_position": null,
            "object_fit": null,
            "grid_auto_columns": null,
            "margin": null,
            "display": null,
            "left": null
          }
        },
        "ff84308a91904e15b379bfe888fe0fa4": {
          "model_module": "@jupyter-widgets/controls",
          "model_name": "SliderStyleModel",
          "state": {
            "_view_name": "StyleView",
            "handle_color": null,
            "_model_name": "SliderStyleModel",
            "description_width": "",
            "_view_module": "@jupyter-widgets/base",
            "_model_module_version": "1.5.0",
            "_view_count": null,
            "_view_module_version": "1.2.0",
            "_model_module": "@jupyter-widgets/controls"
          }
        },
        "2527fc13358d4857a31b47e0e41149af": {
          "model_module": "@jupyter-widgets/base",
          "model_name": "LayoutModel",
          "state": {
            "_view_name": "LayoutView",
            "grid_template_rows": null,
            "right": null,
            "justify_content": null,
            "_view_module": "@jupyter-widgets/base",
            "overflow": null,
            "_model_module_version": "1.2.0",
            "_view_count": null,
            "flex_flow": null,
            "width": null,
            "min_width": null,
            "border": null,
            "align_items": null,
            "bottom": null,
            "_model_module": "@jupyter-widgets/base",
            "top": null,
            "grid_column": null,
            "overflow_y": null,
            "overflow_x": null,
            "grid_auto_flow": null,
            "grid_area": null,
            "grid_template_columns": null,
            "flex": null,
            "_model_name": "LayoutModel",
            "justify_items": null,
            "grid_row": null,
            "max_height": null,
            "align_content": null,
            "visibility": null,
            "align_self": null,
            "height": null,
            "min_height": null,
            "padding": null,
            "grid_auto_rows": null,
            "grid_gap": null,
            "max_width": null,
            "order": null,
            "_view_module_version": "1.2.0",
            "grid_template_areas": null,
            "object_position": null,
            "object_fit": null,
            "grid_auto_columns": null,
            "margin": null,
            "display": null,
            "left": null
          }
        },
        "1012cec9c93c4a1ea77b80a2fb7d886c": {
          "model_module": "@jupyter-widgets/base",
          "model_name": "LayoutModel",
          "state": {
            "_view_name": "LayoutView",
            "grid_template_rows": null,
            "right": null,
            "justify_content": null,
            "_view_module": "@jupyter-widgets/base",
            "overflow": null,
            "_model_module_version": "1.2.0",
            "_view_count": null,
            "flex_flow": null,
            "width": null,
            "min_width": null,
            "border": null,
            "align_items": null,
            "bottom": null,
            "_model_module": "@jupyter-widgets/base",
            "top": null,
            "grid_column": null,
            "overflow_y": null,
            "overflow_x": null,
            "grid_auto_flow": null,
            "grid_area": null,
            "grid_template_columns": null,
            "flex": null,
            "_model_name": "LayoutModel",
            "justify_items": null,
            "grid_row": null,
            "max_height": null,
            "align_content": null,
            "visibility": null,
            "align_self": null,
            "height": null,
            "min_height": null,
            "padding": null,
            "grid_auto_rows": null,
            "grid_gap": null,
            "max_width": null,
            "order": null,
            "_view_module_version": "1.2.0",
            "grid_template_areas": null,
            "object_position": null,
            "object_fit": null,
            "grid_auto_columns": null,
            "margin": null,
            "display": null,
            "left": null
          }
        }
      }
    }
  },
  "cells": [
    {
      "cell_type": "markdown",
      "metadata": {
        "id": "ykCkPis4C5xV"
      },
      "source": [
        "# Imports and Other Setup"
      ]
    },
    {
      "cell_type": "code",
      "metadata": {
        "id": "budX85YDCy5I"
      },
      "source": [
        "import numpy as np\n",
        "import matplotlib.pyplot as plt \n",
        "\n",
        "import ipywidgets as widgets\n",
        "from ipywidgets import interact"
      ],
      "execution_count": null,
      "outputs": []
    },
    {
      "cell_type": "code",
      "metadata": {
        "id": "_i2QcQTEC-5W"
      },
      "source": [
        "xs = np.array([-1.        , -0.91666667, -0.83333333, -0.75      , -0.66666667,\n",
        "       -0.58333333, -0.5       , -0.41666667, -0.33333333, -0.25      ,\n",
        "       -0.16666667, -0.08333333,  0.        ,  0.08333333,  0.16666667,\n",
        "        0.25      ,  0.33333333,  0.41666667,  0.5       ,  0.58333333,\n",
        "        0.66666667,  0.75      ,  0.83333333,  0.91666667,  1.        ])\n",
        "ys = np.array([-0.51756546, -0.68450897, -0.61948384, -0.61729686, -0.36679257,\n",
        "       -0.62682054, -0.16551882, -0.35945402, -0.19476276, -0.19493704,\n",
        "        0.03287746, -0.26268074, -0.03224172,  0.01826123,  0.22671028,\n",
        "        0.06001087,  0.20942385,  0.19554749,  0.34422137,  0.45494819,\n",
        "        0.34327142,  0.62447237,  0.65682574,  0.67358277,  0.77008559])"
      ],
      "execution_count": null,
      "outputs": []
    },
    {
      "cell_type": "code",
      "metadata": {
        "id": "iqs-4miyDZDV"
      },
      "source": [
        "def get_mse(model, inputs, labels):\n",
        "  outputs = model(inputs)\n",
        "  mse = np.mean(np.square(outputs - labels))\n",
        "  return mse"
      ],
      "execution_count": null,
      "outputs": []
    },
    {
      "cell_type": "code",
      "metadata": {
        "id": "fn2wWKbGDaKq"
      },
      "source": [
        "def optimizer_interact(xs, ys):\n",
        "  def print_mse(a):\n",
        "    # Calculate the mse\n",
        "    mse = get_mse(lambda x: a * x, xs, ys)\n",
        "    print('MSE: ' + str(round(mse, 4)))\n",
        "\n",
        "  interact(print_mse, \n",
        "          a = widgets.FloatSlider(min = -1.0, max = 2.0, step = 0.01, description = 'a'))"
      ],
      "execution_count": null,
      "outputs": []
    },
    {
      "cell_type": "code",
      "metadata": {
        "id": "TSTMaLY3D32Z"
      },
      "source": [
        "def loss_interact(xs, ys):\n",
        "  avals = np.linspace(-0.55, 2.0, num=200)\n",
        "  yvals = np.array([get_mse(lambda x: a * x, xs, ys) for a in avals])\n",
        "  def create_plots(a):\n",
        "    fig, ax = plt.subplots()\n",
        "\n",
        "    # Plot the data\n",
        "    plt.subplot(121)\n",
        "    plt.plot(xs, ys, 'go')\n",
        "\n",
        "    # Plot the line\n",
        "    plt.plot([-1.2, 1.2], [-1.2 * a, 1.2 * a], color = '#ff5252', lw = 3)\n",
        "\n",
        "    # Calculate the mse\n",
        "    mse = get_mse(lambda x: a * x, xs, ys)\n",
        "\n",
        "    # Plot properties\n",
        "    plt.title('MSE: ' + str(mse))\n",
        "    plt.ylabel('y')\n",
        "    plt.xlabel('x')\n",
        "    plt.axis([-1.2, 1.2, -1.2, 1.2])\n",
        "\n",
        "    # Plot the loss\n",
        "    plt.subplot(122)\n",
        "    plt.plot(avals[avals < a], yvals[avals < a], color = 'b', lw = 3)\n",
        "    plt.plot(a, mse, 'o', color = '#ff5252', markersize = 12)\n",
        "    \n",
        "    plt.title('Loss Function')\n",
        "    plt.xlabel('a')\n",
        "    plt.ylabel('MSE')\n",
        "    plt.axis([-0.5, 2.0, 0.0, 0.8])\n",
        "\n",
        "    fig.set_figwidth(16)\n",
        "    fig.set_figheight(8)\n",
        "\n",
        "    # Display\n",
        "    plt.show()\n",
        "\n",
        "  interact(create_plots, \n",
        "          a = widgets.FloatSlider(value = -0.5, min = -0.5, max = 2.0, step = 0.05, description = 'a'))"
      ],
      "execution_count": null,
      "outputs": []
    },
    {
      "cell_type": "code",
      "metadata": {
        "id": "0fGlR1tDEb-h"
      },
      "source": [
        "def gradient_descent(loss, initial_guess, learning_rate, nsteps = 20, epsilon = 0.0001):\n",
        "  a_history = [initial_guess]\n",
        "  loss_history = [loss(initial_guess)]\n",
        "\n",
        "  for i in range(nsteps):\n",
        "    # Get the current slope\n",
        "    slope = (loss_history[-1] - loss(a_history[-1] + epsilon)) / epsilon\n",
        "\n",
        "    # Move to the next position\n",
        "    a_next = a_history[-1] + learning_rate * slope\n",
        "    a_history.append(a_next)\n",
        "    loss_history.append(loss(a_next))\n",
        "\n",
        "  return np.array(a_history), np.array(loss_history)\n",
        "\n",
        "def gradient_descent_interact(xs, ys):\n",
        "  avals = np.linspace(-0.55, 2.0, num=200)\n",
        "  yvals = np.array([get_mse(lambda x: a * x, xs, ys) for a in avals])\n",
        "  \n",
        "  def loss(a):\n",
        "    return get_mse(lambda x: a * x, xs, ys)\n",
        "\n",
        "  def interact_func(learning_rate, initial_guess):\n",
        "    a_history, loss_history = gradient_descent(loss, initial_guess, learning_rate)\n",
        "\n",
        "    fig, ax = plt.subplots()\n",
        "\n",
        "    # Plot the loss\n",
        "    plt.plot(avals, yvals, color = 'b', lw = 3)\n",
        "    \n",
        "    # Plot the history\n",
        "    plt.plot(a_history, loss_history, 'o-', color = '#ff5252', lw = 2, markersize = 8)\n",
        "    \n",
        "    plt.title('Optimal a: ' + str(round(a_history[-1], 4)))\n",
        "    plt.xlabel('a')\n",
        "    plt.ylabel('MSE')\n",
        "    plt.axis([-0.5, 2.0, 0.0, 0.8])\n",
        "\n",
        "    fig.set_figwidth(12)\n",
        "    fig.set_figheight(8)\n",
        "\n",
        "    # Display\n",
        "    plt.show()\n",
        "\n",
        "  interact(interact_func, \n",
        "          learning_rate = widgets.FloatSlider(value = 0.1, min = 0.1, max = 4.0, step = 0.1, description = 'learning rate'),\n",
        "          initial_guess = widgets.FloatSlider(value = -0.3, min = -0.5, max = 2.0, step = 0.1, description = 'initial guess'))"
      ],
      "execution_count": null,
      "outputs": []
    },
    {
      "cell_type": "markdown",
      "metadata": {
        "id": "kssP6sfyDSdW"
      },
      "source": [
        "# Exercise 1"
      ]
    },
    {
      "cell_type": "code",
      "metadata": {
        "id": "PQqyupiLDVuG",
        "colab": {
          "base_uri": "https://localhost:8080/",
          "height": 67,
          "referenced_widgets": [
            "31d3d73d3ddc4c0aaff0654d97b250a8",
            "28b65d9c1df24e9a8839dedcabff0477",
            "bec3aadd0cb0446f824bf85f07ac7796",
            "a979f2945ae648e88a0b55cd99f7bf67",
            "4e85e72b41e3432dbd41ef77e34a6a17",
            "fa82aa742ccf4f248443100e08e614c9",
            "0ac98c8da8db4cec8b3ab70fc682c5a8"
          ]
        },
        "outputId": "d4b111bc-ff95-4d70-ae5e-5f4cd08fdc0b"
      },
      "source": [
        "optimizer_interact(xs, ys)"
      ],
      "execution_count": null,
      "outputs": [
        {
          "output_type": "display_data",
          "data": {
            "application/vnd.jupyter.widget-view+json": {
              "model_id": "31d3d73d3ddc4c0aaff0654d97b250a8",
              "version_minor": 0,
              "version_major": 2
            },
            "text/plain": [
              "interactive(children=(FloatSlider(value=0.0, description='a', max=2.0, min=-1.0, step=0.01), Output()), _dom_c…"
            ]
          },
          "metadata": {
            "tags": []
          }
        }
      ]
    },
    {
      "cell_type": "markdown",
      "metadata": {
        "id": "xiaycOGnD64-"
      },
      "source": [
        "# Exercise 2"
      ]
    },
    {
      "cell_type": "code",
      "metadata": {
        "id": "ZLdEuKgvDe5e",
        "colab": {
          "base_uri": "https://localhost:8080/",
          "height": 546,
          "referenced_widgets": [
            "e29168b89f2642d593d07780b61bf0ea",
            "194d573b43964cdba0190a3801215036",
            "dc98eba3ab424928bc1ba3c04ccae07b",
            "a9aa72ab487e4456a879a24e96eeb28f",
            "d2c2adf1d70342fcb39b4c1c778c6ab2",
            "2065702ce0b84bf4b641a57c5f6489f2",
            "77322f5be657482fb36f0c0b3879f67a"
          ]
        },
        "outputId": "0fcbb5df-045d-43b8-be0d-1d5177173e6f"
      },
      "source": [
        "loss_interact(xs, ys)"
      ],
      "execution_count": null,
      "outputs": [
        {
          "output_type": "display_data",
          "data": {
            "application/vnd.jupyter.widget-view+json": {
              "model_id": "e29168b89f2642d593d07780b61bf0ea",
              "version_minor": 0,
              "version_major": 2
            },
            "text/plain": [
              "interactive(children=(FloatSlider(value=-0.5, description='a', max=2.0, min=-0.5, step=0.05), Output()), _dom_…"
            ]
          },
          "metadata": {
            "tags": []
          }
        }
      ]
    },
    {
      "cell_type": "markdown",
      "metadata": {
        "id": "HmrpKlHWEIbN"
      },
      "source": [
        "# Exercise 3"
      ]
    },
    {
      "cell_type": "code",
      "metadata": {
        "id": "rvrdlqfbEH37",
        "colab": {
          "base_uri": "https://localhost:8080/",
          "height": 67,
          "referenced_widgets": [
            "f4d090182c5545009f0ab142b83bfac7",
            "d51aa899beb24a81b26c5c31866e0710",
            "25849e494f534db8890bd657e8de09cd",
            "91d157e293f84e27881e0cf39327756f",
            "8f70b8a8e6114071ae3db7fe0c83176b",
            "ccb8aa5e0b2a44059330356adf38f399",
            "1c5b0a41863a432f8d98318cca56b731"
          ]
        },
        "outputId": "9233cc23-d7c2-41da-9af0-15edbe0a95ff"
      },
      "source": [
        "optimizer_interact(xs, ys)"
      ],
      "execution_count": null,
      "outputs": [
        {
          "output_type": "display_data",
          "data": {
            "application/vnd.jupyter.widget-view+json": {
              "model_id": "f4d090182c5545009f0ab142b83bfac7",
              "version_minor": 0,
              "version_major": 2
            },
            "text/plain": [
              "interactive(children=(FloatSlider(value=0.0, description='a', max=2.0, min=-1.0, step=0.01), Output()), _dom_c…"
            ]
          },
          "metadata": {
            "tags": []
          }
        }
      ]
    },
    {
      "cell_type": "markdown",
      "metadata": {
        "id": "MPOQhL-UEUHU"
      },
      "source": [
        "# Exercise 4"
      ]
    },
    {
      "cell_type": "code",
      "metadata": {
        "id": "0WN9Oy8FD8sK",
        "colab": {
          "base_uri": "https://localhost:8080/",
          "height": 578,
          "referenced_widgets": [
            "27aae29c92fb44048338b959a004cb72",
            "a2661349cb0b418f8bc25e61468ed117",
            "56d17effce1043ddbc1efe92d64a0d4e",
            "50ec2766c28047278b468926fc578dd1",
            "cd809689aa7f490ea05e4cfe141cf576",
            "e3c92165b6464aed9f908d8ba9fcf963",
            "2c8068274e1e4024a5508cc5c6f9b9dd",
            "ff84308a91904e15b379bfe888fe0fa4",
            "2527fc13358d4857a31b47e0e41149af",
            "1012cec9c93c4a1ea77b80a2fb7d886c"
          ]
        },
        "outputId": "676184dc-6dc9-4a1f-a43f-bf4f36b37f1f"
      },
      "source": [
        "gradient_descent_interact(xs, ys)"
      ],
      "execution_count": null,
      "outputs": [
        {
          "output_type": "display_data",
          "data": {
            "application/vnd.jupyter.widget-view+json": {
              "model_id": "27aae29c92fb44048338b959a004cb72",
              "version_minor": 0,
              "version_major": 2
            },
            "text/plain": [
              "interactive(children=(FloatSlider(value=0.1, description='learning rate', max=4.0, min=0.1), FloatSlider(value…"
            ]
          },
          "metadata": {
            "tags": []
          }
        }
      ]
    },
    {
      "cell_type": "code",
      "metadata": {
        "id": "u5lzQDjwelMA"
      },
      "source": [
        ""
      ],
      "execution_count": null,
      "outputs": []
    }
  ]
}