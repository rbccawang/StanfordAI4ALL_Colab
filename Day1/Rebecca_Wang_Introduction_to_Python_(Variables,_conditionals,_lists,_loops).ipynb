{
  "nbformat": 4,
  "nbformat_minor": 0,
  "metadata": {
    "colab": {
      "name": "Rebecca Wang - Introduction to Python (Variables, conditionals, lists, loops)",
      "provenance": [],
      "collapsed_sections": []
    },
    "kernelspec": {
      "name": "python3",
      "display_name": "Python 3"
    }
  },
  "cells": [
    {
      "cell_type": "markdown",
      "metadata": {
        "id": "bd59jn7NFC9Y"
      },
      "source": [
        "# Introduction to Python (Pt. 1)\n",
        "\n",
        "Welcome to the exciting world of Python!\n",
        "\n",
        "For many of you, this may be your very first time programming, and these lessons are designed to help you go from your very first steps with reading code all the way to writing code for the hands-on projects this summer. You got this!\n",
        "\n",
        "![alt text](https://media.giphy.com/media/fnQ3DS2bSrOdxNIXOC/giphy.gif)\n",
        "\n",
        "Before we jump into the lesson itself, let's talk about programming in general. **Programming** is a way to tell your computer how to perform tasks by giving it specific instructions. \n",
        "\n",
        "Everything a computer does is by using a computer program, and you may already be familiar with many of these! For example, Instagram, Pokemon Go, Google Maps, Siri, Photoshop, and more are all examples of computer programs.\n",
        "\n",
        "![Imgur](https://i.imgur.com/JLDNaFK.jpg)\n",
        "\n",
        "Just as humans communicate with different languages, there are also different languages to communicate to computers with. These are called **programming languages**, and there are hundreds of them, each with their own styles and uses.\n",
        "\n",
        "For AI, the most popular programming language to use is Python. There are many reasons that people like to use Python, such as:\n",
        "\n",
        "*   It's fast and easy to write code\n",
        "*   Many great open-source **libraries**\n",
        "*   Active and growing community\n",
        "\n",
        "A programming library is a collection of code that someone else has written, that you can then use (so you don't have to reinvent the wheel). Many libraries are private and owned by specific companies, but other libraries are open-source, meaning that they can be freely and publicly used and contributed to. Python has a very large community of people who build and maintain open-source libraries.\n",
        "\n",
        "We'll learn more about libraries in Python throughout the summer, and you may frequently see the use of one particular library called **Scikit-Learn**. This library and **TensorFlow** are two of the most popular for programming artificial intelligence.\n",
        "\n",
        "As an additional note, programming languages have different version numbers which may affect how they're read and written. (Think of this like the difference between Ancient Greek and Modern Greek, and how a language changes over time.) For this and the following lessons, we will be specifically using **Python 3**.\n",
        "\n"
      ]
    },
    {
      "cell_type": "markdown",
      "metadata": {
        "id": "Dx2VX_zGT211"
      },
      "source": [
        "## Your First Line of Python\n",
        "\n",
        "Now let's jump into some programming! \n",
        "\n",
        "Click on the programming block below, and a play button will appear on the left. Click on the play button to run the line of Python code. If you had to guess, what do you think this line of code will do?"
      ]
    },
    {
      "cell_type": "code",
      "metadata": {
        "id": "SIzLXK_4EoS8",
        "colab": {
          "base_uri": "https://localhost:8080/"
        },
        "outputId": "599aa172-7fbe-4bf4-e84b-0ccab8df37c6"
      },
      "source": [
        "print(\"I'm here! I'm coding!\")"
      ],
      "execution_count": null,
      "outputs": [
        {
          "output_type": "stream",
          "text": [
            "I'm here! I'm coding!\n"
          ],
          "name": "stdout"
        }
      ]
    },
    {
      "cell_type": "markdown",
      "metadata": {
        "id": "X-XaIznyFQ6s"
      },
      "source": [
        "Congratulations! You've just run your very first line of code at the AI4ALL program.\n",
        "\n",
        "![alt text](https://media.giphy.com/media/ely3apij36BJhoZ234/giphy.gif)\n",
        "\n",
        "Before we dig deeper into Python, let's get to know about the coding environment that we're using.\n"
      ]
    },
    {
      "cell_type": "markdown",
      "metadata": {
        "id": "aizuciOFSRZ0"
      },
      "source": [
        "## Intro to Jupyter Notebooks and Google Colabs\n",
        "\n",
        "Typically, to run Python code, you have to run it on your computer, using either the command line or a specific type of program called an IDE (integrated development environment). \n",
        "\n",
        "Instead, right now we're using a tool called **Jupyter Notebooks**, which in the past few years has been extremely popular in the data science and artificial intelligence communities to write and run code. In addition, Google has created a software called **Colaboratory** (Colabs for short), which allows us to run our Notebooks in Google Drive, just like with Google Docs or Google Sheets.\n",
        "\n",
        "**Let's try out Google Colabs by adding a _code block_ under this text. Click this text, and then on the top left of the web page, click the \"+ Code\" button. Then write your own print statement!**"
      ]
    },
    {
      "cell_type": "code",
      "metadata": {
        "colab": {
          "base_uri": "https://localhost:8080/"
        },
        "id": "yNva1TQlABb_",
        "outputId": "16e627f8-d3ae-471c-9e01-f4f4716f168c"
      },
      "source": [
        "print(\"Ello, AI4ALL!\")"
      ],
      "execution_count": null,
      "outputs": [
        {
          "output_type": "stream",
          "text": [
            "Ello, AI4ALL!\n"
          ],
          "name": "stdout"
        }
      ]
    },
    {
      "cell_type": "markdown",
      "metadata": {
        "id": "nAtVLq5GRUpi"
      },
      "source": [
        "\n",
        "\n",
        "---\n",
        "\n",
        "You can write new Python code in any of the code blocks within this Notebook. When you want to run the code that you've written, make sure you have the code block selected, and hit the Play button on the left side of the block.\n",
        "\n",
        "If you want to delete a code block, select it, and then click on the three dots on the right side of the block to show the \"Delete Cell\" option.\n",
        "\n",
        "Python code persists between code blocks within this Notebook. That means that if you write some code in one code block, it can affect future code blocks. When we talk about variables next, this means that if you declare a variable in one code block, you can still call it in a different code block afterwards.\n",
        "\n",
        "As you work more in Google Colabs over this program, you may use other functions, such as adding text blocks, rearranging cells, and maybe even learning some **Markdown**, which is a language used to help style text blocks.\n",
        "\n"
      ]
    },
    {
      "cell_type": "markdown",
      "metadata": {
        "id": "A145dPi1FUiI"
      },
      "source": [
        "## Your Very First Variable (at AI4ALL)\n",
        "\n",
        "In programming, we use a concept called a **variable** that's similar to what you have learned in math. Let's give it a try:"
      ]
    },
    {
      "cell_type": "code",
      "metadata": {
        "id": "Z8FlcLOPFxJe"
      },
      "source": [
        "x = 100"
      ],
      "execution_count": null,
      "outputs": []
    },
    {
      "cell_type": "markdown",
      "metadata": {
        "id": "5zKC-Rb2TsRm"
      },
      "source": [
        "When you run the cell above, you've **initialized** (created) a variable named `x` that you have **assigned** the value of 100. \n",
        "\n",
        "The next time you refer to `x` in your code, it will remember that it has been assigned 100. \n",
        "\n",
        "Variables are extremely useful in programming, and we'll see lots and lots of them moving forward!"
      ]
    },
    {
      "cell_type": "markdown",
      "metadata": {
        "id": "EhVneCRuF-qw"
      },
      "source": [
        "## Printing\n",
        "\n",
        "When we run a Python program, the user will only see what we decide to print to the screen. \n",
        "\n",
        "Notice that when we set `x = 100` earlier, nothing was printed back out. How can we make sure that the value we assign to a variable is correct? We can print it!"
      ]
    },
    {
      "cell_type": "code",
      "metadata": {
        "id": "SGboEhmDGLkQ",
        "colab": {
          "base_uri": "https://localhost:8080/"
        },
        "outputId": "fadbc322-1f25-4eff-f8bc-3aa2ac58045d"
      },
      "source": [
        "y = 200\n",
        "print(y)"
      ],
      "execution_count": null,
      "outputs": [
        {
          "output_type": "stream",
          "text": [
            "200\n"
          ],
          "name": "stdout"
        }
      ]
    },
    {
      "cell_type": "markdown",
      "metadata": {
        "id": "agl-HIjaUch0"
      },
      "source": [
        "Try it out yourself! Make a variable called 'z' that has a value of 1300 and then print it out."
      ]
    },
    {
      "cell_type": "code",
      "metadata": {
        "id": "CZzE--8kUgMI",
        "colab": {
          "base_uri": "https://localhost:8080/"
        },
        "outputId": "ba1de8d2-8420-47b5-f803-0d93b4a30f41"
      },
      "source": [
        "# Add your code here & don't forget to hit Run when you're done!\n",
        "\n",
        "z = 1300\n",
        "print(z)\n",
        "\n",
        "# By the way, when you add a hashtag to the front of your line, this tells\n",
        "# the coding environment to treat that line as a comment, so that you can\n",
        "# type out helpful notes for yourself. Great programmers leave comments on\n",
        "# their code to communicate information with other programmers!"
      ],
      "execution_count": null,
      "outputs": [
        {
          "output_type": "stream",
          "text": [
            "1300\n"
          ],
          "name": "stdout"
        }
      ]
    },
    {
      "cell_type": "markdown",
      "metadata": {
        "id": "fLAAGvkuWLjW"
      },
      "source": [
        "If we have multiple print commands in a row, they will print each on a separate line by default."
      ]
    },
    {
      "cell_type": "code",
      "metadata": {
        "id": "dIX2pxeOWSU4",
        "colab": {
          "base_uri": "https://localhost:8080/"
        },
        "outputId": "a48241e8-1b73-4bac-d6a8-210c4b0fc850"
      },
      "source": [
        "print(\"Hello there!\")\n",
        "print(\"This message will show up to the user.\")"
      ],
      "execution_count": null,
      "outputs": [
        {
          "output_type": "stream",
          "text": [
            "Hello there!\n",
            "This message will show up to the user.\n"
          ],
          "name": "stdout"
        }
      ]
    },
    {
      "cell_type": "markdown",
      "metadata": {
        "id": "BVY7e1QGWa4x"
      },
      "source": [
        "One thing that you will find useful is to be able to print out a message but also include the value of a variable in that message. For example:"
      ]
    },
    {
      "cell_type": "code",
      "metadata": {
        "id": "6TqMtz5fWsL-",
        "colab": {
          "base_uri": "https://localhost:8080/"
        },
        "outputId": "b9edd66f-1776-4c94-8022-0210d2cf6ff3"
      },
      "source": [
        "number_of_flowers = 5\n",
        "print(\"I have\", number_of_flowers, \"flowers.\")"
      ],
      "execution_count": null,
      "outputs": [
        {
          "output_type": "stream",
          "text": [
            "I have 5 flowers.\n"
          ],
          "name": "stdout"
        }
      ]
    },
    {
      "cell_type": "markdown",
      "metadata": {
        "id": "rYzhW61_W7-p"
      },
      "source": [
        "Notice that spaces were added between \"have\", \"5\", and \"flowers\" when we used the commas.\n",
        "\n",
        "In Python, there are many, many ways to format your print statements, and different programmers have different preferences for how they like to work with printing.\n",
        "\n",
        "One advanced way to format your print statements is as follows:"
      ]
    },
    {
      "cell_type": "code",
      "metadata": {
        "id": "J9qnv9eDXR7L",
        "colab": {
          "base_uri": "https://localhost:8080/"
        },
        "outputId": "aacd1f03-a387-4e59-f8bf-a164f05e46d0"
      },
      "source": [
        "number_of_flowers = 5\n",
        "print(\"I have {} flowers.\".format(number_of_flowers))"
      ],
      "execution_count": null,
      "outputs": [
        {
          "output_type": "stream",
          "text": [
            "I have 5 flowers.\n"
          ],
          "name": "stdout"
        }
      ]
    },
    {
      "cell_type": "markdown",
      "metadata": {
        "id": "K2u4DoJ9XddC"
      },
      "source": [
        "In the method above, the curly braces, `{}`, are used to tell Python to expect a variable there. We then specify what variable to expect by adding `.format(no_flowers)` after the message we are printing.\n",
        "\n",
        "If this line of code is confusing to look at right now, don't worry! We'll cover more Python concepts that will help you understand this line better (especially that `.format(no_flowers)` part) in the coming lessons. Now try it yourself!"
      ]
    },
    {
      "cell_type": "code",
      "metadata": {
        "id": "OmJzbbHYz30m",
        "colab": {
          "base_uri": "https://localhost:8080/"
        },
        "outputId": "e07071d4-6c75-4c4a-a1dc-b29b6ac54706"
      },
      "source": [
        "# Write a print statement below to say \"I own 100 books\", using a variable number_of_books\n",
        "number_of_books = 100\n",
        "print(\"I own {} books.\".format(number_of_books))"
      ],
      "execution_count": null,
      "outputs": [
        {
          "output_type": "stream",
          "text": [
            "I own 100 books.\n"
          ],
          "name": "stdout"
        }
      ]
    },
    {
      "cell_type": "markdown",
      "metadata": {
        "id": "aW9avmXMGIk1"
      },
      "source": [
        "## Data Types\n",
        "\n",
        "So far, we've only been assigning integers to our variables, like we see in math. In Python, we can actually assign many more types of data to our variables!\n",
        "\n",
        "For example:"
      ]
    },
    {
      "cell_type": "code",
      "metadata": {
        "id": "JXHccv5bF0R3",
        "colab": {
          "base_uri": "https://localhost:8080/"
        },
        "outputId": "8118cf68-2cc3-4e33-c551-6f3dcbf2c172"
      },
      "source": [
        "some_string = \"This type of data is called a string!\"\n",
        "some_string_2 = 'This is also a string; notice we can use both quote marks and apostrophes'\n",
        "\n",
        "# We can also assign numbers with decimal points to our variables. These are called Floats!\n",
        "some_number = 13.45\n",
        "\n",
        "# Another type of variable is called a boolean, which only holds the value of True or False\n",
        "# We'll talk more about these as we get to conditionals, in a later section\n",
        "some_bool = True\n",
        "\n",
        "print(\"Practice adding some print statements below to print the other variables!\")\n",
        "print(some_string_2)\n",
        "print(some_bool)"
      ],
      "execution_count": null,
      "outputs": [
        {
          "output_type": "stream",
          "text": [
            "Practice adding some print statements below to print the other variables!\n",
            "This is also a string; notice we can use both quote marks and apostrophes\n",
            "True\n"
          ],
          "name": "stdout"
        }
      ]
    },
    {
      "cell_type": "markdown",
      "metadata": {
        "id": "Qlk179SBGShj"
      },
      "source": [
        "## Variable Naming Rules\n",
        "\n",
        "Variables are case-sensitive. That means a variable named `thing` and one named `Thing` are different! Let's see why this matters by running the following code:"
      ]
    },
    {
      "cell_type": "code",
      "metadata": {
        "id": "Ii_G-7RhVYqN",
        "colab": {
          "base_uri": "https://localhost:8080/"
        },
        "outputId": "b52dd728-e6ee-4916-961c-b2d2f70e0e71"
      },
      "source": [
        "thing = 1\n",
        "print(thing)"
      ],
      "execution_count": null,
      "outputs": [
        {
          "output_type": "stream",
          "text": [
            "1\n"
          ],
          "name": "stdout"
        }
      ]
    },
    {
      "cell_type": "markdown",
      "metadata": {
        "id": "5MrWMUhlVekt"
      },
      "source": [
        "Oh no! What happens when you run that code block? You'll see a `NameError` pop up, saying that `'Thing' is not defined`. This happens because we initialized a variable named `thing` but not one named `Thing` with the uppercase T.\n",
        "\n",
        "As you have seen in earlier examples, variables also can have letters, numbers, and underscores included in them, but with certain restrictions.\n",
        "\n",
        "Run the following code blocks to see if they work or if they raise errors:"
      ]
    },
    {
      "cell_type": "code",
      "metadata": {
        "id": "FrJUU4k4WFgi"
      },
      "source": [
        "thing_2 = 5"
      ],
      "execution_count": null,
      "outputs": []
    },
    {
      "cell_type": "code",
      "metadata": {
        "id": "bj-VX0k8WRmd",
        "colab": {
          "base_uri": "https://localhost:8080/",
          "height": 131
        },
        "outputId": "aca787a4-e060-4b31-b1d1-bfea62c63a7d"
      },
      "source": [
        "thing-2 = 5"
      ],
      "execution_count": null,
      "outputs": [
        {
          "output_type": "error",
          "ename": "SyntaxError",
          "evalue": "ignored",
          "traceback": [
            "\u001b[0;36m  File \u001b[0;32m\"<ipython-input-19-cfe80068f3a2>\"\u001b[0;36m, line \u001b[0;32m1\u001b[0m\n\u001b[0;31m    thing-2 = 5\u001b[0m\n\u001b[0m               ^\u001b[0m\n\u001b[0;31mSyntaxError\u001b[0m\u001b[0;31m:\u001b[0m can't assign to operator\n"
          ]
        }
      ]
    },
    {
      "cell_type": "code",
      "metadata": {
        "id": "9pGaJumiWTX9",
        "colab": {
          "base_uri": "https://localhost:8080/",
          "height": 131
        },
        "outputId": "eeb28fde-25bf-44b6-a55d-65fa74c14f8c"
      },
      "source": [
        "2_thing = 5"
      ],
      "execution_count": null,
      "outputs": [
        {
          "output_type": "error",
          "ename": "SyntaxError",
          "evalue": "ignored",
          "traceback": [
            "\u001b[0;36m  File \u001b[0;32m\"<ipython-input-20-5c288ad0de83>\"\u001b[0;36m, line \u001b[0;32m1\u001b[0m\n\u001b[0;31m    2_thing = 5\u001b[0m\n\u001b[0m     ^\u001b[0m\n\u001b[0;31mSyntaxError\u001b[0m\u001b[0;31m:\u001b[0m invalid token\n"
          ]
        }
      ]
    },
    {
      "cell_type": "code",
      "metadata": {
        "id": "2T4xn5M6WWZg",
        "colab": {
          "base_uri": "https://localhost:8080/",
          "height": 131
        },
        "outputId": "4811f79a-8b06-4b11-995d-4324e6dce57a"
      },
      "source": [
        "some variable = 5"
      ],
      "execution_count": null,
      "outputs": [
        {
          "output_type": "error",
          "ename": "SyntaxError",
          "evalue": "ignored",
          "traceback": [
            "\u001b[0;36m  File \u001b[0;32m\"<ipython-input-21-bbc8e825cf71>\"\u001b[0;36m, line \u001b[0;32m1\u001b[0m\n\u001b[0;31m    some variable = 5\u001b[0m\n\u001b[0m                ^\u001b[0m\n\u001b[0;31mSyntaxError\u001b[0m\u001b[0;31m:\u001b[0m invalid syntax\n"
          ]
        }
      ]
    },
    {
      "cell_type": "markdown",
      "metadata": {
        "id": "4z3D17hHWiDk"
      },
      "source": [
        "After running the above code blocks, you should see that you:\n",
        "\n",
        "\n",
        "*   Can only start a variable name with a letter or underscore (no numbers)\n",
        "*   Can't include a space in a variable name\n",
        "*   Can't use any special characters (like `-` or `+`) or punctuation (like `.` or `,`)\n",
        "\n",
        "Finally, you cannot use \"reserved keywords\" as variable names. \"Reserved keywords\" are special words in the Python language that do specific things in your code. For example, one reserved keyword is `for`. Notice how it's colored purple in the code block below:"
      ]
    },
    {
      "cell_type": "code",
      "metadata": {
        "id": "y9i_XQ2UXS10",
        "colab": {
          "base_uri": "https://localhost:8080/",
          "height": 131
        },
        "outputId": "8e1644bf-4b2c-49e2-8fa1-2b5fd5445aad"
      },
      "source": [
        "for = 10"
      ],
      "execution_count": null,
      "outputs": [
        {
          "output_type": "error",
          "ename": "SyntaxError",
          "evalue": "ignored",
          "traceback": [
            "\u001b[0;36m  File \u001b[0;32m\"<ipython-input-22-597287a2d762>\"\u001b[0;36m, line \u001b[0;32m1\u001b[0m\n\u001b[0;31m    for = 10\u001b[0m\n\u001b[0m        ^\u001b[0m\n\u001b[0;31mSyntaxError\u001b[0m\u001b[0;31m:\u001b[0m invalid syntax\n"
          ]
        }
      ]
    },
    {
      "cell_type": "markdown",
      "metadata": {
        "id": "lSJQWGgUXYXV"
      },
      "source": [
        "If you run the above code block, it will raise an error as expected."
      ]
    },
    {
      "cell_type": "code",
      "metadata": {
        "id": "274hJJg-0Xzc",
        "colab": {
          "base_uri": "https://localhost:8080/"
        },
        "outputId": "3e4c1421-f7c4-472d-e38f-aafe942af93e"
      },
      "source": [
        "# Initialize your own variable below (give it any valid name) and assign it the value \"Hello!\"\n",
        "h = \"Hello!\"\n",
        "print(h)\n"
      ],
      "execution_count": null,
      "outputs": [
        {
          "output_type": "stream",
          "text": [
            "Hello!\n"
          ],
          "name": "stdout"
        }
      ]
    },
    {
      "cell_type": "markdown",
      "metadata": {
        "id": "cl4H_EeSGTw9"
      },
      "source": [
        "## Math in Python\n",
        "\n",
        "Python also makes it _very_ easy to do math without calculating it ourselves. In artificial intelligence work, we often deal with very complex equations and numbers, sometimes even dealing with billions of numbers at once, and it can be nearly impossible to compute by hand! This is where programming really helps us out, so that we're not left feeling like:\n",
        "\n",
        "![alt text](https://media.giphy.com/media/8lPSqcjcNjymIOS4Pm/giphy.gif)\n",
        "\n",
        "For example, if someone asks us to multiply 35 and 67, we could type it right into Python:"
      ]
    },
    {
      "cell_type": "code",
      "metadata": {
        "id": "5b6juVn90xbc",
        "colab": {
          "base_uri": "https://localhost:8080/"
        },
        "outputId": "4272c001-5a6f-4ce9-8771-16551b01c513"
      },
      "source": [
        "print(35*67)"
      ],
      "execution_count": null,
      "outputs": [
        {
          "output_type": "stream",
          "text": [
            "2345\n"
          ],
          "name": "stdout"
        }
      ]
    },
    {
      "cell_type": "markdown",
      "metadata": {
        "id": "m1XLpRkT1ACS"
      },
      "source": [
        "When we run the code above, we can print out the result of multiplying 35 and 67. But what if we need to keep this answer for future calculations? We can save it as a variable and re-use it!"
      ]
    },
    {
      "cell_type": "code",
      "metadata": {
        "id": "WXQ-xXAJF6QT",
        "colab": {
          "base_uri": "https://localhost:8080/"
        },
        "outputId": "ca3473c4-93e8-45ab-a480-94654326231b"
      },
      "source": [
        "a = 35 * 60\n",
        "b = 4\n",
        "c = a * b\n",
        "print(c)"
      ],
      "execution_count": null,
      "outputs": [
        {
          "output_type": "stream",
          "text": [
            "8400\n"
          ],
          "name": "stdout"
        }
      ]
    },
    {
      "cell_type": "markdown",
      "metadata": {
        "id": "qImtIYnqGh74"
      },
      "source": [
        "### Math Operators\n",
        "\n",
        "So what mathematical operations can we do in Python, and how do we do them? Some examples below:"
      ]
    },
    {
      "cell_type": "code",
      "metadata": {
        "id": "pSMipR2J1b8H",
        "colab": {
          "base_uri": "https://localhost:8080/"
        },
        "outputId": "7fe5a055-0838-4121-dc8b-85756b1a6d30"
      },
      "source": [
        "addition = 3 + 5\n",
        "subtraction = 10 - 2\n",
        "multiplication = 4 * 9\n",
        "division = 121 / 11\n",
        "exponentiation = 3 ** 2\n",
        "\n",
        "# Notice that if we run this cell block, there is no output (so we can't check our results)\n",
        "# Add a print statement so you can check the calculations are as expected!\n",
        "print(addition)\n",
        "print(subtraction)\n",
        "print(multiplication)\n",
        "print(division)\n",
        "print(exponentiation)\n",
        "\n"
      ],
      "execution_count": null,
      "outputs": [
        {
          "output_type": "stream",
          "text": [
            "8\n",
            "8\n",
            "36\n",
            "11.0\n",
            "9\n"
          ],
          "name": "stdout"
        }
      ]
    },
    {
      "cell_type": "markdown",
      "metadata": {
        "id": "ieXkjVSP18iY"
      },
      "source": [
        "Additionally, one math operation you might not have seen before is called **modulo** and is quite useful when programming. What modulo does is it returns the remainder after you divide.\n",
        "\n",
        "For example:"
      ]
    },
    {
      "cell_type": "code",
      "metadata": {
        "id": "3ndlIJZY2HzW",
        "colab": {
          "base_uri": "https://localhost:8080/"
        },
        "outputId": "7d3c16d0-a8b7-444e-ce0c-bc7852b391ca"
      },
      "source": [
        "modulo = 35 % 2\n",
        "print(modulo)\n",
        "\n",
        "# When you divide 35 by 2, you get 17 with a remainder of 1\n",
        "# The modulo (%) operator will return that 1"
      ],
      "execution_count": null,
      "outputs": [
        {
          "output_type": "stream",
          "text": [
            "1\n"
          ],
          "name": "stdout"
        }
      ]
    },
    {
      "cell_type": "code",
      "metadata": {
        "id": "tCGj0nGC2YF4",
        "colab": {
          "base_uri": "https://localhost:8080/"
        },
        "outputId": "f7143aac-e320-4682-ee30-156bb750bfa2"
      },
      "source": [
        "# What will the following return?\n",
        "mod = 44 % 10\n",
        "print(mod)\n"
      ],
      "execution_count": null,
      "outputs": [
        {
          "output_type": "stream",
          "text": [
            "4\n"
          ],
          "name": "stdout"
        }
      ]
    },
    {
      "cell_type": "markdown",
      "metadata": {
        "id": "CeJcYlEQ2zB6"
      },
      "source": [
        "### Order of Operations and Parentheses\n",
        "\n",
        "Order of operations are respected in Python, and you can use parentheses as expected."
      ]
    },
    {
      "cell_type": "code",
      "metadata": {
        "id": "JYzFKAQy266e",
        "colab": {
          "base_uri": "https://localhost:8080/"
        },
        "outputId": "b26b39b1-1ca3-48d2-8d68-c98e334f1c25"
      },
      "source": [
        "some_number = (47 + 3) * 2 / 10\n",
        "print(some_number)"
      ],
      "execution_count": null,
      "outputs": [
        {
          "output_type": "stream",
          "text": [
            "10.0\n"
          ],
          "name": "stdout"
        }
      ]
    },
    {
      "cell_type": "markdown",
      "metadata": {
        "id": "WIB9q_WU3FU8"
      },
      "source": [
        "You cannot, however, do implicit multiplication with parentheses. If you run the code below, it will return an error:"
      ]
    },
    {
      "cell_type": "code",
      "metadata": {
        "id": "1LbbzbKF3Klf",
        "colab": {
          "base_uri": "https://localhost:8080/",
          "height": 165
        },
        "outputId": "308e4cf2-1840-4a98-efb1-675d4e31b0eb"
      },
      "source": [
        "some_number_2 = 2 (5 + 5)"
      ],
      "execution_count": null,
      "outputs": [
        {
          "output_type": "error",
          "ename": "TypeError",
          "evalue": "ignored",
          "traceback": [
            "\u001b[0;31m---------------------------------------------------------------------------\u001b[0m",
            "\u001b[0;31mTypeError\u001b[0m                                 Traceback (most recent call last)",
            "\u001b[0;32m<ipython-input-32-fcd17ba6befa>\u001b[0m in \u001b[0;36m<module>\u001b[0;34m()\u001b[0m\n\u001b[0;32m----> 1\u001b[0;31m \u001b[0msome_number_2\u001b[0m \u001b[0;34m=\u001b[0m \u001b[0;36m2\u001b[0m \u001b[0;34m(\u001b[0m\u001b[0;36m5\u001b[0m \u001b[0;34m+\u001b[0m \u001b[0;36m5\u001b[0m\u001b[0;34m)\u001b[0m\u001b[0;34m\u001b[0m\u001b[0;34m\u001b[0m\u001b[0m\n\u001b[0m",
            "\u001b[0;31mTypeError\u001b[0m: 'int' object is not callable"
          ]
        }
      ]
    },
    {
      "cell_type": "markdown",
      "metadata": {
        "id": "yjv3mJ9Z3dWS"
      },
      "source": [
        "### An Arithmetic Shortcut\n",
        "\n",
        "So far, we've only been initializing new variables. Variables in Python, unlike in math, can be updated to hold new values. For example:"
      ]
    },
    {
      "cell_type": "code",
      "metadata": {
        "id": "34BCUaoC3r6N",
        "colab": {
          "base_uri": "https://localhost:8080/"
        },
        "outputId": "49ae84c2-d389-4484-eb1a-f586a47fb572"
      },
      "source": [
        "a = 10\n",
        "print(a)\n",
        "a = 20\n",
        "print(a)"
      ],
      "execution_count": null,
      "outputs": [
        {
          "output_type": "stream",
          "text": [
            "10\n",
            "20\n"
          ],
          "name": "stdout"
        }
      ]
    },
    {
      "cell_type": "markdown",
      "metadata": {
        "id": "2v7QdEfq3wSE"
      },
      "source": [
        "On the third line in the code block above, `a` is reassigned the value of 20.\n",
        "\n",
        "What if we wanted to add 10 to the value of `a`? There is an arithmetic shortcut we can use:"
      ]
    },
    {
      "cell_type": "code",
      "metadata": {
        "id": "WZCsT3Xd37N2",
        "colab": {
          "base_uri": "https://localhost:8080/"
        },
        "outputId": "154ba24c-5d60-4be5-de98-f076b9a02e85"
      },
      "source": [
        "a = 20\n",
        "a += 10\n",
        "print(a)\n",
        "# What do you expect this to print?"
      ],
      "execution_count": null,
      "outputs": [
        {
          "output_type": "stream",
          "text": [
            "30\n"
          ],
          "name": "stdout"
        }
      ]
    },
    {
      "cell_type": "markdown",
      "metadata": {
        "id": "z6wdIPsK4B4z"
      },
      "source": [
        "A longer example, with other operations. What do you think the final value should be? Try to calculate it yourself before adding a print command to test your answer:"
      ]
    },
    {
      "cell_type": "code",
      "metadata": {
        "id": "6cTxAUwG4KBd",
        "colab": {
          "base_uri": "https://localhost:8080/"
        },
        "outputId": "c6d521c4-77b7-4754-b469-2668abd4bc09"
      },
      "source": [
        "unknown = 5\n",
        "unknown += 5\n",
        "unknown -= 2\n",
        "unknown *= 8\n",
        "unknown /= 4\n",
        "unknown %= 3\n",
        "print(unknown)"
      ],
      "execution_count": null,
      "outputs": [
        {
          "output_type": "stream",
          "text": [
            "1.0\n"
          ],
          "name": "stdout"
        }
      ]
    },
    {
      "cell_type": "markdown",
      "metadata": {
        "id": "TFEzqNKE5a7s"
      },
      "source": [
        "## User Input\n",
        "\n",
        "Up until now, we've worked on printing, creating variables, and doing some math. All of that is useful, but what makes many programs interesting and valuable are that they can take in user input and change how they run.\n",
        "\n",
        "To get user input, we do the following:"
      ]
    },
    {
      "cell_type": "code",
      "metadata": {
        "id": "H6dLOIUc5x0S",
        "colab": {
          "base_uri": "https://localhost:8080/",
          "height": 53
        },
        "outputId": "9d9816ca-ecc4-408f-918a-eac80a2516fa"
      },
      "source": [
        "input(\"Type something and hit enter! \")"
      ],
      "execution_count": null,
      "outputs": [
        {
          "output_type": "stream",
          "text": [
            "Type something and hit enter! ello\n"
          ],
          "name": "stdout"
        },
        {
          "output_type": "execute_result",
          "data": {
            "application/vnd.google.colaboratory.intrinsic+json": {
              "type": "string"
            },
            "text/plain": [
              "'ello'"
            ]
          },
          "metadata": {
            "tags": []
          },
          "execution_count": 37
        }
      ]
    },
    {
      "cell_type": "markdown",
      "metadata": {
        "id": "YbQWIK6t56L3"
      },
      "source": [
        "We've gotten user input, but how do we remember it and use it in the future?\n",
        "\n",
        "As always, let's store it as a variable."
      ]
    },
    {
      "cell_type": "code",
      "metadata": {
        "id": "XJXEMyDn6EFb",
        "colab": {
          "base_uri": "https://localhost:8080/"
        },
        "outputId": "a13495a4-8b90-41c4-856f-bd491567cd92"
      },
      "source": [
        "answer = input(\"Tell me something: \")\n",
        "print(\"You said:\", answer)"
      ],
      "execution_count": null,
      "outputs": [
        {
          "output_type": "stream",
          "text": [
            "Tell me something: hi\n",
            "You said: hi\n"
          ],
          "name": "stdout"
        }
      ]
    },
    {
      "cell_type": "markdown",
      "metadata": {
        "id": "zhpJRcuS6Q4F"
      },
      "source": [
        "In fact, a very early version of AI (that wasn't _really_ AI) called ELIZA mainly just took user input and returned it in a way that tried to mimic how a psychologist might communicate with you:"
      ]
    },
    {
      "cell_type": "code",
      "metadata": {
        "id": "t7VRUaHi6h0y",
        "colab": {
          "base_uri": "https://localhost:8080/"
        },
        "outputId": "ed8d35ef-059c-42d8-d34f-3abc46a0c96e"
      },
      "source": [
        "topic = input(\"What topic is on your mind? \")\n",
        "print(\"And how does\", topic, \"make you feel?\")"
      ],
      "execution_count": null,
      "outputs": [
        {
          "output_type": "stream",
          "text": [
            "What topic is on your mind? food\n",
            "And how does food make you feel?\n"
          ],
          "name": "stdout"
        }
      ]
    },
    {
      "cell_type": "markdown",
      "metadata": {
        "id": "b7iSRfpWQCmP"
      },
      "source": [
        "## If Statements (Conditionals)\n",
        "\n",
        "How can we change how the program acts based on input from the user? We can make use of a concept called **conditionals**, which come from the idea that for certain _conditions_, you do certain actions.\n",
        "\n",
        "What do you think this following line of code does? Once you have a guess, give it a run a few times, with different inputs:\n"
      ]
    },
    {
      "cell_type": "code",
      "metadata": {
        "id": "_eY16gH65Z7X",
        "colab": {
          "base_uri": "https://localhost:8080/"
        },
        "outputId": "372d8646-fa78-42fc-db49-4238c0999164"
      },
      "source": [
        "num = int(input(\"Input a number from 1 to 10: \"))\n",
        "\n",
        "if num > 5:\n",
        "  print(\"This was a good number!\")"
      ],
      "execution_count": null,
      "outputs": [
        {
          "output_type": "stream",
          "text": [
            "Input a number from 1 to 10: 9\n",
            "This was a good number!\n"
          ],
          "name": "stdout"
        }
      ]
    },
    {
      "cell_type": "markdown",
      "metadata": {
        "id": "k4HhhrgI7r0a"
      },
      "source": [
        "Notice that in the code block above, the print statement only happens for certain numbers that are input. We happen to use the comparison operator `>` to compare `num` and `5` in this particular case. All of the comparison operators are as follows:\n",
        "\n",
        "\n",
        "* `==` to check for equality\n",
        "* `!=` to check for inequality\n",
        "* `>` greater than\n",
        "*   `<` less than\n",
        "*   `>=` greater than or equal to\n",
        "* `<=` less than or equal to\n",
        "\n",
        "It's particularly important to note that if you are checking if something is equal, you must use `==` and not just a single `=`, because a single `=` in Python is interpretted as assigning a value to a variable.\n",
        "\n",
        "We'll put this to use in the code block below. Don't be afraid to ask for help!\n",
        "\n"
      ]
    },
    {
      "cell_type": "code",
      "metadata": {
        "id": "ImWSfqzt9CS7",
        "colab": {
          "base_uri": "https://localhost:8080/"
        },
        "outputId": "3c1d71b1-98db-4196-c55b-ecdfbc530b58"
      },
      "source": [
        "num = int(input(\"Input a number from 1 to 10: \"))\n",
        "\n",
        "# Let's give it a try! Finish the following line so that \"You got it!\" only prints when num equals 3\n",
        "if num == 3:\n",
        "  print(\"You got it!\")"
      ],
      "execution_count": null,
      "outputs": [
        {
          "output_type": "stream",
          "text": [
            "Input a number from 1 to 10: 4\n"
          ],
          "name": "stdout"
        }
      ]
    },
    {
      "cell_type": "markdown",
      "metadata": {
        "id": "Gw6Q51KP9pnx"
      },
      "source": [
        "What if we wanted to print a different message if they got the number wrong? It would take a lot of time to write a condition for every single other option, so instead we can make use of a different piece of code:\n",
        "\n",
        "(Spoilers for the previous code block, so be sure to have finished that before looking at the following.)"
      ]
    },
    {
      "cell_type": "code",
      "metadata": {
        "id": "rwKvZoVc94tO",
        "colab": {
          "base_uri": "https://localhost:8080/"
        },
        "outputId": "71037d43-aa4a-4f68-dacb-ad1e58c72976"
      },
      "source": [
        "num = int(input(\"Input a number from 1 to 10: \"))\n",
        "\n",
        "if num == 5:\n",
        "  print(\"You got it!\")\n",
        "else:\n",
        "  print(\"Try again!\")"
      ],
      "execution_count": null,
      "outputs": [
        {
          "output_type": "stream",
          "text": [
            "Input a number from 1 to 10: 5\n",
            "You got it!\n"
          ],
          "name": "stdout"
        }
      ]
    },
    {
      "cell_type": "markdown",
      "metadata": {
        "id": "owQaUNuH-NyG"
      },
      "source": [
        "We can also include some math in our if statement, to help check for specific conditions. For example, a very popular use of the modulo operator is to check if a number is even or odd, and we can combine this with an if statement:"
      ]
    },
    {
      "cell_type": "code",
      "metadata": {
        "id": "iaTdt45N-kZC",
        "colab": {
          "base_uri": "https://localhost:8080/"
        },
        "outputId": "42be1f25-cf2a-4154-e163-92c6790e75ad"
      },
      "source": [
        "num = int(input(\"Input a number from 1 to 100: \"))\n",
        "\n",
        "if num % 2 == 0:\n",
        "  print(\"You inputted an even number.\")\n",
        "else:\n",
        "  print(\"You inputted an odd number.\")"
      ],
      "execution_count": null,
      "outputs": [
        {
          "output_type": "stream",
          "text": [
            "Input a number from 1 to 100: 8\n",
            "You inputted an even number.\n"
          ],
          "name": "stdout"
        }
      ]
    },
    {
      "cell_type": "markdown",
      "metadata": {
        "id": "Hw0xFruG-wr5"
      },
      "source": [
        "So how does this work?\n",
        "\n",
        "Because modulo returns the remainder after dividing by 2, we know that all even numbers will have a remainder of 0 and all odd numbers will have a remainder of 1. Our if-statement checks to see that if after `num % 2` you get the result of 0, you know that `num` is an even number.\n",
        "\n",
        "There are many more uses of if-statements, and we'll see that this is one of the most useful fundamental concepts in programming that helps us create meaningful programs."
      ]
    },
    {
      "cell_type": "markdown",
      "metadata": {
        "id": "4_VBcdGR_26X"
      },
      "source": [
        "### A Note on Indenting\n",
        "\n",
        "You may have noticed in all of the code examples above that there is a single indent for the line that comes after the if-statement condition. Why might that be?\n",
        "\n",
        "Try running the following code to see what happens:"
      ]
    },
    {
      "cell_type": "code",
      "metadata": {
        "id": "ARmPnYh3AGc-"
      },
      "source": [
        "x = 5\n",
        "\n",
        "if x < 2:\n",
        "  print(\"Well, we know this will not print...\")\n",
        "  print(\"But what about this?\")"
      ],
      "execution_count": null,
      "outputs": []
    },
    {
      "cell_type": "markdown",
      "metadata": {
        "id": "ZJGrCiGQAO6z"
      },
      "source": [
        "Compare it with the following:"
      ]
    },
    {
      "cell_type": "code",
      "metadata": {
        "id": "zvroZsG_AQSN",
        "colab": {
          "base_uri": "https://localhost:8080/"
        },
        "outputId": "ce3b2b1e-b08f-4c89-dad2-ae5c8bdf1eea"
      },
      "source": [
        "x = 5\n",
        "\n",
        "if x < 2:\n",
        "  print(\"Well, we know this will not print...\")\n",
        "print(\"But what about this?\")"
      ],
      "execution_count": null,
      "outputs": [
        {
          "output_type": "stream",
          "text": [
            "But what about this?\n"
          ],
          "name": "stdout"
        }
      ]
    },
    {
      "cell_type": "markdown",
      "metadata": {
        "id": "2ktpJ4NPAWG2"
      },
      "source": [
        "What do you notice is the difference between the two code blocks?"
      ]
    },
    {
      "cell_type": "markdown",
      "metadata": {
        "id": "PmMDVxleAd1R"
      },
      "source": [
        "We use indenting to tell Python which block of code should be run as part of the conditional, and which part comes after the conditional. \n",
        "\n",
        "Not all programming languages use indentation for this -- for example, a different programming language called JavaScript uses the curly braces `{}` to tell the computer that everything inside the curly braces should be run if the condition is true, and everything afterwards will be run regardless of the conditional."
      ]
    },
    {
      "cell_type": "code",
      "metadata": {
        "id": "H5URZNxgBDgx",
        "colab": {
          "base_uri": "https://localhost:8080/"
        },
        "outputId": "bb5ad57b-cab0-4bac-8f26-5559bb23251c"
      },
      "source": [
        "# One more example just to be clear!\n",
        "y = 100\n",
        "\n",
        "# Do you remember what this following comparison operator does?\n",
        "if y != 100:\n",
        "  print(\"Will this line print?\")\n",
        "  print(\"How about this line?\")\n",
        "  print(\"Let's add one more line just in case.\")\n",
        "print(\"Now will it print?\")"
      ],
      "execution_count": null,
      "outputs": [
        {
          "output_type": "stream",
          "text": [
            "Now will it print?\n"
          ],
          "name": "stdout"
        }
      ]
    },
    {
      "cell_type": "markdown",
      "metadata": {
        "id": "sSht1HzSQJdn"
      },
      "source": [
        "# Lists\n",
        "\n",
        "There are many ways in Python where we can store many different things in one single variable. Just like in the real world, we often want to be able to make lists in Python. Imagine these like to-do lists, shopping lists, or lists to keep track of a set of similar things.\n",
        "\n",
        "![alt text](https://media.giphy.com/media/MJ4Qi9dSACpLG/giphy.gif)"
      ]
    },
    {
      "cell_type": "code",
      "metadata": {
        "id": "WUeq84uACcXv"
      },
      "source": [
        "# The following is a list in Python:\n",
        "things_to_do = [\"water plants\", \"take out trash\", \"mow law\", \"prepare dinner\"]"
      ],
      "execution_count": null,
      "outputs": []
    },
    {
      "cell_type": "markdown",
      "metadata": {
        "id": "YKWBRIoeC2EA"
      },
      "source": [
        "We use the square brackets `[]` to show that we're using a list in Python. Lists can be a mixture of different data types, like:"
      ]
    },
    {
      "cell_type": "code",
      "metadata": {
        "id": "zT5HBPDtDAi6",
        "colab": {
          "base_uri": "https://localhost:8080/"
        },
        "outputId": "adde1692-ffaa-4eef-ad27-2ec4b7af745f"
      },
      "source": [
        "some_random_list = [5, \"something\", True, 4.5, \"okay\"]\n",
        "\n",
        "# To test if something is in a list, we use the operator 'in'\n",
        "\n",
        "if 5 in some_random_list:\n",
        "  print(\"The number 5 is in this list!\")"
      ],
      "execution_count": null,
      "outputs": [
        {
          "output_type": "stream",
          "text": [
            "The number 5 is in this list!\n"
          ],
          "name": "stdout"
        }
      ]
    },
    {
      "cell_type": "code",
      "metadata": {
        "id": "oyjb9WpgDb9z",
        "colab": {
          "base_uri": "https://localhost:8080/"
        },
        "outputId": "81400df6-dfe2-47f4-ac50-8a0a6664f3cc"
      },
      "source": [
        "# Fill in the list below so that the conditional will be true!\n",
        "your_list = [42, 11, 10, \"apple\" ]\n",
        "x = 42\n",
        "\n",
        "if x in your_list:\n",
        "  print(\"The value of x was found in your list.\")"
      ],
      "execution_count": null,
      "outputs": [
        {
          "output_type": "stream",
          "text": [
            "The value of x was found in your list.\n"
          ],
          "name": "stdout"
        }
      ]
    },
    {
      "cell_type": "markdown",
      "metadata": {
        "id": "4agTX3VRJ203"
      },
      "source": [
        "### Indexing into a list\n",
        "\n",
        "What if we wanted to get a specific **element** of a list? We can do the following:"
      ]
    },
    {
      "cell_type": "code",
      "metadata": {
        "id": "wZwBL9fTKN-g",
        "colab": {
          "base_uri": "https://localhost:8080/"
        },
        "outputId": "e6a918f2-2792-4ddb-826d-f10c21406e41"
      },
      "source": [
        "some_list = ['a', 'b', 'c']\n",
        "print(some_list[1])\n",
        "\n",
        "# What do you expect this to print?"
      ],
      "execution_count": null,
      "outputs": [
        {
          "output_type": "stream",
          "text": [
            "b\n"
          ],
          "name": "stdout"
        }
      ]
    },
    {
      "cell_type": "markdown",
      "metadata": {
        "id": "rYah0sMUKSww"
      },
      "source": [
        "In Python, we actually start counting from 0, not 1. So the \"first\" element of the list would be `some_list[0]`. The number that we use is called the **index** of the element. (So element `a` would have the index of 0.)"
      ]
    },
    {
      "cell_type": "code",
      "metadata": {
        "id": "zM6ZxKl5Kdwe",
        "colab": {
          "base_uri": "https://localhost:8080/"
        },
        "outputId": "ce16bac1-a193-4f61-c54c-622d83e1f59d"
      },
      "source": [
        "# Print the 'e' from the list using indexing\n",
        "random_list = [3, 5, 'blob', 'e']\n",
        "\n",
        "print(random_list[-1])"
      ],
      "execution_count": null,
      "outputs": [
        {
          "output_type": "stream",
          "text": [
            "e\n"
          ],
          "name": "stdout"
        }
      ]
    },
    {
      "cell_type": "markdown",
      "metadata": {
        "id": "IDNz636mQKJq"
      },
      "source": [
        "## Loops\n",
        "\n",
        "Sometimes we want to repeat the same operation many times. For example, say we wanted to print all of the multiples of 7 up to 100. How could we do this?\n",
        "\n",
        "One way is to manually calculate all of the multiples and write `print(7)`, then `print(14)`, and continue until we've printed all of them out. But this takes lots of time to calculate and type out, and we're likely to make errors in this way.\n",
        "\n",
        "Instead, we can use something called a while loop:"
      ]
    },
    {
      "cell_type": "code",
      "metadata": {
        "id": "mQUIZgfoEVyA",
        "colab": {
          "base_uri": "https://localhost:8080/"
        },
        "outputId": "7b19d919-6df4-4e4e-b0fa-c93841504fc7"
      },
      "source": [
        "num = 7\n",
        "while num < 100:\n",
        "  print(num)\n",
        "  num += 7"
      ],
      "execution_count": null,
      "outputs": [
        {
          "output_type": "stream",
          "text": [
            "7\n",
            "14\n",
            "21\n",
            "28\n",
            "35\n",
            "42\n",
            "49\n",
            "56\n",
            "63\n",
            "70\n",
            "77\n",
            "84\n",
            "91\n",
            "98\n"
          ],
          "name": "stdout"
        }
      ]
    },
    {
      "cell_type": "markdown",
      "metadata": {
        "id": "T7jnj-BhE8dX"
      },
      "source": [
        "On line 2 in the code above, we check to see if the variable `num` is less than 100. If it is, we will run the two indented lines of code, which print `num` and also increase it by 7. This will continue until `num` is greater than 100, and stop repeating, which we see from running the code.\n",
        "\n",
        "Loops are a very useful way to repeat the same task over and over, often with just a small thing changed on each **iteration**, which is what we call one cycle of the loop. If you feel like you're doing a lot of copying and pasting of code, this is often a sign that you can potentially replace things with a loop."
      ]
    },
    {
      "cell_type": "markdown",
      "metadata": {
        "id": "rnRBRs2fFtWC"
      },
      "source": [
        "### For Loops\n",
        "\n",
        "One particular type of loop is the for loop. It has many uses, such as with lists:"
      ]
    },
    {
      "cell_type": "code",
      "metadata": {
        "id": "azpbfV1ZF1Pz",
        "colab": {
          "base_uri": "https://localhost:8080/"
        },
        "outputId": "bb392b02-f5e3-48c5-d7f9-22577f4d35bd"
      },
      "source": [
        "things_to_do = [\"water plants\", \"take out trash\", \"mow law\", \"prepare dinner\"]\n",
        "\n",
        "for task in things_to_do:\n",
        "  print(\"Now doing:\", task)"
      ],
      "execution_count": null,
      "outputs": [
        {
          "output_type": "stream",
          "text": [
            "Now doing: water plants\n",
            "Now doing: take out trash\n",
            "Now doing: mow law\n",
            "Now doing: prepare dinner\n"
          ],
          "name": "stdout"
        }
      ]
    },
    {
      "cell_type": "markdown",
      "metadata": {
        "id": "jIDdokoOGAl6"
      },
      "source": [
        "Notice that in order to print out each element of the list one-by-one, we need to use a for loop. We cannot do the following:"
      ]
    },
    {
      "cell_type": "code",
      "metadata": {
        "id": "ZTsl1w5SGGuN",
        "colab": {
          "base_uri": "https://localhost:8080/"
        },
        "outputId": "810c4fcc-9461-4141-9625-3b6474dbb203"
      },
      "source": [
        "# This would just print the entire list at once\n",
        "things_to_do = [\"water plants\", \"take out trash\", \"mow law\", \"prepare dinner\"]\n",
        "print(things_to_do)"
      ],
      "execution_count": null,
      "outputs": [
        {
          "output_type": "stream",
          "text": [
            "['water plants', 'take out trash', 'mow law', 'prepare dinner']\n"
          ],
          "name": "stdout"
        }
      ]
    },
    {
      "cell_type": "markdown",
      "metadata": {
        "id": "u53rfwj6GPKf"
      },
      "source": [
        "Say we want to loop through a list of numbers and count how many times we see an even number. We could do that by combining for loops and if statements:"
      ]
    },
    {
      "cell_type": "code",
      "metadata": {
        "id": "_wj_WJcbGOpX",
        "colab": {
          "base_uri": "https://localhost:8080/"
        },
        "outputId": "ef6d0fd0-cbec-4b25-ae4c-d6ec93d4e6e9"
      },
      "source": [
        "list_of_no = [1,2,99,24,45,76]\n",
        "\n",
        "count = 0\n",
        "\n",
        "for number in list_of_no:\n",
        "  if number % 2 == 0:\n",
        "    count += 1\n",
        "    \n",
        "print(count)"
      ],
      "execution_count": null,
      "outputs": [
        {
          "output_type": "stream",
          "text": [
            "3\n"
          ],
          "name": "stdout"
        }
      ]
    },
    {
      "cell_type": "markdown",
      "metadata": {
        "id": "GZXRxYgjG8lm"
      },
      "source": [
        "Take your time to read the code example above. We've combined many of the different things that we've learned in the lesson so far to accomplish this task. Try to read through each line of code to understand what it does, especially within the for loop. Notice that the if-statement condition is indented once, and the `count += 1` line is indented twice."
      ]
    },
    {
      "cell_type": "markdown",
      "metadata": {
        "id": "TmR8AMRuQLiB"
      },
      "source": [
        "## Ranged For Loop\n",
        "\n",
        "In addition to using a for loop with a list, we can use a for loop with a range of numbers. Say we wanted to count up from 1 to 100 and print each number:"
      ]
    },
    {
      "cell_type": "code",
      "metadata": {
        "id": "-_phUnfIH3IH",
        "colab": {
          "base_uri": "https://localhost:8080/"
        },
        "outputId": "6183e9f7-42a5-4e41-d0e5-f56c195dd0a8"
      },
      "source": [
        "for number in range(100):\n",
        "  print(number) #starts with 0 and ends at 99"
      ],
      "execution_count": null,
      "outputs": [
        {
          "output_type": "stream",
          "text": [
            "0\n",
            "1\n",
            "2\n",
            "3\n",
            "4\n",
            "5\n",
            "6\n",
            "7\n",
            "8\n",
            "9\n",
            "10\n",
            "11\n",
            "12\n",
            "13\n",
            "14\n",
            "15\n",
            "16\n",
            "17\n",
            "18\n",
            "19\n",
            "20\n",
            "21\n",
            "22\n",
            "23\n",
            "24\n",
            "25\n",
            "26\n",
            "27\n",
            "28\n",
            "29\n",
            "30\n",
            "31\n",
            "32\n",
            "33\n",
            "34\n",
            "35\n",
            "36\n",
            "37\n",
            "38\n",
            "39\n",
            "40\n",
            "41\n",
            "42\n",
            "43\n",
            "44\n",
            "45\n",
            "46\n",
            "47\n",
            "48\n",
            "49\n",
            "50\n",
            "51\n",
            "52\n",
            "53\n",
            "54\n",
            "55\n",
            "56\n",
            "57\n",
            "58\n",
            "59\n",
            "60\n",
            "61\n",
            "62\n",
            "63\n",
            "64\n",
            "65\n",
            "66\n",
            "67\n",
            "68\n",
            "69\n",
            "70\n",
            "71\n",
            "72\n",
            "73\n",
            "74\n",
            "75\n",
            "76\n",
            "77\n",
            "78\n",
            "79\n",
            "80\n",
            "81\n",
            "82\n",
            "83\n",
            "84\n",
            "85\n",
            "86\n",
            "87\n",
            "88\n",
            "89\n",
            "90\n",
            "91\n",
            "92\n",
            "93\n",
            "94\n",
            "95\n",
            "96\n",
            "97\n",
            "98\n",
            "99\n"
          ],
          "name": "stdout"
        }
      ]
    },
    {
      "cell_type": "markdown",
      "metadata": {
        "id": "sUi3K9q9H7TZ"
      },
      "source": [
        "**What is the first number that's printed?**\n",
        "\n",
        "0! Remember that in Python, we typically start counting from 0, not 1.\n",
        "\n",
        "**What is the final number that's printed?**\n",
        "\n",
        "You'll notice that the number we specify in `range()` is the number we count _up to_, but don't actually get to.\n",
        "\n",
        "**How can we correct this to print the numbers 1 to 100 instead of 0 to 99?**"
      ]
    },
    {
      "cell_type": "code",
      "metadata": {
        "id": "7Psf3t8aIW5d",
        "colab": {
          "base_uri": "https://localhost:8080/"
        },
        "outputId": "8cde3a5d-3530-432f-9ead-02e7e6fea41c"
      },
      "source": [
        "# One approach:\n",
        "for number in range(1000):\n",
        "  print(number + 1)"
      ],
      "execution_count": null,
      "outputs": [
        {
          "output_type": "stream",
          "text": [
            "1\n",
            "2\n",
            "3\n",
            "4\n",
            "5\n",
            "6\n",
            "7\n",
            "8\n",
            "9\n",
            "10\n",
            "11\n",
            "12\n",
            "13\n",
            "14\n",
            "15\n",
            "16\n",
            "17\n",
            "18\n",
            "19\n",
            "20\n",
            "21\n",
            "22\n",
            "23\n",
            "24\n",
            "25\n",
            "26\n",
            "27\n",
            "28\n",
            "29\n",
            "30\n",
            "31\n",
            "32\n",
            "33\n",
            "34\n",
            "35\n",
            "36\n",
            "37\n",
            "38\n",
            "39\n",
            "40\n",
            "41\n",
            "42\n",
            "43\n",
            "44\n",
            "45\n",
            "46\n",
            "47\n",
            "48\n",
            "49\n",
            "50\n",
            "51\n",
            "52\n",
            "53\n",
            "54\n",
            "55\n",
            "56\n",
            "57\n",
            "58\n",
            "59\n",
            "60\n",
            "61\n",
            "62\n",
            "63\n",
            "64\n",
            "65\n",
            "66\n",
            "67\n",
            "68\n",
            "69\n",
            "70\n",
            "71\n",
            "72\n",
            "73\n",
            "74\n",
            "75\n",
            "76\n",
            "77\n",
            "78\n",
            "79\n",
            "80\n",
            "81\n",
            "82\n",
            "83\n",
            "84\n",
            "85\n",
            "86\n",
            "87\n",
            "88\n",
            "89\n",
            "90\n",
            "91\n",
            "92\n",
            "93\n",
            "94\n",
            "95\n",
            "96\n",
            "97\n",
            "98\n",
            "99\n",
            "100\n",
            "101\n",
            "102\n",
            "103\n",
            "104\n",
            "105\n",
            "106\n",
            "107\n",
            "108\n",
            "109\n",
            "110\n",
            "111\n",
            "112\n",
            "113\n",
            "114\n",
            "115\n",
            "116\n",
            "117\n",
            "118\n",
            "119\n",
            "120\n",
            "121\n",
            "122\n",
            "123\n",
            "124\n",
            "125\n",
            "126\n",
            "127\n",
            "128\n",
            "129\n",
            "130\n",
            "131\n",
            "132\n",
            "133\n",
            "134\n",
            "135\n",
            "136\n",
            "137\n",
            "138\n",
            "139\n",
            "140\n",
            "141\n",
            "142\n",
            "143\n",
            "144\n",
            "145\n",
            "146\n",
            "147\n",
            "148\n",
            "149\n",
            "150\n",
            "151\n",
            "152\n",
            "153\n",
            "154\n",
            "155\n",
            "156\n",
            "157\n",
            "158\n",
            "159\n",
            "160\n",
            "161\n",
            "162\n",
            "163\n",
            "164\n",
            "165\n",
            "166\n",
            "167\n",
            "168\n",
            "169\n",
            "170\n",
            "171\n",
            "172\n",
            "173\n",
            "174\n",
            "175\n",
            "176\n",
            "177\n",
            "178\n",
            "179\n",
            "180\n",
            "181\n",
            "182\n",
            "183\n",
            "184\n",
            "185\n",
            "186\n",
            "187\n",
            "188\n",
            "189\n",
            "190\n",
            "191\n",
            "192\n",
            "193\n",
            "194\n",
            "195\n",
            "196\n",
            "197\n",
            "198\n",
            "199\n",
            "200\n",
            "201\n",
            "202\n",
            "203\n",
            "204\n",
            "205\n",
            "206\n",
            "207\n",
            "208\n",
            "209\n",
            "210\n",
            "211\n",
            "212\n",
            "213\n",
            "214\n",
            "215\n",
            "216\n",
            "217\n",
            "218\n",
            "219\n",
            "220\n",
            "221\n",
            "222\n",
            "223\n",
            "224\n",
            "225\n",
            "226\n",
            "227\n",
            "228\n",
            "229\n",
            "230\n",
            "231\n",
            "232\n",
            "233\n",
            "234\n",
            "235\n",
            "236\n",
            "237\n",
            "238\n",
            "239\n",
            "240\n",
            "241\n",
            "242\n",
            "243\n",
            "244\n",
            "245\n",
            "246\n",
            "247\n",
            "248\n",
            "249\n",
            "250\n",
            "251\n",
            "252\n",
            "253\n",
            "254\n",
            "255\n",
            "256\n",
            "257\n",
            "258\n",
            "259\n",
            "260\n",
            "261\n",
            "262\n",
            "263\n",
            "264\n",
            "265\n",
            "266\n",
            "267\n",
            "268\n",
            "269\n",
            "270\n",
            "271\n",
            "272\n",
            "273\n",
            "274\n",
            "275\n",
            "276\n",
            "277\n",
            "278\n",
            "279\n",
            "280\n",
            "281\n",
            "282\n",
            "283\n",
            "284\n",
            "285\n",
            "286\n",
            "287\n",
            "288\n",
            "289\n",
            "290\n",
            "291\n",
            "292\n",
            "293\n",
            "294\n",
            "295\n",
            "296\n",
            "297\n",
            "298\n",
            "299\n",
            "300\n",
            "301\n",
            "302\n",
            "303\n",
            "304\n",
            "305\n",
            "306\n",
            "307\n",
            "308\n",
            "309\n",
            "310\n",
            "311\n",
            "312\n",
            "313\n",
            "314\n",
            "315\n",
            "316\n",
            "317\n",
            "318\n",
            "319\n",
            "320\n",
            "321\n",
            "322\n",
            "323\n",
            "324\n",
            "325\n",
            "326\n",
            "327\n",
            "328\n",
            "329\n",
            "330\n",
            "331\n",
            "332\n",
            "333\n",
            "334\n",
            "335\n",
            "336\n",
            "337\n",
            "338\n",
            "339\n",
            "340\n",
            "341\n",
            "342\n",
            "343\n",
            "344\n",
            "345\n",
            "346\n",
            "347\n",
            "348\n",
            "349\n",
            "350\n",
            "351\n",
            "352\n",
            "353\n",
            "354\n",
            "355\n",
            "356\n",
            "357\n",
            "358\n",
            "359\n",
            "360\n",
            "361\n",
            "362\n",
            "363\n",
            "364\n",
            "365\n",
            "366\n",
            "367\n",
            "368\n",
            "369\n",
            "370\n",
            "371\n",
            "372\n",
            "373\n",
            "374\n",
            "375\n",
            "376\n",
            "377\n",
            "378\n",
            "379\n",
            "380\n",
            "381\n",
            "382\n",
            "383\n",
            "384\n",
            "385\n",
            "386\n",
            "387\n",
            "388\n",
            "389\n",
            "390\n",
            "391\n",
            "392\n",
            "393\n",
            "394\n",
            "395\n",
            "396\n",
            "397\n",
            "398\n",
            "399\n",
            "400\n",
            "401\n",
            "402\n",
            "403\n",
            "404\n",
            "405\n",
            "406\n",
            "407\n",
            "408\n",
            "409\n",
            "410\n",
            "411\n",
            "412\n",
            "413\n",
            "414\n",
            "415\n",
            "416\n",
            "417\n",
            "418\n",
            "419\n",
            "420\n",
            "421\n",
            "422\n",
            "423\n",
            "424\n",
            "425\n",
            "426\n",
            "427\n",
            "428\n",
            "429\n",
            "430\n",
            "431\n",
            "432\n",
            "433\n",
            "434\n",
            "435\n",
            "436\n",
            "437\n",
            "438\n",
            "439\n",
            "440\n",
            "441\n",
            "442\n",
            "443\n",
            "444\n",
            "445\n",
            "446\n",
            "447\n",
            "448\n",
            "449\n",
            "450\n",
            "451\n",
            "452\n",
            "453\n",
            "454\n",
            "455\n",
            "456\n",
            "457\n",
            "458\n",
            "459\n",
            "460\n",
            "461\n",
            "462\n",
            "463\n",
            "464\n",
            "465\n",
            "466\n",
            "467\n",
            "468\n",
            "469\n",
            "470\n",
            "471\n",
            "472\n",
            "473\n",
            "474\n",
            "475\n",
            "476\n",
            "477\n",
            "478\n",
            "479\n",
            "480\n",
            "481\n",
            "482\n",
            "483\n",
            "484\n",
            "485\n",
            "486\n",
            "487\n",
            "488\n",
            "489\n",
            "490\n",
            "491\n",
            "492\n",
            "493\n",
            "494\n",
            "495\n",
            "496\n",
            "497\n",
            "498\n",
            "499\n",
            "500\n",
            "501\n",
            "502\n",
            "503\n",
            "504\n",
            "505\n",
            "506\n",
            "507\n",
            "508\n",
            "509\n",
            "510\n",
            "511\n",
            "512\n",
            "513\n",
            "514\n",
            "515\n",
            "516\n",
            "517\n",
            "518\n",
            "519\n",
            "520\n",
            "521\n",
            "522\n",
            "523\n",
            "524\n",
            "525\n",
            "526\n",
            "527\n",
            "528\n",
            "529\n",
            "530\n",
            "531\n",
            "532\n",
            "533\n",
            "534\n",
            "535\n",
            "536\n",
            "537\n",
            "538\n",
            "539\n",
            "540\n",
            "541\n",
            "542\n",
            "543\n",
            "544\n",
            "545\n",
            "546\n",
            "547\n",
            "548\n",
            "549\n",
            "550\n",
            "551\n",
            "552\n",
            "553\n",
            "554\n",
            "555\n",
            "556\n",
            "557\n",
            "558\n",
            "559\n",
            "560\n",
            "561\n",
            "562\n",
            "563\n",
            "564\n",
            "565\n",
            "566\n",
            "567\n",
            "568\n",
            "569\n",
            "570\n",
            "571\n",
            "572\n",
            "573\n",
            "574\n",
            "575\n",
            "576\n",
            "577\n",
            "578\n",
            "579\n",
            "580\n",
            "581\n",
            "582\n",
            "583\n",
            "584\n",
            "585\n",
            "586\n",
            "587\n",
            "588\n",
            "589\n",
            "590\n",
            "591\n",
            "592\n",
            "593\n",
            "594\n",
            "595\n",
            "596\n",
            "597\n",
            "598\n",
            "599\n",
            "600\n",
            "601\n",
            "602\n",
            "603\n",
            "604\n",
            "605\n",
            "606\n",
            "607\n",
            "608\n",
            "609\n",
            "610\n",
            "611\n",
            "612\n",
            "613\n",
            "614\n",
            "615\n",
            "616\n",
            "617\n",
            "618\n",
            "619\n",
            "620\n",
            "621\n",
            "622\n",
            "623\n",
            "624\n",
            "625\n",
            "626\n",
            "627\n",
            "628\n",
            "629\n",
            "630\n",
            "631\n",
            "632\n",
            "633\n",
            "634\n",
            "635\n",
            "636\n",
            "637\n",
            "638\n",
            "639\n",
            "640\n",
            "641\n",
            "642\n",
            "643\n",
            "644\n",
            "645\n",
            "646\n",
            "647\n",
            "648\n",
            "649\n",
            "650\n",
            "651\n",
            "652\n",
            "653\n",
            "654\n",
            "655\n",
            "656\n",
            "657\n",
            "658\n",
            "659\n",
            "660\n",
            "661\n",
            "662\n",
            "663\n",
            "664\n",
            "665\n",
            "666\n",
            "667\n",
            "668\n",
            "669\n",
            "670\n",
            "671\n",
            "672\n",
            "673\n",
            "674\n",
            "675\n",
            "676\n",
            "677\n",
            "678\n",
            "679\n",
            "680\n",
            "681\n",
            "682\n",
            "683\n",
            "684\n",
            "685\n",
            "686\n",
            "687\n",
            "688\n",
            "689\n",
            "690\n",
            "691\n",
            "692\n",
            "693\n",
            "694\n",
            "695\n",
            "696\n",
            "697\n",
            "698\n",
            "699\n",
            "700\n",
            "701\n",
            "702\n",
            "703\n",
            "704\n",
            "705\n",
            "706\n",
            "707\n",
            "708\n",
            "709\n",
            "710\n",
            "711\n",
            "712\n",
            "713\n",
            "714\n",
            "715\n",
            "716\n",
            "717\n",
            "718\n",
            "719\n",
            "720\n",
            "721\n",
            "722\n",
            "723\n",
            "724\n",
            "725\n",
            "726\n",
            "727\n",
            "728\n",
            "729\n",
            "730\n",
            "731\n",
            "732\n",
            "733\n",
            "734\n",
            "735\n",
            "736\n",
            "737\n",
            "738\n",
            "739\n",
            "740\n",
            "741\n",
            "742\n",
            "743\n",
            "744\n",
            "745\n",
            "746\n",
            "747\n",
            "748\n",
            "749\n",
            "750\n",
            "751\n",
            "752\n",
            "753\n",
            "754\n",
            "755\n",
            "756\n",
            "757\n",
            "758\n",
            "759\n",
            "760\n",
            "761\n",
            "762\n",
            "763\n",
            "764\n",
            "765\n",
            "766\n",
            "767\n",
            "768\n",
            "769\n",
            "770\n",
            "771\n",
            "772\n",
            "773\n",
            "774\n",
            "775\n",
            "776\n",
            "777\n",
            "778\n",
            "779\n",
            "780\n",
            "781\n",
            "782\n",
            "783\n",
            "784\n",
            "785\n",
            "786\n",
            "787\n",
            "788\n",
            "789\n",
            "790\n",
            "791\n",
            "792\n",
            "793\n",
            "794\n",
            "795\n",
            "796\n",
            "797\n",
            "798\n",
            "799\n",
            "800\n",
            "801\n",
            "802\n",
            "803\n",
            "804\n",
            "805\n",
            "806\n",
            "807\n",
            "808\n",
            "809\n",
            "810\n",
            "811\n",
            "812\n",
            "813\n",
            "814\n",
            "815\n",
            "816\n",
            "817\n",
            "818\n",
            "819\n",
            "820\n",
            "821\n",
            "822\n",
            "823\n",
            "824\n",
            "825\n",
            "826\n",
            "827\n",
            "828\n",
            "829\n",
            "830\n",
            "831\n",
            "832\n",
            "833\n",
            "834\n",
            "835\n",
            "836\n",
            "837\n",
            "838\n",
            "839\n",
            "840\n",
            "841\n",
            "842\n",
            "843\n",
            "844\n",
            "845\n",
            "846\n",
            "847\n",
            "848\n",
            "849\n",
            "850\n",
            "851\n",
            "852\n",
            "853\n",
            "854\n",
            "855\n",
            "856\n",
            "857\n",
            "858\n",
            "859\n",
            "860\n",
            "861\n",
            "862\n",
            "863\n",
            "864\n",
            "865\n",
            "866\n",
            "867\n",
            "868\n",
            "869\n",
            "870\n",
            "871\n",
            "872\n",
            "873\n",
            "874\n",
            "875\n",
            "876\n",
            "877\n",
            "878\n",
            "879\n",
            "880\n",
            "881\n",
            "882\n",
            "883\n",
            "884\n",
            "885\n",
            "886\n",
            "887\n",
            "888\n",
            "889\n",
            "890\n",
            "891\n",
            "892\n",
            "893\n",
            "894\n",
            "895\n",
            "896\n",
            "897\n",
            "898\n",
            "899\n",
            "900\n",
            "901\n",
            "902\n",
            "903\n",
            "904\n",
            "905\n",
            "906\n",
            "907\n",
            "908\n",
            "909\n",
            "910\n",
            "911\n",
            "912\n",
            "913\n",
            "914\n",
            "915\n",
            "916\n",
            "917\n",
            "918\n",
            "919\n",
            "920\n",
            "921\n",
            "922\n",
            "923\n",
            "924\n",
            "925\n",
            "926\n",
            "927\n",
            "928\n",
            "929\n",
            "930\n",
            "931\n",
            "932\n",
            "933\n",
            "934\n",
            "935\n",
            "936\n",
            "937\n",
            "938\n",
            "939\n",
            "940\n",
            "941\n",
            "942\n",
            "943\n",
            "944\n",
            "945\n",
            "946\n",
            "947\n",
            "948\n",
            "949\n",
            "950\n",
            "951\n",
            "952\n",
            "953\n",
            "954\n",
            "955\n",
            "956\n",
            "957\n",
            "958\n",
            "959\n",
            "960\n",
            "961\n",
            "962\n",
            "963\n",
            "964\n",
            "965\n",
            "966\n",
            "967\n",
            "968\n",
            "969\n",
            "970\n",
            "971\n",
            "972\n",
            "973\n",
            "974\n",
            "975\n",
            "976\n",
            "977\n",
            "978\n",
            "979\n",
            "980\n",
            "981\n",
            "982\n",
            "983\n",
            "984\n",
            "985\n",
            "986\n",
            "987\n",
            "988\n",
            "989\n",
            "990\n",
            "991\n",
            "992\n",
            "993\n",
            "994\n",
            "995\n",
            "996\n",
            "997\n",
            "998\n",
            "999\n",
            "1000\n"
          ],
          "name": "stdout"
        }
      ]
    },
    {
      "cell_type": "markdown",
      "metadata": {
        "id": "r-tZ57aoIeSM"
      },
      "source": [
        "Often we'll find multiple ways to do the same thing in Python."
      ]
    },
    {
      "cell_type": "code",
      "metadata": {
        "id": "Q91Y5tghIiZF",
        "colab": {
          "base_uri": "https://localhost:8080/"
        },
        "outputId": "efbf7846-f824-4d34-d38f-82479e49a6eb"
      },
      "source": [
        "# Another approach:\n",
        "for number in range(1, 101):\n",
        "  print(number)"
      ],
      "execution_count": null,
      "outputs": [
        {
          "output_type": "stream",
          "text": [
            "1\n",
            "2\n",
            "3\n",
            "4\n",
            "5\n",
            "6\n",
            "7\n",
            "8\n",
            "9\n",
            "10\n",
            "11\n",
            "12\n",
            "13\n",
            "14\n",
            "15\n",
            "16\n",
            "17\n",
            "18\n",
            "19\n",
            "20\n",
            "21\n",
            "22\n",
            "23\n",
            "24\n",
            "25\n",
            "26\n",
            "27\n",
            "28\n",
            "29\n",
            "30\n",
            "31\n",
            "32\n",
            "33\n",
            "34\n",
            "35\n",
            "36\n",
            "37\n",
            "38\n",
            "39\n",
            "40\n",
            "41\n",
            "42\n",
            "43\n",
            "44\n",
            "45\n",
            "46\n",
            "47\n",
            "48\n",
            "49\n",
            "50\n",
            "51\n",
            "52\n",
            "53\n",
            "54\n",
            "55\n",
            "56\n",
            "57\n",
            "58\n",
            "59\n",
            "60\n",
            "61\n",
            "62\n",
            "63\n",
            "64\n",
            "65\n",
            "66\n",
            "67\n",
            "68\n",
            "69\n",
            "70\n",
            "71\n",
            "72\n",
            "73\n",
            "74\n",
            "75\n",
            "76\n",
            "77\n",
            "78\n",
            "79\n",
            "80\n",
            "81\n",
            "82\n",
            "83\n",
            "84\n",
            "85\n",
            "86\n",
            "87\n",
            "88\n",
            "89\n",
            "90\n",
            "91\n",
            "92\n",
            "93\n",
            "94\n",
            "95\n",
            "96\n",
            "97\n",
            "98\n",
            "99\n",
            "100\n"
          ],
          "name": "stdout"
        }
      ]
    },
    {
      "cell_type": "markdown",
      "metadata": {
        "id": "jUD_tPfNInVY"
      },
      "source": [
        "Both are valid approaches that have pros and cons."
      ]
    },
    {
      "cell_type": "markdown",
      "metadata": {
        "id": "BpDOerE7IufB"
      },
      "source": [
        "Notice that in the for loop, we mention the variable `number`, but never initialize it beforehand. Typically you'd expect this to return an error, like you see below:"
      ]
    },
    {
      "cell_type": "code",
      "metadata": {
        "id": "PMIif1WEI5sj",
        "colab": {
          "base_uri": "https://localhost:8080/",
          "height": 183
        },
        "outputId": "71622ec7-57c4-4f67-fd12-1a7ccd9d152f"
      },
      "source": [
        "# An example of a variable we've never initialized before being used\n",
        "print(some_random_new_variable)"
      ],
      "execution_count": null,
      "outputs": [
        {
          "output_type": "error",
          "ename": "NameError",
          "evalue": "ignored",
          "traceback": [
            "\u001b[0;31m---------------------------------------------------------------------------\u001b[0m",
            "\u001b[0;31mNameError\u001b[0m                                 Traceback (most recent call last)",
            "\u001b[0;32m<ipython-input-68-082dbafdfa85>\u001b[0m in \u001b[0;36m<module>\u001b[0;34m()\u001b[0m\n\u001b[1;32m      1\u001b[0m \u001b[0;31m# An example of a variable we've never initialized before being used\u001b[0m\u001b[0;34m\u001b[0m\u001b[0;34m\u001b[0m\u001b[0;34m\u001b[0m\u001b[0m\n\u001b[0;32m----> 2\u001b[0;31m \u001b[0mprint\u001b[0m\u001b[0;34m(\u001b[0m\u001b[0msome_random_new_variable\u001b[0m\u001b[0;34m)\u001b[0m\u001b[0;34m\u001b[0m\u001b[0;34m\u001b[0m\u001b[0m\n\u001b[0m",
            "\u001b[0;31mNameError\u001b[0m: name 'some_random_new_variable' is not defined"
          ]
        }
      ]
    },
    {
      "cell_type": "markdown",
      "metadata": {
        "id": "ZblZ4V6dJAPp"
      },
      "source": [
        "However, in the first line of a for loop, Python understands that we are using a placeholder variable that is updated each time the for loop runs. In the following example, `num` is a placeholder variable that's assigned the value 2 the first time the for loop runs, and incremented by 1 each time the loop repeats:"
      ]
    },
    {
      "cell_type": "code",
      "metadata": {
        "id": "Gs4rV2quJc7M",
        "colab": {
          "base_uri": "https://localhost:8080/"
        },
        "outputId": "bad9b832-097e-4ced-a852-dbe5690b1a3c"
      },
      "source": [
        "for num in range(2, 10):\n",
        "  print(num)"
      ],
      "execution_count": null,
      "outputs": [
        {
          "output_type": "stream",
          "text": [
            "2\n",
            "3\n",
            "4\n",
            "5\n",
            "6\n",
            "7\n",
            "8\n",
            "9\n"
          ],
          "name": "stdout"
        }
      ]
    },
    {
      "cell_type": "markdown",
      "metadata": {
        "id": "lvYdmKAXK_cP"
      },
      "source": [
        "## Exercise\n",
        "\n",
        "![alt text](https://media.giphy.com/media/9GimADqtnpAPe/giphy.gif)\n",
        "\n",
        "Let's try to put a few of the things that we've learned to the test!\n",
        "\n",
        "In this exercise, write a program that counts from 1 to 100, but will only print the word \"Fizz\" on every multiple of three, along with the number itself. For example, the start of your output should look like:\n",
        "\n",
        "> Fizz 3\n",
        "\n",
        "> Fizz 6\n",
        "\n",
        "> Fizz 9\n",
        "\n",
        "> Fizz 12\n",
        "\n",
        "> ...\n",
        "\n",
        "There are many ways to accomplish this exercise with what we have learned!"
      ]
    },
    {
      "cell_type": "code",
      "metadata": {
        "id": "Vy8PhrbXMIX6",
        "colab": {
          "base_uri": "https://localhost:8080/"
        },
        "outputId": "90faa5ef-32da-4d2d-bca8-5c82e4979481"
      },
      "source": [
        "for i in range(1,101):\n",
        "  # Write your code here (Hint: Remember what the % operator does?)\n",
        "  if i % 3 == 0:\n",
        "    print(\"Fizz\", i)\n",
        "  # else:\n",
        "  #   print(i)"
      ],
      "execution_count": null,
      "outputs": [
        {
          "output_type": "stream",
          "text": [
            "Fizz 3\n",
            "Fizz 6\n",
            "Fizz 9\n",
            "Fizz 12\n",
            "Fizz 15\n",
            "Fizz 18\n",
            "Fizz 21\n",
            "Fizz 24\n",
            "Fizz 27\n",
            "Fizz 30\n",
            "Fizz 33\n",
            "Fizz 36\n",
            "Fizz 39\n",
            "Fizz 42\n",
            "Fizz 45\n",
            "Fizz 48\n",
            "Fizz 51\n",
            "Fizz 54\n",
            "Fizz 57\n",
            "Fizz 60\n",
            "Fizz 63\n",
            "Fizz 66\n",
            "Fizz 69\n",
            "Fizz 72\n",
            "Fizz 75\n",
            "Fizz 78\n",
            "Fizz 81\n",
            "Fizz 84\n",
            "Fizz 87\n",
            "Fizz 90\n",
            "Fizz 93\n",
            "Fizz 96\n",
            "Fizz 99\n"
          ],
          "name": "stdout"
        }
      ]
    },
    {
      "cell_type": "markdown",
      "metadata": {
        "id": "u1aoFYtBMLsW"
      },
      "source": [
        "## Challenge Exercise\n",
        "\n",
        "For those who are ambitious, here's a coding question that you can answer with just the concepts we've learned in this lesson. This one is slightly trickier, but you've got this!\n",
        "\n",
        "Write a program that prints the numbers from 1 to 100, but on multiples of 3 will print \"fizz\", on multiples of 5 will print \"buzz\", and on multiples of both 3 and 5 will print \"fizzbuzz\". For example, the start of your output should look like:\n",
        "\n",
        "> 1:\n",
        "\n",
        "> 2:\n",
        "\n",
        "> 3: fizz\n",
        "\n",
        "> 4:\n",
        "\n",
        "> 5: buzz\n",
        "\n",
        "> 6: fizz\n",
        "\n",
        "> 7: \n",
        "\n",
        "> 8:\n",
        "\n",
        "> 9: fizz\n",
        "\n",
        "> 10: buzz\n",
        "\n",
        "> 11:\n",
        "\n",
        "> 12: fizz\n",
        "\n",
        "> 13:\n",
        "\n",
        "> 14:\n",
        "\n",
        "> 15: fizzbuzz\n",
        "\n",
        "> 16:\n",
        "\n",
        "> ...\n",
        "\n",
        "Feel free to work with others and ask questions on this challenge exercise!"
      ]
    },
    {
      "cell_type": "code",
      "metadata": {
        "id": "dFyWQQomMLLk",
        "colab": {
          "base_uri": "https://localhost:8080/"
        },
        "outputId": "d3073b0d-5551-42a7-c967-4f862bd253ff"
      },
      "source": [
        "# Write your code here\n",
        "for i in range(1,101):\n",
        "  # Write your code here (Hint: Remember what the % operator does?)\n",
        "  if i % 15 == 0:\n",
        "    print(i, \": fizzbuzz\")\n",
        "  elif i % 3 == 0:\n",
        "    print(i, \": fizz\")\n",
        "  elif i % 5 == 0:\n",
        "    print(i, \": buzz\")\n",
        "  else:\n",
        "    print(i)\n",
        " "
      ],
      "execution_count": null,
      "outputs": [
        {
          "output_type": "stream",
          "text": [
            "1\n",
            "2\n",
            "3 : fizz\n",
            "4\n",
            "5 : buzz\n",
            "6 : fizz\n",
            "7\n",
            "8\n",
            "9 : fizz\n",
            "10 : buzz\n",
            "11\n",
            "12 : fizz\n",
            "13\n",
            "14\n",
            "15 : fizzbuzz\n",
            "16\n",
            "17\n",
            "18 : fizz\n",
            "19\n",
            "20 : buzz\n",
            "21 : fizz\n",
            "22\n",
            "23\n",
            "24 : fizz\n",
            "25 : buzz\n",
            "26\n",
            "27 : fizz\n",
            "28\n",
            "29\n",
            "30 : fizzbuzz\n",
            "31\n",
            "32\n",
            "33 : fizz\n",
            "34\n",
            "35 : buzz\n",
            "36 : fizz\n",
            "37\n",
            "38\n",
            "39 : fizz\n",
            "40 : buzz\n",
            "41\n",
            "42 : fizz\n",
            "43\n",
            "44\n",
            "45 : fizzbuzz\n",
            "46\n",
            "47\n",
            "48 : fizz\n",
            "49\n",
            "50 : buzz\n",
            "51 : fizz\n",
            "52\n",
            "53\n",
            "54 : fizz\n",
            "55 : buzz\n",
            "56\n",
            "57 : fizz\n",
            "58\n",
            "59\n",
            "60 : fizzbuzz\n",
            "61\n",
            "62\n",
            "63 : fizz\n",
            "64\n",
            "65 : buzz\n",
            "66 : fizz\n",
            "67\n",
            "68\n",
            "69 : fizz\n",
            "70 : buzz\n",
            "71\n",
            "72 : fizz\n",
            "73\n",
            "74\n",
            "75 : fizzbuzz\n",
            "76\n",
            "77\n",
            "78 : fizz\n",
            "79\n",
            "80 : buzz\n",
            "81 : fizz\n",
            "82\n",
            "83\n",
            "84 : fizz\n",
            "85 : buzz\n",
            "86\n",
            "87 : fizz\n",
            "88\n",
            "89\n",
            "90 : fizzbuzz\n",
            "91\n",
            "92\n",
            "93 : fizz\n",
            "94\n",
            "95 : buzz\n",
            "96 : fizz\n",
            "97\n",
            "98\n",
            "99 : fizz\n",
            "100 : buzz\n"
          ],
          "name": "stdout"
        }
      ]
    },
    {
      "cell_type": "markdown",
      "metadata": {
        "id": "6OuXu_uMNMFA"
      },
      "source": [
        "Note: This is the classic \"fizzbuzz\" problem, which is actually a real interview question that some companies ask when they hire software engineers! Good job to those who figured out the solution to this question!"
      ]
    },
    {
      "cell_type": "markdown",
      "metadata": {
        "id": "YK9DA_IVNuSu"
      },
      "source": [
        "## Congratulations!\n",
        "\n",
        "You made it to the end of the first Introdution to Python lesson! This was a very condensed sprint through some fundamental Python concepts, and you did amazingly. Remember, it takes time and practice to get the hang of programming, so no sweat if you need to review some of the concepts in this lesson. Take this time to really congratulate yourself on all your work coding today!\n",
        "\n",
        "![alt text](https://media.giphy.com/media/26gs7fLOYbSGbBSN2/giphy.gif)"
      ]
    },
    {
      "cell_type": "code",
      "metadata": {
        "colab": {
          "base_uri": "https://localhost:8080/",
          "height": 35
        },
        "id": "l_ZSzLOkthqw",
        "outputId": "7a2537f6-c2ed-45eb-ef9f-664662a855c2"
      },
      "source": [
        "tuple = (\"apple\", \"banana\")\n",
        "tuple[1]\n",
        "\n",
        "# tuples are immutable cannot change"
      ],
      "execution_count": null,
      "outputs": [
        {
          "output_type": "execute_result",
          "data": {
            "application/vnd.google.colaboratory.intrinsic+json": {
              "type": "string"
            },
            "text/plain": [
              "'banana'"
            ]
          },
          "metadata": {
            "tags": []
          },
          "execution_count": 1
        }
      ]
    },
    {
      "cell_type": "code",
      "metadata": {
        "id": "OveQYdSmtvHg"
      },
      "source": [
        "# dictionaries\n",
        "\n",
        "# with lists, you access elements with their index numbers, \n",
        "\n",
        "list = [1,2,3]"
      ],
      "execution_count": null,
      "outputs": []
    },
    {
      "cell_type": "code",
      "metadata": {
        "colab": {
          "base_uri": "https://localhost:8080/"
        },
        "id": "lZahTaXsuHz8",
        "outputId": "d13bff94-0412-4a28-c687-642d10aaf771"
      },
      "source": [
        "# sets are mutable but cannot index into sets\n",
        "set = {1,2,3,4,5,4,\"apple\"} # removes duplicates\n",
        "set\n",
        "\n",
        "set.add(6)\n",
        "print(set)\n",
        "\n",
        "nSet = {6,7}\n",
        "print(set.intersection(nSet))\n",
        "print(set.union(nSet))\n",
        "\n",
        "7 in nSet #check if in the set"
      ],
      "execution_count": null,
      "outputs": [
        {
          "output_type": "stream",
          "text": [
            "{1, 2, 3, 4, 5, 'apple', 6}\n",
            "{6}\n",
            "{1, 2, 3, 4, 5, 'apple', 6, 7}\n"
          ],
          "name": "stdout"
        },
        {
          "output_type": "execute_result",
          "data": {
            "text/plain": [
              "True"
            ]
          },
          "metadata": {
            "tags": []
          },
          "execution_count": 12
        }
      ]
    },
    {
      "cell_type": "code",
      "metadata": {
        "colab": {
          "base_uri": "https://localhost:8080/"
        },
        "id": "D_nqlPfDvun2",
        "outputId": "d7398f4a-2695-4757-a895-9557a833ab0d"
      },
      "source": [
        "# dictionaries acess elements based on keys\n",
        "\n",
        "dict = {\n",
        "    \"apple\": 10,\n",
        "    \"orange\": \"two\",\n",
        "\n",
        "}\n",
        "print(dict[\"apple\"])\n",
        "\n",
        "# dict = {\n",
        "   # \"word\":\"def of that word\"\n",
        "# }\n",
        "print(dict)"
      ],
      "execution_count": null,
      "outputs": [
        {
          "output_type": "stream",
          "text": [
            "10\n",
            "{'apple': 10, 'orange': 'two'}\n"
          ],
          "name": "stdout"
        }
      ]
    },
    {
      "cell_type": "code",
      "metadata": {
        "colab": {
          "base_uri": "https://localhost:8080/"
        },
        "id": "GAL5-UB2wNFN",
        "outputId": "d9900275-4ea6-4399-ab83-fee46f42eec0"
      },
      "source": [
        "nDict = []\n",
        "# nDict = dict()\n",
        "\n",
        "nDict = {\"apples\":5, \"berries\":3}\n",
        "nDict[\"berries\"] # cannot search up by valu7e, only by key\n",
        "\n",
        "nDict[\"bread\"]  = 10\n",
        "nDict\n",
        "\n",
        "# nDict.keys"
      ],
      "execution_count": null,
      "outputs": [
        {
          "output_type": "execute_result",
          "data": {
            "text/plain": [
              "{'apples': 5, 'berries': 3, 'bread': 10}"
            ]
          },
          "metadata": {
            "tags": []
          },
          "execution_count": 21
        }
      ]
    },
    {
      "cell_type": "code",
      "metadata": {
        "colab": {
          "base_uri": "https://localhost:8080/"
        },
        "id": "BaSrKqAmxUw0",
        "outputId": "9c69f2e1-ccdb-4c15-fc3f-71fcc88ad99d"
      },
      "source": [
        "# del nDict[5]\n",
        "nDict\n",
        "\n",
        "nDict[tuple] = 8\n",
        "nDict\n",
        "\n",
        "for i in nDict:\n",
        "  print(i)"
      ],
      "execution_count": null,
      "outputs": [
        {
          "output_type": "stream",
          "text": [
            "apples\n",
            "berries\n",
            "bread\n",
            "('apple', 'banana')\n"
          ],
          "name": "stdout"
        }
      ]
    },
    {
      "cell_type": "code",
      "metadata": {
        "colab": {
          "base_uri": "https://localhost:8080/"
        },
        "id": "JBHrMCFA1xzH",
        "outputId": "ae269940-3a17-4879-a2ba-8c7b1ef2be93"
      },
      "source": [
        "# functions\n",
        "\n",
        "# parameters are bassed into function and functions can return values\n",
        "# arguments\n",
        "\n",
        "print(\"eh\", 5, 6,8)\n",
        "\n",
        "def sum(a,b):\n",
        "  return a + b\n",
        "\n",
        "print(sum(7,7)) # 7 and 7 are the arguments\n",
        "x = sum(2,3)\n",
        "print(x)"
      ],
      "execution_count": null,
      "outputs": [
        {
          "output_type": "stream",
          "text": [
            "eh 5 6 8\n",
            "14\n",
            "5\n"
          ],
          "name": "stdout"
        }
      ]
    },
    {
      "cell_type": "code",
      "metadata": {
        "colab": {
          "base_uri": "https://localhost:8080/"
        },
        "id": "dRkEU98i6QLL",
        "outputId": "ed8b23c3-617e-4718-a2c1-286ca3d9ebc9"
      },
      "source": [
        "import numpy as np\n",
        "# libraries - \n",
        "\n",
        "x = np.asarray([0,1,2])\n",
        "x + 1\n",
        "\n",
        "np.sqrt(x)\n",
        "np.sin(x)\n",
        "np.exp(x)\n",
        "x.dtype\n",
        "x.size\n"
      ],
      "execution_count": null,
      "outputs": [
        {
          "output_type": "execute_result",
          "data": {
            "text/plain": [
              "3"
            ]
          },
          "metadata": {
            "tags": []
          },
          "execution_count": 40
        }
      ]
    },
    {
      "cell_type": "code",
      "metadata": {
        "colab": {
          "base_uri": "https://localhost:8080/",
          "height": 131
        },
        "id": "Y6fgfNxZ8zLi",
        "outputId": "553eaab7-727e-4fc0-bfdd-bd953445d73e"
      },
      "source": [
        "import numpy as np\n",
        "\n",
        "def r(shape):\n",
        "  num = np.random.rand(shape[0]=shape[1]) * 25\n",
        "  return num\n",
        "\n",
        "r(shape=(3,3))"
      ],
      "execution_count": null,
      "outputs": [
        {
          "output_type": "error",
          "ename": "SyntaxError",
          "evalue": "ignored",
          "traceback": [
            "\u001b[0;36m  File \u001b[0;32m\"<ipython-input-11-23e87c91f66b>\"\u001b[0;36m, line \u001b[0;32m4\u001b[0m\n\u001b[0;31m    num = np.random.rand(shape[0]=shape[1]) * 25\u001b[0m\n\u001b[0m                        ^\u001b[0m\n\u001b[0;31mSyntaxError\u001b[0m\u001b[0;31m:\u001b[0m keyword can't be an expression\n"
          ]
        }
      ]
    },
    {
      "cell_type": "code",
      "metadata": {
        "id": "MDzKEfFT9Vir"
      },
      "source": [
        "class Student:\n",
        "  def __init__(self, name, age):\n",
        "    self.name = name\n",
        "    self.age = age\n",
        "\n",
        "names = ['a','b','c']\n",
        "students = [Student(name,15) for name in names]\n"
      ],
      "execution_count": null,
      "outputs": []
    },
    {
      "cell_type": "code",
      "metadata": {
        "id": "VLahasJCvh0m"
      },
      "source": [
        "s1 = Student(\"Mimi\", 12)"
      ],
      "execution_count": null,
      "outputs": []
    },
    {
      "cell_type": "code",
      "metadata": {
        "colab": {
          "base_uri": "https://localhost:8080/"
        },
        "id": "ezw9Pwc-vlR0",
        "outputId": "80a91e9c-a330-4bbe-cf9f-aebce593f641"
      },
      "source": [
        "print(s1.name)\n",
        "print(students)"
      ],
      "execution_count": null,
      "outputs": [
        {
          "output_type": "stream",
          "text": [
            "Mimi\n",
            "[<__main__.Student object at 0x7f794179cad0>, <__main__.Student object at 0x7f794179c3d0>, <__main__.Student object at 0x7f79417708d0>]\n"
          ],
          "name": "stdout"
        }
      ]
    },
    {
      "cell_type": "markdown",
      "metadata": {
        "id": "f00jD-hswrkU"
      },
      "source": [
        ""
      ]
    }
  ]
}