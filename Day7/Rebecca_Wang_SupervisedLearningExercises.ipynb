{
  "nbformat": 4,
  "nbformat_minor": 0,
  "metadata": {
    "colab": {
      "name": "Rebecca Wang - SupervisedLearningExercises.ipynb",
      "provenance": [],
      "collapsed_sections": []
    },
    "kernelspec": {
      "name": "python3",
      "display_name": "Python 3"
    },
    "language_info": {
      "name": "python"
    },
    "widgets": {
      "application/vnd.jupyter.widget-state+json": {
        "fbc74f15fb5f4ff9bb4ee517bc9eea2f": {
          "model_module": "@jupyter-widgets/controls",
          "model_name": "VBoxModel",
          "state": {
            "_view_name": "VBoxView",
            "_dom_classes": [
              "widget-interact"
            ],
            "_model_name": "VBoxModel",
            "_view_module": "@jupyter-widgets/controls",
            "_model_module_version": "1.5.0",
            "_view_count": null,
            "_view_module_version": "1.5.0",
            "box_style": "",
            "layout": "IPY_MODEL_172f651b17c8445a8f9cad73f67afb81",
            "_model_module": "@jupyter-widgets/controls",
            "children": [
              "IPY_MODEL_d2c645cc1ed7422fbec0b821f93d0d34",
              "IPY_MODEL_1dd311aa143148e3808d3b64035196b7",
              "IPY_MODEL_a2d3006fbb4841b8b69331bb78d7dc4b"
            ]
          }
        },
        "172f651b17c8445a8f9cad73f67afb81": {
          "model_module": "@jupyter-widgets/base",
          "model_name": "LayoutModel",
          "state": {
            "_view_name": "LayoutView",
            "grid_template_rows": null,
            "right": null,
            "justify_content": null,
            "_view_module": "@jupyter-widgets/base",
            "overflow": null,
            "_model_module_version": "1.2.0",
            "_view_count": null,
            "flex_flow": null,
            "width": null,
            "min_width": null,
            "border": null,
            "align_items": null,
            "bottom": null,
            "_model_module": "@jupyter-widgets/base",
            "top": null,
            "grid_column": null,
            "overflow_y": null,
            "overflow_x": null,
            "grid_auto_flow": null,
            "grid_area": null,
            "grid_template_columns": null,
            "flex": null,
            "_model_name": "LayoutModel",
            "justify_items": null,
            "grid_row": null,
            "max_height": null,
            "align_content": null,
            "visibility": null,
            "align_self": null,
            "height": null,
            "min_height": null,
            "padding": null,
            "grid_auto_rows": null,
            "grid_gap": null,
            "max_width": null,
            "order": null,
            "_view_module_version": "1.2.0",
            "grid_template_areas": null,
            "object_position": null,
            "object_fit": null,
            "grid_auto_columns": null,
            "margin": null,
            "display": null,
            "left": null
          }
        },
        "d2c645cc1ed7422fbec0b821f93d0d34": {
          "model_module": "@jupyter-widgets/controls",
          "model_name": "FloatSliderModel",
          "state": {
            "_view_name": "FloatSliderView",
            "style": "IPY_MODEL_53d77d2a3d3b4e27aae35ba507204e1e",
            "_dom_classes": [],
            "description": "a",
            "step": 0.01,
            "_model_name": "FloatSliderModel",
            "orientation": "horizontal",
            "max": 1,
            "_view_module": "@jupyter-widgets/controls",
            "_model_module_version": "1.5.0",
            "value": 0.17,
            "_view_count": null,
            "disabled": false,
            "_view_module_version": "1.5.0",
            "min": -1,
            "continuous_update": true,
            "readout_format": ".2f",
            "description_tooltip": null,
            "readout": true,
            "_model_module": "@jupyter-widgets/controls",
            "layout": "IPY_MODEL_eeb736c922d940e794460e29f367cd97"
          }
        },
        "1dd311aa143148e3808d3b64035196b7": {
          "model_module": "@jupyter-widgets/controls",
          "model_name": "FloatSliderModel",
          "state": {
            "_view_name": "FloatSliderView",
            "style": "IPY_MODEL_1cb7ed96da2945d9b1ded6b9b7a1e4dd",
            "_dom_classes": [],
            "description": "b",
            "step": 0.5,
            "_model_name": "FloatSliderModel",
            "orientation": "horizontal",
            "max": 100,
            "_view_module": "@jupyter-widgets/controls",
            "_model_module_version": "1.5.0",
            "value": 36.656,
            "_view_count": null,
            "disabled": false,
            "_view_module_version": "1.5.0",
            "min": -100,
            "continuous_update": true,
            "readout_format": ".2f",
            "description_tooltip": null,
            "readout": true,
            "_model_module": "@jupyter-widgets/controls",
            "layout": "IPY_MODEL_3feedc9063004bab8ad5a9b2b8e5c80e"
          }
        },
        "a2d3006fbb4841b8b69331bb78d7dc4b": {
          "model_module": "@jupyter-widgets/output",
          "model_name": "OutputModel",
          "state": {
            "_view_name": "OutputView",
            "msg_id": "",
            "_dom_classes": [],
            "_model_name": "OutputModel",
            "outputs": [
              {
                "output_type": "display_data",
                "metadata": {
                  "tags": [],
                  "needs_background": "light"
                },
                "image/png": "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\n",
                "text/plain": "<Figure size 864x576 with 1 Axes>"
              }
            ],
            "_view_module": "@jupyter-widgets/output",
            "_model_module_version": "1.0.0",
            "_view_count": null,
            "_view_module_version": "1.0.0",
            "layout": "IPY_MODEL_b97c8ad30fca45ffa61024e2d18baeff",
            "_model_module": "@jupyter-widgets/output"
          }
        },
        "53d77d2a3d3b4e27aae35ba507204e1e": {
          "model_module": "@jupyter-widgets/controls",
          "model_name": "SliderStyleModel",
          "state": {
            "_view_name": "StyleView",
            "handle_color": null,
            "_model_name": "SliderStyleModel",
            "description_width": "",
            "_view_module": "@jupyter-widgets/base",
            "_model_module_version": "1.5.0",
            "_view_count": null,
            "_view_module_version": "1.2.0",
            "_model_module": "@jupyter-widgets/controls"
          }
        },
        "eeb736c922d940e794460e29f367cd97": {
          "model_module": "@jupyter-widgets/base",
          "model_name": "LayoutModel",
          "state": {
            "_view_name": "LayoutView",
            "grid_template_rows": null,
            "right": null,
            "justify_content": null,
            "_view_module": "@jupyter-widgets/base",
            "overflow": null,
            "_model_module_version": "1.2.0",
            "_view_count": null,
            "flex_flow": null,
            "width": null,
            "min_width": null,
            "border": null,
            "align_items": null,
            "bottom": null,
            "_model_module": "@jupyter-widgets/base",
            "top": null,
            "grid_column": null,
            "overflow_y": null,
            "overflow_x": null,
            "grid_auto_flow": null,
            "grid_area": null,
            "grid_template_columns": null,
            "flex": null,
            "_model_name": "LayoutModel",
            "justify_items": null,
            "grid_row": null,
            "max_height": null,
            "align_content": null,
            "visibility": null,
            "align_self": null,
            "height": null,
            "min_height": null,
            "padding": null,
            "grid_auto_rows": null,
            "grid_gap": null,
            "max_width": null,
            "order": null,
            "_view_module_version": "1.2.0",
            "grid_template_areas": null,
            "object_position": null,
            "object_fit": null,
            "grid_auto_columns": null,
            "margin": null,
            "display": null,
            "left": null
          }
        },
        "1cb7ed96da2945d9b1ded6b9b7a1e4dd": {
          "model_module": "@jupyter-widgets/controls",
          "model_name": "SliderStyleModel",
          "state": {
            "_view_name": "StyleView",
            "handle_color": null,
            "_model_name": "SliderStyleModel",
            "description_width": "",
            "_view_module": "@jupyter-widgets/base",
            "_model_module_version": "1.5.0",
            "_view_count": null,
            "_view_module_version": "1.2.0",
            "_model_module": "@jupyter-widgets/controls"
          }
        },
        "3feedc9063004bab8ad5a9b2b8e5c80e": {
          "model_module": "@jupyter-widgets/base",
          "model_name": "LayoutModel",
          "state": {
            "_view_name": "LayoutView",
            "grid_template_rows": null,
            "right": null,
            "justify_content": null,
            "_view_module": "@jupyter-widgets/base",
            "overflow": null,
            "_model_module_version": "1.2.0",
            "_view_count": null,
            "flex_flow": null,
            "width": null,
            "min_width": null,
            "border": null,
            "align_items": null,
            "bottom": null,
            "_model_module": "@jupyter-widgets/base",
            "top": null,
            "grid_column": null,
            "overflow_y": null,
            "overflow_x": null,
            "grid_auto_flow": null,
            "grid_area": null,
            "grid_template_columns": null,
            "flex": null,
            "_model_name": "LayoutModel",
            "justify_items": null,
            "grid_row": null,
            "max_height": null,
            "align_content": null,
            "visibility": null,
            "align_self": null,
            "height": null,
            "min_height": null,
            "padding": null,
            "grid_auto_rows": null,
            "grid_gap": null,
            "max_width": null,
            "order": null,
            "_view_module_version": "1.2.0",
            "grid_template_areas": null,
            "object_position": null,
            "object_fit": null,
            "grid_auto_columns": null,
            "margin": null,
            "display": null,
            "left": null
          }
        },
        "b97c8ad30fca45ffa61024e2d18baeff": {
          "model_module": "@jupyter-widgets/base",
          "model_name": "LayoutModel",
          "state": {
            "_view_name": "LayoutView",
            "grid_template_rows": null,
            "right": null,
            "justify_content": null,
            "_view_module": "@jupyter-widgets/base",
            "overflow": null,
            "_model_module_version": "1.2.0",
            "_view_count": null,
            "flex_flow": null,
            "width": null,
            "min_width": null,
            "border": null,
            "align_items": null,
            "bottom": null,
            "_model_module": "@jupyter-widgets/base",
            "top": null,
            "grid_column": null,
            "overflow_y": null,
            "overflow_x": null,
            "grid_auto_flow": null,
            "grid_area": null,
            "grid_template_columns": null,
            "flex": null,
            "_model_name": "LayoutModel",
            "justify_items": null,
            "grid_row": null,
            "max_height": null,
            "align_content": null,
            "visibility": null,
            "align_self": null,
            "height": null,
            "min_height": null,
            "padding": null,
            "grid_auto_rows": null,
            "grid_gap": null,
            "max_width": null,
            "order": null,
            "_view_module_version": "1.2.0",
            "grid_template_areas": null,
            "object_position": null,
            "object_fit": null,
            "grid_auto_columns": null,
            "margin": null,
            "display": null,
            "left": null
          }
        },
        "748e2875540343058f79165f50a7e6b4": {
          "model_module": "@jupyter-widgets/controls",
          "model_name": "VBoxModel",
          "state": {
            "_view_name": "VBoxView",
            "_dom_classes": [
              "widget-interact"
            ],
            "_model_name": "VBoxModel",
            "_view_module": "@jupyter-widgets/controls",
            "_model_module_version": "1.5.0",
            "_view_count": null,
            "_view_module_version": "1.5.0",
            "box_style": "",
            "layout": "IPY_MODEL_d24aea764dbe431094109b79b655a4c8",
            "_model_module": "@jupyter-widgets/controls",
            "children": [
              "IPY_MODEL_871a23894ef84de99af83d4fc480bfca",
              "IPY_MODEL_b38a09a906f447f4a9dcad75cd86d7b7",
              "IPY_MODEL_122b6b8ac20e42bda1f1bbdead35fc3a"
            ]
          }
        },
        "d24aea764dbe431094109b79b655a4c8": {
          "model_module": "@jupyter-widgets/base",
          "model_name": "LayoutModel",
          "state": {
            "_view_name": "LayoutView",
            "grid_template_rows": null,
            "right": null,
            "justify_content": null,
            "_view_module": "@jupyter-widgets/base",
            "overflow": null,
            "_model_module_version": "1.2.0",
            "_view_count": null,
            "flex_flow": null,
            "width": null,
            "min_width": null,
            "border": null,
            "align_items": null,
            "bottom": null,
            "_model_module": "@jupyter-widgets/base",
            "top": null,
            "grid_column": null,
            "overflow_y": null,
            "overflow_x": null,
            "grid_auto_flow": null,
            "grid_area": null,
            "grid_template_columns": null,
            "flex": null,
            "_model_name": "LayoutModel",
            "justify_items": null,
            "grid_row": null,
            "max_height": null,
            "align_content": null,
            "visibility": null,
            "align_self": null,
            "height": null,
            "min_height": null,
            "padding": null,
            "grid_auto_rows": null,
            "grid_gap": null,
            "max_width": null,
            "order": null,
            "_view_module_version": "1.2.0",
            "grid_template_areas": null,
            "object_position": null,
            "object_fit": null,
            "grid_auto_columns": null,
            "margin": null,
            "display": null,
            "left": null
          }
        },
        "871a23894ef84de99af83d4fc480bfca": {
          "model_module": "@jupyter-widgets/controls",
          "model_name": "FloatSliderModel",
          "state": {
            "_view_name": "FloatSliderView",
            "style": "IPY_MODEL_c3d0729227c54162ba0280e763657631",
            "_dom_classes": [],
            "description": "a",
            "step": 0.01,
            "_model_name": "FloatSliderModel",
            "orientation": "horizontal",
            "max": 1,
            "_view_module": "@jupyter-widgets/controls",
            "_model_module_version": "1.5.0",
            "value": 0.273,
            "_view_count": null,
            "disabled": false,
            "_view_module_version": "1.5.0",
            "min": -1,
            "continuous_update": true,
            "readout_format": ".2f",
            "description_tooltip": null,
            "readout": true,
            "_model_module": "@jupyter-widgets/controls",
            "layout": "IPY_MODEL_50f905fd0bd04296829163be4da0d823"
          }
        },
        "b38a09a906f447f4a9dcad75cd86d7b7": {
          "model_module": "@jupyter-widgets/controls",
          "model_name": "FloatSliderModel",
          "state": {
            "_view_name": "FloatSliderView",
            "style": "IPY_MODEL_3471d222bd23477892b0c658fa06749b",
            "_dom_classes": [],
            "description": "b",
            "step": 0.5,
            "_model_name": "FloatSliderModel",
            "orientation": "horizontal",
            "max": 100,
            "_view_module": "@jupyter-widgets/controls",
            "_model_module_version": "1.5.0",
            "value": 26.138,
            "_view_count": null,
            "disabled": false,
            "_view_module_version": "1.5.0",
            "min": -100,
            "continuous_update": true,
            "readout_format": ".2f",
            "description_tooltip": null,
            "readout": true,
            "_model_module": "@jupyter-widgets/controls",
            "layout": "IPY_MODEL_5305ad23c3c043e59cbacc71865dac28"
          }
        },
        "122b6b8ac20e42bda1f1bbdead35fc3a": {
          "model_module": "@jupyter-widgets/output",
          "model_name": "OutputModel",
          "state": {
            "_view_name": "OutputView",
            "msg_id": "",
            "_dom_classes": [],
            "_model_name": "OutputModel",
            "outputs": [
              {
                "output_type": "display_data",
                "metadata": {
                  "tags": [],
                  "needs_background": "light"
                },
                "image/png": "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\n",
                "text/plain": "<Figure size 864x576 with 1 Axes>"
              }
            ],
            "_view_module": "@jupyter-widgets/output",
            "_model_module_version": "1.0.0",
            "_view_count": null,
            "_view_module_version": "1.0.0",
            "layout": "IPY_MODEL_637ba9b2cb9f448abdbbc6dce076ce38",
            "_model_module": "@jupyter-widgets/output"
          }
        },
        "c3d0729227c54162ba0280e763657631": {
          "model_module": "@jupyter-widgets/controls",
          "model_name": "SliderStyleModel",
          "state": {
            "_view_name": "StyleView",
            "handle_color": null,
            "_model_name": "SliderStyleModel",
            "description_width": "",
            "_view_module": "@jupyter-widgets/base",
            "_model_module_version": "1.5.0",
            "_view_count": null,
            "_view_module_version": "1.2.0",
            "_model_module": "@jupyter-widgets/controls"
          }
        },
        "50f905fd0bd04296829163be4da0d823": {
          "model_module": "@jupyter-widgets/base",
          "model_name": "LayoutModel",
          "state": {
            "_view_name": "LayoutView",
            "grid_template_rows": null,
            "right": null,
            "justify_content": null,
            "_view_module": "@jupyter-widgets/base",
            "overflow": null,
            "_model_module_version": "1.2.0",
            "_view_count": null,
            "flex_flow": null,
            "width": null,
            "min_width": null,
            "border": null,
            "align_items": null,
            "bottom": null,
            "_model_module": "@jupyter-widgets/base",
            "top": null,
            "grid_column": null,
            "overflow_y": null,
            "overflow_x": null,
            "grid_auto_flow": null,
            "grid_area": null,
            "grid_template_columns": null,
            "flex": null,
            "_model_name": "LayoutModel",
            "justify_items": null,
            "grid_row": null,
            "max_height": null,
            "align_content": null,
            "visibility": null,
            "align_self": null,
            "height": null,
            "min_height": null,
            "padding": null,
            "grid_auto_rows": null,
            "grid_gap": null,
            "max_width": null,
            "order": null,
            "_view_module_version": "1.2.0",
            "grid_template_areas": null,
            "object_position": null,
            "object_fit": null,
            "grid_auto_columns": null,
            "margin": null,
            "display": null,
            "left": null
          }
        },
        "3471d222bd23477892b0c658fa06749b": {
          "model_module": "@jupyter-widgets/controls",
          "model_name": "SliderStyleModel",
          "state": {
            "_view_name": "StyleView",
            "handle_color": null,
            "_model_name": "SliderStyleModel",
            "description_width": "",
            "_view_module": "@jupyter-widgets/base",
            "_model_module_version": "1.5.0",
            "_view_count": null,
            "_view_module_version": "1.2.0",
            "_model_module": "@jupyter-widgets/controls"
          }
        },
        "5305ad23c3c043e59cbacc71865dac28": {
          "model_module": "@jupyter-widgets/base",
          "model_name": "LayoutModel",
          "state": {
            "_view_name": "LayoutView",
            "grid_template_rows": null,
            "right": null,
            "justify_content": null,
            "_view_module": "@jupyter-widgets/base",
            "overflow": null,
            "_model_module_version": "1.2.0",
            "_view_count": null,
            "flex_flow": null,
            "width": null,
            "min_width": null,
            "border": null,
            "align_items": null,
            "bottom": null,
            "_model_module": "@jupyter-widgets/base",
            "top": null,
            "grid_column": null,
            "overflow_y": null,
            "overflow_x": null,
            "grid_auto_flow": null,
            "grid_area": null,
            "grid_template_columns": null,
            "flex": null,
            "_model_name": "LayoutModel",
            "justify_items": null,
            "grid_row": null,
            "max_height": null,
            "align_content": null,
            "visibility": null,
            "align_self": null,
            "height": null,
            "min_height": null,
            "padding": null,
            "grid_auto_rows": null,
            "grid_gap": null,
            "max_width": null,
            "order": null,
            "_view_module_version": "1.2.0",
            "grid_template_areas": null,
            "object_position": null,
            "object_fit": null,
            "grid_auto_columns": null,
            "margin": null,
            "display": null,
            "left": null
          }
        },
        "637ba9b2cb9f448abdbbc6dce076ce38": {
          "model_module": "@jupyter-widgets/base",
          "model_name": "LayoutModel",
          "state": {
            "_view_name": "LayoutView",
            "grid_template_rows": null,
            "right": null,
            "justify_content": null,
            "_view_module": "@jupyter-widgets/base",
            "overflow": null,
            "_model_module_version": "1.2.0",
            "_view_count": null,
            "flex_flow": null,
            "width": null,
            "min_width": null,
            "border": null,
            "align_items": null,
            "bottom": null,
            "_model_module": "@jupyter-widgets/base",
            "top": null,
            "grid_column": null,
            "overflow_y": null,
            "overflow_x": null,
            "grid_auto_flow": null,
            "grid_area": null,
            "grid_template_columns": null,
            "flex": null,
            "_model_name": "LayoutModel",
            "justify_items": null,
            "grid_row": null,
            "max_height": null,
            "align_content": null,
            "visibility": null,
            "align_self": null,
            "height": null,
            "min_height": null,
            "padding": null,
            "grid_auto_rows": null,
            "grid_gap": null,
            "max_width": null,
            "order": null,
            "_view_module_version": "1.2.0",
            "grid_template_areas": null,
            "object_position": null,
            "object_fit": null,
            "grid_auto_columns": null,
            "margin": null,
            "display": null,
            "left": null
          }
        },
        "54af4f49f60444408391b1b1a9084330": {
          "model_module": "@jupyter-widgets/controls",
          "model_name": "VBoxModel",
          "state": {
            "_view_name": "VBoxView",
            "_dom_classes": [
              "widget-interact"
            ],
            "_model_name": "VBoxModel",
            "_view_module": "@jupyter-widgets/controls",
            "_model_module_version": "1.5.0",
            "_view_count": null,
            "_view_module_version": "1.5.0",
            "box_style": "",
            "layout": "IPY_MODEL_bc0a95e6ea4a46b9b85fdb9091730560",
            "_model_module": "@jupyter-widgets/controls",
            "children": [
              "IPY_MODEL_0a62b252e4b845ff98b0bca33d55b591",
              "IPY_MODEL_81624cfe5eb5457b81809dfc42fa77d2",
              "IPY_MODEL_b13b6af99f7749089324c3310b596752",
              "IPY_MODEL_7757081bb70e4f87a368d631d58318b1"
            ]
          }
        },
        "bc0a95e6ea4a46b9b85fdb9091730560": {
          "model_module": "@jupyter-widgets/base",
          "model_name": "LayoutModel",
          "state": {
            "_view_name": "LayoutView",
            "grid_template_rows": null,
            "right": null,
            "justify_content": null,
            "_view_module": "@jupyter-widgets/base",
            "overflow": null,
            "_model_module_version": "1.2.0",
            "_view_count": null,
            "flex_flow": null,
            "width": null,
            "min_width": null,
            "border": null,
            "align_items": null,
            "bottom": null,
            "_model_module": "@jupyter-widgets/base",
            "top": null,
            "grid_column": null,
            "overflow_y": null,
            "overflow_x": null,
            "grid_auto_flow": null,
            "grid_area": null,
            "grid_template_columns": null,
            "flex": null,
            "_model_name": "LayoutModel",
            "justify_items": null,
            "grid_row": null,
            "max_height": null,
            "align_content": null,
            "visibility": null,
            "align_self": null,
            "height": null,
            "min_height": null,
            "padding": null,
            "grid_auto_rows": null,
            "grid_gap": null,
            "max_width": null,
            "order": null,
            "_view_module_version": "1.2.0",
            "grid_template_areas": null,
            "object_position": null,
            "object_fit": null,
            "grid_auto_columns": null,
            "margin": null,
            "display": null,
            "left": null
          }
        },
        "0a62b252e4b845ff98b0bca33d55b591": {
          "model_module": "@jupyter-widgets/controls",
          "model_name": "FloatSliderModel",
          "state": {
            "_view_name": "FloatSliderView",
            "style": "IPY_MODEL_da5e1a10ee1240a28003a0304b031bd0",
            "_dom_classes": [],
            "description": "a",
            "step": 0.0001,
            "_model_name": "FloatSliderModel",
            "orientation": "horizontal",
            "max": 0.001,
            "_view_module": "@jupyter-widgets/controls",
            "_model_module_version": "1.5.0",
            "value": -0.0008,
            "_view_count": null,
            "disabled": false,
            "_view_module_version": "1.5.0",
            "min": -0.001,
            "continuous_update": true,
            "readout_format": ".4f",
            "description_tooltip": null,
            "readout": true,
            "_model_module": "@jupyter-widgets/controls",
            "layout": "IPY_MODEL_2676d85044924f3687d2990a67c20aca"
          }
        },
        "81624cfe5eb5457b81809dfc42fa77d2": {
          "model_module": "@jupyter-widgets/controls",
          "model_name": "FloatSliderModel",
          "state": {
            "_view_name": "FloatSliderView",
            "style": "IPY_MODEL_4b95ad21b4c04799a3a1a4547ffd66e4",
            "_dom_classes": [],
            "description": "b",
            "step": 0.1,
            "_model_name": "FloatSliderModel",
            "orientation": "horizontal",
            "max": 1,
            "_view_module": "@jupyter-widgets/controls",
            "_model_module_version": "1.5.0",
            "value": 0.5,
            "_view_count": null,
            "disabled": false,
            "_view_module_version": "1.5.0",
            "min": -1,
            "continuous_update": true,
            "readout_format": ".2f",
            "description_tooltip": null,
            "readout": true,
            "_model_module": "@jupyter-widgets/controls",
            "layout": "IPY_MODEL_423e2b13f0d84b0bb53386f2b639fdf3"
          }
        },
        "b13b6af99f7749089324c3310b596752": {
          "model_module": "@jupyter-widgets/controls",
          "model_name": "FloatSliderModel",
          "state": {
            "_view_name": "FloatSliderView",
            "style": "IPY_MODEL_aee5505e84ab44739a49842cc984fe02",
            "_dom_classes": [],
            "description": "c",
            "step": 0.5,
            "_model_name": "FloatSliderModel",
            "orientation": "horizontal",
            "max": 20,
            "_view_module": "@jupyter-widgets/controls",
            "_model_module_version": "1.5.0",
            "value": 16.95,
            "_view_count": null,
            "disabled": false,
            "_view_module_version": "1.5.0",
            "min": -20,
            "continuous_update": true,
            "readout_format": ".2f",
            "description_tooltip": null,
            "readout": true,
            "_model_module": "@jupyter-widgets/controls",
            "layout": "IPY_MODEL_1404a71a9daa4894b896df48010b0027"
          }
        },
        "7757081bb70e4f87a368d631d58318b1": {
          "model_module": "@jupyter-widgets/output",
          "model_name": "OutputModel",
          "state": {
            "_view_name": "OutputView",
            "msg_id": "",
            "_dom_classes": [],
            "_model_name": "OutputModel",
            "outputs": [
              {
                "output_type": "display_data",
                "metadata": {
                  "tags": [],
                  "needs_background": "light"
                },
                "image/png": "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\n",
                "text/plain": "<Figure size 864x576 with 1 Axes>"
              }
            ],
            "_view_module": "@jupyter-widgets/output",
            "_model_module_version": "1.0.0",
            "_view_count": null,
            "_view_module_version": "1.0.0",
            "layout": "IPY_MODEL_2d0be8559e194717a9b5b85ea2ca39a8",
            "_model_module": "@jupyter-widgets/output"
          }
        },
        "da5e1a10ee1240a28003a0304b031bd0": {
          "model_module": "@jupyter-widgets/controls",
          "model_name": "SliderStyleModel",
          "state": {
            "_view_name": "StyleView",
            "handle_color": null,
            "_model_name": "SliderStyleModel",
            "description_width": "",
            "_view_module": "@jupyter-widgets/base",
            "_model_module_version": "1.5.0",
            "_view_count": null,
            "_view_module_version": "1.2.0",
            "_model_module": "@jupyter-widgets/controls"
          }
        },
        "2676d85044924f3687d2990a67c20aca": {
          "model_module": "@jupyter-widgets/base",
          "model_name": "LayoutModel",
          "state": {
            "_view_name": "LayoutView",
            "grid_template_rows": null,
            "right": null,
            "justify_content": null,
            "_view_module": "@jupyter-widgets/base",
            "overflow": null,
            "_model_module_version": "1.2.0",
            "_view_count": null,
            "flex_flow": null,
            "width": null,
            "min_width": null,
            "border": null,
            "align_items": null,
            "bottom": null,
            "_model_module": "@jupyter-widgets/base",
            "top": null,
            "grid_column": null,
            "overflow_y": null,
            "overflow_x": null,
            "grid_auto_flow": null,
            "grid_area": null,
            "grid_template_columns": null,
            "flex": null,
            "_model_name": "LayoutModel",
            "justify_items": null,
            "grid_row": null,
            "max_height": null,
            "align_content": null,
            "visibility": null,
            "align_self": null,
            "height": null,
            "min_height": null,
            "padding": null,
            "grid_auto_rows": null,
            "grid_gap": null,
            "max_width": null,
            "order": null,
            "_view_module_version": "1.2.0",
            "grid_template_areas": null,
            "object_position": null,
            "object_fit": null,
            "grid_auto_columns": null,
            "margin": null,
            "display": null,
            "left": null
          }
        },
        "4b95ad21b4c04799a3a1a4547ffd66e4": {
          "model_module": "@jupyter-widgets/controls",
          "model_name": "SliderStyleModel",
          "state": {
            "_view_name": "StyleView",
            "handle_color": null,
            "_model_name": "SliderStyleModel",
            "description_width": "",
            "_view_module": "@jupyter-widgets/base",
            "_model_module_version": "1.5.0",
            "_view_count": null,
            "_view_module_version": "1.2.0",
            "_model_module": "@jupyter-widgets/controls"
          }
        },
        "423e2b13f0d84b0bb53386f2b639fdf3": {
          "model_module": "@jupyter-widgets/base",
          "model_name": "LayoutModel",
          "state": {
            "_view_name": "LayoutView",
            "grid_template_rows": null,
            "right": null,
            "justify_content": null,
            "_view_module": "@jupyter-widgets/base",
            "overflow": null,
            "_model_module_version": "1.2.0",
            "_view_count": null,
            "flex_flow": null,
            "width": null,
            "min_width": null,
            "border": null,
            "align_items": null,
            "bottom": null,
            "_model_module": "@jupyter-widgets/base",
            "top": null,
            "grid_column": null,
            "overflow_y": null,
            "overflow_x": null,
            "grid_auto_flow": null,
            "grid_area": null,
            "grid_template_columns": null,
            "flex": null,
            "_model_name": "LayoutModel",
            "justify_items": null,
            "grid_row": null,
            "max_height": null,
            "align_content": null,
            "visibility": null,
            "align_self": null,
            "height": null,
            "min_height": null,
            "padding": null,
            "grid_auto_rows": null,
            "grid_gap": null,
            "max_width": null,
            "order": null,
            "_view_module_version": "1.2.0",
            "grid_template_areas": null,
            "object_position": null,
            "object_fit": null,
            "grid_auto_columns": null,
            "margin": null,
            "display": null,
            "left": null
          }
        },
        "aee5505e84ab44739a49842cc984fe02": {
          "model_module": "@jupyter-widgets/controls",
          "model_name": "SliderStyleModel",
          "state": {
            "_view_name": "StyleView",
            "handle_color": null,
            "_model_name": "SliderStyleModel",
            "description_width": "",
            "_view_module": "@jupyter-widgets/base",
            "_model_module_version": "1.5.0",
            "_view_count": null,
            "_view_module_version": "1.2.0",
            "_model_module": "@jupyter-widgets/controls"
          }
        },
        "1404a71a9daa4894b896df48010b0027": {
          "model_module": "@jupyter-widgets/base",
          "model_name": "LayoutModel",
          "state": {
            "_view_name": "LayoutView",
            "grid_template_rows": null,
            "right": null,
            "justify_content": null,
            "_view_module": "@jupyter-widgets/base",
            "overflow": null,
            "_model_module_version": "1.2.0",
            "_view_count": null,
            "flex_flow": null,
            "width": null,
            "min_width": null,
            "border": null,
            "align_items": null,
            "bottom": null,
            "_model_module": "@jupyter-widgets/base",
            "top": null,
            "grid_column": null,
            "overflow_y": null,
            "overflow_x": null,
            "grid_auto_flow": null,
            "grid_area": null,
            "grid_template_columns": null,
            "flex": null,
            "_model_name": "LayoutModel",
            "justify_items": null,
            "grid_row": null,
            "max_height": null,
            "align_content": null,
            "visibility": null,
            "align_self": null,
            "height": null,
            "min_height": null,
            "padding": null,
            "grid_auto_rows": null,
            "grid_gap": null,
            "max_width": null,
            "order": null,
            "_view_module_version": "1.2.0",
            "grid_template_areas": null,
            "object_position": null,
            "object_fit": null,
            "grid_auto_columns": null,
            "margin": null,
            "display": null,
            "left": null
          }
        },
        "2d0be8559e194717a9b5b85ea2ca39a8": {
          "model_module": "@jupyter-widgets/base",
          "model_name": "LayoutModel",
          "state": {
            "_view_name": "LayoutView",
            "grid_template_rows": null,
            "right": null,
            "justify_content": null,
            "_view_module": "@jupyter-widgets/base",
            "overflow": null,
            "_model_module_version": "1.2.0",
            "_view_count": null,
            "flex_flow": null,
            "width": null,
            "min_width": null,
            "border": null,
            "align_items": null,
            "bottom": null,
            "_model_module": "@jupyter-widgets/base",
            "top": null,
            "grid_column": null,
            "overflow_y": null,
            "overflow_x": null,
            "grid_auto_flow": null,
            "grid_area": null,
            "grid_template_columns": null,
            "flex": null,
            "_model_name": "LayoutModel",
            "justify_items": null,
            "grid_row": null,
            "max_height": null,
            "align_content": null,
            "visibility": null,
            "align_self": null,
            "height": null,
            "min_height": null,
            "padding": null,
            "grid_auto_rows": null,
            "grid_gap": null,
            "max_width": null,
            "order": null,
            "_view_module_version": "1.2.0",
            "grid_template_areas": null,
            "object_position": null,
            "object_fit": null,
            "grid_auto_columns": null,
            "margin": null,
            "display": null,
            "left": null
          }
        },
        "d2b9c9240e204472bdcb1760ab6d69c0": {
          "model_module": "@jupyter-widgets/controls",
          "model_name": "VBoxModel",
          "state": {
            "_view_name": "VBoxView",
            "_dom_classes": [
              "widget-interact"
            ],
            "_model_name": "VBoxModel",
            "_view_module": "@jupyter-widgets/controls",
            "_model_module_version": "1.5.0",
            "_view_count": null,
            "_view_module_version": "1.5.0",
            "box_style": "",
            "layout": "IPY_MODEL_aed457b83dad40c292d4df4fea1761f6",
            "_model_module": "@jupyter-widgets/controls",
            "children": [
              "IPY_MODEL_a92fcc3bf9774101b687aee8505b0772",
              "IPY_MODEL_b3275a71e28940778038ae36ec8bb34b"
            ]
          }
        },
        "aed457b83dad40c292d4df4fea1761f6": {
          "model_module": "@jupyter-widgets/base",
          "model_name": "LayoutModel",
          "state": {
            "_view_name": "LayoutView",
            "grid_template_rows": null,
            "right": null,
            "justify_content": null,
            "_view_module": "@jupyter-widgets/base",
            "overflow": null,
            "_model_module_version": "1.2.0",
            "_view_count": null,
            "flex_flow": null,
            "width": null,
            "min_width": null,
            "border": null,
            "align_items": null,
            "bottom": null,
            "_model_module": "@jupyter-widgets/base",
            "top": null,
            "grid_column": null,
            "overflow_y": null,
            "overflow_x": null,
            "grid_auto_flow": null,
            "grid_area": null,
            "grid_template_columns": null,
            "flex": null,
            "_model_name": "LayoutModel",
            "justify_items": null,
            "grid_row": null,
            "max_height": null,
            "align_content": null,
            "visibility": null,
            "align_self": null,
            "height": null,
            "min_height": null,
            "padding": null,
            "grid_auto_rows": null,
            "grid_gap": null,
            "max_width": null,
            "order": null,
            "_view_module_version": "1.2.0",
            "grid_template_areas": null,
            "object_position": null,
            "object_fit": null,
            "grid_auto_columns": null,
            "margin": null,
            "display": null,
            "left": null
          }
        },
        "a92fcc3bf9774101b687aee8505b0772": {
          "model_module": "@jupyter-widgets/controls",
          "model_name": "IntSliderModel",
          "state": {
            "_view_name": "IntSliderView",
            "style": "IPY_MODEL_2f844c7fbf274d7aa7828a7b9a38a944",
            "_dom_classes": [],
            "description": "degree",
            "step": 1,
            "_model_name": "IntSliderModel",
            "orientation": "horizontal",
            "max": 20,
            "_view_module": "@jupyter-widgets/controls",
            "_model_module_version": "1.5.0",
            "value": 8,
            "_view_count": null,
            "disabled": false,
            "_view_module_version": "1.5.0",
            "min": 1,
            "continuous_update": true,
            "readout_format": "d",
            "description_tooltip": null,
            "readout": true,
            "_model_module": "@jupyter-widgets/controls",
            "layout": "IPY_MODEL_29853652dd1c4a9db5c744c922460ff3"
          }
        },
        "b3275a71e28940778038ae36ec8bb34b": {
          "model_module": "@jupyter-widgets/output",
          "model_name": "OutputModel",
          "state": {
            "_view_name": "OutputView",
            "msg_id": "",
            "_dom_classes": [],
            "_model_name": "OutputModel",
            "outputs": [
              {
                "output_type": "display_data",
                "metadata": {
                  "tags": [],
                  "needs_background": "light"
                },
                "image/png": "iVBORw0KGgoAAAANSUhEUgAAAtkAAAHwCAYAAABzBnP9AAAABHNCSVQICAgIfAhkiAAAAAlwSFlzAAALEgAACxIB0t1+/AAAADh0RVh0U29mdHdhcmUAbWF0cGxvdGxpYiB2ZXJzaW9uMy4yLjIsIGh0dHA6Ly9tYXRwbG90bGliLm9yZy+WH4yJAAAgAElEQVR4nOzde5zVVb3/8fdnLgwMKCAgInJTUUTRNLWLJ08dtNSOWpodi0or4/Q7earTueTvcH6d04Wyu6VWP35lFw/dO5WWZYUZZWriFZEUQ0CuouggDAzDzPr9sfbm+51xBmZg77XWd+/X8/HYD9d3X9eMmz3v+cxnra855wQAAACgchpiTwAAAACoNYRsAAAAoMII2QAAAECFEbIBAACACiNkAwAAABVGyAYAAAAqjJANAAAAVBghG0ByzGyVme0ys7G9rr/fzJyZTS0dH2FmPzKzp82szcweNrPLS7dNLd13W6/L3w1wDi1mdoOZbTWzjWb2gX3c/59K99taelxL7rapZvZbM2s3sz+b2Vm52y4zs3tLj1trZp8ys6bc7ceZ2W2lr+9xM3t9r9edXXrO9tJrTMnd9o3S9zH/9Tf2MfcPlb5XZ/Vx2yFmttnM/tDP1z3ox5rZFaWvZZuZ/dLMDs/dZmb2STN7pnT5pJlZ7vZGM/uYma03s+dL74lRpdtazOzzpdueNbMvmVlz7rG3m9nO3Pfi0X6+phtKX9PRueummtktpefdaGbX5f8/5e73ttJjr8hd12JmXzGzTWa2xcxuNrOJfb02gNpByAaQqickval8YGazJLX2us+Nkp6UNEXSGElvlbSp131GOedG5C7fG+Dr/5ek6aXnfpWkfzOzc/q6o5m9RtJVkmaX7n+kpA/n7vIdSfeX5jhP0g/NbFzptlZJ75c0VtJLSs/xL6XnbZL0U0k/k3SIpLmS/tvMjindPlbS/0j6P6Xbl0jq/fV9qtfX39Vr7kdJukTShn6+D5+UtLyfr3vQjzWzV0r6uKQLS3N+Qv77UzZX0usknSTpREnnS/r73O0flvRySS+TdLD8//OdpduuknSqpBMkHSPpFEn/0WtOV+a+F8f28TX9laSj+vhaviTpKUkTJL1I0l9L+odejx0t6d8lLev12PeV5nuipMMlPSvp2j5eA0ANIWQDSNWNkt6WO75M0rd63ec0Sd9wzm13zu12zt3vnPtFhV7/Mkkfdc4965xbLun/Sbp8L/f9mnNumXPuWUkfLd+3FIhPkfSfzrkdzrkfSVoq6WJJcs592Tn3e+fcLufcOkkLJZ1Ret4Z8qHs8865LufcbZLukA+WknSRpGXOuR8453bK/2JwkpnNGMTXeb2kD0ra1fsGM3u5fGD9egUf+7eSflD6Xu2S/16dWQrskv9eftY5t7b0/fissu/laPlfSN7lnFvtvIdLX7vkA/kXnXNbnHObJX1R0jsG8k0oPX+TfPj9xz5unibp+865nc65jZJ+Ken4Xvf5ROk1n+7jsbc65zaV5vq9Ph4LoMYQsgGk6i5JB5faJRolXSrpv/u4z/VmdqmZTR7Mk5vZm83soX5uGy1fsXwwd/WD6j8YHd/Hfceb2ZjSbSudc88P8LnO1AsroT2mJx9eX/C6zrntkv7S67n/odSicK+ZXdzjicwukdThnLvlBS/iv+fXSbpSkuvj9v1+bOlr6D3u82tSz+/VLEm7Jb2h1LLxmJm9Zx/PfYSZjcxd9wnz7UV3lKrqef8kabFzrq/3xTWSLjWz1lKrx7nyQdu/kNnp8lX0r/Tx2K9JOsPMDjezVklzJFXql0EAiSJkA0hZuZp9tnzbwbpet18i6ffy7RJPmNkDZnZar/s8bWbP5S7HSZJz7tvOuRP7ed0Rpf+25a5rk3TQXu7f+74q3b/3bf0+l5m9Qz6ofaZ01aPyLQr/ambNZvZq+TaFctvMvp77i/ItL4fKf4++YWZnlF7rIPm2jff18zW9V9Ldzrl7+5jnfj9WPpi+0cxONLNhkj4kH8T7+5raJI0o9WUfIWmkfCvINElvkPRfZnZ27rnfZ2bjzOyw0jyUe+4PyrfyTJS0QNLN5Qq6mU2Sb0v5UD9f02L5sL9V0lr51pyflB7bKN9OcqVzrruPx66Qb2taV3r8cZI+0s/rAKgRhGwAKbtR0pvl2wV6t4qo1MpxlXPueEnjJT0g6Sf5hXKSxjrnRuUuffYX97Kt9N+Dc9cdLOn5Pu5bvn/v+6p0/9639flcZvY6+XaDc51zT5e+vk75/uTXStoo6Z8lfV8+5PX1uj2e2zl3n3PumVIrzS3yrSgXle73X5JudM6t6v3FlBYivle+f7wv+/1Y59xvJP2npB9JWlW6PL+Xr+lgSducc07SjtJ1Hym13jwk6buSzitdP1++9/0BSX+UD8GdKvXpO+fuds4975zrcM59U771pvzYa0rP2/uXFplZg3yA/x9Jw+X750fL95xLvjf7IefcXX19zfJtNS3yPfnDS89DJRuocYRsAMlyzq2WXxh3nnww2dt9n5avAB8uv6DuQF73WfnFfCflrj5J/bdxLOvjvpucc8+UbjuyVP3t87lKCyr/n6TznXNLe83lIefcXzvnxjjnXiNfif1TX69rZsPlF+31N0+nrJ1itqT3ltouNkqaJOn7ZvZBSafLt8s8UrrtC5JOL9238QAfK+fc9c656c658fJhu0nSw3v5Xpa/nnIbR74FZc+4FLyvdM5NdM4dKekZSff2U13u6/vx6dzXJEl3mtmb5d9PkyVdVwroz8j3mp+Xe+zrc499uaTPmtl1pdtfJL92YItzrkO+7/t067V7DoAa45zjwoULl6Qu8tXNs0rjoySdWho3yQejqaXjT8r38jbJt0hcL2lF6bappfs27eccrpb0O/mK5Qz50H1OP/c9R77SPFPSKEm3Sbo6d/td8r8ADJX0eknPSRpXuu1v5MPgmf0894mlx7XK7zryhKSW0m3j5NspLi7d55OS7so99g3y7RcNkl4tXzF+Zem2MZIOy12elG+/GSFfdc3f9j5Jd0s6rAKPHVr6f2bywfV2SR/Pzfnd8q1BE+V/YVom6d252xdL+r+l1zlOvp1mdum28mNM0ktL83p16bZRkl5Tev0m+b7o7ZKOKd1+aK95u9JzDCvdvlJ+95Km0nP9WNK3c8+df+wfJX1A0sjS7V+X/2VipKRm+R1I1sX+d8aFC5fqXqJPgAsXLlx6X5QL2b2u7x2yr5Xvd90mabP8VnfHlW6bWrrvtl6XD5RunyO/M0d/c2iRdIN8D+2m8uNKt00uPdfk3HUfKN1vaylUteRum1oKkzvk+6zPyt32W/nFfPk5/iJ3+6flt3zbJt9icHSveZ4l6c+l5769/L0p3fZ7+RC+VX4B4aWD/Z6Xbrtc0h8q8dhSIH2oFHA3yrfINOZuN0mfkrSldPmUJMvdPlG+dWObfPD9+9xtZ5bm0l76Ps/J3TZO0j3yv2g8J/+Lz9l7+Zpc/nstX42+vfT/4mn5tp3x/Tz2dklX5I7HyLfqPFV67T9IOj32vzMuXLhU92LO9bXwGwAAAMD+oicbAAAAqDBCNgAAAFBhhGwAAACgwgjZAAAAQIURsgEAAIAKa4o9gUobO3asmzp1auxpDNyuXdKTT/rxkCHSpElx5wMAqF1PPCF1l87NM22a1ECtDTgQ995779POuXF93VZzIXvq1KlasmRJ7GkM3Lp10nvf68cTJkjXXbf3+wMAsL/e+lapvd2Pv/lNacSIuPMBCs7MVvd3G7/CxtbYmI27uuLNAwBQX8z2fR8A+42QHRshGwAAoOYQsmNrynXsELIBANXEWZ6BYAjZsVHJBgDEQLsIUFWE7NgI2QCAUKhkA8EQsmPLh+zdu+PNAwBQX6hkA1VFyI4tH7LLe5cCAACg0AjZsfWuZPOnPABAtfAzBgiGkB1bQ0PPM25RzQYAVEs+ZNMuAlQVITsF+ZDN4kcAQAiEbKCqCNkpYK9sAACAmkLITgHb+AEAANQUQnYKCNkAgBBY+AgEQ8hOAXtlAwBCYOEjEAwhOwVUsgHE1t0trVkjbdkSeyYIhZANVFXTvu+CqiNkA4iho0O66y7p/vulBx+Utm6VWlqkD31ImjEj9uwAoNAI2SkgZAMIzTnpE5+Qli7teX1Hh/TlL0uf/WzPnY9QG+jJBoKhXSQFhGwAoS1Z8sKAXbZ2rfSzn4WdD8KjXQSoKkJ2CtgnG0BI3d3St7+dHb/0pdKnPy297W3Zdd//vvT00+Hnhuqikg0EQ8hOAZVsACHdcYdf5ChJQ4dK73qXdOSR0mtfK02e7K/v6JC+/vV4c0T1UckGqoqQnQJCNoBQdu+Wvvvd7Pi1r5VGjfLjpiYfuMvuuku6776w8wOAGkHITgH7ZAMI5bbbpI0b/XjECOnCC3vePnOm9MpXZsc/+lGwqSEA2kWAYAjZKaCSDSCEjg7pBz/Ijl//emn48Bfe7y1vycaPPSbt2FH9uSE82kWAqiJkp4CQDSCEe+7JTjYzerR07rl932/0aGnaND/u7pYeeSTM/FB9VLKBYAjZKSBkAwjhT3/Kxq95jT/xTH+OPz4bP/xw9eaEeKhkA1VFyE4BIRtAtXV2+jM7lp1++t7vP2tWNu5vP20UGyEbqCpCdgoI2QCqbdkyqb3djw89NNuqrz8zZ0oNpR8Rq1ZJzz9f1ekhAFpFgKAI2SngZDQAqi3fKnL66fuuYra2Skcd5cfO0ZddCwjZQFCE7BSwhR+AanLOL3osO+20gT2OlpHaRasIUHWE7BTQLgKgmv7yl2xXkREjpOOOG9jjTjghGxOyi49KNhBU1JBtZjeY2VNm1ufSdfO+aGaPm9lDZnZK6DkGQcgGUE35Kvapp/b8zNmbGTOydra1a6Vnn6383BAHlWyg6mJXsr8h6Zy93H6upOmly1xJXw4wp/AI2QCqKd+PPdBWEclv8XfssdnxsmWVmxMA1LioIds5t1jSlr3c5UJJ33LeXZJGmdmEMLMLiJANoFo2bZLWrPHj5mbppJMG93haRmoH7SJAULEr2fsyUdKTueO1petqCyEbQLXkW0VOPFEaNmxwj8+HbE5KUztoFwGqLvWQPSBmNtfMlpjZks2bN8eezuARsgFUywMPZOPBtIqUTZ8uDRnixxs3Ss88U5l5ITwq2UBQqYfsdZIm5Y6PKF3Xg3NugXPuVOfcqePGjQs2uYphn2wA1dDVJT36aHac35JvoJqbs/2ypaz1BMVGJRuoutRD9k2S3lbaZeSlktqccxtiT6ri2CcbQDU8+WR2lsfRo6Xx4/fveSbmuvTWvaDOAQDoQ9O+71I9ZvYdSa+UNNbM1kr6T0nNkuSc+4qkWySdJ+lxSe2S3h5nplVGuwiAavjzn7PxjBn7X70kZNcG2kWAoKKGbOfcm/Zxu5P0nkDTiYeQDaAaeofs/ZUP2evX7//zIK58yKZdBKi61NtF6gMhG0A1LF+ejQd6lse+UMmuPYRsoOoI2SkgZAOotM2bpaef9uOhQ6WpU/f/ucaNyxZoP/ts1ucNAOgXITsFhGwAlZZvFZk+feCnUu9LY6M0IXceMFpGiomebCAoQnYKCNkAKi0fsg+kVaTs8MOz8dq1B/58iIt2EaDqCNkpYJ9sAJVWqUWPZfRlFx+VbCAoQnYK2CcbQCVt3y6tXu3HDQ3SMccc+HOyw0htoZINVB0hOwW0iwCopMcey6qWU6dKw4Yd+HNSyQaAQSFkp4CQDaCSKt0qIvXsyd6wgc+qIqJdBAiKkJ0CQjaASsrvj12pkD18uD81u+Tb2jZvrszzIg7aRYCqI2SngJANoFK6uqQVK7LjSoVsqWc1m5aR4qGSDQRFyE4BIRtApaxdK+3a5cdjx0pjxlTuuenLrh1UsoGqI2SngC38AFTKypXZ+MgjK/vchGwAGDBCdgqoZAOoFEI2+kO7CBAUITsFhGwAlULIRn/yIZt2EaDqCNkp4GQ0ACqhq0tatSo7rnTIHjtWGjLEj7dulZ5/vrLPj3AI2UDVEbJTQCUbQCVs2CDt3OnHo0dnW+5VSkODNGFCdsyZHwGgX4TsFBCyAVRCNVtFymgZAYABIWSngJANoBLyIXvatOq8Ru8zP6I4WPgIBEXITgEhG0Al5EP2UUdV5zXGjcvGzzxTnddAdbDwEQiKkJ0C9skGcKC6u6UnnsiOq9Uukj+5DSG7uAjZQNURslNAJRvAgdq0SWpv9+ODD67smR7z8s+7ZUt1XgMAagAhOwWEbAAHqnc/drUqlYccko23bKHPt0j4fwUERchOAftkAzhQIfqxJWn4cKmlxY937syq5ygW2kWAqiNkpyAfsru7480DQHGF2L5P8uEsX82mL7s4qGQDQRGyU9CQ+9/Q3U3QBjA4zoXZvq+MkF18VLKBqiNkp8CMHUYA7L/Nm6Vt2/x4+HBp/Pjqvh6LHwFgnwjZqchXswnZAAaj99Z91a5S9l78iGKgXQQIipCdinwlm8WPAAZj1apsPHVq9V+PvbKLj3YRoOoI2amgXQTA/lq9OhtPmVL916NdpJioZANBEbJTQSUbwP4KHbJpFyk+KtlA1RGyU5EP2Z2d8eYBoFh27vRne5T82o6JE6v/mrSLAMA+EbJTQSUbwP5YuzZrA5gwITtRTDWNHJkt1t66Vdq1q/qviQNHuwgQFCE7FYRsAPsj3yoyeXKY12xslEaNyo5pGSmGfMimXQSoOkJ2KpqbszEhG8BArVmTjUP0Y5ex+LHYCNlA1RGyU0ElG8D+iFHJllj8WES0iwBBEbJTQcgGsD9C7yxSxuJHANgrQnYqCNkABuu55/zCQ0kaOlQ69NBwr027SLHRLgJUHSE7FYRsAIOVr2JPmpTt+BFCvl2ESnYx0C4CBEXITgUhG8BgxVr0KNGTXXRUsoGqI2SngpANYLDyITvkokeJnuwiopINBEXITgUhG8BgxdpZROpZyX72Wam7O+zrA0DiCNmpIGQDGIyuLunJJ7Pj0O0iLS3SiBHZXNrawr4+DgztIkDVEbJTQcgGMBibNmWnMx81Sjr44PBzoC+7WGgXAYIiZKciH7I7O+PNA0AxxNofO4++7GLhtOpAUITsVFDJBjAYMXcWKWOvbADoFyE7FYRsAIMRc9FjGXtlA0C/CNmpIGQDGIz8oscUQjaV7PTRLgIERchOBSEbwEB1dkobN/qxmXTEEXHmQU92cRGygaojZKeCkA1goDZsyPalHjfOb6cXA+0ixcLuIkBQhOxUELIBDNTatdk4VhVbkkaPzsbskw0APRCyU0HIBjBQqYTsESOytoPt2/nsAoAcQnYqCNkABiq/6HHSpHjzaGzMzvooSdu2xZsL9o2Fj0BQhOxUNDdnY05GA2BvUqlkSz3PNLl1a7x5YHAI2UDVEbJTQSUbwEB0dUnr12fHhGwMFAsfgaAI2akgZAMYiI0bs8+IMWOk1ta48znooGz8/PPx5gEAiSFkp4KQDWAgUmoVkXpWstlhpDhoFwGqjpCdCkI2gIFIOWRTyU4b7SJAUITsVOQXPhKyAfQntZCdbxehJztt7C4CBEXITgWVbAADkcr2fWUsfASAPhGyU0HIBrAvXV3SunXZcQqVbNpFAKBPhOxUELIB7MvmzdKuXX48alTPVo1YqGQXE+0iQNURslNByAawL6n1Y0uE7CJh4SMQFCE7FYRsAPuSYsjuvU82QS5dLHwEgiJkp4KQDWBfUgzZQ4dKQ4b48a5dUkdH3PlgYAjZQNURslNByAawLymGbDO28QOAPhCyU0HIBrA3zqW3fV8ZfdnFQCsPEBQhOxWEbAB788wz0s6dfjxihDRyZNz55LGNX/HQLgJUHSE7FY2N2birS+rujjcXAOnpXcVOKSTl20Xa2uLNA3tHJRsIipCdCrOe1eyurnhzAZCeFPuxy6hkF09Kv6QBNYqQnRJaRgD0pyghm55sAJBEyE5LPmR3dsabB4D0pByy2V2kGGgXAYIiZKeESjaAvjjXM2SntLOIRLtIEdEuAlQdITslhGwAfXnuOWnbNj8eNkw65JC48+mNdpFioJINBEXITgkhG0BfereKpFaFJGQXT2rvIaAGEbJTQsgG0JdUT0JTlu/Jpl0EACQRstPS3JyNCdkAylJe9Ci9MGSzBWmaaBcBgiJkp4RKNoC+pB6ym5qk4cP92Dlp+/a480Hf8iGbdhGg6gjZKWELPwB9ST1kS2zjVzSEbKDqCNkpoZINoLetW7NTlQ8ZIo0bF3c+/Rk5MhsTsgGAkJ0UQjaA3npXsRsS/dhm8WP66MkGgkr007pOEbIB9FaEVhGJbfyKhnYRoOoI2SkhZAPoLfXt+8oI2emjkg0EFTVkm9k5ZvaomT1uZlf1cfvlZrbZzB4oXa6IMc9gCNkAestXsidOjDePfWHhY7FQyQaqrmnfd6kOM2uUdL2ksyWtlXSPmd3knHuk112/55y7MvgEY2CfbAC95UN2USrZ9GSniUo2EFTMSvbpkh53zq10zu2S9F1JF0acT3xUsgHkbd8ubdnix01N0vjxceezN7SLAEAPMUP2REm5ZkOtLV3X28Vm9pCZ/dDMEi7jVAAhG0DeunXZ+PDDpcbGeHPZF0J2sdAuAlRd6gsfb5Y01Tl3oqRfS/pmX3cys7lmtsTMlmzevDnoBCuKkA0gryiLHiXaRYqAdhEgqJghe52k/E+NI0rX7eGce8Y511E6/KqkF/f1RM65Bc65U51zp45L9UQNA0HIBpBXlO37JBY+FgGnVQeCihmy75E03cymmdkQSZdKuil/BzObkDu8QNLygPMLj5ANIC9fyU49ZLe2Zp9hO3dKHR17vz8A1Lhou4s453ab2ZWSbpXUKOkG59wyM/uIpCXOuZskvdfMLpC0W9IWSZfHmm8QhGwAefme7NRDtpmvZj/7rD/etk1qaYk7JwCIKFrIliTn3C2Sbul13Ydy4/8t6X+Hnlc0hGwAZTt3Sk895ccNDdKECXu/fwryIbutTRozJu580BPtIkBQqS98rC+EbABl+Sr2YYf13Ec/VSx+LA5CNlB1hOyUELIBlBXlJDR5w4dn4/b2ePNA39hdBAiKkJ0SQjaAsiLtLFKWD9nbt8ebBwAkgJCdEkI2gLIi7SxS1tqajQnZAOocITsl+ZDd2RlvHgDiK9LOImW0i6SNhY9AUITslFDJBiD5X7I3bvRjM2nixLjzGSjaRYqDkA1UHSE7JYRsAJK0fr3U3e3Hhx5anP2mCdlpY+EjEBQhOyWEbABSMRc9SoRsAMghZKeEkA1AKm7Izi98pCc7bbSLAFVHyE5J/mQThGygfhVxZxGJSnbqaBcBgiJkp4RKNgCpmDuLSGzhlzp2FwGCImSnhC38AHR1+YWPZUUK2VSyAWAPQnZKqGQD2Lgx+/c/ZkzP6nDqhg3LKqQ7d/pfGACgThGyU0LIBlDURY+S1NDA4seioF0EqDpCdkoI2QCKHLIlWkZSxsJHIChCdkoI2QBqKWRTyU4LCx+BoAjZKSFkAyjq9n1l7DACAJII2WkhZAP1rbu75/Z9kybFm8v+ImQDgCRCdlp6h2z654D6snmztGuXH48cKR10UNz57A96stNFuwgQFCE7JQ0NUmNjdsz2V0B9KXo/tkRPdlEQsoGqI2SnhpYRoH7VWsimkp0W/joKBEXITg0hG6hfhGwAqBmE7NQQsoH6VfSdRSRORpOw363+3Z7xrSt/pYVLF0acDVD7CNmpIWQD9cm54u8sIlHJTtTCpQv1lXu+sue4vXOH5t48l6ANVBEhOzWEbKA+bdmSVX6HD5dGjYo7n/1FyE7SvEXz1NHVsefYyam9s13zFs2LOCugthGyU0PIBupT737sou7+wD7ZSVrTtkZ9vaPWtK0JPhegXhCyU0PIBupTLSx6lNjCL1GTR06W5TYXcbnrAVQHITs1hGygPtViyKaSnYz5s+erpallz7EzqbW5VfNnz484K6C2Ne37LgiKkA3Up/zOIkVd9ChJw4Zl4x07/KniG6jnxDZn1hxNfvFaaeWfJEmtTa1acP4CzZk1J/LMgNrFJ19q8iG7szPePACEld9ZZOLEePM4UI2NWV+2cz5oIwmvmPRXe8bnHXMeARuoMkJ2aqhkA/WnrU3autWPhw6Vxo6NO58DxeJHACBkJ4eQDdSffD/2xInFb6+gLxsACNnJIWQD9adWFj2WEbLT5HLbixR1i0igQAjZqSFkA/Wn1kI2p1ZPHyEbqDpCdmqam7MxCx+B+lArO4uUUclOU76SDaDqCNmpoZIN1J9a2VmkjJANAITs5BCygfqyfbu0ZYsfNzdL48fHnU8l0C4CAITs5BCygfqS78eeMMHvM110VLLTxMJHIChCdmoI2UB9WbMmG0+eHG8elUTITh8hG6g6QnZqCNlAfSFkIxQWPgJBEbJTQ8gG6kt+Z5FaCdn0ZKeJdhEgKEJ2agjZQH3JV7JrYfs+iUo2AIiQnR5CNlA/2tr8RZJaWqRDD407n0ohZAMAITs5hGygfvSuYjfUyEdyPmTTLpIO2kWAoGrkE72GELKB+lGL/djSC3uyu7vjzQV9I2QDVUfITg0hG6gftdiPLfm9vocO9ePubmnnzrjzgcfuIkBQhOzUELKB+lGL2/eV0ZcNoM4RslPT3JyNCdlA7XKudttFJPqyAdQ9QnZqqGQD9WHLlix8Dh8ujR4ddz4V9pTLqteXfOO1Wrh0YcTZQBILH4HACNmpIWQD9aF3q0gNhZ6FSxfq3q3L9xzv3PqM5t48l6Cdkhp6vwGpImSnhpAN1IdaXfQoad6ieXrGssWOo7qa1d7ZrnmL5kWcFVj4CIRFyE4NIRuoDzW86HFN2xo919i553hUV/Oe6wGgXhCyU0PIBupDDS96nDxycq+QPWTP9UgE7SJA1RGyU5MP2Z2d/d8PQHF1dfUM2TXWLjJ/9ny15zZKGtXVrNbmVs2fPT/epEC7CBBY077vgqCoZAO176mnpF27/HjUKOngg+POp8LmzJqju055Qlp3vyTpiMbRWnD+As2ZNSfyzOocu4sAQRGyU0PIBmpfDfdjl710+qsk+ZD9d0eeLxGwAdQZ2kVSw8logNpXw/3Ye5RPqy5xWnUAdYmQnRoq2UDtW7UqG9dYP/Yew4Zl4x074s0DfaNdBM1dt/oAACAASURBVKg6QnZqCNlA7Vu9OhtPnRptGlVFJTs9LHwEgiJkp4aQDdS2jg5pwwY/bmigko1wWPgIBEXITg0hG6hta9ZkYWfCBKmlJe58qoWQDaDOEbJT09CQVRi6u/1+ugBqR74fu1ZbRaSeIZt2EQB1iJCdGjOq2UAtq5eQPWSILxpIfk9wCgbx0S4CBEXIThEhG6hd+UWPU6bEm0e1mbH4MWWEbKDqCNkpImQDtcm5+thZpCwfsunLjo/dRYCgCNkpImQDtWnzZqm93Y9HjJAOOSTufKqNxY8A6hghO0WEbKA29e7HrvU/2ROy01Xr7z0gAYTsFBGygdqUD9m13I9dRshOC+0iQFCE7BQRsoHaVE/92BILH1NGJRuoOkJ2igjZQG2ql+37yqhkp4VKNhAUITtFhGyg9uzYIW3a5McNDdIRR8SdTwhUsgHUMUJ2igjZQO3Jn0594kR/spZaRyU7LZyMBgiKkJ0iQjZQe+rlJDR5hOx0EbKBqiNkp4iQDdSeeuvHljgZTWroyQaCImSnqLk5GxOygdpQjyE7X8mmJxtAnSFkp4hKNlBburtpF6GSHR892UBQhOwU5UN2Z2e8eQCojA0bskruqFHS6NFx5xMKu4ukhZANBEXIThGVbKC2rFyZjY88sn4CDpVsAHWMkJ0iQjZQW3qH7HpByAZQxwjZKcovfKRdBCi+v/wlG9dTyGZ3kbTQLgIERchOESEbqB3d3dITT2THRx0Vby6hsbtIWgjZQFCE7BTlzwS3a1e8eQA4cBs3Su3tfnzwwdKYMXHnExIhG0AdixqyzewcM3vUzB43s6v6uL3FzL5Xuv1uM5safpYRUMkGake+H/uoo+qrgjhkiNRQ+jGza5fU1RV3PgAQULSQbWaNkq6XdK6kmZLeZGYze93tnZKedc4dLenzkj4ZdpaRUMkGakc+ZE+bFm8eMZjRl50S2kWAoPYZsvsIvjKzV1bgtU+X9LhzbqVzbpek70q6sNd9LpT0zdL4h5Jmm9XBJwOVbKB29K5k1xtCdjoI2UBQA6lkf9/MPmjeMDO7VtInKvDaEyU9mTteW7quz/s453ZLapP0goZGM5trZkvMbMnmzZsrMLXICNlAbXCufrfvK6MvG0CdGkjIfomkSZL+KOkeSeslnVHNSQ2Wc26Bc+5U59yp48aNiz2dA0e7CFAbNm2Stm/344MOkmrh82mw2Cs7TVSygaobSMjulLRD0jBJQyU94ZzrrsBrr5MP72VHlK7r8z5m1iRppKRnKvDaaaOSDdSGej3TYx4hOx35dhEAVTeQkH2PfMg+TdIr5Bco/qACr32PpOlmNs3Mhki6VNJNve5zk6TLSuM3SLrNuTr4lKCSDdSGej0JTV6+J5t2kbjoyQaCatr3XfRO59yS0niDpAvN7K0H+sLOud1mdqWkWyU1SrrBObfMzD4iaYlz7iZJX5N0o5k9LmmLfBCvffmQTSUbKK56X/QoUckGULf2GbJzATt/3Y2VeHHn3C2Sbul13Ydy452SLqnEaxUK7SJA8bHo0WN3kXRQyQaC4oyPKcpXsjs64s0DwP7bvFnats2PR4yQDj007nxiYXeRNBGygaojZKeISjZQfPl+7GnT6jfU0C6SjjpY0gSkhJCdIkI2UHyPPZaNp0+PN4/YCNnpoF0ECIqQnSJ2FwGK79FHs/Exx8SbR2zsLgKgThGyU0QlGyi2zs6eix7rOWRTyU4HlWwgKEJ2itjCDyi21auzf7vjx0sjR8adT0zsLpImQjZQdYTsFDXldlbcvVvq6oo3FwCDl+/HrucqtsTuIilh4SMQFCE7RWY9q9m7d8ebC4DBox87Q7sIgDpFyE4Vix+B4qKSnSFkp4OebCAoQnaqWPwIFNNzz0lPPeXHQ4ZIU6bEnU9s7C6SDkI2EBQhO1X5kE0lGyiOFSuy8ZFH9vy3XI+oZAOoU4TsVLHDCFBM9GP3NGSI1FD6UdPZyRoTAHWDkJ0qKtlAMdGP3ZMZLSOpoF0ECIqQnSoq2UDxdHVJf/lLdkzI9mgZSQMhGwiKkJ0qKtlA8Tz5ZFapHTPGX8AJaQDUJUJ2qthdBCge+rH7xglpANQhQnaq2CcbKB76sftGu0gaaBcBgiJkp4pKNlA8jzySjY89Nt48UsPCxzQQsoGgCNmpopINFMtTT2UnoWlpkY46Ku58UkIlG0AdImSnit1FgGLJV7FnzJCamuLNJTUsfEwPlWyg6gjZqaJdBCiWZcuy8fHHx5tHiqhkpyHfLgKg6gjZqWILP6BYCNn9I2SngZ5sIChCdqpoFwGK4+mnpU2b/HjIEPqxe2MLPwB1iJCdKirZQHHkq9gzZvT89wt2F0kFlWwgKEJ2qthdBCgOWkX2jnaR9BCygaojZKeKhY9AcRCy947dRdLAwkcgKEJ2qgjZQDE884y0caMfDxkiHX103PmkiEo2gDpEyE4V7SJAMeSr2MceSz92XwjZaaAnGwiKkJ0qKtlAMeRC9ufablXDhxs09ZqpWrh0YcRJJYbdRdJAyAaCImSniko2UAy5kP2TphVyclrdtlpzb55L0C4jZAOoQ4TsVLFPNpC+zZulDRskSTutS39qfXbPTe2d7Zq3aF6smaWFhY8A6hAhO1W0iwDpu//+PcPbhz+tjobuHjevaVsTekZpGjIka0/o7JS6uuLOp17RLgIERchOFe0iQPruu2/P8BcHb3zBzZNHTg45m3SZSS0t2XFHR7y51DNCNhAUITtVVLKBtHV2SkuX7jn87ei2Hje3Nrdq/uz5oWeVLkI2gDpDyE4VlWwgbY88ki3iO+wwffCSazRl5BSZTFNGTtGC8xdozqw5ceeYEkJ2WqhkA1XXFHsC6AeVbCC6hUsXat6ieVrTtkaTR07W/Nnzs+CcaxXRKadozqw5hOq9yS9+ZIeRODjjIxAUITtV+ZBNJRsIbuHShZp781y1d7ZL0p5t+ST5MJ1b9KhTTokxxWLJV7L5TIuDnmwgKNpFUtV7Cz8qEEjcwqULNfWaqTVzMpZ5i+btCdhle7bl27hRWrfOXzlkiDRzZoQZFkw+ZFPJBlAHqGSnqrFRamiQurv9patLauJ/F9K0z6pvAfW3/d6atjU9q9gnnNAzQKJv9GSnhUo2UHVUslPGCWlQEHut+hZUf9vvTR45mVaR/UHIjo+/iAJBEbJTRl82CmKvVd+Cmj97vlqbW3tc19rcqqvP/EiPrft08smBZ1ZQLHyMj55sIChCdsqoZKMg9lr1Lag5s+ZowfkLXrAt36U6Iful9/DDpcMOizvRomBbUgB1hibflFHJRkHMnz2/R0+2VBsnY+lzW77rr8/GtIoMHJXs+KhkA0FRyU4ZlWwURH9V36IueuxXZ6d0993Z8RlnxJtL0dCTnRZCNlB1VLJTxglpUCB1cTKWBx+Utm/343HjpOnT486nSAjZ8bHwEQiKSnbK6GEE0nLHHdn4jDOoBg4GIRtAnaGSnTIq2YjJOX/SlfXr/WXjRn99a6s0fLg0erR0/PHS2LFx5xlKR4f0pz9lx7SKDA4no4mPnmwgKEJ2ylj4iBjWr5d+9ztp8WLpqaf2ff/DD5dOPFF6xSukGTOqP79Y7rsvC4eHHy5NmxZ3PkWTX/hIJTsOQjYQFCE7ZbSLIKQ//1n67/+Wli8f3OPKle5f/lI69ljpgguk007zZy2tJbSKHJj85xkhOz7ev0DVEbJTRrsIQti8Wbrxxp4hsqy1VTrySF+5nTBBamqS2tulbdukNWt8IM//Avjoo9KnPy1NnChdcYWvcNeCHTuke+/NjmkVGTwq2fGx8BEIipCdMirZqCbnpJ//XFq4sOf7q6nJn8Xwla+UXvzinr/s9bZrlw/Wixf7y+7d/vp166QPf1g680zp8sulkSOr+ZVU3z33ZN+jyZOlSZPizqeIWPgIoM4QslPGPtmolvZ26Utfku68s+f1L3+59Na3SoceOrDnGTJEmjXLX978ZumWW3zbSHvppDSLF/te5rlzi139Xbw4G//VX8WbR5Gx8DE+erKBoAjZKaNdBNWwZo1v6Vi/Prtu6lTpne+UZs7c/+cdPVqaM0c67zzp61/P2k+2bZM+9znf8/22t+29Mp6ijRulBx7Ijov8y0JM+ZDNX+biIGQDQRGyU8buIqi0ZcukT3zC9xiXnXOOb+moVPgdPVr6wAekV71KWrAg26HkllukFSv8bQOtlKfg1luzcHLyydJhh8WdT1FxWnUAdYaT0aSMdhFU0v33Sx/7WBawW1qk979fete7qlNdPvlk6TOfkV7ykuy6FSukD37Q93EXwc6d0qJF2fG558abS9FRyQZQZwjZKaOSjUq5807p6quz99Ho0b6i/YpXVPd1hw+X/vVfpbe/PdvSb+tW6b/+64X94Cn6/e+z06gfdpj/xQH7p/dC7q6ueHOpV7SLAEERslNGJRuVcOedvie6vPPHoYf6ivaUKWFe30z627+VPvIR6eCD/XW7dkmf/ax0003pbivmnPSLX2TH55wjNfCRud/MqGbHRsgGguInRspY+IgD9fDD0jXXSN3d/vjww33AjtFXPGOGr55PmOCPnZO++U3pW99KM2gvXy6tXu3HLS2+xxwHhm38ANQRQnbK2CcbB2LVKumTn8wq2OWAPWZMvDkddpgP2vnTr990k/SVr6TXPpCvYp95pjRiRLy51AoWP6aDSjZQdYTslFHJxv7atEn66Eez/aoPOUT6P/8njZPCHHSQ9J//2XNB5G9+I33+8+m8zzdulO6+OztmwWNlcGr1uFL8ixFQwwjZKWPhI/ZHe7v08Y9Lzz3nj1tbpf/4j7S2zRsyRPrnf/ZnlSy7805feU8hfH3721ll/YQTwvWv1zpOrR4XPdlAUITslNEugsHq7pa++EVp7Vp/3NwsXXVVmiGxsVF6z3v8yWvK7r/fV+DLO3rE8Pjj2Yl0JH8mS1QGPdkA6gghO2XsLoLB+v73pXvuyY7/4R+k44+PN599aWiQ3vEO6ZJLsuuWL/ftJG1t4efjnF+IWfbSl0rHHht+HrWKkJ0OKtlA1RGyU0ZPNgbjrrukH/wgO77gAr9gL3Vm0qWX+rNOlj3xhG9xefrpsHO57z5/VkzJV9rnzAn7+rWOkB0XPdlAUITslNEugoFat0669trs+KSTpLe8Jd589sf55/vKe3kv6vXrpXnz/H9D6OqSbrwxOz77bL8jCyonH7LZXSQ8erKBoAjZKaOSjYHo6PAndimHlvHjpX/6p+wMi0Uye7b0gQ9ITU3++OmnfUV71arqv/YvfiE9+aQfDx0qvfGN1X/NesPCRwB1hJCdMirZGIhvfCM7aUpzs/Rv/+a3ySuql73ML9Ysv//b2qQPfShr46iGxx/vWcV+3evS2O6w1tAuEheVbCAoQnbKqGRjX+64Q/rVr7Ljt79dmjo12nQq5uST/eLH1lZ/vH27Py37okWVf61t2/xfAson7TnqKB+yUXm0i6SDkA1UHSE7ZYRs7M3GjdKXv5wdv/zl0qtfHW8+lTZjhg/Wo0b54927pS99yZ+KvVJnh3ROuu466amn/HFrq29Xyf/bQ+XkQzZ/nQuPhY9AUITslPU+GQ0fkCjr6pK+8AVpxw5/PH689O531151ato06eqre1bnb7pJmj9f2rLlwJ//Rz/queXhe97jT/2O6qCSDaCOELJT1tCQLQCTsj9nAz/+sfTYY37c1OSrr8OHx51TtYwbJ33sY9Jpp2XXPfigX9x5553795xdXdLXviZ95zvZdeed5/fFRvVQyY6LnmwgKEJ26lj8iN5WrvQnnSl74xulo4+ON58Qhg3zCzovuigLB9u2SZ/5jPT5z/vWmYHasUP61KekW27JrjvuOOltb6vsnPFC+d1FqGSHR8gGgmra910QVe+WkVqtVmJgdu3ybSLlnuRjj62fRXoNDf7kMC96kT91fPlENX/4g/THP0qvfKV08cX9t3vs2iX9/vfST37Sc+/tl71M+sd/pA87BHYXAVBHCNmp49TqyPv2t6W1a/24pcWHwyLuh30gjj9e+tznpK9+VVq82F/X3S3ddpu/TJokzZwpHXOMv23bNh/IFy9+4anaX/966c1vzk6Ag+oiZAOoI4Ts1PWuZKN+Pfyw9LOfZceXXSZNmBBvPjENHy69733SWWf5U8kvXZrd9uST/nLrrf0/fuhQv93hWWdVf67IELLjol0ECIqQnToq2ZD8PtHXXpv9kDz55Nrarm9/HX+8vyxb5ncKefjhvW/vN3asdO65/pTptF6Fx+4icRGygaAI2aljr2xI0g03ZD3II0b4reb4IZkph+2dO6UVK6RHHvGnYm9p8We/HDHCbwP44hf33LEHYXFadQB1hJ82qWN3Edx9t3T77dnx3LnS6NHRppO0oUOlWbP8BemhXSQd/JIOVB2rfVJHJbu+Pfec9JWvZMeveIV0xhnx5gMcCEJ2XJzQDAiKkJ06Fj7WL+f8adO3bvXHhxwiXXFF3DkBB6L3X+a6u+PNpR7Rkw0ERchOHQsf69eiRdKSJdnxlVf63mKgqBoaen6mUc0GUMOihGwzO8TMfm1mK0r/7bPB1My6zOyB0uWm0PNMApXs+rRxo/T1r2fH550nnXRSvPkAlZJf/MhnWlhUsoGgYlWyr5K0yDk3XdKi0nFfdjjnXlS6XBBuegmhkl1/urqk667Ltjg7/HDpLW+JOyegUvKfaWzjFw8hG6i6WCH7QknfLI2/KalOzgu9H6hk15+bb5aWL/fjhgZ/0pX8gjGgyNjGLx4WPgJBxQrZ451zG0rjjZLG93O/oWa2xMzuMrP6DOJUsuvLypXSd76THb/hDdLRR8ebD1Bp7DACoE5ULWSb2W/M7OE+Lhfm7+ecc5L6+/V6inPuVElvlnSNmR3Vz2vNLYXxJZs3b67sFxIb+2TXj44O6QtfkHbv9sdHHy1dfHHcOSVk4dKFmnrNVDV8uEFTr5mqhUsXxp4S9gdnfYyHnmwgqKqdjMY5d1Z/t5nZJjOb4JzbYGYTJD3Vz3OsK/13pZndLulkSX/p434LJC2QpFNPPbW2/h7GPtn148YbpbVr/bilxbeJcHZCST5gz715rto72yVJq9tWa+7NcyVJc2bNiTk1DFY+ZFM4iIeQDVRdrHaRmyRdVhpfJumnve9gZqPNrKU0HivpDEmPBJthKujJrg/33Sf94hfZ8dvf7hc8QpI0b9G8PQG7rL2zXfMWzYs0I+w3Ktnx0JMNBBUrZF8t6WwzWyHprNKxzOxUM/tq6T7HSVpiZg9K+q2kq51z9Rey6cmufW1t0vXXZ8ennSad1e8fgurSmrY1g7oeCWPhYxqoZANVF+Vv0c65ZyTN7uP6JZKuKI3/KGlW4Kmlh3aR2lY+q+Nzz/njUaOk//W/+AHYy+SRk7W6bXWf16NgWPgYD5VsICjO+Jg6Fj7Wtt/8Rrrnnuz4yiulkSPjzSdR82fPV2tza4/rWptbNX/2/Egzwn4jZMfDwkcgKEJ26qhk167163ue1fHcc6WTT443n4TNmTVHC85foCkjp8hkmjJyihacv4BFj0VEyE4DIRuoOrYuSB0LH2vT7t3SF7+YhYwjjpDe+ta4c0rcnFlzCNW1gIWPAOoElezUsfCxNn3nO9KKFX7c1CS9//2c1RH1gUp2PPRkA0ERslOXr2TzA6k23HOP9JOfZMdvepM0bVq8+QAhsbtIPPRkA0ERslPHD6TasmmTdO212fEpp0gXXBBvPkBoVLLTQMgGqo6QnTr6F2vHrl3SZz4jbd/uj8eOld77XqmBf4aoI3ymAagT/HRPHZXs2uCc9LWvSStX+uOmJulf/kU66KC48wJC47Tq8dCTDQRFyE4dIbs2/OIXfk/ssssuk6ZPjzcfIBYq2fHQkw0ERchO3ZAh2Yfhrl1SV1fc+WDwHnyw537Yr3iF3xMbqEcUDtJAyAaqjpCdOjP+vFpk69dLn/2s1N3tj48+mtOmo77ltyUlZIdFuwgQFCG7CPjzajFt3Sp94hPZQsdDDpE++EH2w0Z9o5KdBn7RB6qOkF0E+R9KhOxi2LFD+vjHfSVb8tW7D37QB22gnrGFXzxUsoGgCNlFwA+lYunslD796eyMjmbSP/6jbxUB6l3vdpFyKxWqj4WPQFCE7CKgkl0cXV3+ZDMPPphdd8UV0stfHm9OQEoaG3sGbdaZAKhRhOwioJJdDF1d0vXXS3fckV33d38nnXNOvDkBKWLxYxxUsoGgCNlFQCU7fZ2d0uc/L/3ud9l1554rXXJJvDkBqWLxY3yEbKDqmmJPAANAyE5b+XTp996bXXf22dI73sEPMqAv/HUuDhY+AkERsouAH0jpamvzixyXL8+u+9u/lS6/nIAN9IfPNAB1gJBdBFSy07RqlXT11dLmzdl1F18svelNBGxgb9j7Pw56soGg6MkuAqo+6bnrLmnevD0B20maP22tGla8RVO/ME0Lly6MOz8gZXymxUHIBoKikl0EVLLTsWOH9I1vSL/5zZ6rOoc06dJJd+t/hq+WJK1uW625N8+VJM2ZNSfGLIG0EbIB1AEq2UVAyE7D8uXSP/9zj4Ctww7TuSc8uCdgl7V3tmveonmBJwgUBCEbQB2gkl0E/ECK69lnpe9+V1q0qOefW1/2Munv/163fW5knw9b07Ym0ASBguFkNHHQLgIERSW7CKhkV8zCpQs19Zqpavhwg6ZeM3XvvdMdHdL//I905ZW+el3+ATV8uPT+9/uq9kEHafLIyX0+vL/rgbpHyI6DkA0ERSW7CKhkV8TCpQs19+a5au9sl7SX3ult26Rbb5V+/nO/RV/eKadI7363NGbMnqvmz57f43klqbW5VfNnz6/eFwMUGSEbQB0gZBcB211VxLxF83oEYSnrnZ5zwpulJ56Qfvtb6bbbXvh9PuIIv/f1ySe/4HnLAX3eonla07ZGk0dO1vzZ81n0CPQn/5lGyAZQowjZRcApiCuirx7pKbtaNWfFUN/+sXbtCx80Zox00UX+DI6Njf0+95xZcwjVwEBRyY6DdhEgKEJ2EdCTXRGTR07W6rbVGrW7WZe0TdRbnpusM7ePLd3aK2BPmiS97nXSGWdIzc3B5wrUNEJ2HIRsIChCdhHQk33gOjv1rQn/oGeX/lTntI1Ti+ujKj10qPSSl0h//dfSrFlSA+uCgaogZAOoA4TsIqCSvf/WrpV+/Wvp9tt15rZtkg7rcXO3mRpe9CIfrE87ref3GkB15EM2hYM4qGQDVUfILgIq2YPjnHTffdJPfiI98kjf9zn6aOnMM9VwxhnSqFFh5wfUOyrZceTbRQBUHSG7CIYM8VUH56TOTqmra6+L8OqWc9JDD/kTxzz22AtvHzfOV6zPPFOaODH8/AB4hOw46MkGgiJkF4GZb2PYscMf79zpT4iCzFNPSV/5ivTggz2vb2jwbSBnny2ddBJ91kAKCNkA6gAhuyhaWrKQ3dFByC5zzu9tfcMN2fdHkpqapFe/2u8QkjtxDIAEELLjoJINBEXILgoWP77Q889L110nLVmSXdfQIM2eLb3hDdLYsf0/FkA8hOz4CNlA1RGyi4LFjz0984z00Y9KTz6ZXTdhgvTe90rHHBNvXgD2LR+yOzvjzaPesPARCIqQXRRUsjPr10sf+Yi0eXN23XnnSW95S89fRgCkiUp2fFSygaojZBcFIdtbudJXsLdu9ceNjdKVV/odQwAUAyE7DirZQFCE7KKgXcRXrj/2sSxgDxki/eu/SqecEndeAAaHkB0HCx+BoAjZRVHvleydO6Wrr5ba2vzx8OHSv/+7NGNG3HkBGLzeIds5Ql9ofL+BqmPT4KKo50p2d7d07bXSqlX+uKlJuuoqAjZQVA0N/t9xGdVsADWIkF0U+ZBdb5XsH/5Quuuu7Phd75Jmzow3HwAHjpaR8OjJBoIiZBdFvl2knirZS5dK3/tednzeedJZZ8WbD4DKIGSHR082EBQhuyjqsSe7o8OfKr3sxBOlyy+PNh0AFUTIjouQDVQdIbso6rEn+4c/lDZu9OPWVn+imcbGuHMCUBmEbAA1jpBdFPVWyV61SvrpT7Pjt75VGj062nQAVFi+cEDIDoOebCAoQnZR1NPCx64u3ybS1eWPjzuOPmyg1lDJDo+ebCAoQnZR1NPCx1//Wlqxwo+bmqR3v9tv+QWgdhCy4yJkA1VHcimKemkX6eiQfvCD7Pjii6Ujjog3HwDVQcgGUOMI2UVRLwsff/Ur6bnn/PiQQ6TXvS7ufABUByE7PHqygaAI2QVx85pf7xn/ZcMjWrh0YcTZVElHh/STn2THF13U8wcxgNqR/7ddy4WDlNCTDQRFyC6AhUsX6l8W/8ee45bdTnNvnlt7QfvWW7Mq9pgxLHYEahmV7LgI2UDVEbILYN6ieXq6a9ue4+HdjWrvbNe8RfMizqrCdu6Ufvzj7Pjii6Xm5njzAVBdhOzwaBcBgmqKPQHs25q2NWpuyKoOw7ub9lxfM375S2nrVj8eO1b6m7+JOx8A1UXIjotKNlB1VLILYPLIydpl3dqtbknSENegJmeaPHJy5JlVyK5dPU88QxUbqH2E7PCoZANBEbILYP7s+Wod0qrtDV17rhvXcJDmz54fcVYVdOedPavYr3pV3PkAqD5CdlxUsoGqo12kAObMmiNJ2rn0uxpZ+ll03d98RheVri+8W2/Nxq9+NVVsoB4QssOjkg0ERSW7IObMmqPxh2TtIRdNOy/ibCpo1Srp0Uf9uKlJmj076nQABELIDo8t/ICgCNlFMmxYNq6VfWXzVeyXvEQaNSreXACEkz/BFiE7PEI2UHWE7CLJ/1CqhVOrt7dLixdnx695Tby5AAiLSjaAGkfILpJaO7X64sXZLwuTJkkzZ8adD4BwCNnh0ZMNBEXILpKhQ7Nx0SvZzvVsFXnNa/jzJVBPCNnh0ZMNBEXILpIaahf51S3XSmv8yXS2N3Tpe2M3RZ4RgKAI2XERhtRvogAADFVJREFUsoGqI2QXSb6SXeB2kYVLF2rVzTdmx6PW6B2/fo8WLl0YcVYAgsqH7AJ/ngFAfwjZRVIj7SIf+s08vX7L+D3H/z1qjdo72zVv0byIswIQFJXs8OjJBoIiZBdJjSx8PHrdTo3r8l/LuqYd+sPwZyRJa9rWxJwWgJAI2eHRkw0ERcgukhqpZL+z/dg94++NWitX+qyfPHJyP48AUHMI2XERsoGqI2QXSS0sfOzs1Ouem7Dn8Luj1kqSWptbNX/2/FizAhAaITs82kWAoAjZRVILCx8feEBDOjolSWuGdmjJsOc0ZeQULTh/gebMmhN5cgCCaWqSGko/grq7pd27486n3lDJBqquKfYEMAi10C5yxx17hpPPe5O65/ws4mQARGPmq9nlz7Jdu3zwRvVQyQaCopJdJEVf+NjRId1zT3Z8xhnx5gIgPlpG4qGSDVQdIbtIit6Tfe+92byPOEKaMiXufADERcgOp3cVm5ANVB0hu0iK3pP9xz9m4zPO4EMeqHeEbAA1jJBdJEWuZHd2Svffnx2/7GXx5gIgDYTscOjHBoIjZBfJsGHZuGiV7EceyX4xGD/et4sAqG+E7HA4EQ0QHCG7SIpcyb7vvmz84hfzIQ+AkB0Ln79AEITsIukdsov0578lS7Lxi18cbx4A0kHIDqdIPy+AGkHILpLmZqmx0Y+LdPKG9euljRv9eOhQ6fjj484HQBoI2XFQyQaCIGQXTRFbRvJV7BNP9L8sAAAhOxwq2UBwhOyiKeI2fr37sQFAImTHQiUbCIKQXTT5kL1jR7x5DNT27X5nkbJTTok3FwBpIWSHQyUbCC5KyDazS8xsmZl1m9mpe7nfOWb2qJk9bmZXhZxjsoYPz8bbt8ebx0A99JDU1eXHRx4pHXJI3PkASAchOxy28AOCi1XJfljSRZIW93cHM2uUdL2kcyXNlPQmM5sZZnoJK1rIZlcRAP3Jh+yitL/VAkI2EERTjBd1zi2XJNv7P/TTJT3unFtZuu93JV0o6ZG9Pajm5UN2e3u8eQxEd3fPszwSsgHkUckGUMNS7smeKOnJ3PHa0nX1rUiV7FWrpLY2Pz74YOmoo6JOB0BiCNnh0JMNBFe1SraZ/UbSYX3cNM8599MKv9ZcSXMlafLkyZV86vTkQ/a2bfHmMRBLl2bjE0+UGlL+nQ5AcITscOjJBoKrWsh2zp11gE+xTtKk3PERpev6eq0FkhZI0qmnnlrbv64XqZKdD9mzZsWbB4A0EbLjIGQDQaRcWrxH0nQzm2ZmQyRdKummyHOKryg92Z2d0vLl2TEhG0BvhGwANSzWFn6vN7O1kl4m6edmdmvp+sPN7BZJcs7tlnSlpFslLZf0fefcshjzTUpR2kUefzw7I+Whh0rjx8edD4D0ELLDoScbCC7W7iI/lvTjPq5fL+m83PEtkm4JOLX0FaVdhFYRAPtCyA6HnmwguJTbRdCXorSLPPxwNiZkA+hLS0s2JmSHQ8gGgiBkF00RKtkdHdKjj2bHJ5wQby4A0kUlOxzaRYDgCNlFU4Se7D//Wdq9248nTZJGj447HwBpImTHQSUbCIKQXTS920VSrE489FA2plUEQH8I2eGk+LMCqHGE7KJpapKGDvXj7u5sB4+U0I8NYCAI2XFQyQaCIGQXUWtrNk6tZWT7dmnlSj9uaJCOPz7ufACki5AdDpVsIDhCdhGlvPhx2TJfYZekI4/sOVcAyOsdsgmCYVDJBoIgZBdR6iG7jF1FAOxNQ4NvgSujml09/AIDBEfILqKU98rOn0p95sx48wBQDLSMhEclGwiCkF1EqW7jt2OH9MQTfmwmHXts3PkASB8hOwwq2UBwhOwiSrVdZMWKrB970iRpxIi48wGQPkJ2GJxWHQiOkF1EqbaL/PnP2fi44+LNA0BxELLDI2QDQRCyiyjVSvYjj2RjQjaAgWhpycaEbAA1hJBdRCn2ZO/e7dtFygjZAAaCSnYY9GQDwRGyiyjFSvaqVdnZJ8eO9RcA2BdCdhj0ZAPBEbKLKMWebPqxAewPQnZ4hGwgCEJ2EaXYLkI/NoD9QcgGUKMI2UWUWruIc1SyAeyffMju6Ig3j1pHTzYQHCG7iPL7T6fQLrJhg9TW5sfDh0tHHBF3PgCKg0p2GPRkA8ERsoto2LDsQ7K9XerqijuffBV7xgypgbcVgAEiZIdByAaCIw0VUUODD9plsavZy5dn4xkz4s0DQPEQsgHUKEJ2UeVbRmL3ZdOPDWB/EbLDo5INBEHILqpUtvF7/nlp/Xo/bmqSjjoq3lwAFA8hOwwWPgLBEbKLqrU1G8fcxu/xx7Px1Kk9f2ACwL4QssOgJxsIjpBdVKls4/fYY9l4+vR48wBQTIRsADWKkF1UqfRkr1iRjY85Jt48ABRTS0s2JmRXD5VsIDhCdlHl20Vi9WQ71zNkU8kGMFhUssMjZANBELKLKoVTq2/YkL32QQdJhx0WZx4Aiqu5ORt3dsabR61j4SMQHCG7qFJoF+ndj011BMBgEbIB1ChCdlGl0C5CPzaAA0W7SBj0ZAPBEbKLKoV2EXYWAXCgqGSHR8gGgjBXY31aZrZZ0urY86iisZKejj0JFAbvFwwU7xUMBu8XDFStv1emOOfG9XVDzYXsWmdmS5xzp8aeB4qB9wsGivcKBoP3Cwaqnt8rtIsAAAAAFUbIBgAAACqMkF08C2JPAIXC+wUDxXsFg8H7BQNVt+8VerIBAACACqOSDQAAAFQYITtxZnaJmS0zs24z63d1rpmdY2aPmtnjZnZVyDkiHWZ2iJn92sxWlP47up/7dZnZA6XLTaHniXj29VlhZi1m9r3S7Xeb2dTws0QKBvBeudzMNuc+S66IMU/EZ2Y3mNlTZvZwP7ebmX2x9F56yMxOCT3HGAjZ6XtY0kWSFvd3BzNrlHS9pHMlzZT0JjObGWZ6SMxVkhY556ZLWlQ67ssO59yLSpcLwk0PMQ3ws+Kdkp51zh0t6fOSPhl2lkjBIH6ufC/3WfLVoJNESr4h6Zy93H6upOmly1xJXw4wp+gI2Ylzzi13zj26j7udLulx59xK59wuSd+VdGH1Z4cEXSjpm6XxNyW9LuJckJ6BfFbk30M/lDTbjFME1iF+rmDAnHOLJW3Zy10ulPQt590laZSZTQgzu3gI2bVhoqQnc8drS9eh/ox3zm0ojTdKGt/P/Yaa2RIzu8vMCOL1YyCfFXvu45zbLalN0pggs0NKBvpz5eLSn/9/aGaTwkwNBVSXOaUp9gQgmdlvJB3Wx03znHM/DT0fpG1v75f8gXPOmVl/2wdNcc6tM7MjJd1mZkudc3+p9FwB1LSbJX3HOddhZn8v/xeQv4k8JyAZhOwEOOfOOsCnWCcpX0E4onQdatDe3i9mtsnMJjjnNpT+FPdUP8+xrvTflWZ2u6STJRGya99APivK91lrZk2SRkp6Jsz0kJB9vlecc/n3xVclfSrAvFBMdZlTaBepDfdImm5m08xsiKRLJbFjRH26SdJlpfFlkl7wlxAzG21mLaXxWElnSHok2AwR00A+K/LvoTdIus1xQoV6tM/3Sq+e2gskLQ84PxTLTZLeVtpl5KWS2nKtjTWLSnbizOz1kq6VNE7Sz83sAefca8zscElfdc6d55zbbWZXSrpVUqOkG5xzyyJOG/FcLen7ZvZOSaslvVGSSts/vts5d4Wk4yT9XzPrlv9F+2rnHCG7DvT3WWFmH5G0xDl3k6SvSbrRzB6XX8h0abwZI5YBvlfea2YXSNot/165PNqEEZWZ/f/27hA3iyiMwvA5JGUFJCBranAgCBKNx8MKyg5ISNgDgmBxSFzDEhDIViCwTaoQTZoPg8Bzw6T/PI8bd+SbyZ25n5I8S3Kv7c8kb5IcJcnMvE/yJcnzJBdJfiV5tc3S/8uNjwAAsJjjIgAAsJjIBgCAxUQ2AAAsJrIBAGAxkQ0AAIuJbAAAWExkAwDAYiIbYMfavm37+q/nd21Pt9wEcAhcRgOwY22Pk3yemcdt7yQ5T/JkZi43HQZwy7lWHWDHZuZH28u2j5LcT/JNYAP8O5ENwIckL5M8SPJx2ykAh8FxEYCda3s3yfckR0lOZuZm40kAt5432QA7NzPXbb8muRLYAGuIbICd+/PB49MkL7beAnAo/MIPYMfaPkxykeRsZs633gNwKJzJBgCAxbzJBgCAxUQ2AAAsJrIBAGAxkQ0AAIuJbAAAWExkAwDAYr8B7rcQQ+/y/k8AAAAASUVORK5CYII=\n",
                "text/plain": "<Figure size 864x576 with 1 Axes>"
              },
              {
                "output_type": "display_data",
                "metadata": {
                  "tags": []
                },
                "text/plain": "array([ 1.52076086e+03,  4.70146999e+03,  5.12325398e+03,  1.87149773e+03,\n       -4.98788790e+02, -5.39302308e+02, -1.13026569e+02,  4.52210489e-01,\n        1.10043752e+00])"
              }
            ],
            "_view_module": "@jupyter-widgets/output",
            "_model_module_version": "1.0.0",
            "_view_count": null,
            "_view_module_version": "1.0.0",
            "layout": "IPY_MODEL_e4d6c1e5e26343a68234f674e7522d2e",
            "_model_module": "@jupyter-widgets/output"
          }
        },
        "2f844c7fbf274d7aa7828a7b9a38a944": {
          "model_module": "@jupyter-widgets/controls",
          "model_name": "SliderStyleModel",
          "state": {
            "_view_name": "StyleView",
            "handle_color": null,
            "_model_name": "SliderStyleModel",
            "description_width": "",
            "_view_module": "@jupyter-widgets/base",
            "_model_module_version": "1.5.0",
            "_view_count": null,
            "_view_module_version": "1.2.0",
            "_model_module": "@jupyter-widgets/controls"
          }
        },
        "29853652dd1c4a9db5c744c922460ff3": {
          "model_module": "@jupyter-widgets/base",
          "model_name": "LayoutModel",
          "state": {
            "_view_name": "LayoutView",
            "grid_template_rows": null,
            "right": null,
            "justify_content": null,
            "_view_module": "@jupyter-widgets/base",
            "overflow": null,
            "_model_module_version": "1.2.0",
            "_view_count": null,
            "flex_flow": null,
            "width": null,
            "min_width": null,
            "border": null,
            "align_items": null,
            "bottom": null,
            "_model_module": "@jupyter-widgets/base",
            "top": null,
            "grid_column": null,
            "overflow_y": null,
            "overflow_x": null,
            "grid_auto_flow": null,
            "grid_area": null,
            "grid_template_columns": null,
            "flex": null,
            "_model_name": "LayoutModel",
            "justify_items": null,
            "grid_row": null,
            "max_height": null,
            "align_content": null,
            "visibility": null,
            "align_self": null,
            "height": null,
            "min_height": null,
            "padding": null,
            "grid_auto_rows": null,
            "grid_gap": null,
            "max_width": null,
            "order": null,
            "_view_module_version": "1.2.0",
            "grid_template_areas": null,
            "object_position": null,
            "object_fit": null,
            "grid_auto_columns": null,
            "margin": null,
            "display": null,
            "left": null
          }
        },
        "e4d6c1e5e26343a68234f674e7522d2e": {
          "model_module": "@jupyter-widgets/base",
          "model_name": "LayoutModel",
          "state": {
            "_view_name": "LayoutView",
            "grid_template_rows": null,
            "right": null,
            "justify_content": null,
            "_view_module": "@jupyter-widgets/base",
            "overflow": null,
            "_model_module_version": "1.2.0",
            "_view_count": null,
            "flex_flow": null,
            "width": null,
            "min_width": null,
            "border": null,
            "align_items": null,
            "bottom": null,
            "_model_module": "@jupyter-widgets/base",
            "top": null,
            "grid_column": null,
            "overflow_y": null,
            "overflow_x": null,
            "grid_auto_flow": null,
            "grid_area": null,
            "grid_template_columns": null,
            "flex": null,
            "_model_name": "LayoutModel",
            "justify_items": null,
            "grid_row": null,
            "max_height": null,
            "align_content": null,
            "visibility": null,
            "align_self": null,
            "height": null,
            "min_height": null,
            "padding": null,
            "grid_auto_rows": null,
            "grid_gap": null,
            "max_width": null,
            "order": null,
            "_view_module_version": "1.2.0",
            "grid_template_areas": null,
            "object_position": null,
            "object_fit": null,
            "grid_auto_columns": null,
            "margin": null,
            "display": null,
            "left": null
          }
        },
        "2c962f7035f243968c5e16fd01e4f567": {
          "model_module": "@jupyter-widgets/controls",
          "model_name": "VBoxModel",
          "state": {
            "_view_name": "VBoxView",
            "_dom_classes": [
              "widget-interact"
            ],
            "_model_name": "VBoxModel",
            "_view_module": "@jupyter-widgets/controls",
            "_model_module_version": "1.5.0",
            "_view_count": null,
            "_view_module_version": "1.5.0",
            "box_style": "",
            "layout": "IPY_MODEL_e5817c5f66774c75b8c88672e95c818a",
            "_model_module": "@jupyter-widgets/controls",
            "children": [
              "IPY_MODEL_df6c0a5cb5474684a3107bbef9f47c33",
              "IPY_MODEL_394f82769c5f49e98774722d0bac1f94"
            ]
          }
        },
        "e5817c5f66774c75b8c88672e95c818a": {
          "model_module": "@jupyter-widgets/base",
          "model_name": "LayoutModel",
          "state": {
            "_view_name": "LayoutView",
            "grid_template_rows": null,
            "right": null,
            "justify_content": null,
            "_view_module": "@jupyter-widgets/base",
            "overflow": null,
            "_model_module_version": "1.2.0",
            "_view_count": null,
            "flex_flow": null,
            "width": null,
            "min_width": null,
            "border": null,
            "align_items": null,
            "bottom": null,
            "_model_module": "@jupyter-widgets/base",
            "top": null,
            "grid_column": null,
            "overflow_y": null,
            "overflow_x": null,
            "grid_auto_flow": null,
            "grid_area": null,
            "grid_template_columns": null,
            "flex": null,
            "_model_name": "LayoutModel",
            "justify_items": null,
            "grid_row": null,
            "max_height": null,
            "align_content": null,
            "visibility": null,
            "align_self": null,
            "height": null,
            "min_height": null,
            "padding": null,
            "grid_auto_rows": null,
            "grid_gap": null,
            "max_width": null,
            "order": null,
            "_view_module_version": "1.2.0",
            "grid_template_areas": null,
            "object_position": null,
            "object_fit": null,
            "grid_auto_columns": null,
            "margin": null,
            "display": null,
            "left": null
          }
        },
        "df6c0a5cb5474684a3107bbef9f47c33": {
          "model_module": "@jupyter-widgets/controls",
          "model_name": "IntSliderModel",
          "state": {
            "_view_name": "IntSliderView",
            "style": "IPY_MODEL_046aea0c7e45430290e8e9371376049d",
            "_dom_classes": [],
            "description": "degree",
            "step": 1,
            "_model_name": "IntSliderModel",
            "orientation": "horizontal",
            "max": 20,
            "_view_module": "@jupyter-widgets/controls",
            "_model_module_version": "1.5.0",
            "value": 1,
            "_view_count": null,
            "disabled": false,
            "_view_module_version": "1.5.0",
            "min": 1,
            "continuous_update": true,
            "readout_format": "d",
            "description_tooltip": null,
            "readout": true,
            "_model_module": "@jupyter-widgets/controls",
            "layout": "IPY_MODEL_84d3ba92d1204e7f978b0603781353c7"
          }
        },
        "394f82769c5f49e98774722d0bac1f94": {
          "model_module": "@jupyter-widgets/output",
          "model_name": "OutputModel",
          "state": {
            "_view_name": "OutputView",
            "msg_id": "",
            "_dom_classes": [],
            "_model_name": "OutputModel",
            "outputs": [
              {
                "output_type": "display_data",
                "metadata": {
                  "tags": [],
                  "needs_background": "light"
                },
                "image/png": "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\n",
                "text/plain": "<Figure size 864x576 with 1 Axes>"
              },
              {
                "output_type": "display_data",
                "metadata": {
                  "tags": []
                },
                "text/plain": "array([ 0.82172103, -0.07355387])"
              }
            ],
            "_view_module": "@jupyter-widgets/output",
            "_model_module_version": "1.0.0",
            "_view_count": null,
            "_view_module_version": "1.0.0",
            "layout": "IPY_MODEL_abfabc330ed948709805d5239809c47a",
            "_model_module": "@jupyter-widgets/output"
          }
        },
        "046aea0c7e45430290e8e9371376049d": {
          "model_module": "@jupyter-widgets/controls",
          "model_name": "SliderStyleModel",
          "state": {
            "_view_name": "StyleView",
            "handle_color": null,
            "_model_name": "SliderStyleModel",
            "description_width": "",
            "_view_module": "@jupyter-widgets/base",
            "_model_module_version": "1.5.0",
            "_view_count": null,
            "_view_module_version": "1.2.0",
            "_model_module": "@jupyter-widgets/controls"
          }
        },
        "84d3ba92d1204e7f978b0603781353c7": {
          "model_module": "@jupyter-widgets/base",
          "model_name": "LayoutModel",
          "state": {
            "_view_name": "LayoutView",
            "grid_template_rows": null,
            "right": null,
            "justify_content": null,
            "_view_module": "@jupyter-widgets/base",
            "overflow": null,
            "_model_module_version": "1.2.0",
            "_view_count": null,
            "flex_flow": null,
            "width": null,
            "min_width": null,
            "border": null,
            "align_items": null,
            "bottom": null,
            "_model_module": "@jupyter-widgets/base",
            "top": null,
            "grid_column": null,
            "overflow_y": null,
            "overflow_x": null,
            "grid_auto_flow": null,
            "grid_area": null,
            "grid_template_columns": null,
            "flex": null,
            "_model_name": "LayoutModel",
            "justify_items": null,
            "grid_row": null,
            "max_height": null,
            "align_content": null,
            "visibility": null,
            "align_self": null,
            "height": null,
            "min_height": null,
            "padding": null,
            "grid_auto_rows": null,
            "grid_gap": null,
            "max_width": null,
            "order": null,
            "_view_module_version": "1.2.0",
            "grid_template_areas": null,
            "object_position": null,
            "object_fit": null,
            "grid_auto_columns": null,
            "margin": null,
            "display": null,
            "left": null
          }
        },
        "abfabc330ed948709805d5239809c47a": {
          "model_module": "@jupyter-widgets/base",
          "model_name": "LayoutModel",
          "state": {
            "_view_name": "LayoutView",
            "grid_template_rows": null,
            "right": null,
            "justify_content": null,
            "_view_module": "@jupyter-widgets/base",
            "overflow": null,
            "_model_module_version": "1.2.0",
            "_view_count": null,
            "flex_flow": null,
            "width": null,
            "min_width": null,
            "border": null,
            "align_items": null,
            "bottom": null,
            "_model_module": "@jupyter-widgets/base",
            "top": null,
            "grid_column": null,
            "overflow_y": null,
            "overflow_x": null,
            "grid_auto_flow": null,
            "grid_area": null,
            "grid_template_columns": null,
            "flex": null,
            "_model_name": "LayoutModel",
            "justify_items": null,
            "grid_row": null,
            "max_height": null,
            "align_content": null,
            "visibility": null,
            "align_self": null,
            "height": null,
            "min_height": null,
            "padding": null,
            "grid_auto_rows": null,
            "grid_gap": null,
            "max_width": null,
            "order": null,
            "_view_module_version": "1.2.0",
            "grid_template_areas": null,
            "object_position": null,
            "object_fit": null,
            "grid_auto_columns": null,
            "margin": null,
            "display": null,
            "left": null
          }
        }
      }
    }
  },
  "cells": [
    {
      "cell_type": "markdown",
      "metadata": {
        "id": "OqQ3g4pnlC2V"
      },
      "source": [
        "# Imports and Other Setup"
      ]
    },
    {
      "cell_type": "code",
      "metadata": {
        "id": "TkSDNDKGlBJP"
      },
      "source": [
        "import numpy as np\n",
        "import matplotlib.pyplot as plt \n",
        "\n",
        "import ipywidgets as widgets\n",
        "from ipywidgets import interact"
      ],
      "execution_count": null,
      "outputs": []
    },
    {
      "cell_type": "code",
      "metadata": {
        "id": "U6VYJXGQlSkI"
      },
      "source": [
        "times = np.array([1.25106601e+02, 2.16097348e+02, 3.43124452e-02, 9.06997718e+01,\n",
        "       4.40267672e+01, 2.77015784e+01, 5.58780634e+01, 1.03668218e+02,\n",
        "       1.19030242e+02, 1.61645020e+02, 1.25758354e+02, 2.05565850e+02,\n",
        "       6.13356749e+01, 2.63435231e+02, 8.21627796e+00, 2.01140253e+02,\n",
        "       1.25191441e+02, 1.67606949e+02, 4.21160816e+01, 5.94304467e+01,\n",
        "       2.40223371e+02, 2.90478473e+02, 9.40272534e+01, 2.07696785e+02,\n",
        "       2.62916746e+02, 2.68381999e+02, 2.55132634e+01, 1.17164350e+01,\n",
        "       5.09491259e+01, 2.63442751e+02, 2.95040501e+01, 1.26332288e+02,\n",
        "       2.87366859e+02, 1.59949585e+02, 2.07563134e+02, 9.46546893e+01,\n",
        "       2.05950278e+02, 2.50387702e+02, 5.48648320e+00, 2.25043294e+02,\n",
        "       2.96658327e+02, 2.24449696e+02, 8.41331976e+01, 2.36783799e+02,\n",
        "       3.09678020e+01, 1.34368058e+02, 2.72578651e+02, 8.80842445e+01,\n",
        "       8.63326016e+01, 3.90085716e+01])\n",
        "scores1 = np.array([66.11623488, 71.58703262, 32.46542042, 46.33321513, 47.48393655,\n",
        "       28.66169537, 54.04974443, 50.26524941, 58.47772982, 63.43418682,\n",
        "       65.42431853, 62.41784702, 44.71234249, 81.38837548, 42.27242608,\n",
        "       66.40920997, 57.14789261, 61.38277949, 43.01831166, 48.88984782,\n",
        "       73.55778093, 93.98117906, 56.81494098, 75.62098329, 87.71804421,\n",
        "       80.79526653, 39.15447608, 32.56526043, 43.08424964, 85.96180077,\n",
        "       37.04093742, 56.23504098, 84.2522717 , 60.14474594, 69.7278229 ,\n",
        "       52.35848515, 67.20234919, 82.09302788, 44.40303731, 79.99314369,\n",
        "       88.42929602, 71.73614961, 46.7605837 , 86.89370814, 41.02114653,\n",
        "       56.50437635, 85.93647054, 61.72069243, 51.49966085, 45.32458416])\n",
        "scores2 = np.array([72.34410531, 86.82904125, 12.4340124 , 52.35516716, 38.62615659,\n",
        "       21.36359656, 46.59846736, 58.02482758, 66.4820694 , 77.02399848,\n",
        "       72.06218783, 80.79355007, 42.76815433, 92.64455283, 21.77734192,\n",
        "       82.90440159, 66.98048622, 76.59129668, 35.2729374 , 44.66210667,\n",
        "       88.48222159, 98.3525776 , 59.52247707, 88.83958782, 96.46491687,\n",
        "       92.04908824, 26.82265762, 17.39601922, 38.37263165, 95.38827719,\n",
        "       27.07376475, 66.66531249, 92.79484527, 74.81167633, 85.29614486,\n",
        "       57.01197924, 83.68725382, 93.48800495, 21.91501611, 92.16947555,\n",
        "       94.41444324, 87.20004956, 50.81989639, 96.48070449, 30.01193205,\n",
        "       68.39846683, 94.89600911, 60.88330673, 54.27209542, 35.54673622])"
      ],
      "execution_count": null,
      "outputs": []
    },
    {
      "cell_type": "code",
      "metadata": {
        "id": "WadSktzll8IQ"
      },
      "source": [
        "def get_mse(model, inputs, labels):\n",
        "  outputs = model(inputs)\n",
        "  mse = np.mean(np.square(outputs - labels))\n",
        "  return mse"
      ],
      "execution_count": null,
      "outputs": []
    },
    {
      "cell_type": "code",
      "metadata": {
        "id": "fR_aN7vIl-Jc"
      },
      "source": [
        "def line_interact(times, scores):\n",
        "  def create_plot(a, b):\n",
        "    fig, ax = plt.subplots()\n",
        "\n",
        "    # Plot the scores\n",
        "    plt.plot(times, scores, 'o')\n",
        "\n",
        "    # Plot the line\n",
        "    plt.plot([0, 300], [b, b + a * 300], color = '#ff5252', lw = 3)\n",
        "\n",
        "    # Calculate the mse\n",
        "    mse = get_mse(lambda x: a * x + b, times, scores)\n",
        "\n",
        "    # Plot properties\n",
        "    plt.title('MSE: ' + str(mse))\n",
        "    plt.ylabel('Score (%)')\n",
        "    plt.xlabel('Time Spent Studying (minutes)')\n",
        "    plt.axis([0, 300, 0, 100])\n",
        "\n",
        "    fig.set_figwidth(12)\n",
        "    fig.set_figheight(8)\n",
        "\n",
        "    # Display\n",
        "    plt.show()\n",
        "\n",
        "  interact(create_plot, \n",
        "          a = widgets.FloatSlider(min = -1.0, max = 1.0, step = 0.01, description = 'a'),\n",
        "          b = widgets.FloatSlider(min = -100.0, max = 100.0, step = 0.5, description = 'b'))"
      ],
      "execution_count": null,
      "outputs": []
    },
    {
      "cell_type": "code",
      "metadata": {
        "id": "JeBABNlomlEG"
      },
      "source": [
        "def para_interact(times, scores):\n",
        "  def create_plot(a, b, c):\n",
        "    fig, ax = plt.subplots()\n",
        "\n",
        "    # Plot the scores\n",
        "    plt.plot(times, scores, 'o')\n",
        "\n",
        "    # Plot the parabola\n",
        "    xs = np.linspace(0.0, 300.0, num = 200)\n",
        "    ys = a * np.square(xs) + b * xs + c\n",
        "    plt.plot(xs, ys, color = '#ff5252', lw = 3)\n",
        "\n",
        "    # Calculate the mse\n",
        "    mse = get_mse(lambda x: a * np.square(x) + b * x + c, times, scores)\n",
        "\n",
        "    # Plot properties\n",
        "    plt.title('MSE: ' + str(mse))\n",
        "    plt.ylabel('Score (%)')\n",
        "    plt.xlabel('Time Spent Studying (minutes)')\n",
        "    plt.axis([0, 300, 0, 100])\n",
        "\n",
        "    fig.set_figwidth(12)\n",
        "    fig.set_figheight(8)\n",
        "\n",
        "    # Display\n",
        "    plt.show()\n",
        "\n",
        "  interact(create_plot, \n",
        "          a = widgets.FloatSlider(min = -0.001, max = 0.001, step = 0.0001, description = 'a', readout_format='.4f'),\n",
        "          b = widgets.FloatSlider(min = -1.0, max = 1.0, step = 0.1, description = 'b'),\n",
        "          c = widgets.FloatSlider(min = -20.0, max = 20.0, step = 0.5, description = 'c'))"
      ],
      "execution_count": null,
      "outputs": []
    },
    {
      "cell_type": "code",
      "metadata": {
        "id": "_pUhvsXdo9ZD"
      },
      "source": [
        "xs = np.array([-0.99977125, -0.81532281, -0.70648822, -0.62747958, -0.39533485,\n",
        "       -0.30887855, -0.20646505, -0.16595599,  0.07763347,  0.44064899])\n",
        "ys = np.array([-0.82529007, -0.8914435 , -0.67458431, -0.65241661, -0.24912406,\n",
        "       -0.51489262, -0.23870677, -0.20436143,  0.19101041,  0.33065986])\n",
        "xs_train = np.array([-0.99977125, -0.70648822, -0.62747958, -0.39533485, -0.30887855,\n",
        "       -0.20646505, -0.16595599,  0.44064899])\n",
        "ys_train = np.array([-0.82529007, -0.67458431, -0.65241661, -0.24912406, -0.51489262,\n",
        "       -0.23870677, -0.20436143,  0.33065986])\n",
        "xs_test = np.array([-0.81532281,  0.07763347])\n",
        "ys_test = np.array([-0.8914435 ,  0.19101041])\n",
        "\n",
        "def create_data_matrix(x, degree):\n",
        "  # Create the data matrix\n",
        "  x_mat = x[:, np.newaxis]\n",
        "  data_mat = np.ones((x.shape[0], 1))\n",
        "  for i in range(degree):\n",
        "    data_mat = np.concatenate((x_mat**(i + 1), data_mat), axis = 1)\n",
        "  \n",
        "  return data_mat\n",
        "\n",
        "def get_optimal_params(x, y):\n",
        "  # Pseudoinverse\n",
        "  params, resid, rank, s = np.linalg.lstsq(x, y, rcond=None)\n",
        "  return params, resid\n",
        "\n",
        "def plot_optimal_fit(x, y, degree = 1):\n",
        "  # Create the data matrix\n",
        "  data_mat = create_data_matrix(x, degree = degree)\n",
        "  \n",
        "  # Get the optimal parameters\n",
        "  params, resid = get_optimal_params(data_mat, y)\n",
        "\n",
        "  # Get the values of the fit\n",
        "  y_pred = data_mat @ params\n",
        "\n",
        "  # Calculate the mse\n",
        "  if resid.shape[0] > 0:\n",
        "    mse = resid[0] / y.shape[0]\n",
        "  else:\n",
        "    mse = np.mean(np.square(y_pred - y))\n",
        "\n",
        "  # Get values for function plot\n",
        "  x_vals = np.linspace(-1.2, 1.2, num=200)\n",
        "  x_data = create_data_matrix(x_vals, degree=degree)\n",
        "  y_vals = x_data @ params\n",
        "\n",
        "  # Create the plot\n",
        "  fig, ax = plt.subplots()\n",
        "\n",
        "  # Plot the data\n",
        "  plt.plot(x, y, 'go')\n",
        "\n",
        "  # Plot the fit\n",
        "  plt.plot(x_vals, y_vals, color = '#ff5252', lw = 3)\n",
        "  plt.axis([-1.2, 1.2, -1.2, 1.2])\n",
        "\n",
        "  # Plot properties\n",
        "  plt.title('MSE: ' + str(mse))\n",
        "  plt.ylabel('x')\n",
        "  plt.xlabel('y')\n",
        "\n",
        "  fig.set_figwidth(12)\n",
        "  fig.set_figheight(8)\n",
        "\n",
        "  # Display\n",
        "  plt.show()\n",
        "\n",
        "  return params\n",
        "\n",
        "def degree_interact(x, y):\n",
        "  def plot_opt_xy(degree):\n",
        "    return plot_optimal_fit(x, y, degree = degree)\n",
        "\n",
        "  interact(plot_opt_xy,\n",
        "           degree = widgets.IntSlider(value = 1, min = 1, max = 20, step = 1))\n",
        "  \n",
        "def optimal_fit_test(x, y, x_test, y_test, degree = 1):\n",
        "  # Create the data matrix\n",
        "  data_mat = create_data_matrix(x, degree = degree)\n",
        "  \n",
        "  # Get the optimal parameters\n",
        "  params, resid = get_optimal_params(data_mat, y)\n",
        "\n",
        "  # Get the values of the fit\n",
        "  y_pred = data_mat @ params\n",
        "\n",
        "  # Calculate the mse\n",
        "  if resid.shape[0] > 0:\n",
        "    mse = resid[0] / y.shape[0]\n",
        "  else:\n",
        "    mse = np.mean(np.square(y_pred - y))\n",
        "\n",
        "  test_data = create_data_matrix(x_test, degree)\n",
        "  test_pred = test_data @ params\n",
        "  mse_test = np.mean(np.square(test_pred - y_test))\n",
        "\n",
        "  # Get values for function plot\n",
        "  x_vals = np.linspace(-1.2, 1.2, num=200)\n",
        "  x_data = create_data_matrix(x_vals, degree=degree)\n",
        "  y_vals = x_data @ params\n",
        "\n",
        "  # Create the plot\n",
        "  fig, ax = plt.subplots()\n",
        "\n",
        "  # Plot the data\n",
        "  plt.plot(x, y, 'go')\n",
        "  plt.plot(x_test, y_test, 'ro')\n",
        "\n",
        "  # Plot the fit\n",
        "  plt.plot(x_vals, y_vals, color = '#ff5252', lw = 3)\n",
        "  plt.axis([-1.2, 1.2, -1.2, 1.2])\n",
        "\n",
        "  # Plot properties\n",
        "  plt.title('MSE train: ' + str(mse) + ' MSE test: ' + str(mse_test))\n",
        "  plt.ylabel('x')\n",
        "  plt.xlabel('y')\n",
        "\n",
        "  fig.set_figwidth(12)\n",
        "  fig.set_figheight(8)\n",
        "\n",
        "  # Display\n",
        "  plt.show()\n",
        "\n",
        "  return params\n",
        "\n",
        "def degree_interact_train_test(xs_train, ys_train, xs_test, ys_test):\n",
        "  def plot_opt_xy(degree):\n",
        "    return optimal_fit_test(xs_train, ys_train, xs_test, ys_test, degree = degree)\n",
        "\n",
        "  interact(plot_opt_xy,\n",
        "           degree = widgets.IntSlider(value = 1, min = 1, max = 20, step = 1))"
      ],
      "execution_count": null,
      "outputs": []
    },
    {
      "cell_type": "markdown",
      "metadata": {
        "id": "jm2CEW-_k9eH"
      },
      "source": [
        "# Exercise 1"
      ]
    },
    {
      "cell_type": "code",
      "metadata": {
        "id": "-TA6NYB0k3rP",
        "colab": {
          "base_uri": "https://localhost:8080/",
          "height": 577,
          "referenced_widgets": [
            "fbc74f15fb5f4ff9bb4ee517bc9eea2f",
            "172f651b17c8445a8f9cad73f67afb81",
            "d2c645cc1ed7422fbec0b821f93d0d34",
            "1dd311aa143148e3808d3b64035196b7",
            "a2d3006fbb4841b8b69331bb78d7dc4b",
            "53d77d2a3d3b4e27aae35ba507204e1e",
            "eeb736c922d940e794460e29f367cd97",
            "1cb7ed96da2945d9b1ded6b9b7a1e4dd",
            "3feedc9063004bab8ad5a9b2b8e5c80e",
            "b97c8ad30fca45ffa61024e2d18baeff"
          ]
        },
        "outputId": "80a6b0f3-80c8-4c5f-e2d5-53e07343b873"
      },
      "source": [
        "line_interact(times, scores1)\n",
        "\n",
        "# scpre = a [0.178] * time [200] + 36.656 = 72.256\n"
      ],
      "execution_count": null,
      "outputs": [
        {
          "output_type": "display_data",
          "data": {
            "application/vnd.jupyter.widget-view+json": {
              "model_id": "fbc74f15fb5f4ff9bb4ee517bc9eea2f",
              "version_minor": 0,
              "version_major": 2
            },
            "text/plain": [
              "interactive(children=(FloatSlider(value=0.0, description='a', max=1.0, min=-1.0, step=0.01), FloatSlider(value…"
            ]
          },
          "metadata": {
            "tags": []
          }
        }
      ]
    },
    {
      "cell_type": "markdown",
      "metadata": {
        "id": "OMNaDJLemYWf"
      },
      "source": [
        "# Exercise 2"
      ]
    },
    {
      "cell_type": "code",
      "metadata": {
        "id": "fxLSn7qGmN-D",
        "colab": {
          "base_uri": "https://localhost:8080/",
          "height": 577,
          "referenced_widgets": [
            "748e2875540343058f79165f50a7e6b4",
            "d24aea764dbe431094109b79b655a4c8",
            "871a23894ef84de99af83d4fc480bfca",
            "b38a09a906f447f4a9dcad75cd86d7b7",
            "122b6b8ac20e42bda1f1bbdead35fc3a",
            "c3d0729227c54162ba0280e763657631",
            "50f905fd0bd04296829163be4da0d823",
            "3471d222bd23477892b0c658fa06749b",
            "5305ad23c3c043e59cbacc71865dac28",
            "637ba9b2cb9f448abdbbc6dce076ce38"
          ]
        },
        "outputId": "f65df81a-6660-4a70-f8d3-ba0954db5a30"
      },
      "source": [
        "line_interact(times, scores2)"
      ],
      "execution_count": null,
      "outputs": [
        {
          "output_type": "display_data",
          "data": {
            "application/vnd.jupyter.widget-view+json": {
              "model_id": "748e2875540343058f79165f50a7e6b4",
              "version_minor": 0,
              "version_major": 2
            },
            "text/plain": [
              "interactive(children=(FloatSlider(value=0.0, description='a', max=1.0, min=-1.0, step=0.01), FloatSlider(value…"
            ]
          },
          "metadata": {
            "tags": []
          }
        }
      ]
    },
    {
      "cell_type": "markdown",
      "metadata": {
        "id": "eiFy6WwTmhZF"
      },
      "source": [
        "# Exercise 3"
      ]
    },
    {
      "cell_type": "code",
      "metadata": {
        "id": "8eEwWCJSmdTO",
        "colab": {
          "base_uri": "https://localhost:8080/",
          "height": 609,
          "referenced_widgets": [
            "54af4f49f60444408391b1b1a9084330",
            "bc0a95e6ea4a46b9b85fdb9091730560",
            "0a62b252e4b845ff98b0bca33d55b591",
            "81624cfe5eb5457b81809dfc42fa77d2",
            "b13b6af99f7749089324c3310b596752",
            "7757081bb70e4f87a368d631d58318b1",
            "da5e1a10ee1240a28003a0304b031bd0",
            "2676d85044924f3687d2990a67c20aca",
            "4b95ad21b4c04799a3a1a4547ffd66e4",
            "423e2b13f0d84b0bb53386f2b639fdf3",
            "aee5505e84ab44739a49842cc984fe02",
            "1404a71a9daa4894b896df48010b0027",
            "2d0be8559e194717a9b5b85ea2ca39a8"
          ]
        },
        "outputId": "90b21586-b16d-4c27-c522-bad6d82d74dd"
      },
      "source": [
        "para_interact(times, scores2)\n",
        "\n",
        "# y = ax^2 + bx + c\n",
        "# inpit a,b, c\n",
        "# 9.59. a = -0.0008, b = 0.5, c = 16.95"
      ],
      "execution_count": null,
      "outputs": [
        {
          "output_type": "display_data",
          "data": {
            "application/vnd.jupyter.widget-view+json": {
              "model_id": "54af4f49f60444408391b1b1a9084330",
              "version_minor": 0,
              "version_major": 2
            },
            "text/plain": [
              "interactive(children=(FloatSlider(value=0.0, description='a', max=0.001, min=-0.001, readout_format='.4f', ste…"
            ]
          },
          "metadata": {
            "tags": []
          }
        }
      ]
    },
    {
      "cell_type": "markdown",
      "metadata": {
        "id": "DfjyFpTrpoGB"
      },
      "source": [
        "# Exercise 4"
      ]
    },
    {
      "cell_type": "code",
      "metadata": {
        "id": "GONvJwRanrh4",
        "colab": {
          "base_uri": "https://localhost:8080/",
          "height": 596,
          "referenced_widgets": [
            "d2b9c9240e204472bdcb1760ab6d69c0",
            "aed457b83dad40c292d4df4fea1761f6",
            "a92fcc3bf9774101b687aee8505b0772",
            "b3275a71e28940778038ae36ec8bb34b",
            "2f844c7fbf274d7aa7828a7b9a38a944",
            "29853652dd1c4a9db5c744c922460ff3",
            "e4d6c1e5e26343a68234f674e7522d2e"
          ]
        },
        "outputId": "f169aced-c270-419b-8e00-302131693c44"
      },
      "source": [
        "degree_interact(xs, ys)"
      ],
      "execution_count": null,
      "outputs": [
        {
          "output_type": "display_data",
          "data": {
            "application/vnd.jupyter.widget-view+json": {
              "model_id": "d2b9c9240e204472bdcb1760ab6d69c0",
              "version_minor": 0,
              "version_major": 2
            },
            "text/plain": [
              "interactive(children=(IntSlider(value=1, description='degree', max=20, min=1), Output()), _dom_classes=('widge…"
            ]
          },
          "metadata": {
            "tags": []
          }
        }
      ]
    },
    {
      "cell_type": "markdown",
      "metadata": {
        "id": "y1lQENpiq4cj"
      },
      "source": [
        "# Exercise 5"
      ]
    },
    {
      "cell_type": "code",
      "metadata": {
        "id": "IWoQVP0VqZO_",
        "colab": {
          "base_uri": "https://localhost:8080/",
          "height": 562,
          "referenced_widgets": [
            "2c962f7035f243968c5e16fd01e4f567",
            "e5817c5f66774c75b8c88672e95c818a",
            "df6c0a5cb5474684a3107bbef9f47c33",
            "394f82769c5f49e98774722d0bac1f94",
            "046aea0c7e45430290e8e9371376049d",
            "84d3ba92d1204e7f978b0603781353c7",
            "abfabc330ed948709805d5239809c47a"
          ]
        },
        "outputId": "454d07e7-33e8-40a6-f5f9-82c3cf67192c"
      },
      "source": [
        "degree_interact_train_test(xs_train, ys_train, xs_test, ys_test)"
      ],
      "execution_count": null,
      "outputs": [
        {
          "output_type": "display_data",
          "data": {
            "application/vnd.jupyter.widget-view+json": {
              "model_id": "2c962f7035f243968c5e16fd01e4f567",
              "version_minor": 0,
              "version_major": 2
            },
            "text/plain": [
              "interactive(children=(IntSlider(value=1, description='degree', max=20, min=1), Output()), _dom_classes=('widge…"
            ]
          },
          "metadata": {
            "tags": []
          }
        }
      ]
    }
  ]
}