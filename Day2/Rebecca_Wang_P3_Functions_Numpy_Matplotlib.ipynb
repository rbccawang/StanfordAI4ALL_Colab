{
  "nbformat": 4,
  "nbformat_minor": 0,
  "metadata": {
    "colab": {
      "name": "Rebecca Wang - P3_Functions_Numpy_Matplotlib.ipynb",
      "provenance": [],
      "collapsed_sections": []
    },
    "kernelspec": {
      "display_name": "Python 3",
      "language": "python",
      "name": "python3"
    },
    "language_info": {
      "codemirror_mode": {
        "name": "ipython",
        "version": 3
      },
      "file_extension": ".py",
      "mimetype": "text/x-python",
      "name": "python",
      "nbconvert_exporter": "python",
      "pygments_lexer": "ipython3",
      "version": "3.8.8"
    }
  },
  "cells": [
    {
      "cell_type": "markdown",
      "metadata": {
        "id": "YYVGF7JaPxYU"
      },
      "source": [
        "# Working with Functions and Data\n",
        "\n",
        "In this lesson, we'll start to wrap up on some of the fundamentals of Python and start to think about how to work with data using Python.\n",
        "\n",
        "A large part of programming for artificial intelligence and machine learning is using and manipulating data, and the goal of this lesson is to look at a few tools in Python that help us organize and visualize that data. Keep this in mind while we go through the lesson -- there are quite a few concepts we'll go over, but remember that they serve as fundamental tools in our toolbox that we'll use for the hands-on projects.\n",
        "\n",
        "As always, you got this!\n",
        "\n",
        "![alt text](https://media.giphy.com/media/14bhmZtBNhVnIk/giphy.gif)\n",
        "\n",
        "(Batman's superpowers: being rich, having lots of tools, and having lots of data about everything.)"
      ]
    },
    {
      "cell_type": "markdown",
      "metadata": {
        "id": "foEnacjgVTRm"
      },
      "source": [
        "## Quick Review Exercise\n",
        "\n",
        "Let's take a quick moment to review using libraries, which we saw in the previous lesson.\n",
        "\n",
        "Python has a built-in library called `math` that includes some useful math functions. One of these is `math.sqrt()` which takes 1 number as a parameter and returns its square root.\n",
        "\n",
        "For example:\n",
        "\n",
        "```\n",
        "print(math.sqrt(144))\n",
        "```\n",
        "\n",
        "will print 12.\n",
        "\n",
        "Write a program that asks the user for a number input and then uses the `math.sqrt()` function and a conditional to tell them if they've entered a perfect square.\n",
        "\n",
        "One example of your output:\n",
        "\n",
        "```\n",
        "Enter a number: 23\n",
        "This is not a perfect square.\n",
        "```\n",
        "\n",
        "Another example:\n",
        "\n",
        "```\n",
        "Enter a number: 121\n",
        "This is a perfect square.\n",
        "```\n",
        "\n",
        "Hint: Recall that a \"perfect square\" is a number whose square root is an integer. (For example, the square root of 121 is 11, so it is a perfect square. The square root of 23 is 4.795... so it is not a perfect square.)"
      ]
    },
    {
      "cell_type": "code",
      "metadata": {
        "id": "3fvHjetxXn0b",
        "colab": {
          "base_uri": "https://localhost:8080/"
        },
        "outputId": "9c9db9da-7770-4e4b-b25b-1becc834451e"
      },
      "source": [
        "import math\n",
        "### YOUR CODE HERE ### \n",
        "num = float(input(\"Enter a number: \"))\n",
        "sqrtv = math.sqrt(num)\n",
        "\n",
        "# if sqrtv == int(sqrtv):\n",
        "#   print('This is a perfect square')\n",
        "# else:\n",
        "#   print('The is not a perfect square')\n",
        "\n",
        "if sqrtv.is_integer():\n",
        "  print('This is a perfect square')\n",
        "else:\n",
        "  print('This is not a perfect square')\n",
        "\n",
        "### END CODE HERE ### "
      ],
      "execution_count": null,
      "outputs": [
        {
          "output_type": "stream",
          "text": [
            "Enter a number: 45\n",
            "This is not a perfect square\n"
          ],
          "name": "stdout"
        }
      ]
    },
    {
      "cell_type": "markdown",
      "metadata": {
        "id": "ij7C-X-mZN0D"
      },
      "source": [
        "Hint 2: (Try the problem out before reading this hint.) There are a few different ways to do this! One particularly clever way is to use the `%` operator. There also happens to be an `is_integer()` function in Python that you can call by writing `num.is_integer()`."
      ]
    },
    {
      "cell_type": "markdown",
      "metadata": {
        "id": "UrbcN1lVZVU8"
      },
      "source": [
        "## Writing Functions\n",
        "\n",
        "So far, we've only been calling functions that have already been written by others. How can we write our own function?\n",
        "\n",
        "Let's take the square root example above. Let's say we don't want to use the `math` library or just want to write and use our own square root function. \n",
        "\n",
        "First, we need to think about a clever mathematical way to get a square root. If you recall from math, putting a number to the $1/2$ exponent is the same as performing a square root! For example:\n",
        "\n",
        "$$ 25^{1/2} = 5 $$\n",
        "\n",
        "Recall how we do exponentiation in Python:"
      ]
    },
    {
      "cell_type": "code",
      "metadata": {
        "id": "8zUqp3MSaKLJ"
      },
      "source": [
        "a = 25 ** (1/2)\n",
        "print(a)"
      ],
      "execution_count": null,
      "outputs": []
    },
    {
      "cell_type": "markdown",
      "metadata": {
        "id": "11mR8EGPaUE9"
      },
      "source": [
        "Now that we know how to get the square root of a number, we need to figure out how to write this as a function.\n",
        "\n",
        "Let's think about what we want as our input and output of this function.\n",
        "\n",
        "**What should the input to this function be?**\n",
        "\n",
        "**What should the output of this function be?**\n",
        "\n",
        "Take a moment to think about and answer these two questions."
      ]
    },
    {
      "cell_type": "code",
      "metadata": {
        "id": "yf3CR1-cbkDi",
        "colab": {
          "base_uri": "https://localhost:8080/"
        },
        "outputId": "eaa4838c-ef7c-494b-daf4-41a51267403a"
      },
      "source": [
        "## Define a square root function here:\n",
        "mynum = float(input('Enter a number: '))\n",
        "def squarert(x):\n",
        "  mysqrt = x ** (1/2)\n",
        "  print('The square root of ' + str(x) + ' is ' + str(mysqrt))\n",
        "  return mysqrt\n",
        "\n",
        "ans = squarert(mynum)\n",
        "print(ans)"
      ],
      "execution_count": null,
      "outputs": [
        {
          "output_type": "stream",
          "text": [
            "Enter a number: 45\n",
            "The square root of 45.0 is 6.708203932499369\n",
            "6.708203932499369\n"
          ],
          "name": "stdout"
        }
      ]
    },
    {
      "cell_type": "markdown",
      "metadata": {
        "id": "4b3EMszjcugP"
      },
      "source": [
        "\n",
        "\n",
        "---\n",
        "\n",
        "Functions are useful because we often have logical blocks in our code that we want to re-use. Imagine having to type `x ** (1/2)` every time you want to take a square root -- it might be easier to say `square_root(x)`. For reading purposes, it also helps make it more clear what your code is doing.\n",
        "\n",
        "Think about the earlier exercise about writing a program that takes in a number and tells the user if that number is a perfect square. What if we wanted to do this functionality multiple times in the same program? We could copy and paste the code every time we want to check if a number is a perfect square, but this would make our program very long and hard to update.\n",
        "\n",
        "Instead, we could do something like:"
      ]
    },
    {
      "cell_type": "code",
      "metadata": {
        "id": "xn8TEX9Cdkj-",
        "colab": {
          "base_uri": "https://localhost:8080/"
        },
        "outputId": "1a566485-e90b-4cac-8a8f-6a10a7d4ba23"
      },
      "source": [
        "def square_root(x):\n",
        "  return x ** (1/2)\n",
        "\n",
        "def is_perfect_square(x):\n",
        "  # Use your new function to check if x is perfect square\n",
        "  sqrtv = square_root(x)\n",
        "  if sqrtv.is_integer():\n",
        "    return True\n",
        "  return False\n",
        "print(\"23 is a perfect square: \", is_perfect_square(23))\n",
        "print(\"121 is a perfect square: \", is_perfect_square(121))"
      ],
      "execution_count": null,
      "outputs": [
        {
          "output_type": "stream",
          "text": [
            "23 is a perfect square:  False\n",
            "121 is a perfect square:  True\n"
          ],
          "name": "stdout"
        }
      ]
    },
    {
      "cell_type": "markdown",
      "metadata": {
        "id": "vrEQBQQcgjIl"
      },
      "source": [
        "### Function Exercises"
      ]
    },
    {
      "cell_type": "markdown",
      "metadata": {
        "id": "1HMKIwe3gliQ"
      },
      "source": [
        "1. Read the following code. What do you think it does?"
      ]
    },
    {
      "cell_type": "code",
      "metadata": {
        "id": "cQViBYqcg270",
        "colab": {
          "base_uri": "https://localhost:8080/"
        },
        "outputId": "e2b9fbab-3b81-4932-a60c-d016babd76ab"
      },
      "source": [
        "def weird_func(a, b):\n",
        "  test = a + b\n",
        "  return test * 2\n",
        "\n",
        "x = 5\n",
        "y = 10\n",
        "\n",
        "if weird_func(x, y) > 30:\n",
        "  print(\"Will this print?\")\n",
        "  \n",
        "if weird_func(10, 10) > 30:\n",
        "  print(\"How about this?\")\n",
        "\n",
        "# The first statement will not print, but the second one will."
      ],
      "execution_count": null,
      "outputs": [
        {
          "output_type": "stream",
          "text": [
            "How about this?\n"
          ],
          "name": "stdout"
        }
      ]
    },
    {
      "cell_type": "markdown",
      "metadata": {
        "id": "CqXs4GP1hRMA"
      },
      "source": [
        "2. Write a function named `wheres_Waldo` that takes a list as a parameter and returns whether the element \"Waldo\" is in the list.\n",
        "\n",
        "Remember that you can use the keyword `in` to check if an element is in a list, like so:"
      ]
    },
    {
      "cell_type": "code",
      "metadata": {
        "id": "hLzxVYlIh0cf",
        "colab": {
          "base_uri": "https://localhost:8080/"
        },
        "outputId": "3430ae07-b91b-41ea-dea1-6fc3118df49a"
      },
      "source": [
        "lis = [\"Pikachu\", \"Captain Marvel\"]\n",
        "print(\"Waldo\" in lis)"
      ],
      "execution_count": null,
      "outputs": [
        {
          "output_type": "stream",
          "text": [
            "False\n"
          ],
          "name": "stdout"
        }
      ]
    },
    {
      "cell_type": "code",
      "metadata": {
        "id": "o90j4j_ANdu2"
      },
      "source": [
        "### YOUR CODE HERE ###\n",
        "def wheres_Waldo(mylist):\n",
        "  if 'Waldo' in mylist:\n",
        "    return True\n",
        "  return False\n",
        "### END CODE HERE ### "
      ],
      "execution_count": null,
      "outputs": []
    },
    {
      "cell_type": "code",
      "metadata": {
        "id": "ygQoRMVXeUAU",
        "colab": {
          "base_uri": "https://localhost:8080/"
        },
        "outputId": "95d3a8b0-9492-4a59-cf75-8a51fb5a8a3a"
      },
      "source": [
        "wheres_Waldo(lis)"
      ],
      "execution_count": null,
      "outputs": [
        {
          "output_type": "execute_result",
          "data": {
            "text/plain": [
              "False"
            ]
          },
          "metadata": {
            "tags": []
          },
          "execution_count": 22
        }
      ]
    },
    {
      "cell_type": "markdown",
      "metadata": {
        "id": "WOfW1s_yNdu5"
      },
      "source": [
        "## Hello, Meet Numpy :)\n",
        "\n",
        "Numpy = Numerical Python \n",
        "\n",
        "This is the first library we will be looking at. We will be using this libraray ALL THE TIME. \n"
      ]
    },
    {
      "cell_type": "code",
      "metadata": {
        "id": "41Lwnb5MNdu6"
      },
      "source": [
        "# First lets import numpy \n",
        "import numpy as np"
      ],
      "execution_count": null,
      "outputs": []
    },
    {
      "cell_type": "markdown",
      "metadata": {
        "id": "4dMUJWUSkOPk"
      },
      "source": [
        "#### Add 1 every element of a list  \n",
        "Write code below to add 1 to every element of the list"
      ]
    },
    {
      "cell_type": "code",
      "metadata": {
        "id": "5HjztRIMkoIE",
        "colab": {
          "base_uri": "https://localhost:8080/"
        },
        "outputId": "3ac65e40-b296-4ceb-b82e-f538880b2493"
      },
      "source": [
        "# This is an empty list\n",
        "L1 = [1, 2, 3, 4, 5]\n",
        "\n",
        "### YOUR CODE HERE ### \n",
        "a = np.array(L1)\n",
        "print(a + 1)\n",
        "### END CODE HERE ### "
      ],
      "execution_count": null,
      "outputs": [
        {
          "output_type": "stream",
          "text": [
            "[2 3 4 5 6]\n"
          ],
          "name": "stdout"
        }
      ]
    },
    {
      "cell_type": "markdown",
      "metadata": {
        "id": "6sUOBd5ZNdu6"
      },
      "source": [
        "#### Multiply every element of a list  \n",
        "Write code below to multiply every element of the list by 3"
      ]
    },
    {
      "cell_type": "code",
      "metadata": {
        "id": "mgdV2n6vNdu6",
        "colab": {
          "base_uri": "https://localhost:8080/"
        },
        "outputId": "66cd39bc-02f1-4440-8916-9c25dbc2c5e1"
      },
      "source": [
        "# This is an empty list\n",
        "L1 = [1, 2, 3, 4, 5]\n",
        "\n",
        "### YOUR CODE HERE ### \n",
        "a = np.array(L1)\n",
        "print(a * 3)\n",
        "\n",
        "### END CODE HERE ### "
      ],
      "execution_count": null,
      "outputs": [
        {
          "output_type": "stream",
          "text": [
            "[ 3  6  9 12 15]\n"
          ],
          "name": "stdout"
        }
      ]
    },
    {
      "cell_type": "markdown",
      "metadata": {
        "id": "WbfOP0dnNdu6"
      },
      "source": [
        "#### Initializing arrays\n",
        "\n",
        "Now we will practice manipulating arrays"
      ]
    },
    {
      "cell_type": "code",
      "metadata": {
        "id": "ib9w_J5-Ndu6",
        "colab": {
          "base_uri": "https://localhost:8080/"
        },
        "outputId": "363b0533-c476-43ec-962f-2b0d3e5688bc"
      },
      "source": [
        "### YOUR CODE HERE ### \n",
        "import random\n",
        "# 1. make a 1x8 array with all 1's \n",
        "a = np.ones(shape = (1, 8))\n",
        "print(a)\n",
        "\n",
        "# 2. make a 1x8 array with random numbers between 1 and 100\n",
        "b = np.random.uniform(low=0.0, high=100.0, size = (1, 8))\n",
        "print(b)\n",
        "\n",
        "# 3. add the arrays together into a 1x8 array\n",
        "c = a + b\n",
        "print(c)\n",
        "\n",
        "# 4. stack the arrays together into a 2x8 array (Hint: use np.concatenate)\n",
        "d = np.concatenate((a,b))\n",
        "print(d)\n",
        "\n",
        "### END CODE HERE ### "
      ],
      "execution_count": null,
      "outputs": [
        {
          "output_type": "stream",
          "text": [
            "[[1. 1. 1. 1. 1. 1. 1. 1.]]\n",
            "[[72.52076751 35.06883277  1.69151986 38.88759548 97.63119154 12.28161402\n",
            "  85.85282376 76.33821987]]\n",
            "[[73.52076751 36.06883277  2.69151986 39.88759548 98.63119154 13.28161402\n",
            "  86.85282376 77.33821987]]\n",
            "[[ 1.          1.          1.          1.          1.          1.\n",
            "   1.          1.        ]\n",
            " [72.52076751 35.06883277  1.69151986 38.88759548 97.63119154 12.28161402\n",
            "  85.85282376 76.33821987]]\n"
          ],
          "name": "stdout"
        }
      ]
    },
    {
      "cell_type": "markdown",
      "metadata": {
        "id": "WJ_v2bDDLSLh"
      },
      "source": [
        "## Visualizing Data\n",
        "\n",
        "To wrap up this lesson, we'll cover one more topic: how to visualize the data that you've been given. Although data may be well organized in Python using the different collections, we often want to be able to present this data to the user in a visual way. Visualization comes in many different forms, from creating tables to colorful charts to just plotting some points on a graph."
      ]
    },
    {
      "cell_type": "code",
      "metadata": {
        "id": "jmcZUrdMHH1k",
        "colab": {
          "base_uri": "https://localhost:8080/"
        },
        "outputId": "b9739dac-0c63-412c-d591-4620a5baad20"
      },
      "source": [
        "# A list of tuples\n",
        "points_on_a_graph = [(3, 9), (1,1), (5, 25), (2, 4), (4, 16)]\n",
        "\n",
        "# We can print this list, but... is this the most useful?\n",
        "print(points_on_a_graph)"
      ],
      "execution_count": null,
      "outputs": [
        {
          "output_type": "stream",
          "text": [
            "[(3, 9), (1, 1), (5, 25), (2, 4), (4, 16)]\n"
          ],
          "name": "stdout"
        }
      ]
    },
    {
      "cell_type": "markdown",
      "metadata": {
        "id": "bdjsfaq6Hl0b"
      },
      "source": [
        "For visualization, we'll use a versatile Python library called `matplotlib`. (The reason it's called `matplotlib` is because much of the functionality of this library comes from a plotting library from a different language, calle Matlab.)\n",
        "\n",
        "For the first example, let's plot some points on a graph:"
      ]
    },
    {
      "cell_type": "code",
      "metadata": {
        "id": "s6cErtdVIj_T",
        "colab": {
          "base_uri": "https://localhost:8080/",
          "height": 265
        },
        "outputId": "406ef8b2-37b7-4a05-99db-f7ce5b5bd21e"
      },
      "source": [
        "%matplotlib inline\n",
        "import matplotlib\n",
        "\n",
        "x = [3, 1, 5, 2, 4]\n",
        "y = [9, 1, 25, 4, 16]\n",
        "\n",
        "matplotlib.pyplot.scatter(x, y)\n",
        "matplotlib.pyplot.show()"
      ],
      "execution_count": null,
      "outputs": [
        {
          "output_type": "display_data",
          "data": {
            "image/png": "[encoded data removed]",
            "text/plain": [
              "<Figure size 432x288 with 1 Axes>"
            ]
          },
          "metadata": {
            "tags": [],
            "needs_background": "light"
          }
        }
      ]
    },
    {
      "cell_type": "markdown",
      "metadata": {
        "id": "LwdIY7FxJLS_"
      },
      "source": [
        "The above code imports the `matplotlib` library, takes in two lists (which correspond to `x` and `y` values of 5 different points), and then plots those five points on a graph.\n",
        "\n",
        "For Jupyter Notebooks, in order to show a `matplotlib` graph within the Notebook itself, we need to add the line `%matplotlib inline` before doing the import.\n",
        "\n",
        "When we say `matplotlib.pyplot.scatter(x, y)`, we are saying that we want to put the values of `x` and `y` onto a specific type of graph called a scatterplot.\n",
        "\n",
        "Finally, to actually show the scatterplot, we say `matplotlib.pyplot.show()`.\n",
        "\n",
        "\n",
        "\n",
        "---\n",
        "\n",
        "\n",
        "It's a lot of typing to say `matplotlib.pyplot` every time we want to use functions from this library, so there's a shorthand that we can actually use, when importing the specific `pyplot` module:"
      ]
    },
    {
      "cell_type": "code",
      "metadata": {
        "id": "Xg5Paod-J9b5",
        "colab": {
          "base_uri": "https://localhost:8080/",
          "height": 265
        },
        "outputId": "2f2790cc-5d04-4db2-966e-ea0ddb7f004c"
      },
      "source": [
        "%matplotlib inline\n",
        "import matplotlib.pyplot as plt\n",
        "\n",
        "x = [3, 1, 5, 2, 4]\n",
        "y = [9, 1, 25, 4, 16]\n",
        "\n",
        "plt.scatter(x, y)\n",
        "plt.show()"
      ],
      "execution_count": null,
      "outputs": [
        {
          "output_type": "display_data",
          "data": {
            "image/png": "[encoded data removed]",
            "text/plain": [
              "<Figure size 432x288 with 1 Axes>"
            ]
          },
          "metadata": {
            "tags": [],
            "needs_background": "light"
          }
        }
      ]
    },
    {
      "cell_type": "markdown",
      "metadata": {
        "id": "Lfpu2F7PKGzz"
      },
      "source": [
        "All this says is that instead of importing all of `matplotlib`, which consists of many different modules, we'll only import the `matplotlib.pyplot` module, and we'll refer to it as `plt` from now on in our code.\n",
        "\n",
        "`pyplot` has a lot of different useful features that we can use to manipulate our visualization."
      ]
    },
    {
      "cell_type": "code",
      "metadata": {
        "id": "iC4vdtjkKmpi",
        "colab": {
          "base_uri": "https://localhost:8080/",
          "height": 279
        },
        "outputId": "12782cc9-d267-4d8b-cf90-41414749e589"
      },
      "source": [
        "%matplotlib inline\n",
        "import matplotlib.pyplot as plt\n",
        "\n",
        "x = [3, 1, 5, 2, 4]\n",
        "y = [9, 1, 25, 4, 16]\n",
        "\n",
        "plt.scatter(x, y)\n",
        "plt.xlabel(\"Some numbers\")\n",
        "plt.ylabel(\"Some other numbers\")\n",
        "\n",
        "# Notice that when we show the graph now, we'll have words along the x and y dimensions\n",
        "plt.show()"
      ],
      "execution_count": null,
      "outputs": [
        {
          "output_type": "display_data",
          "data": {
            "image/png": "[encoded data removed]",
            "text/plain": [
              "<Figure size 432x288 with 1 Axes>"
            ]
          },
          "metadata": {
            "tags": [],
            "needs_background": "light"
          }
        }
      ]
    },
    {
      "cell_type": "markdown",
      "metadata": {
        "id": "HwO_AMXzLCfR"
      },
      "source": [
        "Instead of using a scatter plot, we can use a normal plot to connect the actual points:"
      ]
    },
    {
      "cell_type": "code",
      "metadata": {
        "id": "DV_qg-zxLGr3",
        "colab": {
          "base_uri": "https://localhost:8080/",
          "height": 279
        },
        "outputId": "bbae895b-5d48-4d82-9a17-ff2107ede087"
      },
      "source": [
        "%matplotlib inline\n",
        "import matplotlib.pyplot as plt\n",
        "\n",
        "x = [3, 1, 5, 2, 4]\n",
        "y = [9, 1, 25, 4, 16]\n",
        "\n",
        "plt.plot(x, y)\n",
        "plt.xlabel(\"Some numbers\")\n",
        "plt.ylabel(\"Some other numbers\")\n",
        "plt.show()"
      ],
      "execution_count": null,
      "outputs": [
        {
          "output_type": "display_data",
          "data": {
            "image/png": "[encoded data removed]",
            "text/plain": [
              "<Figure size 432x288 with 1 Axes>"
            ]
          },
          "metadata": {
            "tags": [],
            "needs_background": "light"
          }
        }
      ]
    },
    {
      "cell_type": "markdown",
      "metadata": {
        "id": "KbcPADkQLO6a"
      },
      "source": [
        "Did this connect the points like you expected? The first point is $(3, 9)$ and the next point is $(1,1)$, so it will draw a line between the two. If we re-order our points, we might get something better:"
      ]
    },
    {
      "cell_type": "code",
      "metadata": {
        "id": "xsKCx6VbL6Yv",
        "colab": {
          "base_uri": "https://localhost:8080/",
          "height": 279
        },
        "outputId": "745b0300-5642-401f-ae39-ec0a3f967e9e"
      },
      "source": [
        "%matplotlib inline\n",
        "import matplotlib.pyplot as plt\n",
        "\n",
        "x = [1, 2, 3, 4, 5]\n",
        "y = [1, 4, 9, 16, 25]\n",
        "\n",
        "plt.plot(x, y)\n",
        "plt.xlabel(\"Some numbers\")\n",
        "plt.ylabel(\"Some other numbers\")\n",
        "plt.show()"
      ],
      "execution_count": null,
      "outputs": [
        {
          "output_type": "display_data",
          "data": {
            "image/png": "[encoded data removed]",
            "text/plain": [
              "<Figure size 432x288 with 1 Axes>"
            ]
          },
          "metadata": {
            "tags": [],
            "needs_background": "light"
          }
        }
      ]
    },
    {
      "cell_type": "markdown",
      "metadata": {
        "id": "JhuC7HSUMR7g"
      },
      "source": [
        "There are many, many other functions, and we won't go over all of them. This is why it's common for programmers to refer to [documentation](https://matplotlib.org/api/index.html) when they read code, because there are so many different functions and libraries that exist in the world, and we need the documentation to help us understand what's going on.\n",
        "\n",
        "As you program more, you may also start to gain some intuition about how code you haven't seen before works:"
      ]
    },
    {
      "cell_type": "code",
      "metadata": {
        "id": "_x3AU9fONCDK",
        "colab": {
          "base_uri": "https://localhost:8080/",
          "height": 283
        },
        "outputId": "c0c61349-6151-4c0e-bfd0-2c0181279e57"
      },
      "source": [
        "%matplotlib inline\n",
        "import matplotlib.pyplot as plt\n",
        "\n",
        "x = [1, 2, 3, 4, 5]\n",
        "y = [1, 4, 9, 16, 25]\n",
        "\n",
        "plt.plot(x, y, color = 'red')\n",
        "plt.xlabel(\"Some numbers\")\n",
        "plt.ylabel(\"Some other numbers\")\n",
        "\n",
        "# What might these following lines do?\n",
        "# Setting a gray-scale map and create x and y axis\n",
        "plt.gray()\n",
        "plt.axis([0, 10, 0, 100]) \n",
        "\n",
        "plt.show()"
      ],
      "execution_count": null,
      "outputs": [
        {
          "output_type": "display_data",
          "data": {
            "image/png": "[encoded data removed]",
            "text/plain": [
              "<Figure size 432x288 with 1 Axes>"
            ]
          },
          "metadata": {
            "tags": [],
            "needs_background": "light"
          }
        }
      ]
    },
    {
      "cell_type": "code",
      "metadata": {
        "id": "5UbzsEL5dCvs"
      },
      "source": [
        "## Combining matplotlib and numpy\n",
        "\n",
        "### YOUR CODE HERE ### \n",
        "# 1. initialize x array with 100 numbers between 0 and 2pi\n",
        "x \n",
        "\n",
        "# 2. compute y as sin(x)\n",
        "\n",
        "\n",
        "# 3. plot x vs y on a scatter plot (don't forget your labels)\n",
        "\n",
        "\n",
        "### END CODE HERE  ###"
      ],
      "execution_count": null,
      "outputs": []
    }
  ]
}