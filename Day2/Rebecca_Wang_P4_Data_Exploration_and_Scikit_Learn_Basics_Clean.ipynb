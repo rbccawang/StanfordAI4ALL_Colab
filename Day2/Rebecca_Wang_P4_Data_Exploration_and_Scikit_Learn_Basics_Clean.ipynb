{
  "nbformat": 4,
  "nbformat_minor": 0,
  "metadata": {
    "colab": {
      "name": "Rebecca Wang - P4_Data_Exploration_and_Scikit_Learn_Basics_Clean.ipynb",
      "provenance": [],
      "collapsed_sections": []
    },
    "kernelspec": {
      "display_name": "Python 3",
      "language": "python",
      "name": "python3"
    },
    "language_info": {
      "codemirror_mode": {
        "name": "ipython",
        "version": 3
      },
      "file_extension": ".py",
      "mimetype": "text/x-python",
      "name": "python",
      "nbconvert_exporter": "python",
      "pygments_lexer": "ipython3",
      "version": "3.8.8"
    }
  },
  "cells": [
    {
      "cell_type": "markdown",
      "metadata": {
        "id": "JV-2Kqu9WHhu"
      },
      "source": [
        "# Data Exploration and Scikit-Learn\n",
        "\n",
        "In this final Python lesson, we'll use everything we've learned so far and work with some real datasets. We'll also finally use the Scikit-Learn library (called `sklearn` in Python) to do some basic machine learning on some sample data."
      ]
    },
    {
      "cell_type": "markdown",
      "metadata": {
        "id": "LDFIigZ5VXSs"
      },
      "source": [
        "## Some important imports"
      ]
    },
    {
      "cell_type": "markdown",
      "metadata": {
        "id": "0_4G-kOwVq4K"
      },
      "source": [
        "In Jupyter Notebooks, we can import the libraries we need once, and then use the libraries on all future code blocks without needing to re-import everything. \n",
        "\n",
        "Run the following code block:"
      ]
    },
    {
      "cell_type": "code",
      "metadata": {
        "id": "3KnWCWO8VawZ"
      },
      "source": [
        "%matplotlib inline\n",
        "import sklearn\n",
        "import pandas\n",
        "import numpy as np\n",
        "import matplotlib.pyplot as plt"
      ],
      "execution_count": null,
      "outputs": []
    },
    {
      "cell_type": "markdown",
      "metadata": {
        "id": "9o918trVrjUH"
      },
      "source": [
        "## Get that dataset!\n",
        "\n",
        "Before we can start to do machine learning, we need to have data to train our systems on. If you remember in the \"Introduction to Machine Learning\" lesson, datasets aren't always easy to come by, and many are privately collected and owned. Very often, if you want to work on a new machine learning application, you may have to figure out how to collect your own data.\n",
        "\n",
        "However, there are many great services that have open and free datasets that you can use, like [Kaggle](https://www.kaggle.com/). For this lesson, we'll use a modified dataset from Kaggle that contains Spotify information on the top songs of 2017."
      ]
    },
    {
      "cell_type": "markdown",
      "metadata": {
        "id": "siyKab1mtSSG"
      },
      "source": [
        "## Grabbing datasets from GitHub"
      ]
    },
    {
      "cell_type": "markdown",
      "metadata": {
        "id": "4X6-63sysdM7"
      },
      "source": [
        "We've actually stored the dataset in a different website, called [GitHub](https://github.com/), so that we can easily grab the data for this lesson.\n",
        "\n",
        "Be sure to run each of the code blocks below. They're not written in Python -- they're written in a different language called Bash, which is typically used on the command line and can manipulate things like files on your computer.\n",
        "\n",
        "You don't have to worry about what each of these code blocks does, just that they help us pull data from GitHub so that we have access to it within this Notebook. (Almost like how we need to import libraries before we can start to use them.)"
      ]
    },
    {
      "cell_type": "code",
      "metadata": {
        "id": "BhSPs8MUUyIp",
        "colab": {
          "base_uri": "https://localhost:8080/"
        },
        "outputId": "bda1b5b3-eae1-4f20-f4f4-84d7d1f73cc4"
      },
      "source": [
        "# The following is not a Python command, but a bash command\n",
        "# It looks at the files and folders in this current directory\n",
        "! ls"
      ],
      "execution_count": null,
      "outputs": [
        {
          "output_type": "stream",
          "text": [
            "sample_data\n"
          ],
          "name": "stdout"
        }
      ]
    },
    {
      "cell_type": "code",
      "metadata": {
        "id": "-kMznGGHUzpJ",
        "colab": {
          "base_uri": "https://localhost:8080/"
        },
        "outputId": "d7a07ab5-8840-4337-ada3-54777a6c3446"
      },
      "source": [
        "# This checks if the directory called \"spotify-data-ai4all\" exists, and if so, remove it\n",
        "! if [ -d \"spotify-data-ai4all\" ]; then rm -r spotify-data-ai4all; fi\n",
        "! ls"
      ],
      "execution_count": null,
      "outputs": [
        {
          "output_type": "stream",
          "text": [
            "sample_data\n"
          ],
          "name": "stdout"
        }
      ]
    },
    {
      "cell_type": "code",
      "metadata": {
        "id": "Dj4x7BDiU1GW",
        "colab": {
          "base_uri": "https://localhost:8080/"
        },
        "outputId": "3c99373d-901c-493f-b3d6-528ee475be51"
      },
      "source": [
        "# This creates a new directory based on a repo from my GitHub\n",
        "! git clone https://github.com/mleszczy/spotify-data-ai4all"
      ],
      "execution_count": null,
      "outputs": [
        {
          "output_type": "stream",
          "text": [
            "Cloning into 'spotify-data-ai4all'...\n",
            "remote: Enumerating objects: 6, done.\u001b[K\n",
            "remote: Counting objects: 100% (6/6), done.\u001b[K\n",
            "remote: Compressing objects: 100% (3/3), done.\u001b[K\n",
            "remote: Total 6 (delta 1), reused 6 (delta 1), pack-reused 0\u001b[K\n",
            "Unpacking objects: 100% (6/6), done.\n"
          ],
          "name": "stdout"
        }
      ]
    },
    {
      "cell_type": "code",
      "metadata": {
        "id": "jmnLi3frU3rQ",
        "colab": {
          "base_uri": "https://localhost:8080/"
        },
        "outputId": "e3ecec61-c7a7-40d8-b866-e1534b44acbe"
      },
      "source": [
        "# This is for us to check that the directory was successfully downloaded\n",
        "! ls"
      ],
      "execution_count": null,
      "outputs": [
        {
          "output_type": "stream",
          "text": [
            "sample_data  spotify-data-ai4all\n"
          ],
          "name": "stdout"
        }
      ]
    },
    {
      "cell_type": "markdown",
      "metadata": {
        "id": "uZbLoBYMVPFG"
      },
      "source": [
        "# Spotify's Top Songs of 2017\n",
        "\n",
        "Let's say that you were interested in music and wanted to create a machine learning system to suggest a new song for someone to listen to. How would we create this?\n",
        "\n",
        "Well first, we would need to have some data on what music people like. Once we have that data, we might start to think about the different qualities of a song, so you can recommend new songs based on similar qualities from songs a person has listened to.\n",
        "\n",
        "The Spotify Top Songs of 2017 dataset contains exactly that information, so let's see how we would start to use it."
      ]
    },
    {
      "cell_type": "markdown",
      "metadata": {
        "id": "3iJbHGkbue1H"
      },
      "source": [
        "## Working with Pandas\n",
        "\n",
        "Before we jump into machine learning, let's practice looking at datasets and exploring them. We'll use a library called `pandas` to help us do this.\n",
        "\n",
        "We've already imported `pandas` earlier in the Notebook, so we can use it in the following code blocks. If you did not run the first code block of this lesson, the following code will raise an error."
      ]
    },
    {
      "cell_type": "code",
      "metadata": {
        "id": "YAgze1dMuqsm",
        "colab": {
          "base_uri": "https://localhost:8080/",
          "height": 347
        },
        "outputId": "a2c7c635-b71a-4d6c-d592-e74f7ed532f3"
      },
      "source": [
        "# This is the file name of the Spotify dataset\n",
        "# It's a \"CSV\" file, which stands for \"comma-separated values file\"\n",
        "# Really, it's just a long text file with a lot of information separated by commas\n",
        "filename = \"spotify-data-ai4all/spotify.csv\"\n",
        "\n",
        "# We will use a function built into pandas to read our csv data\n",
        "data = pandas.read_csv(filename)\n",
        "\n",
        "# Finally, we'll print the data to take a look at it\n",
        "data.head()"
      ],
      "execution_count": null,
      "outputs": [
        {
          "output_type": "execute_result",
          "data": {
            "text/html": [
              "<div>\n",
              "<style scoped>\n",
              "    .dataframe tbody tr th:only-of-type {\n",
              "        vertical-align: middle;\n",
              "    }\n",
              "\n",
              "    .dataframe tbody tr th {\n",
              "        vertical-align: top;\n",
              "    }\n",
              "\n",
              "    .dataframe thead th {\n",
              "        text-align: right;\n",
              "    }\n",
              "</style>\n",
              "<table border=\"1\" class=\"dataframe\">\n",
              "  <thead>\n",
              "    <tr style=\"text-align: right;\">\n",
              "      <th></th>\n",
              "      <th>Unnamed: 0</th>\n",
              "      <th>acousticness</th>\n",
              "      <th>danceability</th>\n",
              "      <th>duration_ms</th>\n",
              "      <th>energy</th>\n",
              "      <th>instrumentalness</th>\n",
              "      <th>key</th>\n",
              "      <th>liveness</th>\n",
              "      <th>loudness</th>\n",
              "      <th>mode</th>\n",
              "      <th>speechiness</th>\n",
              "      <th>tempo</th>\n",
              "      <th>time_signature</th>\n",
              "      <th>valence</th>\n",
              "      <th>target</th>\n",
              "      <th>song_title</th>\n",
              "      <th>artist</th>\n",
              "    </tr>\n",
              "  </thead>\n",
              "  <tbody>\n",
              "    <tr>\n",
              "      <th>0</th>\n",
              "      <td>1664</td>\n",
              "      <td>0.0294</td>\n",
              "      <td>0.591</td>\n",
              "      <td>228347</td>\n",
              "      <td>0.649</td>\n",
              "      <td>0.000000</td>\n",
              "      <td>3</td>\n",
              "      <td>0.1330</td>\n",
              "      <td>-6.720</td>\n",
              "      <td>1</td>\n",
              "      <td>0.0417</td>\n",
              "      <td>90.002</td>\n",
              "      <td>4.0</td>\n",
              "      <td>0.482</td>\n",
              "      <td>0</td>\n",
              "      <td>Fireflies</td>\n",
              "      <td>Owl City</td>\n",
              "    </tr>\n",
              "    <tr>\n",
              "      <th>1</th>\n",
              "      <td>1665</td>\n",
              "      <td>0.0314</td>\n",
              "      <td>0.559</td>\n",
              "      <td>205933</td>\n",
              "      <td>0.882</td>\n",
              "      <td>0.000017</td>\n",
              "      <td>3</td>\n",
              "      <td>0.6050</td>\n",
              "      <td>-4.281</td>\n",
              "      <td>1</td>\n",
              "      <td>0.1570</td>\n",
              "      <td>126.064</td>\n",
              "      <td>4.0</td>\n",
              "      <td>0.644</td>\n",
              "      <td>0</td>\n",
              "      <td>Good Time</td>\n",
              "      <td>Owl City</td>\n",
              "    </tr>\n",
              "    <tr>\n",
              "      <th>2</th>\n",
              "      <td>1666</td>\n",
              "      <td>0.0243</td>\n",
              "      <td>0.631</td>\n",
              "      <td>218093</td>\n",
              "      <td>0.838</td>\n",
              "      <td>0.000000</td>\n",
              "      <td>11</td>\n",
              "      <td>0.0512</td>\n",
              "      <td>-6.817</td>\n",
              "      <td>0</td>\n",
              "      <td>0.0818</td>\n",
              "      <td>127.938</td>\n",
              "      <td>4.0</td>\n",
              "      <td>0.392</td>\n",
              "      <td>0</td>\n",
              "      <td>When Can I See You Again?</td>\n",
              "      <td>Owl City</td>\n",
              "    </tr>\n",
              "    <tr>\n",
              "      <th>3</th>\n",
              "      <td>1667</td>\n",
              "      <td>0.0002</td>\n",
              "      <td>0.550</td>\n",
              "      <td>213026</td>\n",
              "      <td>0.747</td>\n",
              "      <td>0.000001</td>\n",
              "      <td>2</td>\n",
              "      <td>0.1130</td>\n",
              "      <td>-6.897</td>\n",
              "      <td>1</td>\n",
              "      <td>0.0334</td>\n",
              "      <td>128.014</td>\n",
              "      <td>4.0</td>\n",
              "      <td>0.185</td>\n",
              "      <td>0</td>\n",
              "      <td>Verge</td>\n",
              "      <td>Owl City</td>\n",
              "    </tr>\n",
              "    <tr>\n",
              "      <th>4</th>\n",
              "      <td>1668</td>\n",
              "      <td>0.0082</td>\n",
              "      <td>0.581</td>\n",
              "      <td>231707</td>\n",
              "      <td>0.526</td>\n",
              "      <td>0.000369</td>\n",
              "      <td>11</td>\n",
              "      <td>0.1130</td>\n",
              "      <td>-7.584</td>\n",
              "      <td>1</td>\n",
              "      <td>0.0265</td>\n",
              "      <td>166.151</td>\n",
              "      <td>4.0</td>\n",
              "      <td>0.551</td>\n",
              "      <td>0</td>\n",
              "      <td>Vanilla Twilight</td>\n",
              "      <td>Owl City</td>\n",
              "    </tr>\n",
              "  </tbody>\n",
              "</table>\n",
              "</div>"
            ],
            "text/plain": [
              "   Unnamed: 0  acousticness  ...                 song_title    artist\n",
              "0        1664        0.0294  ...                  Fireflies  Owl City\n",
              "1        1665        0.0314  ...                  Good Time  Owl City\n",
              "2        1666        0.0243  ...  When Can I See You Again?  Owl City\n",
              "3        1667        0.0002  ...                      Verge  Owl City\n",
              "4        1668        0.0082  ...           Vanilla Twilight  Owl City\n",
              "\n",
              "[5 rows x 17 columns]"
            ]
          },
          "metadata": {
            "tags": []
          },
          "execution_count": 7
        }
      ]
    },
    {
      "cell_type": "markdown",
      "metadata": {
        "id": "u56pvsyqvyaa"
      },
      "source": [
        "The print-out of our data above looks... not too informative. This is mainly because Jupyter Notebooks doesn't format it nicely for us when we directly print all of the data. Instead, we'll have to use some functions in `pandas` to explore the data ourselves.\n",
        "\n",
        "By the way, if you want to see the data in this dataset as a table, you can [click here to see it displayed in GitHub](https://github.com/mleszczy/spotify-data-ai4all/blob/master/spotify.csv). We'll also write some code so that we can visualize our data in table form.\n",
        "\n",
        "There are 36 rows in this dataset and 17 columns, where each row is a single song and (almost) each column is a **feature** of the song. In terms of dataset size, this is a very small dataset for example purposes -- some datasets may have thousands or even millions of rows.\n",
        "\n",
        "## Exploring some features\n",
        "\n",
        "Recall that our data in datasets is described by a set of properties called features.\n",
        "\n",
        "For song data, some features you might expect are tempo, time signature, and name.\n",
        "\n",
        "Let's print all of the names of the songs:"
      ]
    },
    {
      "cell_type": "code",
      "metadata": {
        "id": "0d05N6hixvUO",
        "colab": {
          "base_uri": "https://localhost:8080/"
        },
        "outputId": "4db188cf-182b-4b05-9f63-e30dca596d51"
      },
      "source": [
        "# Notice that we didn't just say \"name\"\n",
        "# Like with accessing values in dictionaries, the specific key value in this data set is \"song_title\"\n",
        "print(data[\"artist\"])"
      ],
      "execution_count": null,
      "outputs": [
        {
          "output_type": "stream",
          "text": [
            "0            Owl City\n",
            "1            Owl City\n",
            "2            Owl City\n",
            "3            Owl City\n",
            "4            Owl City\n",
            "5              *NSYNC\n",
            "6              *NSYNC\n",
            "7              *NSYNC\n",
            "8              *NSYNC\n",
            "9              *NSYNC\n",
            "10             *NSYNC\n",
            "11    Backstreet Boys\n",
            "12    Backstreet Boys\n",
            "13    Backstreet Boys\n",
            "14    Backstreet Boys\n",
            "15    Backstreet Boys\n",
            "16    Backstreet Boys\n",
            "17    Backstreet Boys\n",
            "18    Backstreet Boys\n",
            "19    Michael Jackson\n",
            "20    Michael Jackson\n",
            "21    Michael Jackson\n",
            "22    Michael Jackson\n",
            "23    Michael Jackson\n",
            "24    Michael Jackson\n",
            "25             *NSYNC\n",
            "26    Backstreet Boys\n",
            "27    Backstreet Boys\n",
            "28    Michael Jackson\n",
            "29    Michael Jackson\n",
            "30         Nickelback\n",
            "31         Nickelback\n",
            "32         Nickelback\n",
            "33         Nickelback\n",
            "34         Nickelback\n",
            "Name: artist, dtype: object\n"
          ],
          "name": "stdout"
        }
      ]
    },
    {
      "cell_type": "markdown",
      "metadata": {
        "id": "gZRM0CDEyL7k"
      },
      "source": [
        "The above code prints the song titles for all 2017 songs in our dataset. However, if we wanted to recommend a new song to someone, it probably wouldn't be enough to just recommend them based on song title. We'll want to make use of multiple features, and it may help us to visualize them to find patterns in the data.\n",
        "\n",
        "How do we know what all of the features in our dataset are? One way is to look directly at the CSV file, because these are usually the column headers that are on the first line of the file. (We could also look at the column headings in GitHub since it displays all of the data in a table nicely for us.) Since we're trying to work with our Python code as much as possible, let's see how we would do it in Python:"
      ]
    },
    {
      "cell_type": "code",
      "metadata": {
        "id": "jqNtL7KdzMC-",
        "colab": {
          "base_uri": "https://localhost:8080/"
        },
        "outputId": "4867c92e-947d-4ce0-c8b9-6978a9f420a3"
      },
      "source": [
        "filename = \"spotify-data-ai4all/spotify.csv\"\n",
        "raw_data = pandas.read_csv(filename)\n",
        "\n",
        "# Get the values of the columns (the features) and print them out\n",
        "features = raw_data.columns.values\n",
        "print(features)"
      ],
      "execution_count": null,
      "outputs": [
        {
          "output_type": "stream",
          "text": [
            "['Unnamed: 0' 'acousticness' 'danceability' 'duration_ms' 'energy'\n",
            " 'instrumentalness' 'key' 'liveness' 'loudness' 'mode' 'speechiness'\n",
            " 'tempo' 'time_signature' 'valence' 'target' 'song_title' 'artist']\n"
          ],
          "name": "stdout"
        }
      ]
    },
    {
      "cell_type": "markdown",
      "metadata": {
        "id": "C-QOvE2Y0IUz"
      },
      "source": [
        "We see from the printout different features of our songs, such as tempo, acoustiness (how many acoustic sounds, like an acoustic guitar, are in a song), title, and artist. The first column is actually used to index the songs (so we can refer to them by number), and that's why the column title shows as \"Unnamed: 0\". This particular column is not a feature of our data.\n",
        "\n",
        "For now, let's work with just a small amount of our dataset -- four features (tempo, acousticness, song title, and artist) and 20 songs."
      ]
    },
    {
      "cell_type": "code",
      "metadata": {
        "id": "u47Xjj3a0ybR",
        "colab": {
          "base_uri": "https://localhost:8080/",
          "height": 676
        },
        "outputId": "ff3a36c1-3737-4948-b62d-862733906168"
      },
      "source": [
        "filename = \"spotify-data-ai4all/spotify.csv\"\n",
        "raw_data = pandas.read_csv(filename)\n",
        "\n",
        "# In pandas, we put our data into data frames so that we can manipulate them\n",
        "# This takes two parameters: raw_data specifies that we're using the music data from above\n",
        "# columns specifies what columns of that data we want to keep\n",
        "data = pandas.DataFrame(raw_data, columns=['tempo', 'acousticness', 'song_title', 'artist'])\n",
        "\n",
        "# Remember slicing? We use that to take just the first 20 songs in our dataset\n",
        "data = data[:20]\n",
        "\n",
        "# This will display our data in a nice table\n",
        "# Typically we need to use print(), but our variable 'data' is a pandas DataFrame which has special display properties\n",
        "data"
      ],
      "execution_count": null,
      "outputs": [
        {
          "output_type": "execute_result",
          "data": {
            "text/html": [
              "<div>\n",
              "<style scoped>\n",
              "    .dataframe tbody tr th:only-of-type {\n",
              "        vertical-align: middle;\n",
              "    }\n",
              "\n",
              "    .dataframe tbody tr th {\n",
              "        vertical-align: top;\n",
              "    }\n",
              "\n",
              "    .dataframe thead th {\n",
              "        text-align: right;\n",
              "    }\n",
              "</style>\n",
              "<table border=\"1\" class=\"dataframe\">\n",
              "  <thead>\n",
              "    <tr style=\"text-align: right;\">\n",
              "      <th></th>\n",
              "      <th>tempo</th>\n",
              "      <th>acousticness</th>\n",
              "      <th>song_title</th>\n",
              "      <th>artist</th>\n",
              "    </tr>\n",
              "  </thead>\n",
              "  <tbody>\n",
              "    <tr>\n",
              "      <th>0</th>\n",
              "      <td>90.002</td>\n",
              "      <td>0.02940</td>\n",
              "      <td>Fireflies</td>\n",
              "      <td>Owl City</td>\n",
              "    </tr>\n",
              "    <tr>\n",
              "      <th>1</th>\n",
              "      <td>126.064</td>\n",
              "      <td>0.03140</td>\n",
              "      <td>Good Time</td>\n",
              "      <td>Owl City</td>\n",
              "    </tr>\n",
              "    <tr>\n",
              "      <th>2</th>\n",
              "      <td>127.938</td>\n",
              "      <td>0.02430</td>\n",
              "      <td>When Can I See You Again?</td>\n",
              "      <td>Owl City</td>\n",
              "    </tr>\n",
              "    <tr>\n",
              "      <th>3</th>\n",
              "      <td>128.014</td>\n",
              "      <td>0.00020</td>\n",
              "      <td>Verge</td>\n",
              "      <td>Owl City</td>\n",
              "    </tr>\n",
              "    <tr>\n",
              "      <th>4</th>\n",
              "      <td>166.151</td>\n",
              "      <td>0.00820</td>\n",
              "      <td>Vanilla Twilight</td>\n",
              "      <td>Owl City</td>\n",
              "    </tr>\n",
              "    <tr>\n",
              "      <th>5</th>\n",
              "      <td>172.716</td>\n",
              "      <td>0.01980</td>\n",
              "      <td>Bye Bye Bye</td>\n",
              "      <td>*NSYNC</td>\n",
              "    </tr>\n",
              "    <tr>\n",
              "      <th>6</th>\n",
              "      <td>166.004</td>\n",
              "      <td>0.30000</td>\n",
              "      <td>This I Promise You - Radio Edit</td>\n",
              "      <td>*NSYNC</td>\n",
              "    </tr>\n",
              "    <tr>\n",
              "      <th>7</th>\n",
              "      <td>165.103</td>\n",
              "      <td>0.04790</td>\n",
              "      <td>It's Gonna Be Me</td>\n",
              "      <td>*NSYNC</td>\n",
              "    </tr>\n",
              "    <tr>\n",
              "      <th>8</th>\n",
              "      <td>112.042</td>\n",
              "      <td>0.07430</td>\n",
              "      <td>I Want You Back - Radio Edit</td>\n",
              "      <td>*NSYNC</td>\n",
              "    </tr>\n",
              "    <tr>\n",
              "      <th>9</th>\n",
              "      <td>119.941</td>\n",
              "      <td>0.04120</td>\n",
              "      <td>Pop - Radio Version</td>\n",
              "      <td>*NSYNC</td>\n",
              "    </tr>\n",
              "    <tr>\n",
              "      <th>10</th>\n",
              "      <td>110.046</td>\n",
              "      <td>0.00799</td>\n",
              "      <td>Tearin' up My Heart - Radio Edit</td>\n",
              "      <td>*NSYNC</td>\n",
              "    </tr>\n",
              "    <tr>\n",
              "      <th>11</th>\n",
              "      <td>98.205</td>\n",
              "      <td>0.16000</td>\n",
              "      <td>As Long as You Love Me</td>\n",
              "      <td>Backstreet Boys</td>\n",
              "    </tr>\n",
              "    <tr>\n",
              "      <th>12</th>\n",
              "      <td>100.031</td>\n",
              "      <td>0.06600</td>\n",
              "      <td>Quit Playing Games (With My Heart)</td>\n",
              "      <td>Backstreet Boys</td>\n",
              "    </tr>\n",
              "    <tr>\n",
              "      <th>13</th>\n",
              "      <td>162.110</td>\n",
              "      <td>0.08770</td>\n",
              "      <td>I'll Never Break Your Heart</td>\n",
              "      <td>Backstreet Boys</td>\n",
              "    </tr>\n",
              "    <tr>\n",
              "      <th>14</th>\n",
              "      <td>95.981</td>\n",
              "      <td>0.05630</td>\n",
              "      <td>All I Have to Give</td>\n",
              "      <td>Backstreet Boys</td>\n",
              "    </tr>\n",
              "    <tr>\n",
              "      <th>15</th>\n",
              "      <td>104.202</td>\n",
              "      <td>0.11700</td>\n",
              "      <td>The Call</td>\n",
              "      <td>Backstreet Boys</td>\n",
              "    </tr>\n",
              "    <tr>\n",
              "      <th>16</th>\n",
              "      <td>99.035</td>\n",
              "      <td>0.24000</td>\n",
              "      <td>I Want It That Way</td>\n",
              "      <td>Backstreet Boys</td>\n",
              "    </tr>\n",
              "    <tr>\n",
              "      <th>17</th>\n",
              "      <td>167.992</td>\n",
              "      <td>0.24500</td>\n",
              "      <td>Show Me the Meaning of Being Lonely</td>\n",
              "      <td>Backstreet Boys</td>\n",
              "    </tr>\n",
              "    <tr>\n",
              "      <th>18</th>\n",
              "      <td>96.090</td>\n",
              "      <td>0.25200</td>\n",
              "      <td>Shape of My Heart</td>\n",
              "      <td>Backstreet Boys</td>\n",
              "    </tr>\n",
              "    <tr>\n",
              "      <th>19</th>\n",
              "      <td>117.046</td>\n",
              "      <td>0.02360</td>\n",
              "      <td>Billie Jean</td>\n",
              "      <td>Michael Jackson</td>\n",
              "    </tr>\n",
              "  </tbody>\n",
              "</table>\n",
              "</div>"
            ],
            "text/plain": [
              "      tempo  acousticness                           song_title           artist\n",
              "0    90.002       0.02940                            Fireflies         Owl City\n",
              "1   126.064       0.03140                            Good Time         Owl City\n",
              "2   127.938       0.02430            When Can I See You Again?         Owl City\n",
              "3   128.014       0.00020                                Verge         Owl City\n",
              "4   166.151       0.00820                     Vanilla Twilight         Owl City\n",
              "5   172.716       0.01980                          Bye Bye Bye           *NSYNC\n",
              "6   166.004       0.30000      This I Promise You - Radio Edit           *NSYNC\n",
              "7   165.103       0.04790                     It's Gonna Be Me           *NSYNC\n",
              "8   112.042       0.07430         I Want You Back - Radio Edit           *NSYNC\n",
              "9   119.941       0.04120                  Pop - Radio Version           *NSYNC\n",
              "10  110.046       0.00799     Tearin' up My Heart - Radio Edit           *NSYNC\n",
              "11   98.205       0.16000               As Long as You Love Me  Backstreet Boys\n",
              "12  100.031       0.06600   Quit Playing Games (With My Heart)  Backstreet Boys\n",
              "13  162.110       0.08770          I'll Never Break Your Heart  Backstreet Boys\n",
              "14   95.981       0.05630                   All I Have to Give  Backstreet Boys\n",
              "15  104.202       0.11700                             The Call  Backstreet Boys\n",
              "16   99.035       0.24000                   I Want It That Way  Backstreet Boys\n",
              "17  167.992       0.24500  Show Me the Meaning of Being Lonely  Backstreet Boys\n",
              "18   96.090       0.25200                    Shape of My Heart  Backstreet Boys\n",
              "19  117.046       0.02360                          Billie Jean  Michael Jackson"
            ]
          },
          "metadata": {
            "tags": []
          },
          "execution_count": 13
        }
      ]
    },
    {
      "cell_type": "markdown",
      "metadata": {
        "id": "il4aHlcC1mTu"
      },
      "source": [
        "There! Now we have something that's more manageable."
      ]
    },
    {
      "cell_type": "markdown",
      "metadata": {
        "id": "LOezFvkT1_1-"
      },
      "source": [
        "## Comparing features of songs\n",
        "\n",
        "Say we know someone likes the song \"Fireflies\" by Owl City, and we want to recommend them another song based off of similarity to \"Fireflies\".\n",
        "\n",
        "Perhaps we think that the tempo (or speed) of the song might be helpful, so we'll look for songs that are similar in tempo to \"Fireflies\" (which is tempo = 90.002 beats per minute)."
      ]
    },
    {
      "cell_type": "code",
      "metadata": {
        "id": "SDZP76DN2340",
        "colab": {
          "base_uri": "https://localhost:8080/",
          "height": 676
        },
        "outputId": "f42ac196-bdb4-4377-bf0e-9a2756ece286"
      },
      "source": [
        "# Let's keep track of the Fireflies tempo\n",
        "fireflies_tempo = 90.002\n",
        "\n",
        "# Let's create a new column in our dataset\n",
        "# The value of this column is the difference in tempo from that song and the tempo of \"Fireflies\"\n",
        "# The function abs() takes the absolute value, because we just need to know the difference in tempo,\n",
        "# but not if that tempo is faster or slower than \"Fireflies\"\n",
        "data['tempo_difference'] = abs(fireflies_tempo - data.tempo)\n",
        "data"
      ],
      "execution_count": null,
      "outputs": [
        {
          "output_type": "execute_result",
          "data": {
            "text/html": [
              "<div>\n",
              "<style scoped>\n",
              "    .dataframe tbody tr th:only-of-type {\n",
              "        vertical-align: middle;\n",
              "    }\n",
              "\n",
              "    .dataframe tbody tr th {\n",
              "        vertical-align: top;\n",
              "    }\n",
              "\n",
              "    .dataframe thead th {\n",
              "        text-align: right;\n",
              "    }\n",
              "</style>\n",
              "<table border=\"1\" class=\"dataframe\">\n",
              "  <thead>\n",
              "    <tr style=\"text-align: right;\">\n",
              "      <th></th>\n",
              "      <th>tempo</th>\n",
              "      <th>acousticness</th>\n",
              "      <th>song_title</th>\n",
              "      <th>artist</th>\n",
              "      <th>tempo_difference</th>\n",
              "    </tr>\n",
              "  </thead>\n",
              "  <tbody>\n",
              "    <tr>\n",
              "      <th>0</th>\n",
              "      <td>90.002</td>\n",
              "      <td>0.02940</td>\n",
              "      <td>Fireflies</td>\n",
              "      <td>Owl City</td>\n",
              "      <td>2.842171e-14</td>\n",
              "    </tr>\n",
              "    <tr>\n",
              "      <th>1</th>\n",
              "      <td>126.064</td>\n",
              "      <td>0.03140</td>\n",
              "      <td>Good Time</td>\n",
              "      <td>Owl City</td>\n",
              "      <td>3.606200e+01</td>\n",
              "    </tr>\n",
              "    <tr>\n",
              "      <th>2</th>\n",
              "      <td>127.938</td>\n",
              "      <td>0.02430</td>\n",
              "      <td>When Can I See You Again?</td>\n",
              "      <td>Owl City</td>\n",
              "      <td>3.793600e+01</td>\n",
              "    </tr>\n",
              "    <tr>\n",
              "      <th>3</th>\n",
              "      <td>128.014</td>\n",
              "      <td>0.00020</td>\n",
              "      <td>Verge</td>\n",
              "      <td>Owl City</td>\n",
              "      <td>3.801200e+01</td>\n",
              "    </tr>\n",
              "    <tr>\n",
              "      <th>4</th>\n",
              "      <td>166.151</td>\n",
              "      <td>0.00820</td>\n",
              "      <td>Vanilla Twilight</td>\n",
              "      <td>Owl City</td>\n",
              "      <td>7.614900e+01</td>\n",
              "    </tr>\n",
              "    <tr>\n",
              "      <th>5</th>\n",
              "      <td>172.716</td>\n",
              "      <td>0.01980</td>\n",
              "      <td>Bye Bye Bye</td>\n",
              "      <td>*NSYNC</td>\n",
              "      <td>8.271400e+01</td>\n",
              "    </tr>\n",
              "    <tr>\n",
              "      <th>6</th>\n",
              "      <td>166.004</td>\n",
              "      <td>0.30000</td>\n",
              "      <td>This I Promise You - Radio Edit</td>\n",
              "      <td>*NSYNC</td>\n",
              "      <td>7.600200e+01</td>\n",
              "    </tr>\n",
              "    <tr>\n",
              "      <th>7</th>\n",
              "      <td>165.103</td>\n",
              "      <td>0.04790</td>\n",
              "      <td>It's Gonna Be Me</td>\n",
              "      <td>*NSYNC</td>\n",
              "      <td>7.510100e+01</td>\n",
              "    </tr>\n",
              "    <tr>\n",
              "      <th>8</th>\n",
              "      <td>112.042</td>\n",
              "      <td>0.07430</td>\n",
              "      <td>I Want You Back - Radio Edit</td>\n",
              "      <td>*NSYNC</td>\n",
              "      <td>2.204000e+01</td>\n",
              "    </tr>\n",
              "    <tr>\n",
              "      <th>9</th>\n",
              "      <td>119.941</td>\n",
              "      <td>0.04120</td>\n",
              "      <td>Pop - Radio Version</td>\n",
              "      <td>*NSYNC</td>\n",
              "      <td>2.993900e+01</td>\n",
              "    </tr>\n",
              "    <tr>\n",
              "      <th>10</th>\n",
              "      <td>110.046</td>\n",
              "      <td>0.00799</td>\n",
              "      <td>Tearin' up My Heart - Radio Edit</td>\n",
              "      <td>*NSYNC</td>\n",
              "      <td>2.004400e+01</td>\n",
              "    </tr>\n",
              "    <tr>\n",
              "      <th>11</th>\n",
              "      <td>98.205</td>\n",
              "      <td>0.16000</td>\n",
              "      <td>As Long as You Love Me</td>\n",
              "      <td>Backstreet Boys</td>\n",
              "      <td>8.203000e+00</td>\n",
              "    </tr>\n",
              "    <tr>\n",
              "      <th>12</th>\n",
              "      <td>100.031</td>\n",
              "      <td>0.06600</td>\n",
              "      <td>Quit Playing Games (With My Heart)</td>\n",
              "      <td>Backstreet Boys</td>\n",
              "      <td>1.002900e+01</td>\n",
              "    </tr>\n",
              "    <tr>\n",
              "      <th>13</th>\n",
              "      <td>162.110</td>\n",
              "      <td>0.08770</td>\n",
              "      <td>I'll Never Break Your Heart</td>\n",
              "      <td>Backstreet Boys</td>\n",
              "      <td>7.210800e+01</td>\n",
              "    </tr>\n",
              "    <tr>\n",
              "      <th>14</th>\n",
              "      <td>95.981</td>\n",
              "      <td>0.05630</td>\n",
              "      <td>All I Have to Give</td>\n",
              "      <td>Backstreet Boys</td>\n",
              "      <td>5.979000e+00</td>\n",
              "    </tr>\n",
              "    <tr>\n",
              "      <th>15</th>\n",
              "      <td>104.202</td>\n",
              "      <td>0.11700</td>\n",
              "      <td>The Call</td>\n",
              "      <td>Backstreet Boys</td>\n",
              "      <td>1.420000e+01</td>\n",
              "    </tr>\n",
              "    <tr>\n",
              "      <th>16</th>\n",
              "      <td>99.035</td>\n",
              "      <td>0.24000</td>\n",
              "      <td>I Want It That Way</td>\n",
              "      <td>Backstreet Boys</td>\n",
              "      <td>9.033000e+00</td>\n",
              "    </tr>\n",
              "    <tr>\n",
              "      <th>17</th>\n",
              "      <td>167.992</td>\n",
              "      <td>0.24500</td>\n",
              "      <td>Show Me the Meaning of Being Lonely</td>\n",
              "      <td>Backstreet Boys</td>\n",
              "      <td>7.799000e+01</td>\n",
              "    </tr>\n",
              "    <tr>\n",
              "      <th>18</th>\n",
              "      <td>96.090</td>\n",
              "      <td>0.25200</td>\n",
              "      <td>Shape of My Heart</td>\n",
              "      <td>Backstreet Boys</td>\n",
              "      <td>6.088000e+00</td>\n",
              "    </tr>\n",
              "    <tr>\n",
              "      <th>19</th>\n",
              "      <td>117.046</td>\n",
              "      <td>0.02360</td>\n",
              "      <td>Billie Jean</td>\n",
              "      <td>Michael Jackson</td>\n",
              "      <td>2.704400e+01</td>\n",
              "    </tr>\n",
              "  </tbody>\n",
              "</table>\n",
              "</div>"
            ],
            "text/plain": [
              "      tempo  acousticness  ...           artist tempo_difference\n",
              "0    90.002       0.02940  ...         Owl City     2.842171e-14\n",
              "1   126.064       0.03140  ...         Owl City     3.606200e+01\n",
              "2   127.938       0.02430  ...         Owl City     3.793600e+01\n",
              "3   128.014       0.00020  ...         Owl City     3.801200e+01\n",
              "4   166.151       0.00820  ...         Owl City     7.614900e+01\n",
              "5   172.716       0.01980  ...           *NSYNC     8.271400e+01\n",
              "6   166.004       0.30000  ...           *NSYNC     7.600200e+01\n",
              "7   165.103       0.04790  ...           *NSYNC     7.510100e+01\n",
              "8   112.042       0.07430  ...           *NSYNC     2.204000e+01\n",
              "9   119.941       0.04120  ...           *NSYNC     2.993900e+01\n",
              "10  110.046       0.00799  ...           *NSYNC     2.004400e+01\n",
              "11   98.205       0.16000  ...  Backstreet Boys     8.203000e+00\n",
              "12  100.031       0.06600  ...  Backstreet Boys     1.002900e+01\n",
              "13  162.110       0.08770  ...  Backstreet Boys     7.210800e+01\n",
              "14   95.981       0.05630  ...  Backstreet Boys     5.979000e+00\n",
              "15  104.202       0.11700  ...  Backstreet Boys     1.420000e+01\n",
              "16   99.035       0.24000  ...  Backstreet Boys     9.033000e+00\n",
              "17  167.992       0.24500  ...  Backstreet Boys     7.799000e+01\n",
              "18   96.090       0.25200  ...  Backstreet Boys     6.088000e+00\n",
              "19  117.046       0.02360  ...  Michael Jackson     2.704400e+01\n",
              "\n",
              "[20 rows x 5 columns]"
            ]
          },
          "metadata": {
            "tags": []
          },
          "execution_count": 14
        }
      ]
    },
    {
      "cell_type": "markdown",
      "metadata": {
        "id": "-geY3CTI3a_5"
      },
      "source": [
        "### Visualizing the tempo difference\n",
        "\n",
        "We can look at the column `tempo_difference` in our table above to see which songs have similar tempos to \"Fireflies\". Another way to present this information is to visualize it in a graph:"
      ]
    },
    {
      "cell_type": "code",
      "metadata": {
        "id": "KwiW0WmF3ygY",
        "colab": {
          "base_uri": "https://localhost:8080/",
          "height": 497
        },
        "outputId": "ead2cf22-0fbd-4ffc-8d59-b32e44fc915a"
      },
      "source": [
        "# Remember that we've imported matplotlib.pyplot as plt at the start of the Notebook\n",
        "# Here we will use pyplot to do our visualization\n",
        "plt.figure(figsize=(8,8))\n",
        "plt.scatter(data['tempo_difference'], data['song_title'])\n",
        "plt.xlabel('Difference in Tempo')\n",
        "plt.show()"
      ],
      "execution_count": null,
      "outputs": [
        {
          "output_type": "display_data",
          "data": {
            "image/png": "[encoded data removed]",
            "text/plain": [
              "<Figure size 576x576 with 1 Axes>"
            ]
          },
          "metadata": {
            "tags": [],
            "needs_background": "light"
          }
        }
      ]
    },
    {
      "cell_type": "markdown",
      "metadata": {
        "id": "zPgl8VY54FYU"
      },
      "source": [
        "Take a moment to look at the graph and see what's going on. The y-axis of the graph is _discrete_ -- each y-value refers to a specific song. The x-axis of the graph is the tempo difference. \n",
        "\n",
        "Points that are closer to the left have smaller differences in tempo, whereas points that are closer to the right have larger differences in tempo.\n",
        "\n",
        "Looking at the graph above, which song has the largest difference in tempo from \"Fireflies\"?"
      ]
    },
    {
      "cell_type": "markdown",
      "metadata": {
        "id": "0mmikhHd5Tw3"
      },
      "source": [
        "### Finding the acousticness difference\n",
        "\n",
        "Let's do the same for acousticness, which we might think is another good measure of song similarity.\n",
        "\n",
        "The acousticness of a song is measured from 0 to 1, with 0 being no acousticness (all electronic sounds) and 1 being all acoustic (imagine an acoustic guitar on its own). The acoustiness of \"Fireflies\" is 0.02940."
      ]
    },
    {
      "cell_type": "code",
      "metadata": {
        "id": "NzC_SdXc5u-a",
        "colab": {
          "base_uri": "https://localhost:8080/",
          "height": 711
        },
        "outputId": "7bc2c6b8-f26a-4934-f1df-68c35b9061f0"
      },
      "source": [
        "# Add new column for acoustic difference\n",
        "data['acoustic_difference'] = abs(0.02940 - data.acousticness)\n",
        "data"
      ],
      "execution_count": null,
      "outputs": [
        {
          "output_type": "execute_result",
          "data": {
            "text/html": [
              "<div>\n",
              "<style scoped>\n",
              "    .dataframe tbody tr th:only-of-type {\n",
              "        vertical-align: middle;\n",
              "    }\n",
              "\n",
              "    .dataframe tbody tr th {\n",
              "        vertical-align: top;\n",
              "    }\n",
              "\n",
              "    .dataframe thead th {\n",
              "        text-align: right;\n",
              "    }\n",
              "</style>\n",
              "<table border=\"1\" class=\"dataframe\">\n",
              "  <thead>\n",
              "    <tr style=\"text-align: right;\">\n",
              "      <th></th>\n",
              "      <th>tempo</th>\n",
              "      <th>acousticness</th>\n",
              "      <th>song_title</th>\n",
              "      <th>artist</th>\n",
              "      <th>tempo_difference</th>\n",
              "      <th>acoustic_difference</th>\n",
              "    </tr>\n",
              "  </thead>\n",
              "  <tbody>\n",
              "    <tr>\n",
              "      <th>0</th>\n",
              "      <td>90.002</td>\n",
              "      <td>0.02940</td>\n",
              "      <td>Fireflies</td>\n",
              "      <td>Owl City</td>\n",
              "      <td>2.842171e-14</td>\n",
              "      <td>0.00000</td>\n",
              "    </tr>\n",
              "    <tr>\n",
              "      <th>1</th>\n",
              "      <td>126.064</td>\n",
              "      <td>0.03140</td>\n",
              "      <td>Good Time</td>\n",
              "      <td>Owl City</td>\n",
              "      <td>3.606200e+01</td>\n",
              "      <td>0.00200</td>\n",
              "    </tr>\n",
              "    <tr>\n",
              "      <th>2</th>\n",
              "      <td>127.938</td>\n",
              "      <td>0.02430</td>\n",
              "      <td>When Can I See You Again?</td>\n",
              "      <td>Owl City</td>\n",
              "      <td>3.793600e+01</td>\n",
              "      <td>0.00510</td>\n",
              "    </tr>\n",
              "    <tr>\n",
              "      <th>3</th>\n",
              "      <td>128.014</td>\n",
              "      <td>0.00020</td>\n",
              "      <td>Verge</td>\n",
              "      <td>Owl City</td>\n",
              "      <td>3.801200e+01</td>\n",
              "      <td>0.02920</td>\n",
              "    </tr>\n",
              "    <tr>\n",
              "      <th>4</th>\n",
              "      <td>166.151</td>\n",
              "      <td>0.00820</td>\n",
              "      <td>Vanilla Twilight</td>\n",
              "      <td>Owl City</td>\n",
              "      <td>7.614900e+01</td>\n",
              "      <td>0.02120</td>\n",
              "    </tr>\n",
              "    <tr>\n",
              "      <th>5</th>\n",
              "      <td>172.716</td>\n",
              "      <td>0.01980</td>\n",
              "      <td>Bye Bye Bye</td>\n",
              "      <td>*NSYNC</td>\n",
              "      <td>8.271400e+01</td>\n",
              "      <td>0.00960</td>\n",
              "    </tr>\n",
              "    <tr>\n",
              "      <th>6</th>\n",
              "      <td>166.004</td>\n",
              "      <td>0.30000</td>\n",
              "      <td>This I Promise You - Radio Edit</td>\n",
              "      <td>*NSYNC</td>\n",
              "      <td>7.600200e+01</td>\n",
              "      <td>0.27060</td>\n",
              "    </tr>\n",
              "    <tr>\n",
              "      <th>7</th>\n",
              "      <td>165.103</td>\n",
              "      <td>0.04790</td>\n",
              "      <td>It's Gonna Be Me</td>\n",
              "      <td>*NSYNC</td>\n",
              "      <td>7.510100e+01</td>\n",
              "      <td>0.01850</td>\n",
              "    </tr>\n",
              "    <tr>\n",
              "      <th>8</th>\n",
              "      <td>112.042</td>\n",
              "      <td>0.07430</td>\n",
              "      <td>I Want You Back - Radio Edit</td>\n",
              "      <td>*NSYNC</td>\n",
              "      <td>2.204000e+01</td>\n",
              "      <td>0.04490</td>\n",
              "    </tr>\n",
              "    <tr>\n",
              "      <th>9</th>\n",
              "      <td>119.941</td>\n",
              "      <td>0.04120</td>\n",
              "      <td>Pop - Radio Version</td>\n",
              "      <td>*NSYNC</td>\n",
              "      <td>2.993900e+01</td>\n",
              "      <td>0.01180</td>\n",
              "    </tr>\n",
              "    <tr>\n",
              "      <th>10</th>\n",
              "      <td>110.046</td>\n",
              "      <td>0.00799</td>\n",
              "      <td>Tearin' up My Heart - Radio Edit</td>\n",
              "      <td>*NSYNC</td>\n",
              "      <td>2.004400e+01</td>\n",
              "      <td>0.02141</td>\n",
              "    </tr>\n",
              "    <tr>\n",
              "      <th>11</th>\n",
              "      <td>98.205</td>\n",
              "      <td>0.16000</td>\n",
              "      <td>As Long as You Love Me</td>\n",
              "      <td>Backstreet Boys</td>\n",
              "      <td>8.203000e+00</td>\n",
              "      <td>0.13060</td>\n",
              "    </tr>\n",
              "    <tr>\n",
              "      <th>12</th>\n",
              "      <td>100.031</td>\n",
              "      <td>0.06600</td>\n",
              "      <td>Quit Playing Games (With My Heart)</td>\n",
              "      <td>Backstreet Boys</td>\n",
              "      <td>1.002900e+01</td>\n",
              "      <td>0.03660</td>\n",
              "    </tr>\n",
              "    <tr>\n",
              "      <th>13</th>\n",
              "      <td>162.110</td>\n",
              "      <td>0.08770</td>\n",
              "      <td>I'll Never Break Your Heart</td>\n",
              "      <td>Backstreet Boys</td>\n",
              "      <td>7.210800e+01</td>\n",
              "      <td>0.05830</td>\n",
              "    </tr>\n",
              "    <tr>\n",
              "      <th>14</th>\n",
              "      <td>95.981</td>\n",
              "      <td>0.05630</td>\n",
              "      <td>All I Have to Give</td>\n",
              "      <td>Backstreet Boys</td>\n",
              "      <td>5.979000e+00</td>\n",
              "      <td>0.02690</td>\n",
              "    </tr>\n",
              "    <tr>\n",
              "      <th>15</th>\n",
              "      <td>104.202</td>\n",
              "      <td>0.11700</td>\n",
              "      <td>The Call</td>\n",
              "      <td>Backstreet Boys</td>\n",
              "      <td>1.420000e+01</td>\n",
              "      <td>0.08760</td>\n",
              "    </tr>\n",
              "    <tr>\n",
              "      <th>16</th>\n",
              "      <td>99.035</td>\n",
              "      <td>0.24000</td>\n",
              "      <td>I Want It That Way</td>\n",
              "      <td>Backstreet Boys</td>\n",
              "      <td>9.033000e+00</td>\n",
              "      <td>0.21060</td>\n",
              "    </tr>\n",
              "    <tr>\n",
              "      <th>17</th>\n",
              "      <td>167.992</td>\n",
              "      <td>0.24500</td>\n",
              "      <td>Show Me the Meaning of Being Lonely</td>\n",
              "      <td>Backstreet Boys</td>\n",
              "      <td>7.799000e+01</td>\n",
              "      <td>0.21560</td>\n",
              "    </tr>\n",
              "    <tr>\n",
              "      <th>18</th>\n",
              "      <td>96.090</td>\n",
              "      <td>0.25200</td>\n",
              "      <td>Shape of My Heart</td>\n",
              "      <td>Backstreet Boys</td>\n",
              "      <td>6.088000e+00</td>\n",
              "      <td>0.22260</td>\n",
              "    </tr>\n",
              "    <tr>\n",
              "      <th>19</th>\n",
              "      <td>117.046</td>\n",
              "      <td>0.02360</td>\n",
              "      <td>Billie Jean</td>\n",
              "      <td>Michael Jackson</td>\n",
              "      <td>2.704400e+01</td>\n",
              "      <td>0.00580</td>\n",
              "    </tr>\n",
              "  </tbody>\n",
              "</table>\n",
              "</div>"
            ],
            "text/plain": [
              "      tempo  acousticness  ... tempo_difference acoustic_difference\n",
              "0    90.002       0.02940  ...     2.842171e-14             0.00000\n",
              "1   126.064       0.03140  ...     3.606200e+01             0.00200\n",
              "2   127.938       0.02430  ...     3.793600e+01             0.00510\n",
              "3   128.014       0.00020  ...     3.801200e+01             0.02920\n",
              "4   166.151       0.00820  ...     7.614900e+01             0.02120\n",
              "5   172.716       0.01980  ...     8.271400e+01             0.00960\n",
              "6   166.004       0.30000  ...     7.600200e+01             0.27060\n",
              "7   165.103       0.04790  ...     7.510100e+01             0.01850\n",
              "8   112.042       0.07430  ...     2.204000e+01             0.04490\n",
              "9   119.941       0.04120  ...     2.993900e+01             0.01180\n",
              "10  110.046       0.00799  ...     2.004400e+01             0.02141\n",
              "11   98.205       0.16000  ...     8.203000e+00             0.13060\n",
              "12  100.031       0.06600  ...     1.002900e+01             0.03660\n",
              "13  162.110       0.08770  ...     7.210800e+01             0.05830\n",
              "14   95.981       0.05630  ...     5.979000e+00             0.02690\n",
              "15  104.202       0.11700  ...     1.420000e+01             0.08760\n",
              "16   99.035       0.24000  ...     9.033000e+00             0.21060\n",
              "17  167.992       0.24500  ...     7.799000e+01             0.21560\n",
              "18   96.090       0.25200  ...     6.088000e+00             0.22260\n",
              "19  117.046       0.02360  ...     2.704400e+01             0.00580\n",
              "\n",
              "[20 rows x 6 columns]"
            ]
          },
          "metadata": {
            "tags": []
          },
          "execution_count": 16
        }
      ]
    },
    {
      "cell_type": "code",
      "metadata": {
        "id": "yQgqXKFi53fX",
        "colab": {
          "base_uri": "https://localhost:8080/",
          "height": 497
        },
        "outputId": "34a573eb-d3ef-4a90-9abc-413795cf7d52"
      },
      "source": [
        "# Visualize it\n",
        "plt.figure(figsize=(8,8))\n",
        "plt.scatter(data['acoustic_difference'], data['song_title'])\n",
        "plt.xlabel('Difference in Acousticness')\n",
        "plt.show()"
      ],
      "execution_count": null,
      "outputs": [
        {
          "output_type": "display_data",
          "data": {
            "image/png": "[encoded data removed]",
            "text/plain": [
              "<Figure size 576x576 with 1 Axes>"
            ]
          },
          "metadata": {
            "tags": [],
            "needs_background": "light"
          }
        }
      ]
    },
    {
      "cell_type": "code",
      "metadata": {
        "colab": {
          "base_uri": "https://localhost:8080/",
          "height": 817
        },
        "id": "z8G61GlXZzjl",
        "outputId": "e4092215-b905-4dbf-9982-fca52f89e0a5"
      },
      "source": [
        "plt.figure(figsize=(10,10))\n",
        "plt.hist(data['tempo'], bins=50)"
      ],
      "execution_count": null,
      "outputs": [
        {
          "output_type": "execute_result",
          "data": {
            "text/plain": [
              "(array([1., 0., 0., 2., 1., 1., 1., 0., 1., 0., 0., 0., 1., 1., 0., 0., 1.,\n",
              "        0., 1., 0., 0., 1., 2., 0., 0., 0., 0., 0., 0., 0., 0., 0., 0., 0.,\n",
              "        0., 0., 0., 0., 0., 0., 0., 0., 0., 1., 0., 2., 1., 1., 0., 1.]),\n",
              " array([ 90.002  ,  91.65628,  93.31056,  94.96484,  96.61912,  98.2734 ,\n",
              "         99.92768, 101.58196, 103.23624, 104.89052, 106.5448 , 108.19908,\n",
              "        109.85336, 111.50764, 113.16192, 114.8162 , 116.47048, 118.12476,\n",
              "        119.77904, 121.43332, 123.0876 , 124.74188, 126.39616, 128.05044,\n",
              "        129.70472, 131.359  , 133.01328, 134.66756, 136.32184, 137.97612,\n",
              "        139.6304 , 141.28468, 142.93896, 144.59324, 146.24752, 147.9018 ,\n",
              "        149.55608, 151.21036, 152.86464, 154.51892, 156.1732 , 157.82748,\n",
              "        159.48176, 161.13604, 162.79032, 164.4446 , 166.09888, 167.75316,\n",
              "        169.40744, 171.06172, 172.716  ]),\n",
              " <a list of 50 Patch objects>)"
            ]
          },
          "metadata": {
            "tags": []
          },
          "execution_count": 24
        },
        {
          "output_type": "display_data",
          "data": {
            "image/png": "[encoded data removed]",
            "text/plain": [
              "<Figure size 720x720 with 1 Axes>"
            ]
          },
          "metadata": {
            "tags": [],
            "needs_background": "light"
          }
        }
      ]
    },
    {
      "cell_type": "markdown",
      "metadata": {
        "id": "iQ8cHgol58W5"
      },
      "source": [
        "What song is most different in acousticness to \"Fireflies\"?"
      ]
    },
    {
      "cell_type": "markdown",
      "metadata": {
        "id": "JcLxATUa6EMZ"
      },
      "source": [
        "## Recommendation based on similarity\n",
        "\n",
        "Now we want to recommend a song based on its similarity to \"Fireflies\", in terms of both tempo and acousticness. Looking at the two graphs above, which song might you say is closest to \"Fireflies\" for both features?\n",
        "\n",
        "Take a moment to look at both graphs and try to decide!"
      ]
    },
    {
      "cell_type": "markdown",
      "metadata": {
        "id": "RX82zjdt6qg0"
      },
      "source": [
        "\n",
        "\n",
        "---\n",
        "\n",
        "One possible recommendation is the song \"All I Have to Give\", which is similar in both tempo and acousticness. Let's listen to a bit of the two songs to see if we think that's accurate:\n",
        "\n",
        "> Fireflies: https://www.youtube.com/watch?v=psuRGfAaju4&ab_channel=OwlCityVEVO\n",
        "\n",
        "> All I Have to Give: https://www.youtube.com/watch?v=pj6FCKm8dhM&ab_channel=BackstreetBoysVEVO\n",
        "\n",
        "Though they sound very different from one another, you can indeed say that the features like tempo are similar. However, upon listening to the songs themselves, you might come to the conclusion that they don't _really_ sound similar. Perhaps other features of songs, like genre, may be better features to recommend off of. It's an open question! \n",
        "\n",
        "Part of the work when developing a recommendation system like this is to see which features give better recommendations, and to select what the best features might be. We might know that \"Fireflies\" and \"All I Have to Give\" are similar songs in terms of tempo and acoustiness, but this might not mean that they're similar with regards to other features."
      ]
    },
    {
      "cell_type": "markdown",
      "metadata": {
        "id": "6YVVTKv29ONf"
      },
      "source": [
        "### Quantifying similarity with multiple features\n",
        "\n",
        "Before we move on to using Scikit-Learn, let's try to quantify the similarity between songs using both tempo and acousticness together. Previously, we had calculated the tempo difference and the acousticness difference separately, and can compare songs based on one feature or the other. \n",
        "\n",
        "When we tried to find the most similar song using both features, we mainly approached it by visually inspecting the two graphs.\n",
        "\n",
        "But how can we calculate similarity with respect to both features, in a quantifiable way?"
      ]
    },
    {
      "cell_type": "markdown",
      "metadata": {
        "id": "NW0fn38Q-OWQ"
      },
      "source": [
        "First, let's see if we can visualize our 20 songs on the same graph, with both tempo and acoustiness features represented:"
      ]
    },
    {
      "cell_type": "code",
      "metadata": {
        "id": "EJQRYCUP-WDt",
        "colab": {
          "base_uri": "https://localhost:8080/",
          "height": 891
        },
        "outputId": "d7caafc9-3bd6-4dd6-d7bc-b47184c861ea"
      },
      "source": [
        "# The x-axis is tempo\n",
        "# The y-axis is acousticness\n",
        "plt.scatter(data['tempo_difference'], data['acoustic_difference'])\n",
        "plt.xlabel('Tempo Difference')\n",
        "plt.ylabel('Acoustic Difference')\n",
        "\n",
        "# Set the figure size of the plot so it's not too small to read\n",
        "plt.rcParams[\"figure.figsize\"] = 20, 20\n",
        "\n",
        "# This loop goes through each point on the graph and labels it with the song title\n",
        "for index, row in data.iterrows():\n",
        "    plt.annotate(row['song_title'], xy=(row['tempo_difference'], row['acoustic_difference']))"
      ],
      "execution_count": null,
      "outputs": [
        {
          "output_type": "display_data",
          "data": {
            "image/png": "[encoded data removed]",
            "text/plain": [
              "<Figure size 2880x2880 with 1 Axes>"
            ]
          },
          "metadata": {
            "tags": [],
            "needs_background": "light"
          }
        }
      ]
    },
    {
      "cell_type": "markdown",
      "metadata": {
        "id": "zP7Tr32l_b6r"
      },
      "source": [
        "From this visualization, where we look at both features at once, it's a lot clearer that \"All I Have to Give\" is very similar to \"Fireflies\" in terms of both acousticness and tempo difference, whereas \"This I Promise You\" is very different."
      ]
    },
    {
      "cell_type": "markdown",
      "metadata": {
        "id": "kM56goXVBMRv"
      },
      "source": [
        "\n",
        "\n",
        "---\n",
        "\n",
        "On the visualization above, we might realize that we can quantify 'similarity' as the distance between two points. The shorter the distance from \"Fireflies\", the more similar the song represented by that point is. We can make use of this intuition to numerically compute similarity across both features.\n",
        "\n",
        "How do we compute distance again? We use the distance formula!\n",
        "\n",
        "$$ distance = \\sqrt{(y_2 - y_1)^{2} + (x_2 - x_1)^{2}} $$\n",
        "\n",
        "In words, we take the squared difference of both features, add them, and then take the square root.\n",
        "\n",
        "Let's say $ (x_2, y_2) $ is our point representing \"Fireflies\", which is at $(0,0)$. To find the distance to the point representing \"All I Have to Give\", we substitute for $x_1$ and $y_1$ the values of \"All I Have to Give\", which are 5.979 and 0.01000.\n",
        "\n",
        "Written out:\n",
        "\n",
        "$$ distance = \\sqrt{(0.027 - 0)^{2} + (5.979 - 0)^{2}} $$\n",
        "$$ distance = 5.979 $$ \n",
        "\n",
        "We can write this out in code and create a new column based on \"distance\" from Fireflies\":"
      ]
    },
    {
      "cell_type": "code",
      "metadata": {
        "id": "8JHNiIfvDFly",
        "colab": {
          "base_uri": "https://localhost:8080/",
          "height": 901
        },
        "outputId": "88b1b30e-255c-43fe-97b7-401b77b28b89"
      },
      "source": [
        "fireflies_tempo = 90.002\n",
        "fireflies_acousticness = 0.02940\n",
        "data[\"distance\"] = np.sqrt((data.acousticness - fireflies_acousticness) ** 2 + (data.tempo - fireflies_tempo) ** 2)\n",
        "\n",
        "# Let's sort the dataset in terms of distance\n",
        "sorted_dataset_distance = data.sort_values('distance')\n",
        "\n",
        "sorted_dataset_distance"
      ],
      "execution_count": null,
      "outputs": [
        {
          "output_type": "execute_result",
          "data": {
            "text/html": [
              "<div>\n",
              "<style scoped>\n",
              "    .dataframe tbody tr th:only-of-type {\n",
              "        vertical-align: middle;\n",
              "    }\n",
              "\n",
              "    .dataframe tbody tr th {\n",
              "        vertical-align: top;\n",
              "    }\n",
              "\n",
              "    .dataframe thead th {\n",
              "        text-align: right;\n",
              "    }\n",
              "</style>\n",
              "<table border=\"1\" class=\"dataframe\">\n",
              "  <thead>\n",
              "    <tr style=\"text-align: right;\">\n",
              "      <th></th>\n",
              "      <th>tempo</th>\n",
              "      <th>acousticness</th>\n",
              "      <th>song_title</th>\n",
              "      <th>artist</th>\n",
              "      <th>tempo_difference</th>\n",
              "      <th>acoustic_difference</th>\n",
              "      <th>distance</th>\n",
              "    </tr>\n",
              "  </thead>\n",
              "  <tbody>\n",
              "    <tr>\n",
              "      <th>0</th>\n",
              "      <td>90.002</td>\n",
              "      <td>0.02940</td>\n",
              "      <td>Fireflies</td>\n",
              "      <td>Owl City</td>\n",
              "      <td>2.842171e-14</td>\n",
              "      <td>0.00000</td>\n",
              "      <td>2.842171e-14</td>\n",
              "    </tr>\n",
              "    <tr>\n",
              "      <th>14</th>\n",
              "      <td>95.981</td>\n",
              "      <td>0.05630</td>\n",
              "      <td>All I Have to Give</td>\n",
              "      <td>Backstreet Boys</td>\n",
              "      <td>5.979000e+00</td>\n",
              "      <td>0.02690</td>\n",
              "      <td>5.979061e+00</td>\n",
              "    </tr>\n",
              "    <tr>\n",
              "      <th>18</th>\n",
              "      <td>96.090</td>\n",
              "      <td>0.25200</td>\n",
              "      <td>Shape of My Heart</td>\n",
              "      <td>Backstreet Boys</td>\n",
              "      <td>6.088000e+00</td>\n",
              "      <td>0.22260</td>\n",
              "      <td>6.092068e+00</td>\n",
              "    </tr>\n",
              "    <tr>\n",
              "      <th>11</th>\n",
              "      <td>98.205</td>\n",
              "      <td>0.16000</td>\n",
              "      <td>As Long as You Love Me</td>\n",
              "      <td>Backstreet Boys</td>\n",
              "      <td>8.203000e+00</td>\n",
              "      <td>0.13060</td>\n",
              "      <td>8.204040e+00</td>\n",
              "    </tr>\n",
              "    <tr>\n",
              "      <th>16</th>\n",
              "      <td>99.035</td>\n",
              "      <td>0.24000</td>\n",
              "      <td>I Want It That Way</td>\n",
              "      <td>Backstreet Boys</td>\n",
              "      <td>9.033000e+00</td>\n",
              "      <td>0.21060</td>\n",
              "      <td>9.035455e+00</td>\n",
              "    </tr>\n",
              "    <tr>\n",
              "      <th>12</th>\n",
              "      <td>100.031</td>\n",
              "      <td>0.06600</td>\n",
              "      <td>Quit Playing Games (With My Heart)</td>\n",
              "      <td>Backstreet Boys</td>\n",
              "      <td>1.002900e+01</td>\n",
              "      <td>0.03660</td>\n",
              "      <td>1.002907e+01</td>\n",
              "    </tr>\n",
              "    <tr>\n",
              "      <th>15</th>\n",
              "      <td>104.202</td>\n",
              "      <td>0.11700</td>\n",
              "      <td>The Call</td>\n",
              "      <td>Backstreet Boys</td>\n",
              "      <td>1.420000e+01</td>\n",
              "      <td>0.08760</td>\n",
              "      <td>1.420027e+01</td>\n",
              "    </tr>\n",
              "    <tr>\n",
              "      <th>10</th>\n",
              "      <td>110.046</td>\n",
              "      <td>0.00799</td>\n",
              "      <td>Tearin' up My Heart - Radio Edit</td>\n",
              "      <td>*NSYNC</td>\n",
              "      <td>2.004400e+01</td>\n",
              "      <td>0.02141</td>\n",
              "      <td>2.004401e+01</td>\n",
              "    </tr>\n",
              "    <tr>\n",
              "      <th>8</th>\n",
              "      <td>112.042</td>\n",
              "      <td>0.07430</td>\n",
              "      <td>I Want You Back - Radio Edit</td>\n",
              "      <td>*NSYNC</td>\n",
              "      <td>2.204000e+01</td>\n",
              "      <td>0.04490</td>\n",
              "      <td>2.204005e+01</td>\n",
              "    </tr>\n",
              "    <tr>\n",
              "      <th>19</th>\n",
              "      <td>117.046</td>\n",
              "      <td>0.02360</td>\n",
              "      <td>Billie Jean</td>\n",
              "      <td>Michael Jackson</td>\n",
              "      <td>2.704400e+01</td>\n",
              "      <td>0.00580</td>\n",
              "      <td>2.704400e+01</td>\n",
              "    </tr>\n",
              "    <tr>\n",
              "      <th>9</th>\n",
              "      <td>119.941</td>\n",
              "      <td>0.04120</td>\n",
              "      <td>Pop - Radio Version</td>\n",
              "      <td>*NSYNC</td>\n",
              "      <td>2.993900e+01</td>\n",
              "      <td>0.01180</td>\n",
              "      <td>2.993900e+01</td>\n",
              "    </tr>\n",
              "    <tr>\n",
              "      <th>1</th>\n",
              "      <td>126.064</td>\n",
              "      <td>0.03140</td>\n",
              "      <td>Good Time</td>\n",
              "      <td>Owl City</td>\n",
              "      <td>3.606200e+01</td>\n",
              "      <td>0.00200</td>\n",
              "      <td>3.606200e+01</td>\n",
              "    </tr>\n",
              "    <tr>\n",
              "      <th>2</th>\n",
              "      <td>127.938</td>\n",
              "      <td>0.02430</td>\n",
              "      <td>When Can I See You Again?</td>\n",
              "      <td>Owl City</td>\n",
              "      <td>3.793600e+01</td>\n",
              "      <td>0.00510</td>\n",
              "      <td>3.793600e+01</td>\n",
              "    </tr>\n",
              "    <tr>\n",
              "      <th>3</th>\n",
              "      <td>128.014</td>\n",
              "      <td>0.00020</td>\n",
              "      <td>Verge</td>\n",
              "      <td>Owl City</td>\n",
              "      <td>3.801200e+01</td>\n",
              "      <td>0.02920</td>\n",
              "      <td>3.801201e+01</td>\n",
              "    </tr>\n",
              "    <tr>\n",
              "      <th>13</th>\n",
              "      <td>162.110</td>\n",
              "      <td>0.08770</td>\n",
              "      <td>I'll Never Break Your Heart</td>\n",
              "      <td>Backstreet Boys</td>\n",
              "      <td>7.210800e+01</td>\n",
              "      <td>0.05830</td>\n",
              "      <td>7.210802e+01</td>\n",
              "    </tr>\n",
              "    <tr>\n",
              "      <th>7</th>\n",
              "      <td>165.103</td>\n",
              "      <td>0.04790</td>\n",
              "      <td>It's Gonna Be Me</td>\n",
              "      <td>*NSYNC</td>\n",
              "      <td>7.510100e+01</td>\n",
              "      <td>0.01850</td>\n",
              "      <td>7.510100e+01</td>\n",
              "    </tr>\n",
              "    <tr>\n",
              "      <th>6</th>\n",
              "      <td>166.004</td>\n",
              "      <td>0.30000</td>\n",
              "      <td>This I Promise You - Radio Edit</td>\n",
              "      <td>*NSYNC</td>\n",
              "      <td>7.600200e+01</td>\n",
              "      <td>0.27060</td>\n",
              "      <td>7.600248e+01</td>\n",
              "    </tr>\n",
              "    <tr>\n",
              "      <th>4</th>\n",
              "      <td>166.151</td>\n",
              "      <td>0.00820</td>\n",
              "      <td>Vanilla Twilight</td>\n",
              "      <td>Owl City</td>\n",
              "      <td>7.614900e+01</td>\n",
              "      <td>0.02120</td>\n",
              "      <td>7.614900e+01</td>\n",
              "    </tr>\n",
              "    <tr>\n",
              "      <th>17</th>\n",
              "      <td>167.992</td>\n",
              "      <td>0.24500</td>\n",
              "      <td>Show Me the Meaning of Being Lonely</td>\n",
              "      <td>Backstreet Boys</td>\n",
              "      <td>7.799000e+01</td>\n",
              "      <td>0.21560</td>\n",
              "      <td>7.799030e+01</td>\n",
              "    </tr>\n",
              "    <tr>\n",
              "      <th>5</th>\n",
              "      <td>172.716</td>\n",
              "      <td>0.01980</td>\n",
              "      <td>Bye Bye Bye</td>\n",
              "      <td>*NSYNC</td>\n",
              "      <td>8.271400e+01</td>\n",
              "      <td>0.00960</td>\n",
              "      <td>8.271400e+01</td>\n",
              "    </tr>\n",
              "  </tbody>\n",
              "</table>\n",
              "</div>"
            ],
            "text/plain": [
              "      tempo  acousticness  ... acoustic_difference      distance\n",
              "0    90.002       0.02940  ...             0.00000  2.842171e-14\n",
              "14   95.981       0.05630  ...             0.02690  5.979061e+00\n",
              "18   96.090       0.25200  ...             0.22260  6.092068e+00\n",
              "11   98.205       0.16000  ...             0.13060  8.204040e+00\n",
              "16   99.035       0.24000  ...             0.21060  9.035455e+00\n",
              "12  100.031       0.06600  ...             0.03660  1.002907e+01\n",
              "15  104.202       0.11700  ...             0.08760  1.420027e+01\n",
              "10  110.046       0.00799  ...             0.02141  2.004401e+01\n",
              "8   112.042       0.07430  ...             0.04490  2.204005e+01\n",
              "19  117.046       0.02360  ...             0.00580  2.704400e+01\n",
              "9   119.941       0.04120  ...             0.01180  2.993900e+01\n",
              "1   126.064       0.03140  ...             0.00200  3.606200e+01\n",
              "2   127.938       0.02430  ...             0.00510  3.793600e+01\n",
              "3   128.014       0.00020  ...             0.02920  3.801201e+01\n",
              "13  162.110       0.08770  ...             0.05830  7.210802e+01\n",
              "7   165.103       0.04790  ...             0.01850  7.510100e+01\n",
              "6   166.004       0.30000  ...             0.27060  7.600248e+01\n",
              "4   166.151       0.00820  ...             0.02120  7.614900e+01\n",
              "17  167.992       0.24500  ...             0.21560  7.799030e+01\n",
              "5   172.716       0.01980  ...             0.00960  8.271400e+01\n",
              "\n",
              "[20 rows x 7 columns]"
            ]
          },
          "metadata": {
            "tags": []
          },
          "execution_count": 20
        }
      ]
    },
    {
      "cell_type": "markdown",
      "metadata": {
        "id": "WbXTMsfHElZk"
      },
      "source": [
        "Now we have a column that tells us numerically which song is closest to \"Fireflies\" in terms of both tempo and acousticness!\n",
        "\n",
        "### Normalizing our data\n",
        "\n",
        "But wait a minute... if we take a close look at the `tempo_difference` and `distance` columns, we will notice that the two are very similar. This makes sense, because while tempo values range anywhere from 0 to 161 in our dataset, acousticness only goes from 0 to 1. The `tempo_difference` completely overshadows the `acoustic_difference` when we calculate `distance`.\n",
        "\n",
        "In data science and machine learning, it's very common for different features to work on completely different scales. This means that we cannot compare two features directly against one another, without first **normalizing** the data to the same scale across all features. Typically, normalizing our data means scaling the values of our features to a range between 0 and 1.\n",
        "\n",
        "We won't cover normalizing in this lesson, but it's good to be aware that this is a typical process that we perform on our data before using it to train a machine learning system."
      ]
    },
    {
      "cell_type": "code",
      "metadata": {
        "id": "E1AlLdLeF89Y"
      },
      "source": [
        ""
      ],
      "execution_count": null,
      "outputs": []
    }
  ]
}